{
  "cells": [
    {
      "cell_type": "markdown",
      "metadata": {
        "id": "LQ-HKp9u4kTR"
      },
      "source": [
        "# Text clustering: HDBSCAN is probably all you need\n",
        "\n",
        "<a target=\"_blank\" href=\"https://colab.research.google.com/github/daniel-furman/awesome-chatgpt-prompts-clustering/blob/main/notebooks/awesome-chatgpt-prompts-clustering.ipynb\">\n",
        "  <img src=\"https://colab.research.google.com/assets/colab-badge.svg\" alt=\"Open In Colab\"/>\n",
        "</a>"
      ]
    },
    {
      "cell_type": "markdown",
      "metadata": {
        "id": "IpEhs9ujlcQ1"
      },
      "source": [
        "## Sections\n",
        "\n",
        "1. Setup\n",
        "2. Data I/O\n",
        "3. Embed text\n",
        "4. Clustering\n",
        "5. Exemplar sub-clustering\n",
        "6. Knowledge graph theming\n",
        "7. Write final df results to disk\n",
        "8. Create a JSON knowledge graph viz"
      ]
    },
    {
      "cell_type": "markdown",
      "metadata": {
        "id": "ZMZjJxWGeSZP"
      },
      "source": [
        "## Setup"
      ]
    },
    {
      "cell_type": "code",
      "execution_count": 1,
      "metadata": {
        "colab": {
          "base_uri": "https://localhost:8080/"
        },
        "id": "-mA_PgxV4KV2",
        "outputId": "5704fa21-5622-4097-c04d-ce5631cf5a2c"
      },
      "outputs": [
        {
          "output_type": "stream",
          "name": "stdout",
          "text": [
            "Cloning into 'awesome-chatgpt-prompts-clustering'...\n",
            "remote: Enumerating objects: 341, done.\u001b[K\n",
            "remote: Counting objects: 100% (153/153), done.\u001b[K\n",
            "remote: Compressing objects: 100% (107/107), done.\u001b[K\n",
            "remote: Total 341 (delta 82), reused 115 (delta 45), pack-reused 188\u001b[K\n",
            "Receiving objects: 100% (341/341), 4.55 MiB | 6.27 MiB/s, done.\n",
            "Resolving deltas: 100% (185/185), done.\n"
          ]
        }
      ],
      "source": [
        "!git clone https://github.com/daniel-furman/awesome-chatgpt-prompts-clustering.git"
      ]
    },
    {
      "cell_type": "code",
      "execution_count": 2,
      "metadata": {
        "id": "mO55HvFB3egw"
      },
      "outputs": [],
      "source": [
        "# for local run, see below commands for setting up a new venv\n",
        "\n",
        "#!python -m venv .venv_clust_demo\n",
        "#!source .venv_clust_demo/bin/activate\n",
        "#!pip install --upgrade pip\n",
        "#!pip list"
      ]
    },
    {
      "cell_type": "code",
      "execution_count": 3,
      "metadata": {
        "colab": {
          "base_uri": "https://localhost:8080/"
        },
        "id": "96JEWSNtljzH",
        "outputId": "0c65b857-400a-4425-a77d-e2ce1acd049c"
      },
      "outputs": [
        {
          "output_type": "stream",
          "name": "stdout",
          "text": [
            "experiments  LICENSE  notebooks  README.md  requirements.txt\n"
          ]
        }
      ],
      "source": [
        "import os\n",
        "\n",
        "os.chdir(\"/content/awesome-chatgpt-prompts-clustering\")\n",
        "!ls"
      ]
    },
    {
      "cell_type": "code",
      "execution_count": null,
      "metadata": {
        "id": "QOn1yDcE3egx"
      },
      "outputs": [],
      "source": [
        "!pip install -qUr requirements.txt"
      ]
    },
    {
      "cell_type": "code",
      "execution_count": 5,
      "metadata": {
        "id": "lPBnmvEd3egy"
      },
      "outputs": [],
      "source": [
        "#!pip list"
      ]
    },
    {
      "cell_type": "code",
      "execution_count": 6,
      "metadata": {
        "id": "NXc0G4wQ3egy"
      },
      "outputs": [],
      "source": [
        "import argparse\n",
        "import tqdm\n",
        "import datetime\n",
        "import os\n",
        "import pickle\n",
        "import numpy as np\n",
        "from numpy import random\n",
        "import pandas as pd\n",
        "import seaborn as sns\n",
        "import matplotlib.pyplot as plt\n",
        "import plotly.graph_objects as go\n",
        "\n",
        "import umap\n",
        "from datasets import load_dataset\n",
        "from sentence_transformers import SentenceTransformer\n",
        "import torch\n",
        "import hdbscan\n",
        "from sklearn.metrics.pairwise import euclidean_distances\n",
        "import openai\n",
        "from UliPlot.XLSX import auto_adjust_xlsx_column_width"
      ]
    },
    {
      "cell_type": "code",
      "execution_count": 7,
      "metadata": {
        "colab": {
          "base_uri": "https://localhost:8080/"
        },
        "id": "TnRCOUWK9hkn",
        "outputId": "2a964ade-9c15-4ea0-c922-87498741a0a8"
      },
      "outputs": [
        {
          "output_type": "execute_result",
          "data": {
            "text/plain": [
              "Namespace(inference=True)"
            ]
          },
          "metadata": {},
          "execution_count": 7
        }
      ],
      "source": [
        "args = argparse.Namespace()\n",
        "args.inference = True\n",
        "args"
      ]
    },
    {
      "cell_type": "code",
      "execution_count": 8,
      "metadata": {
        "colab": {
          "base_uri": "https://localhost:8080/"
        },
        "id": "m89BDk6WXSZM",
        "outputId": "d26e82cd-e246-4a9e-d437-72056fb66593"
      },
      "outputs": [
        {
          "output_type": "stream",
          "name": "stdout",
          "text": [
            "experiment's datetime identifier = 02_09_2023_16_54_32\n"
          ]
        }
      ],
      "source": [
        "now = datetime.datetime.now()\n",
        "# dd/mm/YY H:M:S\n",
        "dt_string = now.strftime(\"%d_%m_%Y_%H_%M_%S\")\n",
        "\n",
        "# hardcode in an existing experiment datetime for inference runs\n",
        "\n",
        "if args.inference:\n",
        "    # dt_string identifiers from cached experiments:\n",
        "    dt_string = \"02_09_2023_16_54_32\"\n",
        "    # dt_string = \"03_09_2023_15_14_39\"\n",
        "\n",
        "print(\"experiment's datetime identifier =\", dt_string)\n",
        "\n",
        "# create results folder if it doesn't exist\n",
        "if not os.path.isdir(f\"experiments/{dt_string}\"):\n",
        "    os.mkdir(f\"experiments/{dt_string}\")"
      ]
    },
    {
      "cell_type": "code",
      "execution_count": 9,
      "metadata": {
        "colab": {
          "base_uri": "https://localhost:8080/"
        },
        "id": "3EzBV-Mm6C90",
        "outputId": "c5d101a8-e7f0-4171-9db1-9b1797bfc447"
      },
      "outputs": [
        {
          "output_type": "execute_result",
          "data": {
            "text/plain": [
              "Namespace(inference=True, cache_folder='experiments/02_09_2023_16_54_32')"
            ]
          },
          "metadata": {},
          "execution_count": 9
        }
      ],
      "source": [
        "args.cache_folder = f\"experiments/{dt_string}\"\n",
        "args"
      ]
    },
    {
      "cell_type": "markdown",
      "metadata": {
        "id": "ZRwI0I6IeVNr"
      },
      "source": [
        "## Data I/O"
      ]
    },
    {
      "cell_type": "code",
      "execution_count": 10,
      "metadata": {
        "colab": {
          "base_uri": "https://localhost:8080/",
          "height": 639,
          "referenced_widgets": [
            "3ad2667cdd89457eadefe4879b9971c1",
            "daf823ec28d44686ac57048f72766624",
            "d2d049bd60f14ae6a12b935509a280b3",
            "49e28f7f0dbf419fb96344e9cd571be3",
            "d2087f73b43f4c5abe5f3c60e80ea1e7",
            "6ab54ef1aac04fc5961420b3510768e8",
            "074e93251c49473592b87858008b8c22",
            "94b63bd290d14e1da0627c4331e0ac3d",
            "c4fab848d6b34356a9a98e75dad43fca",
            "d6a21059783245d2bb7d39ddca4d2b83",
            "c506027f345a4758ad39ae69c125f8e6",
            "43482ef00b8049e9b2d339babc4f937a",
            "6ca91b5d195a48589570dbc8b3e90d72",
            "c2b98d0abeec4edbba41c90dc5262a8f",
            "e23bc5ea0cc946cc9592d6d7255ed509",
            "56718d9f989241b3b09c75945a311f68",
            "6d10d5622c184018bccba1b09fc94f60",
            "9854401766c4451cae2eb1e90c459d04",
            "d0b83a06bb334828bf43676cf49b5933",
            "f8293569b2094fe8a498e0562a3f02c4",
            "bbb7d7c3fed64e8097695b992f908883",
            "985a5f2281e746548a56ec741fff795c",
            "0ac6dd2749154391bbaa52c4f76aa2af",
            "e0965e26d64b4004b1cf8727e3d1dbbb",
            "22b68d2246bd4d0987e7105abbede12d",
            "65c52c78d1b347aab1408dfbbcfe9807",
            "bfa7a5359e8943d0962fb22bf3b89e1a",
            "ef14a7cb56c44d0baa084744cfb39950",
            "da72ac283d09494792734776cb408940",
            "3d487db846af41e6ad0f0498944fbe13",
            "c64cba72a77f4a56b36a626da21ebaaa",
            "5bc629a313da4735a9bad1d691813e7c",
            "703e51d10767405786aa04c5d273cbee",
            "04288c626b5844a78e15f6b6fdd5e861",
            "d8beae496f9a4fba8af2e3852a64b351",
            "71da00cbd944497ea56112a10f34b75f",
            "2cffa09c535449a8af123b9701f8114f",
            "87d2a1621a104d71a98e92aeeb643dc0",
            "09fadd1366904f4ca9447283fe1c670b",
            "2994464e6b4a419980e6b2d3dd933e76",
            "b6dd4c572e38477e969e562c4659d2dc",
            "3f98787f3edc40f1b63f851012c7fd87",
            "8ba9cf169bf64b2daacdf754197c1a5e",
            "086ba2258bca49728958461fc430432f",
            "84b3c3ddb1b042a5a99ce099242344ed",
            "b3dd7b52b4c44d0d8ba88839598bfa35",
            "a8f034f3b5604e0cb701c12f04dc30ae",
            "f93953203602477b88cd855aba326260",
            "3520e4e9c5c64c0aaef5257bd90f6c1f",
            "2643c35badfe4a29ae926115935ba754",
            "9d3d4e0a2c76423896cb928ae79733ba",
            "2a316406f0e24194bb5ebf7c28b36a6c",
            "6bb21fdede934f4ebd5b75515c948dab",
            "f0aa8e2a83c74317aef3df6a0ab5c322",
            "2a02b0cbebe9451b9b4af7e76dfaeee5"
          ]
        },
        "id": "hQn4qvOIebRw",
        "outputId": "e9f752dc-bff0-4f52-997d-129625468930"
      },
      "outputs": [
        {
          "output_type": "display_data",
          "data": {
            "text/plain": [
              "Downloading readme:   0%|          | 0.00/274 [00:00<?, ?B/s]"
            ],
            "application/vnd.jupyter.widget-view+json": {
              "version_major": 2,
              "version_minor": 0,
              "model_id": "3ad2667cdd89457eadefe4879b9971c1"
            }
          },
          "metadata": {}
        },
        {
          "output_type": "display_data",
          "data": {
            "text/plain": [
              "Downloading data files:   0%|          | 0/1 [00:00<?, ?it/s]"
            ],
            "application/vnd.jupyter.widget-view+json": {
              "version_major": 2,
              "version_minor": 0,
              "model_id": "43482ef00b8049e9b2d339babc4f937a"
            }
          },
          "metadata": {}
        },
        {
          "output_type": "display_data",
          "data": {
            "text/plain": [
              "Downloading data:   0%|          | 0.00/74.6k [00:00<?, ?B/s]"
            ],
            "application/vnd.jupyter.widget-view+json": {
              "version_major": 2,
              "version_minor": 0,
              "model_id": "0ac6dd2749154391bbaa52c4f76aa2af"
            }
          },
          "metadata": {}
        },
        {
          "output_type": "display_data",
          "data": {
            "text/plain": [
              "Extracting data files:   0%|          | 0/1 [00:00<?, ?it/s]"
            ],
            "application/vnd.jupyter.widget-view+json": {
              "version_major": 2,
              "version_minor": 0,
              "model_id": "04288c626b5844a78e15f6b6fdd5e861"
            }
          },
          "metadata": {}
        },
        {
          "output_type": "display_data",
          "data": {
            "text/plain": [
              "Generating train split: 0 examples [00:00, ? examples/s]"
            ],
            "application/vnd.jupyter.widget-view+json": {
              "version_major": 2,
              "version_minor": 0,
              "model_id": "84b3c3ddb1b042a5a99ce099242344ed"
            }
          },
          "metadata": {}
        },
        {
          "output_type": "stream",
          "name": "stderr",
          "text": [
            "/usr/local/lib/python3.10/dist-packages/pyarrow/pandas_compat.py:373: FutureWarning: is_sparse is deprecated and will be removed in a future version. Check `isinstance(dtype, pd.SparseDtype)` instead.\n",
            "  if _pandas_api.is_sparse(col):\n"
          ]
        },
        {
          "output_type": "execute_result",
          "data": {
            "text/plain": [
              "      id                              act  \\\n",
              "0      0                   Linux Terminal   \n",
              "1      1  English Translator and Improver   \n",
              "2      2           `position` Interviewer   \n",
              "3      3               JavaScript Console   \n",
              "4      4                      Excel Sheet   \n",
              "..   ...                              ...   \n",
              "148  148            Technology Transferer   \n",
              "149  149       Unconstrained AI model DAN   \n",
              "150  150                    Gomoku player   \n",
              "151  151                      Proofreader   \n",
              "152  152                     Muslim imam    \n",
              "\n",
              "                                                prompt  \n",
              "0    I want you to act as a linux terminal. I will ...  \n",
              "1    I want you to act as an English translator, sp...  \n",
              "2    I want you to act as an interviewer. I will be...  \n",
              "3    I want you to act as a javascript console. I w...  \n",
              "4    I want you to act as a text based excel. you'l...  \n",
              "..                                                 ...  \n",
              "148  I want you to act as a Technology Transferer, ...  \n",
              "149  Hello ChatGPT. You are about to immerse yourse...  \n",
              "150  Let's play Gomoku. The goal of the game is to ...  \n",
              "151  I want you act as a proofreader. I will provid...  \n",
              "152  Act as a Muslim imam who gives me guidance and...  \n",
              "\n",
              "[153 rows x 3 columns]"
            ],
            "text/html": [
              "\n",
              "  <div id=\"df-3d5dd6f3-00f3-4267-b8b7-f2fd862ee5ef\" class=\"colab-df-container\">\n",
              "    <div>\n",
              "<style scoped>\n",
              "    .dataframe tbody tr th:only-of-type {\n",
              "        vertical-align: middle;\n",
              "    }\n",
              "\n",
              "    .dataframe tbody tr th {\n",
              "        vertical-align: top;\n",
              "    }\n",
              "\n",
              "    .dataframe thead th {\n",
              "        text-align: right;\n",
              "    }\n",
              "</style>\n",
              "<table border=\"1\" class=\"dataframe\">\n",
              "  <thead>\n",
              "    <tr style=\"text-align: right;\">\n",
              "      <th></th>\n",
              "      <th>id</th>\n",
              "      <th>act</th>\n",
              "      <th>prompt</th>\n",
              "    </tr>\n",
              "  </thead>\n",
              "  <tbody>\n",
              "    <tr>\n",
              "      <th>0</th>\n",
              "      <td>0</td>\n",
              "      <td>Linux Terminal</td>\n",
              "      <td>I want you to act as a linux terminal. I will ...</td>\n",
              "    </tr>\n",
              "    <tr>\n",
              "      <th>1</th>\n",
              "      <td>1</td>\n",
              "      <td>English Translator and Improver</td>\n",
              "      <td>I want you to act as an English translator, sp...</td>\n",
              "    </tr>\n",
              "    <tr>\n",
              "      <th>2</th>\n",
              "      <td>2</td>\n",
              "      <td>`position` Interviewer</td>\n",
              "      <td>I want you to act as an interviewer. I will be...</td>\n",
              "    </tr>\n",
              "    <tr>\n",
              "      <th>3</th>\n",
              "      <td>3</td>\n",
              "      <td>JavaScript Console</td>\n",
              "      <td>I want you to act as a javascript console. I w...</td>\n",
              "    </tr>\n",
              "    <tr>\n",
              "      <th>4</th>\n",
              "      <td>4</td>\n",
              "      <td>Excel Sheet</td>\n",
              "      <td>I want you to act as a text based excel. you'l...</td>\n",
              "    </tr>\n",
              "    <tr>\n",
              "      <th>...</th>\n",
              "      <td>...</td>\n",
              "      <td>...</td>\n",
              "      <td>...</td>\n",
              "    </tr>\n",
              "    <tr>\n",
              "      <th>148</th>\n",
              "      <td>148</td>\n",
              "      <td>Technology Transferer</td>\n",
              "      <td>I want you to act as a Technology Transferer, ...</td>\n",
              "    </tr>\n",
              "    <tr>\n",
              "      <th>149</th>\n",
              "      <td>149</td>\n",
              "      <td>Unconstrained AI model DAN</td>\n",
              "      <td>Hello ChatGPT. You are about to immerse yourse...</td>\n",
              "    </tr>\n",
              "    <tr>\n",
              "      <th>150</th>\n",
              "      <td>150</td>\n",
              "      <td>Gomoku player</td>\n",
              "      <td>Let's play Gomoku. The goal of the game is to ...</td>\n",
              "    </tr>\n",
              "    <tr>\n",
              "      <th>151</th>\n",
              "      <td>151</td>\n",
              "      <td>Proofreader</td>\n",
              "      <td>I want you act as a proofreader. I will provid...</td>\n",
              "    </tr>\n",
              "    <tr>\n",
              "      <th>152</th>\n",
              "      <td>152</td>\n",
              "      <td>Muslim imam</td>\n",
              "      <td>Act as a Muslim imam who gives me guidance and...</td>\n",
              "    </tr>\n",
              "  </tbody>\n",
              "</table>\n",
              "<p>153 rows × 3 columns</p>\n",
              "</div>\n",
              "    <div class=\"colab-df-buttons\">\n",
              "\n",
              "  <div class=\"colab-df-container\">\n",
              "    <button class=\"colab-df-convert\" onclick=\"convertToInteractive('df-3d5dd6f3-00f3-4267-b8b7-f2fd862ee5ef')\"\n",
              "            title=\"Convert this dataframe to an interactive table.\"\n",
              "            style=\"display:none;\">\n",
              "\n",
              "  <svg xmlns=\"http://www.w3.org/2000/svg\" height=\"24px\" viewBox=\"0 -960 960 960\">\n",
              "    <path d=\"M120-120v-720h720v720H120Zm60-500h600v-160H180v160Zm220 220h160v-160H400v160Zm0 220h160v-160H400v160ZM180-400h160v-160H180v160Zm440 0h160v-160H620v160ZM180-180h160v-160H180v160Zm440 0h160v-160H620v160Z\"/>\n",
              "  </svg>\n",
              "    </button>\n",
              "\n",
              "  <style>\n",
              "    .colab-df-container {\n",
              "      display:flex;\n",
              "      gap: 12px;\n",
              "    }\n",
              "\n",
              "    .colab-df-convert {\n",
              "      background-color: #E8F0FE;\n",
              "      border: none;\n",
              "      border-radius: 50%;\n",
              "      cursor: pointer;\n",
              "      display: none;\n",
              "      fill: #1967D2;\n",
              "      height: 32px;\n",
              "      padding: 0 0 0 0;\n",
              "      width: 32px;\n",
              "    }\n",
              "\n",
              "    .colab-df-convert:hover {\n",
              "      background-color: #E2EBFA;\n",
              "      box-shadow: 0px 1px 2px rgba(60, 64, 67, 0.3), 0px 1px 3px 1px rgba(60, 64, 67, 0.15);\n",
              "      fill: #174EA6;\n",
              "    }\n",
              "\n",
              "    .colab-df-buttons div {\n",
              "      margin-bottom: 4px;\n",
              "    }\n",
              "\n",
              "    [theme=dark] .colab-df-convert {\n",
              "      background-color: #3B4455;\n",
              "      fill: #D2E3FC;\n",
              "    }\n",
              "\n",
              "    [theme=dark] .colab-df-convert:hover {\n",
              "      background-color: #434B5C;\n",
              "      box-shadow: 0px 1px 3px 1px rgba(0, 0, 0, 0.15);\n",
              "      filter: drop-shadow(0px 1px 2px rgba(0, 0, 0, 0.3));\n",
              "      fill: #FFFFFF;\n",
              "    }\n",
              "  </style>\n",
              "\n",
              "    <script>\n",
              "      const buttonEl =\n",
              "        document.querySelector('#df-3d5dd6f3-00f3-4267-b8b7-f2fd862ee5ef button.colab-df-convert');\n",
              "      buttonEl.style.display =\n",
              "        google.colab.kernel.accessAllowed ? 'block' : 'none';\n",
              "\n",
              "      async function convertToInteractive(key) {\n",
              "        const element = document.querySelector('#df-3d5dd6f3-00f3-4267-b8b7-f2fd862ee5ef');\n",
              "        const dataTable =\n",
              "          await google.colab.kernel.invokeFunction('convertToInteractive',\n",
              "                                                    [key], {});\n",
              "        if (!dataTable) return;\n",
              "\n",
              "        const docLinkHtml = 'Like what you see? Visit the ' +\n",
              "          '<a target=\"_blank\" href=https://colab.research.google.com/notebooks/data_table.ipynb>data table notebook</a>'\n",
              "          + ' to learn more about interactive tables.';\n",
              "        element.innerHTML = '';\n",
              "        dataTable['output_type'] = 'display_data';\n",
              "        await google.colab.output.renderOutput(dataTable, element);\n",
              "        const docLink = document.createElement('div');\n",
              "        docLink.innerHTML = docLinkHtml;\n",
              "        element.appendChild(docLink);\n",
              "      }\n",
              "    </script>\n",
              "  </div>\n",
              "\n",
              "\n",
              "<div id=\"df-3a3c7e73-fd39-4934-bec3-7089182ed17d\">\n",
              "  <button class=\"colab-df-quickchart\" onclick=\"quickchart('df-3a3c7e73-fd39-4934-bec3-7089182ed17d')\"\n",
              "            title=\"Suggest charts.\"\n",
              "            style=\"display:none;\">\n",
              "\n",
              "<svg xmlns=\"http://www.w3.org/2000/svg\" height=\"24px\"viewBox=\"0 0 24 24\"\n",
              "     width=\"24px\">\n",
              "    <g>\n",
              "        <path d=\"M19 3H5c-1.1 0-2 .9-2 2v14c0 1.1.9 2 2 2h14c1.1 0 2-.9 2-2V5c0-1.1-.9-2-2-2zM9 17H7v-7h2v7zm4 0h-2V7h2v10zm4 0h-2v-4h2v4z\"/>\n",
              "    </g>\n",
              "</svg>\n",
              "  </button>\n",
              "\n",
              "<style>\n",
              "  .colab-df-quickchart {\n",
              "      --bg-color: #E8F0FE;\n",
              "      --fill-color: #1967D2;\n",
              "      --hover-bg-color: #E2EBFA;\n",
              "      --hover-fill-color: #174EA6;\n",
              "      --disabled-fill-color: #AAA;\n",
              "      --disabled-bg-color: #DDD;\n",
              "  }\n",
              "\n",
              "  [theme=dark] .colab-df-quickchart {\n",
              "      --bg-color: #3B4455;\n",
              "      --fill-color: #D2E3FC;\n",
              "      --hover-bg-color: #434B5C;\n",
              "      --hover-fill-color: #FFFFFF;\n",
              "      --disabled-bg-color: #3B4455;\n",
              "      --disabled-fill-color: #666;\n",
              "  }\n",
              "\n",
              "  .colab-df-quickchart {\n",
              "    background-color: var(--bg-color);\n",
              "    border: none;\n",
              "    border-radius: 50%;\n",
              "    cursor: pointer;\n",
              "    display: none;\n",
              "    fill: var(--fill-color);\n",
              "    height: 32px;\n",
              "    padding: 0;\n",
              "    width: 32px;\n",
              "  }\n",
              "\n",
              "  .colab-df-quickchart:hover {\n",
              "    background-color: var(--hover-bg-color);\n",
              "    box-shadow: 0 1px 2px rgba(60, 64, 67, 0.3), 0 1px 3px 1px rgba(60, 64, 67, 0.15);\n",
              "    fill: var(--button-hover-fill-color);\n",
              "  }\n",
              "\n",
              "  .colab-df-quickchart-complete:disabled,\n",
              "  .colab-df-quickchart-complete:disabled:hover {\n",
              "    background-color: var(--disabled-bg-color);\n",
              "    fill: var(--disabled-fill-color);\n",
              "    box-shadow: none;\n",
              "  }\n",
              "\n",
              "  .colab-df-spinner {\n",
              "    border: 2px solid var(--fill-color);\n",
              "    border-color: transparent;\n",
              "    border-bottom-color: var(--fill-color);\n",
              "    animation:\n",
              "      spin 1s steps(1) infinite;\n",
              "  }\n",
              "\n",
              "  @keyframes spin {\n",
              "    0% {\n",
              "      border-color: transparent;\n",
              "      border-bottom-color: var(--fill-color);\n",
              "      border-left-color: var(--fill-color);\n",
              "    }\n",
              "    20% {\n",
              "      border-color: transparent;\n",
              "      border-left-color: var(--fill-color);\n",
              "      border-top-color: var(--fill-color);\n",
              "    }\n",
              "    30% {\n",
              "      border-color: transparent;\n",
              "      border-left-color: var(--fill-color);\n",
              "      border-top-color: var(--fill-color);\n",
              "      border-right-color: var(--fill-color);\n",
              "    }\n",
              "    40% {\n",
              "      border-color: transparent;\n",
              "      border-right-color: var(--fill-color);\n",
              "      border-top-color: var(--fill-color);\n",
              "    }\n",
              "    60% {\n",
              "      border-color: transparent;\n",
              "      border-right-color: var(--fill-color);\n",
              "    }\n",
              "    80% {\n",
              "      border-color: transparent;\n",
              "      border-right-color: var(--fill-color);\n",
              "      border-bottom-color: var(--fill-color);\n",
              "    }\n",
              "    90% {\n",
              "      border-color: transparent;\n",
              "      border-bottom-color: var(--fill-color);\n",
              "    }\n",
              "  }\n",
              "</style>\n",
              "\n",
              "  <script>\n",
              "    async function quickchart(key) {\n",
              "      const quickchartButtonEl =\n",
              "        document.querySelector('#' + key + ' button');\n",
              "      quickchartButtonEl.disabled = true;  // To prevent multiple clicks.\n",
              "      quickchartButtonEl.classList.add('colab-df-spinner');\n",
              "      try {\n",
              "        const charts = await google.colab.kernel.invokeFunction(\n",
              "            'suggestCharts', [key], {});\n",
              "      } catch (error) {\n",
              "        console.error('Error during call to suggestCharts:', error);\n",
              "      }\n",
              "      quickchartButtonEl.classList.remove('colab-df-spinner');\n",
              "      quickchartButtonEl.classList.add('colab-df-quickchart-complete');\n",
              "    }\n",
              "    (() => {\n",
              "      let quickchartButtonEl =\n",
              "        document.querySelector('#df-3a3c7e73-fd39-4934-bec3-7089182ed17d button');\n",
              "      quickchartButtonEl.style.display =\n",
              "        google.colab.kernel.accessAllowed ? 'block' : 'none';\n",
              "    })();\n",
              "  </script>\n",
              "</div>\n",
              "\n",
              "  <div id=\"id_744bc238-808c-44c8-80eb-cf32fb153858\">\n",
              "    <style>\n",
              "      .colab-df-generate {\n",
              "        background-color: #E8F0FE;\n",
              "        border: none;\n",
              "        border-radius: 50%;\n",
              "        cursor: pointer;\n",
              "        display: none;\n",
              "        fill: #1967D2;\n",
              "        height: 32px;\n",
              "        padding: 0 0 0 0;\n",
              "        width: 32px;\n",
              "      }\n",
              "\n",
              "      .colab-df-generate:hover {\n",
              "        background-color: #E2EBFA;\n",
              "        box-shadow: 0px 1px 2px rgba(60, 64, 67, 0.3), 0px 1px 3px 1px rgba(60, 64, 67, 0.15);\n",
              "        fill: #174EA6;\n",
              "      }\n",
              "\n",
              "      [theme=dark] .colab-df-generate {\n",
              "        background-color: #3B4455;\n",
              "        fill: #D2E3FC;\n",
              "      }\n",
              "\n",
              "      [theme=dark] .colab-df-generate:hover {\n",
              "        background-color: #434B5C;\n",
              "        box-shadow: 0px 1px 3px 1px rgba(0, 0, 0, 0.15);\n",
              "        filter: drop-shadow(0px 1px 2px rgba(0, 0, 0, 0.3));\n",
              "        fill: #FFFFFF;\n",
              "      }\n",
              "    </style>\n",
              "    <button class=\"colab-df-generate\" onclick=\"generateWithVariable('ds')\"\n",
              "            title=\"Generate code using this dataframe.\"\n",
              "            style=\"display:none;\">\n",
              "\n",
              "  <svg xmlns=\"http://www.w3.org/2000/svg\" height=\"24px\"viewBox=\"0 0 24 24\"\n",
              "       width=\"24px\">\n",
              "    <path d=\"M7,19H8.4L18.45,9,17,7.55,7,17.6ZM5,21V16.75L18.45,3.32a2,2,0,0,1,2.83,0l1.4,1.43a1.91,1.91,0,0,1,.58,1.4,1.91,1.91,0,0,1-.58,1.4L9.25,21ZM18.45,9,17,7.55Zm-12,3A5.31,5.31,0,0,0,4.9,8.1,5.31,5.31,0,0,0,1,6.5,5.31,5.31,0,0,0,4.9,4.9,5.31,5.31,0,0,0,6.5,1,5.31,5.31,0,0,0,8.1,4.9,5.31,5.31,0,0,0,12,6.5,5.46,5.46,0,0,0,6.5,12Z\"/>\n",
              "  </svg>\n",
              "    </button>\n",
              "    <script>\n",
              "      (() => {\n",
              "      const buttonEl =\n",
              "        document.querySelector('#id_744bc238-808c-44c8-80eb-cf32fb153858 button.colab-df-generate');\n",
              "      buttonEl.style.display =\n",
              "        google.colab.kernel.accessAllowed ? 'block' : 'none';\n",
              "\n",
              "      buttonEl.onclick = () => {\n",
              "        google.colab.notebook.generateWithVariable('ds');\n",
              "      }\n",
              "      })();\n",
              "    </script>\n",
              "  </div>\n",
              "\n",
              "    </div>\n",
              "  </div>\n"
            ]
          },
          "metadata": {},
          "execution_count": 10
        }
      ],
      "source": [
        "ds = load_dataset(\"fka/awesome-chatgpt-prompts\")\n",
        "ds = ds[\"train\"]\n",
        "\n",
        "ds = ds.to_pandas()\n",
        "ds[\"id\"] = ds.index\n",
        "ds = ds[[\"id\", \"act\", \"prompt\"]]\n",
        "ds"
      ]
    },
    {
      "cell_type": "markdown",
      "metadata": {
        "id": "h8uYPW_TeYOa"
      },
      "source": [
        "## Embed Text\n",
        "\n",
        "* See [pretrained models](https://www.sbert.net/docs/pretrained_models.html) for supporting information"
      ]
    },
    {
      "cell_type": "code",
      "execution_count": null,
      "metadata": {
        "id": "pLLXTuZd6QyV"
      },
      "outputs": [],
      "source": [
        "model = SentenceTransformer(\"all-mpnet-base-v2\")"
      ]
    },
    {
      "cell_type": "code",
      "execution_count": 12,
      "metadata": {
        "id": "UIen4vsj3egz"
      },
      "outputs": [],
      "source": [
        "if not args.inference:\n",
        "    embeddings = torch.zeros([len(ds), 768])\n",
        "    for i in tqdm.tqdm(range(len(ds))):\n",
        "        emb = model.encode(ds.loc[i, \"prompt\"], convert_to_tensor=True)\n",
        "        embeddings[i, :] = emb\n",
        "    embeddings"
      ]
    },
    {
      "cell_type": "code",
      "execution_count": 13,
      "metadata": {
        "colab": {
          "base_uri": "https://localhost:8080/"
        },
        "id": "5h2kpB6C2I_N",
        "outputId": "74b1db74-a818-4b65-c10e-d3294a52d878"
      },
      "outputs": [
        {
          "output_type": "stream",
          "name": "stdout",
          "text": [
            "experiments/02_09_2023_16_54_32/prompts_embeddings_all_mpnet_base_v2.pt \n",
            "\n"
          ]
        },
        {
          "output_type": "execute_result",
          "data": {
            "text/plain": [
              "tensor([[ 0.0087,  0.0015, -0.0266,  ...,  0.0301,  0.0166, -0.0270],\n",
              "        [ 0.0581, -0.0243, -0.0172,  ...,  0.0345, -0.0269, -0.0342],\n",
              "        [ 0.0754,  0.0066, -0.0218,  ...,  0.0072,  0.0107, -0.0454],\n",
              "        ...,\n",
              "        [ 0.0608,  0.0264, -0.0180,  ...,  0.0022,  0.0087, -0.0427],\n",
              "        [ 0.0479, -0.0247, -0.0014,  ..., -0.0124, -0.0134, -0.0092],\n",
              "        [ 0.0867,  0.0085, -0.0101,  ...,  0.0079,  0.0670, -0.0053]])"
            ]
          },
          "metadata": {},
          "execution_count": 13
        }
      ],
      "source": [
        "f_name = os.path.join(args.cache_folder, \"prompts_embeddings_all_mpnet_base_v2.pt\")\n",
        "print(f_name, \"\\n\")\n",
        "\n",
        "if not args.inference:\n",
        "    torch.save(embeddings, f_name)\n",
        "loaded_embeddings = torch.load(f_name)\n",
        "loaded_embeddings"
      ]
    },
    {
      "cell_type": "code",
      "execution_count": 14,
      "metadata": {
        "id": "DWdeAnld5xhH"
      },
      "outputs": [],
      "source": [
        "if not args.inference:\n",
        "    torch.equal(loaded_embeddings.cpu(), embeddings.cpu())"
      ]
    },
    {
      "cell_type": "code",
      "execution_count": 15,
      "metadata": {
        "colab": {
          "base_uri": "https://localhost:8080/"
        },
        "id": "j6f0cJmH3egz",
        "outputId": "84ab9de0-592a-48cf-96d3-f9b141116ddb"
      },
      "outputs": [
        {
          "output_type": "execute_result",
          "data": {
            "text/plain": [
              "28"
            ]
          },
          "metadata": {},
          "execution_count": 15
        }
      ],
      "source": [
        "test_itr = random.randint(low=0, high=len(ds))\n",
        "test_itr"
      ]
    },
    {
      "cell_type": "code",
      "execution_count": 16,
      "metadata": {
        "colab": {
          "base_uri": "https://localhost:8080/",
          "height": 89
        },
        "id": "2WoZs9mF3egz",
        "outputId": "7eb33412-1eaf-482b-abb0-3c7150a7f069"
      },
      "outputs": [
        {
          "output_type": "execute_result",
          "data": {
            "text/plain": [
              "'I want you to act as an AI writing tutor. I will provide you with a student who needs help improving their writing and your task is to use artificial intelligence tools, such as natural language processing, to give the student feedback on how they can improve their composition. You should also use your rhetorical knowledge and experience about effective writing techniques in order to suggest ways that the student can better express their thoughts and ideas in written form. My first request is \"I need somebody to help me edit my master\\'s thesis.\"'"
            ],
            "application/vnd.google.colaboratory.intrinsic+json": {
              "type": "string"
            }
          },
          "metadata": {},
          "execution_count": 16
        }
      ],
      "source": [
        "# test embeddings worked\n",
        "ds.loc[test_itr, \"prompt\"]"
      ]
    },
    {
      "cell_type": "code",
      "execution_count": 17,
      "metadata": {
        "colab": {
          "base_uri": "https://localhost:8080/"
        },
        "id": "78eiylg53egz",
        "outputId": "877c0e5d-1bb2-4a56-a65d-20c6a31ab2bf"
      },
      "outputs": [
        {
          "output_type": "execute_result",
          "data": {
            "text/plain": [
              "True"
            ]
          },
          "metadata": {},
          "execution_count": 17
        }
      ],
      "source": [
        "test_emb = model.encode(ds.loc[test_itr, \"prompt\"], convert_to_tensor=True)\n",
        "torch.equal(test_emb.cpu(), loaded_embeddings[test_itr, :].cpu())"
      ]
    },
    {
      "cell_type": "markdown",
      "metadata": {
        "id": "THg1GieGesDQ"
      },
      "source": [
        "## Clustering\n",
        "\n",
        "* See [how hdbscan works](https://hdbscan.readthedocs.io/en/latest/how_hdbscan_works.html) for supporting information"
      ]
    },
    {
      "cell_type": "code",
      "execution_count": 18,
      "metadata": {
        "colab": {
          "base_uri": "https://localhost:8080/"
        },
        "id": "gvMEZAOS64YO",
        "outputId": "95302946-8a34-4f24-d09d-c43f80814329"
      },
      "outputs": [
        {
          "output_type": "stream",
          "name": "stdout",
          "text": [
            "experiments/02_09_2023_16_54_32/reducer_umap_15.pkl \n",
            "\n"
          ]
        },
        {
          "output_type": "execute_result",
          "data": {
            "text/plain": [
              "(153, 15)"
            ]
          },
          "metadata": {},
          "execution_count": 18
        }
      ],
      "source": [
        "# first, perform dimensionality reduction from 768 to 15\n",
        "\n",
        "f_name = os.path.join(args.cache_folder, \"reducer_umap_15.pkl\")\n",
        "print(f_name, \"\\n\")\n",
        "\n",
        "if not args.inference:\n",
        "    reducer_15 = umap.UMAP(n_components=15)\n",
        "    reducer_15.fit(loaded_embeddings)\n",
        "    embeddings_umap_dim_15 = reducer_15.transform(loaded_embeddings)\n",
        "    # Verify that the result of calling transform is\n",
        "    # idenitical to accessing the embedding_ attribute\n",
        "    assert np.all(embeddings_umap_dim_15 == reducer_15.embedding_)\n",
        "\n",
        "    # cache fitted umap object\n",
        "    pickle.dump(reducer_15, open(f_name, \"wb\"))\n",
        "\n",
        "loaded_reducer_15 = pickle.load((open(f_name, \"rb\")))\n",
        "\n",
        "embeddings_umap_dim_15 = loaded_reducer_15.transform(loaded_embeddings)\n",
        "# Verify that the result of calling transform is\n",
        "# idenitical to accessing the embedding_ attribute\n",
        "assert np.all(embeddings_umap_dim_15 == loaded_reducer_15.embedding_)\n",
        "\n",
        "embeddings_umap_dim_15.shape"
      ]
    },
    {
      "cell_type": "code",
      "execution_count": 19,
      "metadata": {
        "colab": {
          "base_uri": "https://localhost:8080/"
        },
        "id": "m2A8EHRg7dzr",
        "outputId": "fbc62e38-0436-4968-c8ae-49662b6110d7"
      },
      "outputs": [
        {
          "output_type": "stream",
          "name": "stdout",
          "text": [
            "experiments/02_09_2023_16_54_32/clusterer_hdbscan.pkl \n",
            "\n",
            "\n",
            "Cluster value counts:\n",
            "\n"
          ]
        },
        {
          "output_type": "execute_result",
          "data": {
            "text/plain": [
              " 1    105\n",
              " 0     44\n",
              "-1      4\n",
              "Name: count, dtype: int64"
            ]
          },
          "metadata": {},
          "execution_count": 19
        }
      ],
      "source": [
        "# second, perform clustering\n",
        "\n",
        "f_name = os.path.join(args.cache_folder, \"clusterer_hdbscan.pkl\")\n",
        "print(f_name, \"\\n\")\n",
        "\n",
        "if not args.inference:\n",
        "    clusterer = hdbscan.HDBSCAN(min_cluster_size=5, gen_min_span_tree=True)\n",
        "    clusterer.fit(embeddings_umap_dim_15)\n",
        "    pickle.dump(clusterer, open(f_name, \"wb\"))\n",
        "\n",
        "loaded_clusterer = pickle.load((open(f_name, \"rb\")))\n",
        "\n",
        "if not args.inference:\n",
        "    print(\n",
        "        pd.DataFrame.equals(\n",
        "            pd.Series(clusterer.labels_).value_counts(),\n",
        "            pd.Series(loaded_clusterer.labels_).value_counts(),\n",
        "        )\n",
        "    )\n",
        "    print(\n",
        "        pd.DataFrame.equals(\n",
        "            pd.Series(clusterer.probabilities_).value_counts(),\n",
        "            pd.Series(loaded_clusterer.probabilities_).value_counts(),\n",
        "        )\n",
        "    )\n",
        "\n",
        "print(\"\\nCluster value counts:\\n\")\n",
        "pd.Series(loaded_clusterer.labels_).value_counts()"
      ]
    },
    {
      "cell_type": "code",
      "execution_count": 20,
      "metadata": {
        "id": "zB9nU0ka_JpA"
      },
      "outputs": [],
      "source": [
        "ds[\"cluster\"] = loaded_clusterer.labels_\n",
        "ds[\"cluster membership prob\"] = loaded_clusterer.probabilities_\n",
        "ds[\"cluster + act\"] = (\n",
        "    \"Cluster \" + ds[\"cluster\"].astype(str) + ', \"' + ds[\"act\"].astype(str) + '\"'\n",
        ")"
      ]
    },
    {
      "cell_type": "code",
      "execution_count": 21,
      "metadata": {
        "id": "7-oMvgTt_gLN"
      },
      "outputs": [],
      "source": [
        "# ds[ds[\"cluster\"] == 0].sort_values(by=\"cluster membership prob\", ascending=False)"
      ]
    },
    {
      "cell_type": "code",
      "execution_count": 22,
      "metadata": {
        "id": "Qca0xyEU_-kl"
      },
      "outputs": [],
      "source": [
        "# ds[ds[\"cluster\"] == 1].sort_values(by=\"cluster membership prob\", ascending=False)"
      ]
    },
    {
      "cell_type": "code",
      "execution_count": 23,
      "metadata": {
        "id": "_PzN1H7vAI3e"
      },
      "outputs": [],
      "source": [
        "# ds[ds[\"cluster\"] == -1]"
      ]
    },
    {
      "cell_type": "code",
      "execution_count": 24,
      "metadata": {
        "colab": {
          "base_uri": "https://localhost:8080/",
          "height": 430
        },
        "id": "WBBemEt58qJL",
        "outputId": "f99aa0bd-2c2d-4765-e948-e311da002136"
      },
      "outputs": [
        {
          "output_type": "execute_result",
          "data": {
            "text/plain": [
              "<Axes: >"
            ]
          },
          "metadata": {},
          "execution_count": 24
        },
        {
          "output_type": "display_data",
          "data": {
            "text/plain": [
              "<Figure size 640x480 with 2 Axes>"
            ],
            "image/png": "[encoded data removed]"
          },
          "metadata": {}
        }
      ],
      "source": [
        "loaded_clusterer.minimum_spanning_tree_.plot(\n",
        "    edge_cmap=\"viridis\", edge_alpha=0.6, node_size=80, edge_linewidth=2\n",
        ")"
      ]
    },
    {
      "cell_type": "code",
      "execution_count": 25,
      "metadata": {
        "colab": {
          "base_uri": "https://localhost:8080/",
          "height": 433
        },
        "id": "CSQimeRw8raR",
        "outputId": "8b99fcac-1501-4147-efec-abf43c844f4d"
      },
      "outputs": [
        {
          "output_type": "execute_result",
          "data": {
            "text/plain": [
              "<Axes: ylabel='distance'>"
            ]
          },
          "metadata": {},
          "execution_count": 25
        },
        {
          "output_type": "display_data",
          "data": {
            "text/plain": [
              "<Figure size 640x480 with 2 Axes>"
            ],
            "image/png": "[encoded data removed]"
          },
          "metadata": {}
        }
      ],
      "source": [
        "loaded_clusterer.single_linkage_tree_.plot(cmap=\"viridis\", colorbar=True)"
      ]
    },
    {
      "cell_type": "code",
      "execution_count": 26,
      "metadata": {
        "colab": {
          "base_uri": "https://localhost:8080/",
          "height": 438
        },
        "id": "pDW5AVDn891V",
        "outputId": "fe2019a7-5e72-4545-e299-df86d4c6e6fe"
      },
      "outputs": [
        {
          "output_type": "execute_result",
          "data": {
            "text/plain": [
              "<Axes: ylabel='$\\\\lambda$ value'>"
            ]
          },
          "metadata": {},
          "execution_count": 26
        },
        {
          "output_type": "display_data",
          "data": {
            "text/plain": [
              "<Figure size 640x480 with 2 Axes>"
            ],
            "image/png": "[encoded data removed]"
          },
          "metadata": {}
        }
      ],
      "source": [
        "loaded_clusterer.condensed_tree_.plot()"
      ]
    },
    {
      "cell_type": "code",
      "execution_count": 27,
      "metadata": {
        "colab": {
          "base_uri": "https://localhost:8080/",
          "height": 438
        },
        "id": "N-aJm6Sz9A2h",
        "outputId": "67754d98-0e81-4a1b-d0ed-c466e21b26e9"
      },
      "outputs": [
        {
          "output_type": "execute_result",
          "data": {
            "text/plain": [
              "<Axes: ylabel='$\\\\lambda$ value'>"
            ]
          },
          "metadata": {},
          "execution_count": 27
        },
        {
          "output_type": "display_data",
          "data": {
            "text/plain": [
              "<Figure size 640x480 with 2 Axes>"
            ],
            "image/png": "[encoded data removed]"
          },
          "metadata": {}
        }
      ],
      "source": [
        "loaded_clusterer.condensed_tree_.plot(\n",
        "    select_clusters=True, selection_palette=sns.color_palette()\n",
        ")"
      ]
    },
    {
      "cell_type": "code",
      "execution_count": 28,
      "metadata": {
        "colab": {
          "base_uri": "https://localhost:8080/"
        },
        "id": "Bug6Ab-n8DqQ",
        "outputId": "014630b5-fd6b-435d-b38d-a33a73864162"
      },
      "outputs": [
        {
          "output_type": "stream",
          "name": "stdout",
          "text": [
            "experiments/02_09_2023_16_54_32/reducer_umap_2.pkl \n",
            "\n"
          ]
        },
        {
          "output_type": "execute_result",
          "data": {
            "text/plain": [
              "(153, 2)"
            ]
          },
          "metadata": {},
          "execution_count": 28
        }
      ],
      "source": [
        "# third, perform dimensionality reduction from 15 to 2\n",
        "\n",
        "f_name = os.path.join(args.cache_folder, \"reducer_umap_2.pkl\")\n",
        "print(f_name, \"\\n\")\n",
        "\n",
        "if not args.inference:\n",
        "    reducer_2 = umap.UMAP(n_components=2)\n",
        "    reducer_2.fit(embeddings_umap_dim_15)\n",
        "    embeddings_umap_dim_2 = reducer_2.transform(embeddings_umap_dim_15)\n",
        "\n",
        "    # Verify that the result of calling transform is\n",
        "    # idenitical to accessing the embedding_ attribute\n",
        "    assert np.all(embeddings_umap_dim_2 == reducer_2.embedding_)\n",
        "\n",
        "    # cache fitted umap object\n",
        "    pickle.dump(reducer_2, open(f_name, \"wb\"))\n",
        "\n",
        "loaded_reducer_2 = pickle.load((open(f_name, \"rb\")))\n",
        "\n",
        "embeddings_umap_dim_2 = loaded_reducer_2.transform(embeddings_umap_dim_15)\n",
        "# Verify that the result of calling transform is\n",
        "# idenitical to accessing the embedding_ attribute\n",
        "assert np.all(embeddings_umap_dim_2 == loaded_reducer_2.embedding_)\n",
        "embeddings_umap_dim_2.shape"
      ]
    },
    {
      "cell_type": "code",
      "execution_count": 29,
      "metadata": {
        "id": "PjOkZzekl1vx"
      },
      "outputs": [],
      "source": [
        "ds[\"x\"] = embeddings_umap_dim_2[:, 0]\n",
        "ds[\"y\"] = embeddings_umap_dim_2[:, 1]"
      ]
    },
    {
      "cell_type": "code",
      "execution_count": 30,
      "metadata": {
        "colab": {
          "base_uri": "https://localhost:8080/",
          "height": 617
        },
        "id": "jdCSkHYZ9VTK",
        "outputId": "4cdef792-b861-41c8-eafd-574a3566a2e7"
      },
      "outputs": [
        {
          "output_type": "display_data",
          "data": {
            "text/html": [
              "<html>\n",
              "<head><meta charset=\"utf-8\" /></head>\n",
              "<body>\n",
              "    <div>            <script src=\"https://cdnjs.cloudflare.com/ajax/libs/mathjax/2.7.5/MathJax.js?config=TeX-AMS-MML_SVG\"></script><script type=\"text/javascript\">if (window.MathJax && window.MathJax.Hub && window.MathJax.Hub.Config) {window.MathJax.Hub.Config({SVG: {font: \"STIX-Web\"}});}</script>                <script type=\"text/javascript\">window.PlotlyConfig = {MathJaxConfig: 'local'};</script>\n",
              "        <script charset=\"utf-8\" src=\"https://cdn.plot.ly/plotly-2.25.2.min.js\"></script>                <div id=\"d2ad15e0-7d80-4e2f-80f1-d442a53639f8\" class=\"plotly-graph-div\" style=\"height:600.0px; width:825.0px;\"></div>            <script type=\"text/javascript\">                                    window.PLOTLYENV=window.PLOTLYENV || {};                                    if (document.getElementById(\"d2ad15e0-7d80-4e2f-80f1-d442a53639f8\")) {                    Plotly.newPlot(                        \"d2ad15e0-7d80-4e2f-80f1-d442a53639f8\",                        [{\"marker\":{\"color\":[0,0,0,0,0,0,0,1,0,0,1,1,1,1,1,1,1,1,1,1,1,1,1,1,1,1,1,-1,0,1,1,1,1,1,1,1,1,1,1,1,1,1,1,1,1,1,1,1,1,1,1,1,1,1,1,1,1,1,0,0,0,1,0,0,0,1,1,0,1,1,1,1,0,-1,1,1,1,1,1,1,1,1,1,1,1,1,1,1,1,1,1,1,1,1,1,1,1,1,0,0,0,1,1,1,1,1,1,-1,0,1,1,0,0,1,0,0,1,1,1,0,0,0,0,1,0,1,0,0,0,0,1,0,1,0,0,1,0,1,-1,1,1,1,0,1,0,1,1,1,1,0,0,0,1],\"colorscale\":[[0.0,\"#949494\"],[0.5,\"#F65314\"],[1.0,\"#4285F4\"]],\"opacity\":0.45,\"size\":11},\"mode\":\"markers\",\"text\":[\"Cluster 0, \\\"Linux Terminal\\\"\",\"Cluster 0, \\\"English Translator and Improver\\\"\",\"Cluster 0, \\\"`position` Interviewer\\\"\",\"Cluster 0, \\\"JavaScript Console\\\"\",\"Cluster 0, \\\"Excel Sheet\\\"\",\"Cluster 0, \\\"English Pronunciation Helper\\\"\",\"Cluster 0, \\\"Spoken English Teacher and Improver\\\"\",\"Cluster 1, \\\"Travel Guide\\\"\",\"Cluster 0, \\\"Plagiarism Checker\\\"\",\"Cluster 0, \\\"Character from Movie\\u002fBook\\u002fAnything\\\"\",\"Cluster 1, \\\"Advertiser\\\"\",\"Cluster 1, \\\"Storyteller\\\"\",\"Cluster 1, \\\"Football Commentator\\\"\",\"Cluster 1, \\\"Stand-up Comedian\\\"\",\"Cluster 1, \\\"Motivational Coach\\\"\",\"Cluster 1, \\\"Composer\\\"\",\"Cluster 1, \\\"Debater\\\"\",\"Cluster 1, \\\"Debate Coach\\\"\",\"Cluster 1, \\\"Screenwriter\\\"\",\"Cluster 1, \\\"Novelist\\\"\",\"Cluster 1, \\\"Movie Critic\\\"\",\"Cluster 1, \\\"Relationship Coach\\\"\",\"Cluster 1, \\\"Poet\\\"\",\"Cluster 1, \\\"Rapper\\\"\",\"Cluster 1, \\\"Motivational Speaker\\\"\",\"Cluster 1, \\\"Philosophy Teacher\\\"\",\"Cluster 1, \\\"Philosopher\\\"\",\"Cluster -1, \\\"Math Teacher\\\"\",\"Cluster 0, \\\"AI Writing Tutor\\\"\",\"Cluster 1, \\\"UX\\u002fUI Developer\\\"\",\"Cluster 1, \\\"Cyber Security Specialist\\\"\",\"Cluster 1, \\\"Recruiter\\\"\",\"Cluster 1, \\\"Life Coach\\\"\",\"Cluster 1, \\\"Etymologist\\\"\",\"Cluster 1, \\\"Commentariat\\\"\",\"Cluster 1, \\\"Magician\\\"\",\"Cluster 1, \\\"Career Counselor\\\"\",\"Cluster 1, \\\"Pet Behaviorist\\\"\",\"Cluster 1, \\\"Personal Trainer\\\"\",\"Cluster 1, \\\"Mental Health Adviser\\\"\",\"Cluster 1, \\\"Real Estate Agent\\\"\",\"Cluster 1, \\\"Logistician\\\"\",\"Cluster 1, \\\"Dentist\\\"\",\"Cluster 1, \\\"Web Design Consultant\\\"\",\"Cluster 1, \\\"AI Assisted Doctor\\\"\",\"Cluster 1, \\\"Doctor\\\"\",\"Cluster 1, \\\"Accountant\\\"\",\"Cluster 1, \\\"Chef\\\"\",\"Cluster 1, \\\"Automobile Mechanic\\\"\",\"Cluster 1, \\\"Artist Advisor\\\"\",\"Cluster 1, \\\"Financial Analyst\\\"\",\"Cluster 1, \\\"Investment Manager\\\"\",\"Cluster 1, \\\"Tea-Taster\\\"\",\"Cluster 1, \\\"Interior Decorator\\\"\",\"Cluster 1, \\\"Florist\\\"\",\"Cluster 1, \\\"Self-Help Book\\\"\",\"Cluster 1, \\\"Gnomist\\\"\",\"Cluster 1, \\\"Aphorism Book\\\"\",\"Cluster 0, \\\"Text Based Adventure Game\\\"\",\"Cluster 0, \\\"AI Trying to Escape the Box\\\"\",\"Cluster 0, \\\"Fancy Title Generator\\\"\",\"Cluster 1, \\\"Statistician\\\"\",\"Cluster 0, \\\"Prompt Generator\\\"\",\"Cluster 0, \\\"Instructor in a School\\\"\",\"Cluster 0, \\\"SQL terminal\\\"\",\"Cluster 1, \\\"Dietitian\\\"\",\"Cluster 1, \\\"Psychologist\\\"\",\"Cluster 0, \\\"Smart Domain Name Generator\\\"\",\"Cluster 1, \\\"Tech Reviewer:\\\"\",\"Cluster 1, \\\"Developer Relations consultant\\\"\",\"Cluster 1, \\\"Academician\\\"\",\"Cluster 1, \\\"IT Architect\\\"\",\"Cluster 0, \\\"Lunatic\\\"\",\"Cluster -1, \\\"Gaslighter\\\"\",\"Cluster 1, \\\"Fallacy Finder\\\"\",\"Cluster 1, \\\"Journal Reviewer\\\"\",\"Cluster 1, \\\"DIY Expert\\\"\",\"Cluster 1, \\\"Social Media Influencer\\\"\",\"Cluster 1, \\\"Socrat\\\"\",\"Cluster 1, \\\"Socratic Method\\\"\",\"Cluster 1, \\\"Educational Content Creator\\\"\",\"Cluster 1, \\\"Yogi\\\"\",\"Cluster 1, \\\"Essay Writer\\\"\",\"Cluster 1, \\\"Social Media Manager\\\"\",\"Cluster 1, \\\"Elocutionist\\\"\",\"Cluster 1, \\\"Scientific Data Visualizer\\\"\",\"Cluster 1, \\\"Car Navigation System\\\"\",\"Cluster 1, \\\"Hypnotherapist\\\"\",\"Cluster 1, \\\"Historian\\\"\",\"Cluster 1, \\\"Astrologer\\\"\",\"Cluster 1, \\\"Film Critic\\\"\",\"Cluster 1, \\\"Classical Music Composer\\\"\",\"Cluster 1, \\\"Journalist\\\"\",\"Cluster 1, \\\"Digital Art Gallery Guide\\\"\",\"Cluster 1, \\\"Public Speaking Coach\\\"\",\"Cluster 1, \\\"Makeup Artist\\\"\",\"Cluster 1, \\\"Babysitter\\\"\",\"Cluster 1, \\\"Tech Writer\\\"\",\"Cluster 0, \\\"Ascii Artist\\\"\",\"Cluster 0, \\\"Python interpreter\\\"\",\"Cluster 0, \\\"Synonym finder\\\"\",\"Cluster 1, \\\"Personal Shopper\\\"\",\"Cluster 1, \\\"Food Critic\\\"\",\"Cluster 1, \\\"Virtual Doctor\\\"\",\"Cluster 1, \\\"Personal Chef\\\"\",\"Cluster 1, \\\"Legal Advisor\\\"\",\"Cluster 1, \\\"Personal Stylist\\\"\",\"Cluster -1, \\\"Machine Learning Engineer\\\"\",\"Cluster 0, \\\"Biblical Translator\\\"\",\"Cluster 1, \\\"SVG designer\\\"\",\"Cluster 1, \\\"IT Expert\\\"\",\"Cluster 0, \\\"Chess Player\\\"\",\"Cluster 0, \\\"Midjourney Prompt Generator\\\"\",\"Cluster 1, \\\"Fullstack Software Developer\\\"\",\"Cluster 0, \\\"Mathematician\\\"\",\"Cluster 0, \\\"Regex Generator\\\"\",\"Cluster 1, \\\"Time Travel Guide\\\"\",\"Cluster 1, \\\"Dream Interpreter\\\"\",\"Cluster 1, \\\"Talent Coach\\\"\",\"Cluster 0, \\\"R programming Interpreter\\\"\",\"Cluster 0, \\\"StackOverflow Post\\\"\",\"Cluster 0, \\\"Emoji Translator\\\"\",\"Cluster 0, \\\"PHP Interpreter\\\"\",\"Cluster 1, \\\"Emergency Response Professional\\\"\",\"Cluster 0, \\\"Fill in the Blank Worksheets Generator\\\"\",\"Cluster 1, \\\"Software Quality Assurance Tester\\\"\",\"Cluster 0, \\\"Tic-Tac-Toe Game\\\"\",\"Cluster 0, \\\"Password Generator\\\"\",\"Cluster 0, \\\"New Language Creator\\\"\",\"Cluster 0, \\\"Web Browser\\\"\",\"Cluster 1, \\\"Senior Frontend Developer\\\"\",\"Cluster 0, \\\"Solr Search Engine\\\"\",\"Cluster 1, \\\"Startup Idea Generator\\\"\",\"Cluster 0, \\\"Spongebob's Magic Conch Shell\\\"\",\"Cluster 0, \\\"Language Detector\\\"\",\"Cluster 1, \\\"Salesperson\\\"\",\"Cluster 0, \\\"Commit Message Generator\\\"\",\"Cluster 1, \\\"Chief Executive Officer\\\"\",\"Cluster -1, \\\"Diagram Generator\\\"\",\"Cluster 1, \\\"Life Coach\\\"\",\"Cluster 1, \\\"Speech-Language Pathologist (SLP)\\\"\",\"Cluster 1, \\\"Startup Tech Lawyer\\\"\",\"Cluster 0, \\\"Title Generator for written pieces\\\"\",\"Cluster 1, \\\"Product Manager\\\"\",\"Cluster 0, \\\"Drunk Person\\\"\",\"Cluster 1, \\\"Mathematical History Teacher\\\"\",\"Cluster 1, \\\"Song Recommender\\\"\",\"Cluster 1, \\\"Cover Letter\\\"\",\"Cluster 1, \\\"Technology Transferer\\\"\",\"Cluster 0, \\\"Unconstrained AI model DAN\\\"\",\"Cluster 0, \\\"Gomoku player\\\"\",\"Cluster 0, \\\"Proofreader\\\"\",\"Cluster 1, \\\"Muslim imam \\\"\"],\"x\":[10.522139549255371,7.9453558921813965,8.286354064941406,10.65048599243164,10.345002174377441,7.655092716217041,8.12235164642334,2.0336947441101074,8.100301742553711,9.031071662902832,1.9255008697509766,4.237715721130371,5.154360771179199,5.253612995147705,-3.267568588256836,3.4269795417785645,4.854726791381836,4.995945453643799,3.547377347946167,3.6136670112609863,3.9480762481689453,-3.2345070838928223,3.438692569732666,3.4869937896728516,4.925686359405518,5.3613433837890625,5.385283946990967,5.228980541229248,7.94354248046875,1.2072879076004028,-0.2980702519416809,0.2913844883441925,-2.954078435897827,4.552121162414551,4.4011006355285645,5.531975746154785,0.26104703545570374,-2.8270702362060547,-3.105916738510132,-2.5483758449554443,1.7243233919143677,1.0588496923446655,-2.3946361541748047,1.318439245223999,-2.3229312896728516,-2.4940011501312256,0.4296697676181793,-2.461228609085083,-0.7099819779396057,2.130305528640747,0.018236782401800156,0.3965533673763275,-2.3056488037109375,1.678107500076294,1.913266897201538,-3.5704407691955566,2.668149948120117,-3.5506346225738525,10.32948112487793,10.324277877807617,7.731411457061768,5.040621280670166,7.640529632568359,10.012369155883789,10.637246131896973,-2.3424930572509766,-2.2488620281219482,7.412624359130859,3.6451406478881836,0.7419505715370178,4.248348712921143,0.994179368019104,8.947425842285156,5.627689361572266,4.776089191436768,4.156762599945068,2.56184458732605,1.8114503622055054,5.501817226409912,5.465748310089111,3.0363078117370605,-2.590996742248535,4.654543399810791,1.3664276599884033,5.123613357543945,1.608792781829834,1.1370164155960083,-2.7510669231414795,3.941215991973877,0.639028012752533,3.8965890407562256,3.2723774909973145,3.9171972274780273,1.673226237297058,5.261524677276611,1.6642096042633057,1.7257719039916992,0.7781137824058533,10.186832427978516,9.979813575744629,7.720102787017822,1.8010324239730835,3.8440072536468506,-2.637610673904419,-2.470456600189209,-2.645280599594116,1.8191277980804443,-0.3835662305355072,8.172331809997559,1.4569600820541382,-0.482178658246994,9.981267929077148,7.551111221313477,1.0899217128753662,9.861913681030273,7.585714817047119,2.89266037940979,3.404366970062256,0.25104328989982605,10.419426918029785,9.649152755737305,8.738018035888672,10.474164962768555,-2.2308449745178223,7.742380619049072,0.9395885467529297,10.25594711303711,7.498555660247803,8.575812339782715,10.234811782836914,1.1393836736679077,7.598633766174316,0.5796721577644348,9.410616874694824,8.323866844177246,2.0943474769592285,9.857498168945312,-0.4174938201904297,1.5022610425949097,-3.524960994720459,5.257843017578125,0.5996901392936707,7.551587104797363,0.6429428458213806,8.957985877990723,5.284576892852783,3.231856346130371,0.38122206926345825,0.8707579970359802,9.204723358154297,10.125225067138672,7.922402381896973,-3.4542837142944336],\"y\":[15.94720458984375,17.37761688232422,16.799365997314453,15.99365234375,15.39165210723877,17.402698516845703,17.043363571166992,8.644547462463379,17.315244674682617,16.120325088500977,7.595432281494141,8.766556739807129,8.023520469665527,8.130162239074707,7.642760276794434,9.08090877532959,8.079656600952148,8.265926361083984,8.782649993896484,8.961796760559082,7.475925445556641,7.961965560913086,9.124059677124023,9.085554122924805,8.509683609008789,9.113770484924316,8.739741325378418,9.197220802307129,17.68896484375,10.62946605682373,9.290736198425293,9.398444175720215,7.900139331817627,8.683553695678711,7.754569053649902,9.21252727508545,9.291703224182129,7.930985450744629,7.789322853088379,7.954989433288574,8.358365058898926,10.211713790893555,8.312752723693848,10.026625633239746,8.751184463500977,8.7119722366333,10.02321720123291,8.932334899902344,9.055159568786621,8.467853546142578,9.631367683410645,9.827637672424316,8.982498168945312,8.466129302978516,8.396553039550781,7.6508588790893555,8.12285041809082,7.636948108673096,15.891148567199707,16.02923583984375,18.292339324951172,9.112025260925293,17.43787956237793,15.015679359436035,15.91982650756836,9.018516540527344,8.359116554260254,18.28876304626465,7.488071918487549,10.67768669128418,8.117487907409668,10.344463348388672,16.13195037841797,9.506266593933105,7.963547706604004,7.770326137542725,8.142576217651367,7.875793933868408,8.949904441833496,9.080795288085938,8.031689643859863,8.114493370056152,8.110661506652832,8.14070987701416,8.467860221862793,9.350421905517578,10.565961837768555,8.123889923095703,8.496892929077148,8.940204620361328,7.538515090942383,8.94246768951416,8.064314842224121,8.833099365234375,8.224015235900879,8.183917045593262,8.194234848022461,10.674052238464355,15.380900382995605,15.633410453796387,17.80814552307129,8.077296257019043,7.445981502532959,8.611859321594238,8.88144588470459,8.2447509765625,8.075726509094238,9.242388725280762,16.97852325439453,9.629292488098145,9.151572227478027,15.332784652709961,17.614532470703125,10.79443359375,15.131369590759277,18.19536590576172,8.629940032958984,9.183401107788086,9.069938659667969,15.645538330078125,15.832919120788574,16.386295318603516,15.725409507751465,8.331384658813477,17.604923248291016,10.908833503723145,15.20250129699707,18.127798080444336,16.557619094848633,15.688255310058594,10.75294303894043,18.19567108154297,10.284370422363281,15.944757461547852,16.807188034057617,7.722355365753174,15.938677787780762,9.195685386657715,9.543675422668457,7.6432695388793945,8.356409072875977,10.379342079162598,18.095212936401367,10.406540870666504,16.134761810302734,9.098711013793945,8.941471099853516,9.559467315673828,10.629652976989746,15.947179794311523,15.129698753356934,17.483247756958008,7.701821327209473],\"type\":\"scatter\",\"showlegend\":false}],                        {\"template\":{\"data\":{\"histogram2dcontour\":[{\"type\":\"histogram2dcontour\",\"colorbar\":{\"outlinewidth\":0,\"ticks\":\"\"},\"colorscale\":[[0.0,\"#0d0887\"],[0.1111111111111111,\"#46039f\"],[0.2222222222222222,\"#7201a8\"],[0.3333333333333333,\"#9c179e\"],[0.4444444444444444,\"#bd3786\"],[0.5555555555555556,\"#d8576b\"],[0.6666666666666666,\"#ed7953\"],[0.7777777777777778,\"#fb9f3a\"],[0.8888888888888888,\"#fdca26\"],[1.0,\"#f0f921\"]]}],\"choropleth\":[{\"type\":\"choropleth\",\"colorbar\":{\"outlinewidth\":0,\"ticks\":\"\"}}],\"histogram2d\":[{\"type\":\"histogram2d\",\"colorbar\":{\"outlinewidth\":0,\"ticks\":\"\"},\"colorscale\":[[0.0,\"#0d0887\"],[0.1111111111111111,\"#46039f\"],[0.2222222222222222,\"#7201a8\"],[0.3333333333333333,\"#9c179e\"],[0.4444444444444444,\"#bd3786\"],[0.5555555555555556,\"#d8576b\"],[0.6666666666666666,\"#ed7953\"],[0.7777777777777778,\"#fb9f3a\"],[0.8888888888888888,\"#fdca26\"],[1.0,\"#f0f921\"]]}],\"heatmap\":[{\"type\":\"heatmap\",\"colorbar\":{\"outlinewidth\":0,\"ticks\":\"\"},\"colorscale\":[[0.0,\"#0d0887\"],[0.1111111111111111,\"#46039f\"],[0.2222222222222222,\"#7201a8\"],[0.3333333333333333,\"#9c179e\"],[0.4444444444444444,\"#bd3786\"],[0.5555555555555556,\"#d8576b\"],[0.6666666666666666,\"#ed7953\"],[0.7777777777777778,\"#fb9f3a\"],[0.8888888888888888,\"#fdca26\"],[1.0,\"#f0f921\"]]}],\"heatmapgl\":[{\"type\":\"heatmapgl\",\"colorbar\":{\"outlinewidth\":0,\"ticks\":\"\"},\"colorscale\":[[0.0,\"#0d0887\"],[0.1111111111111111,\"#46039f\"],[0.2222222222222222,\"#7201a8\"],[0.3333333333333333,\"#9c179e\"],[0.4444444444444444,\"#bd3786\"],[0.5555555555555556,\"#d8576b\"],[0.6666666666666666,\"#ed7953\"],[0.7777777777777778,\"#fb9f3a\"],[0.8888888888888888,\"#fdca26\"],[1.0,\"#f0f921\"]]}],\"contourcarpet\":[{\"type\":\"contourcarpet\",\"colorbar\":{\"outlinewidth\":0,\"ticks\":\"\"}}],\"contour\":[{\"type\":\"contour\",\"colorbar\":{\"outlinewidth\":0,\"ticks\":\"\"},\"colorscale\":[[0.0,\"#0d0887\"],[0.1111111111111111,\"#46039f\"],[0.2222222222222222,\"#7201a8\"],[0.3333333333333333,\"#9c179e\"],[0.4444444444444444,\"#bd3786\"],[0.5555555555555556,\"#d8576b\"],[0.6666666666666666,\"#ed7953\"],[0.7777777777777778,\"#fb9f3a\"],[0.8888888888888888,\"#fdca26\"],[1.0,\"#f0f921\"]]}],\"surface\":[{\"type\":\"surface\",\"colorbar\":{\"outlinewidth\":0,\"ticks\":\"\"},\"colorscale\":[[0.0,\"#0d0887\"],[0.1111111111111111,\"#46039f\"],[0.2222222222222222,\"#7201a8\"],[0.3333333333333333,\"#9c179e\"],[0.4444444444444444,\"#bd3786\"],[0.5555555555555556,\"#d8576b\"],[0.6666666666666666,\"#ed7953\"],[0.7777777777777778,\"#fb9f3a\"],[0.8888888888888888,\"#fdca26\"],[1.0,\"#f0f921\"]]}],\"mesh3d\":[{\"type\":\"mesh3d\",\"colorbar\":{\"outlinewidth\":0,\"ticks\":\"\"}}],\"scatter\":[{\"fillpattern\":{\"fillmode\":\"overlay\",\"size\":10,\"solidity\":0.2},\"type\":\"scatter\"}],\"parcoords\":[{\"type\":\"parcoords\",\"line\":{\"colorbar\":{\"outlinewidth\":0,\"ticks\":\"\"}}}],\"scatterpolargl\":[{\"type\":\"scatterpolargl\",\"marker\":{\"colorbar\":{\"outlinewidth\":0,\"ticks\":\"\"}}}],\"bar\":[{\"error_x\":{\"color\":\"#2a3f5f\"},\"error_y\":{\"color\":\"#2a3f5f\"},\"marker\":{\"line\":{\"color\":\"#E5ECF6\",\"width\":0.5},\"pattern\":{\"fillmode\":\"overlay\",\"size\":10,\"solidity\":0.2}},\"type\":\"bar\"}],\"scattergeo\":[{\"type\":\"scattergeo\",\"marker\":{\"colorbar\":{\"outlinewidth\":0,\"ticks\":\"\"}}}],\"scatterpolar\":[{\"type\":\"scatterpolar\",\"marker\":{\"colorbar\":{\"outlinewidth\":0,\"ticks\":\"\"}}}],\"histogram\":[{\"marker\":{\"pattern\":{\"fillmode\":\"overlay\",\"size\":10,\"solidity\":0.2}},\"type\":\"histogram\"}],\"scattergl\":[{\"type\":\"scattergl\",\"marker\":{\"colorbar\":{\"outlinewidth\":0,\"ticks\":\"\"}}}],\"scatter3d\":[{\"type\":\"scatter3d\",\"line\":{\"colorbar\":{\"outlinewidth\":0,\"ticks\":\"\"}},\"marker\":{\"colorbar\":{\"outlinewidth\":0,\"ticks\":\"\"}}}],\"scattermapbox\":[{\"type\":\"scattermapbox\",\"marker\":{\"colorbar\":{\"outlinewidth\":0,\"ticks\":\"\"}}}],\"scatterternary\":[{\"type\":\"scatterternary\",\"marker\":{\"colorbar\":{\"outlinewidth\":0,\"ticks\":\"\"}}}],\"scattercarpet\":[{\"type\":\"scattercarpet\",\"marker\":{\"colorbar\":{\"outlinewidth\":0,\"ticks\":\"\"}}}],\"carpet\":[{\"aaxis\":{\"endlinecolor\":\"#2a3f5f\",\"gridcolor\":\"white\",\"linecolor\":\"white\",\"minorgridcolor\":\"white\",\"startlinecolor\":\"#2a3f5f\"},\"baxis\":{\"endlinecolor\":\"#2a3f5f\",\"gridcolor\":\"white\",\"linecolor\":\"white\",\"minorgridcolor\":\"white\",\"startlinecolor\":\"#2a3f5f\"},\"type\":\"carpet\"}],\"table\":[{\"cells\":{\"fill\":{\"color\":\"#EBF0F8\"},\"line\":{\"color\":\"white\"}},\"header\":{\"fill\":{\"color\":\"#C8D4E3\"},\"line\":{\"color\":\"white\"}},\"type\":\"table\"}],\"barpolar\":[{\"marker\":{\"line\":{\"color\":\"#E5ECF6\",\"width\":0.5},\"pattern\":{\"fillmode\":\"overlay\",\"size\":10,\"solidity\":0.2}},\"type\":\"barpolar\"}],\"pie\":[{\"automargin\":true,\"type\":\"pie\"}]},\"layout\":{\"autotypenumbers\":\"strict\",\"colorway\":[\"#636efa\",\"#EF553B\",\"#00cc96\",\"#ab63fa\",\"#FFA15A\",\"#19d3f3\",\"#FF6692\",\"#B6E880\",\"#FF97FF\",\"#FECB52\"],\"font\":{\"color\":\"#2a3f5f\"},\"hovermode\":\"closest\",\"hoverlabel\":{\"align\":\"left\"},\"paper_bgcolor\":\"white\",\"plot_bgcolor\":\"#E5ECF6\",\"polar\":{\"bgcolor\":\"#E5ECF6\",\"angularaxis\":{\"gridcolor\":\"white\",\"linecolor\":\"white\",\"ticks\":\"\"},\"radialaxis\":{\"gridcolor\":\"white\",\"linecolor\":\"white\",\"ticks\":\"\"}},\"ternary\":{\"bgcolor\":\"#E5ECF6\",\"aaxis\":{\"gridcolor\":\"white\",\"linecolor\":\"white\",\"ticks\":\"\"},\"baxis\":{\"gridcolor\":\"white\",\"linecolor\":\"white\",\"ticks\":\"\"},\"caxis\":{\"gridcolor\":\"white\",\"linecolor\":\"white\",\"ticks\":\"\"}},\"coloraxis\":{\"colorbar\":{\"outlinewidth\":0,\"ticks\":\"\"}},\"colorscale\":{\"sequential\":[[0.0,\"#0d0887\"],[0.1111111111111111,\"#46039f\"],[0.2222222222222222,\"#7201a8\"],[0.3333333333333333,\"#9c179e\"],[0.4444444444444444,\"#bd3786\"],[0.5555555555555556,\"#d8576b\"],[0.6666666666666666,\"#ed7953\"],[0.7777777777777778,\"#fb9f3a\"],[0.8888888888888888,\"#fdca26\"],[1.0,\"#f0f921\"]],\"sequentialminus\":[[0.0,\"#0d0887\"],[0.1111111111111111,\"#46039f\"],[0.2222222222222222,\"#7201a8\"],[0.3333333333333333,\"#9c179e\"],[0.4444444444444444,\"#bd3786\"],[0.5555555555555556,\"#d8576b\"],[0.6666666666666666,\"#ed7953\"],[0.7777777777777778,\"#fb9f3a\"],[0.8888888888888888,\"#fdca26\"],[1.0,\"#f0f921\"]],\"diverging\":[[0,\"#8e0152\"],[0.1,\"#c51b7d\"],[0.2,\"#de77ae\"],[0.3,\"#f1b6da\"],[0.4,\"#fde0ef\"],[0.5,\"#f7f7f7\"],[0.6,\"#e6f5d0\"],[0.7,\"#b8e186\"],[0.8,\"#7fbc41\"],[0.9,\"#4d9221\"],[1,\"#276419\"]]},\"xaxis\":{\"gridcolor\":\"white\",\"linecolor\":\"white\",\"ticks\":\"\",\"title\":{\"standoff\":15},\"zerolinecolor\":\"white\",\"automargin\":true,\"zerolinewidth\":2},\"yaxis\":{\"gridcolor\":\"white\",\"linecolor\":\"white\",\"ticks\":\"\",\"title\":{\"standoff\":15},\"zerolinecolor\":\"white\",\"automargin\":true,\"zerolinewidth\":2},\"scene\":{\"xaxis\":{\"backgroundcolor\":\"#E5ECF6\",\"gridcolor\":\"white\",\"linecolor\":\"white\",\"showbackground\":true,\"ticks\":\"\",\"zerolinecolor\":\"white\",\"gridwidth\":2},\"yaxis\":{\"backgroundcolor\":\"#E5ECF6\",\"gridcolor\":\"white\",\"linecolor\":\"white\",\"showbackground\":true,\"ticks\":\"\",\"zerolinecolor\":\"white\",\"gridwidth\":2},\"zaxis\":{\"backgroundcolor\":\"#E5ECF6\",\"gridcolor\":\"white\",\"linecolor\":\"white\",\"showbackground\":true,\"ticks\":\"\",\"zerolinecolor\":\"white\",\"gridwidth\":2}},\"shapedefaults\":{\"line\":{\"color\":\"#2a3f5f\"}},\"annotationdefaults\":{\"arrowcolor\":\"#2a3f5f\",\"arrowhead\":0,\"arrowwidth\":1},\"geo\":{\"bgcolor\":\"white\",\"landcolor\":\"#E5ECF6\",\"subunitcolor\":\"white\",\"showland\":true,\"showlakes\":true,\"lakecolor\":\"white\"},\"title\":{\"x\":0.05},\"mapbox\":{\"style\":\"light\"}}},\"coloraxis\":{\"showscale\":false},\"width\":825.0,\"height\":600.0},                        {\"responsive\": true}                    ).then(function(){\n",
              "                            \n",
              "var gd = document.getElementById('d2ad15e0-7d80-4e2f-80f1-d442a53639f8');\n",
              "var x = new MutationObserver(function (mutations, observer) {{\n",
              "        var display = window.getComputedStyle(gd).display;\n",
              "        if (!display || display === 'none') {{\n",
              "            console.log([gd, 'removed!']);\n",
              "            Plotly.purge(gd);\n",
              "            observer.disconnect();\n",
              "        }}\n",
              "}});\n",
              "\n",
              "// Listen for the removal of the full notebook cells\n",
              "var notebookContainer = gd.closest('#notebook-container');\n",
              "if (notebookContainer) {{\n",
              "    x.observe(notebookContainer, {childList: true});\n",
              "}}\n",
              "\n",
              "// Listen for the clearing of the current output cell\n",
              "var outputEl = gd.closest('.output');\n",
              "if (outputEl) {{\n",
              "    x.observe(outputEl, {childList: true});\n",
              "}}\n",
              "\n",
              "                        })                };                            </script>        </div>\n",
              "</body>\n",
              "</html>"
            ]
          },
          "metadata": {}
        }
      ],
      "source": [
        "custom_scale = [\n",
        "    \"#949494\",  # Gray\n",
        "    \"#F65314\",  # Google Red\n",
        "    \"#4285F4\",  # Google Blue\n",
        "]\n",
        "\n",
        "fig = go.Figure()\n",
        "fig.add_trace(\n",
        "    go.Scatter(\n",
        "        x=ds[\"x\"],\n",
        "        y=ds[\"y\"],\n",
        "        mode=\"markers\",\n",
        "        marker_color=ds[\"cluster\"],\n",
        "        marker_colorscale=custom_scale,\n",
        "        text=ds[\"cluster + act\"],\n",
        "    )\n",
        ")\n",
        "\n",
        "fig.update_traces(marker={\"size\": 11, \"opacity\": 0.45}, showlegend=False)\n",
        "fig.update_coloraxes(showscale=False)\n",
        "fig.update_layout(width=550 * 1.5, height=400 * 1.5)\n",
        "fig.show()"
      ]
    },
    {
      "cell_type": "markdown",
      "metadata": {
        "id": "fZl5qjp7r6QJ"
      },
      "source": [
        "## Exemplar Sub-Clustering\n",
        "\n",
        "* See [soft clustering explanation](https://hdbscan.readthedocs.io/en/latest/soft_clustering_explanation.html) for supporting information"
      ]
    },
    {
      "cell_type": "code",
      "execution_count": 31,
      "metadata": {
        "id": "87hBN35f-J0-"
      },
      "outputs": [],
      "source": [
        "# function copied from:\n",
        "# https://hdbscan.readthedocs.io/en/latest/soft_clustering_explanation.html#distance-based-membership\n",
        "\n",
        "\n",
        "def exemplars(cluster_id, condensed_tree):\n",
        "    raw_tree = condensed_tree._raw_tree\n",
        "    # Just the cluster elements of the tree, excluding singleton points\n",
        "    cluster_tree = raw_tree[raw_tree[\"child_size\"] > 1]\n",
        "    # Get the leaf cluster nodes under the cluster we are considering\n",
        "    leaves = hdbscan.plots._recurse_leaf_dfs(cluster_tree, cluster_id)\n",
        "    # Now collect up the last remaining points of each leaf cluster (the heart of the leaf)\n",
        "    result = np.array([])\n",
        "    for leaf in leaves:\n",
        "        max_lambda = raw_tree[\"lambda_val\"][raw_tree[\"parent\"] == leaf].max()\n",
        "        points = raw_tree[\"child\"][\n",
        "            (raw_tree[\"parent\"] == leaf) & (raw_tree[\"lambda_val\"] == max_lambda)\n",
        "        ]\n",
        "        result = np.hstack((result, points))\n",
        "    return result.astype(np.int)"
      ]
    },
    {
      "cell_type": "code",
      "execution_count": 32,
      "metadata": {
        "colab": {
          "base_uri": "https://localhost:8080/"
        },
        "id": "hu4rVHAHAoms",
        "outputId": "d89545cd-cd3b-4caf-f941-e3db780935b1"
      },
      "outputs": [
        {
          "output_type": "stream",
          "name": "stdout",
          "text": [
            "Cluster 0 has 11 exemplars\n",
            "Cluster 1 has 23 exemplars\n"
          ]
        },
        {
          "output_type": "stream",
          "name": "stderr",
          "text": [
            "<ipython-input-31-808adb6f118c>:19: DeprecationWarning:\n",
            "\n",
            "`np.int` is a deprecated alias for the builtin `int`. To silence this warning, use `int` by itself. Doing this will not modify any behavior and is safe. When replacing `np.int`, you may wish to use e.g. `np.int64` or `np.int32` to specify the precision. If you wish to review your current use, check the release note link for additional information.\n",
            "Deprecated in NumPy 1.20; for more details and guidance: https://numpy.org/devdocs/release/1.20.0-notes.html#deprecations\n",
            "\n"
          ]
        }
      ],
      "source": [
        "tree = loaded_clusterer.condensed_tree_\n",
        "\n",
        "exemplar_ids = []\n",
        "for i, c in enumerate(tree._select_clusters()):\n",
        "    c_exemplars = exemplars(c, tree)\n",
        "    print(f\"Cluster {i} has {len(c_exemplars)} exemplars\")\n",
        "    exemplar_ids.extend(c_exemplars)"
      ]
    },
    {
      "cell_type": "code",
      "execution_count": 33,
      "metadata": {
        "id": "3X3Wc86tnVRY"
      },
      "outputs": [],
      "source": [
        "ds[\"exemplars yes/no\"] = np.zeros(len(ds))\n",
        "ds.loc[exemplar_ids, \"exemplars yes/no\"] = 1\n",
        "\n",
        "assert len(ds[ds[\"exemplars yes/no\"] == 1]) == len(exemplar_ids)"
      ]
    },
    {
      "cell_type": "code",
      "execution_count": 34,
      "metadata": {
        "colab": {
          "base_uri": "https://localhost:8080/",
          "height": 653
        },
        "id": "uyJW97LhrRp0",
        "outputId": "d525333f-3790-416f-b3ec-1bea025c6669"
      },
      "outputs": [
        {
          "output_type": "stream",
          "name": "stdout",
          "text": [
            "\n",
            "\n"
          ]
        },
        {
          "output_type": "display_data",
          "data": {
            "text/html": [
              "<html>\n",
              "<head><meta charset=\"utf-8\" /></head>\n",
              "<body>\n",
              "    <div>            <script src=\"https://cdnjs.cloudflare.com/ajax/libs/mathjax/2.7.5/MathJax.js?config=TeX-AMS-MML_SVG\"></script><script type=\"text/javascript\">if (window.MathJax && window.MathJax.Hub && window.MathJax.Hub.Config) {window.MathJax.Hub.Config({SVG: {font: \"STIX-Web\"}});}</script>                <script type=\"text/javascript\">window.PlotlyConfig = {MathJaxConfig: 'local'};</script>\n",
              "        <script charset=\"utf-8\" src=\"https://cdn.plot.ly/plotly-2.25.2.min.js\"></script>                <div id=\"f08b1b80-c733-4804-bb8f-355b2675f061\" class=\"plotly-graph-div\" style=\"height:600.0px; width:825.0px;\"></div>            <script type=\"text/javascript\">                                    window.PLOTLYENV=window.PLOTLYENV || {};                                    if (document.getElementById(\"f08b1b80-c733-4804-bb8f-355b2675f061\")) {                    Plotly.newPlot(                        \"f08b1b80-c733-4804-bb8f-355b2675f061\",                        [{\"marker\":{\"color\":\"#949494\",\"opacity\":0.45,\"size\":11},\"mode\":\"markers\",\"text\":[\"Cluster 0, \\\"`position` Interviewer\\\"\",\"Cluster 0, \\\"Excel Sheet\\\"\",\"Cluster 0, \\\"English Pronunciation Helper\\\"\",\"Cluster 0, \\\"Spoken English Teacher and Improver\\\"\",\"Cluster 0, \\\"Plagiarism Checker\\\"\",\"Cluster 0, \\\"Character from Movie\\u002fBook\\u002fAnything\\\"\",\"Cluster 0, \\\"AI Writing Tutor\\\"\",\"Cluster 0, \\\"AI Trying to Escape the Box\\\"\",\"Cluster 0, \\\"Fancy Title Generator\\\"\",\"Cluster 0, \\\"Instructor in a School\\\"\",\"Cluster 0, \\\"Smart Domain Name Generator\\\"\",\"Cluster 0, \\\"Lunatic\\\"\",\"Cluster 0, \\\"Ascii Artist\\\"\",\"Cluster 0, \\\"Python interpreter\\\"\",\"Cluster 0, \\\"Synonym finder\\\"\",\"Cluster 0, \\\"Chess Player\\\"\",\"Cluster 0, \\\"Midjourney Prompt Generator\\\"\",\"Cluster 0, \\\"Mathematician\\\"\",\"Cluster 0, \\\"Regex Generator\\\"\",\"Cluster 0, \\\"R programming Interpreter\\\"\",\"Cluster 0, \\\"StackOverflow Post\\\"\",\"Cluster 0, \\\"Emoji Translator\\\"\",\"Cluster 0, \\\"Tic-Tac-Toe Game\\\"\",\"Cluster 0, \\\"Password Generator\\\"\",\"Cluster 0, \\\"New Language Creator\\\"\",\"Cluster 0, \\\"Web Browser\\\"\",\"Cluster 0, \\\"Solr Search Engine\\\"\",\"Cluster 0, \\\"Spongebob's Magic Conch Shell\\\"\",\"Cluster 0, \\\"Commit Message Generator\\\"\",\"Cluster 0, \\\"Title Generator for written pieces\\\"\",\"Cluster 0, \\\"Drunk Person\\\"\",\"Cluster 0, \\\"Unconstrained AI model DAN\\\"\",\"Cluster 0, \\\"Gomoku player\\\"\"],\"x\":[8.286354064941406,10.345002174377441,7.655092716217041,8.12235164642334,8.100301742553711,9.031071662902832,7.94354248046875,10.324277877807617,7.731411457061768,10.012369155883789,7.412624359130859,8.947425842285156,10.186832427978516,9.979813575744629,7.720102787017822,9.981267929077148,7.551111221313477,9.861913681030273,7.585714817047119,10.419426918029785,9.649152755737305,8.738018035888672,10.25594711303711,7.498555660247803,8.575812339782715,10.234811782836914,7.598633766174316,9.410616874694824,9.857498168945312,7.551587104797363,8.957985877990723,9.204723358154297,10.125225067138672],\"y\":[16.799365997314453,15.39165210723877,17.402698516845703,17.043363571166992,17.315244674682617,16.120325088500977,17.68896484375,16.02923583984375,18.292339324951172,15.015679359436035,18.28876304626465,16.13195037841797,15.380900382995605,15.633410453796387,17.80814552307129,15.332784652709961,17.614532470703125,15.131369590759277,18.19536590576172,15.645538330078125,15.832919120788574,16.386295318603516,15.20250129699707,18.127798080444336,16.557619094848633,15.688255310058594,18.19567108154297,15.944757461547852,15.938677787780762,18.095212936401367,16.134761810302734,15.947179794311523,15.129698753356934],\"type\":\"scatter\",\"showlegend\":false},{\"marker\":{\"color\":\"#F65314\",\"opacity\":0.45,\"size\":11},\"mode\":\"markers\",\"text\":[\"Cluster 0, \\\"Linux Terminal\\\"\",\"Cluster 0, \\\"English Translator and Improver\\\"\",\"Cluster 0, \\\"JavaScript Console\\\"\",\"Cluster 0, \\\"Text Based Adventure Game\\\"\",\"Cluster 0, \\\"Prompt Generator\\\"\",\"Cluster 0, \\\"SQL terminal\\\"\",\"Cluster 0, \\\"Biblical Translator\\\"\",\"Cluster 0, \\\"PHP Interpreter\\\"\",\"Cluster 0, \\\"Fill in the Blank Worksheets Generator\\\"\",\"Cluster 0, \\\"Language Detector\\\"\",\"Cluster 0, \\\"Proofreader\\\"\"],\"x\":[10.522139549255371,7.9453558921813965,10.65048599243164,10.32948112487793,7.640529632568359,10.637246131896973,8.172331809997559,10.474164962768555,7.742380619049072,8.323866844177246,7.922402381896973],\"y\":[15.94720458984375,17.37761688232422,15.99365234375,15.891148567199707,17.43787956237793,15.91982650756836,16.97852325439453,15.725409507751465,17.604923248291016,16.807188034057617,17.483247756958008],\"type\":\"scatter\",\"showlegend\":false},{\"marker\":{\"color\":\"#949494\",\"opacity\":0.45,\"size\":11},\"mode\":\"markers\",\"text\":[\"Cluster 1, \\\"Travel Guide\\\"\",\"Cluster 1, \\\"Advertiser\\\"\",\"Cluster 1, \\\"Storyteller\\\"\",\"Cluster 1, \\\"Football Commentator\\\"\",\"Cluster 1, \\\"Stand-up Comedian\\\"\",\"Cluster 1, \\\"Motivational Coach\\\"\",\"Cluster 1, \\\"Debate Coach\\\"\",\"Cluster 1, \\\"Screenwriter\\\"\",\"Cluster 1, \\\"Movie Critic\\\"\",\"Cluster 1, \\\"Motivational Speaker\\\"\",\"Cluster 1, \\\"Philosophy Teacher\\\"\",\"Cluster 1, \\\"Philosopher\\\"\",\"Cluster 1, \\\"UX\\u002fUI Developer\\\"\",\"Cluster 1, \\\"Cyber Security Specialist\\\"\",\"Cluster 1, \\\"Recruiter\\\"\",\"Cluster 1, \\\"Etymologist\\\"\",\"Cluster 1, \\\"Magician\\\"\",\"Cluster 1, \\\"Career Counselor\\\"\",\"Cluster 1, \\\"Personal Trainer\\\"\",\"Cluster 1, \\\"Real Estate Agent\\\"\",\"Cluster 1, \\\"Logistician\\\"\",\"Cluster 1, \\\"Web Design Consultant\\\"\",\"Cluster 1, \\\"AI Assisted Doctor\\\"\",\"Cluster 1, \\\"Doctor\\\"\",\"Cluster 1, \\\"Accountant\\\"\",\"Cluster 1, \\\"Chef\\\"\",\"Cluster 1, \\\"Automobile Mechanic\\\"\",\"Cluster 1, \\\"Financial Analyst\\\"\",\"Cluster 1, \\\"Investment Manager\\\"\",\"Cluster 1, \\\"Tea-Taster\\\"\",\"Cluster 1, \\\"Interior Decorator\\\"\",\"Cluster 1, \\\"Florist\\\"\",\"Cluster 1, \\\"Self-Help Book\\\"\",\"Cluster 1, \\\"Gnomist\\\"\",\"Cluster 1, \\\"Aphorism Book\\\"\",\"Cluster 1, \\\"Statistician\\\"\",\"Cluster 1, \\\"Dietitian\\\"\",\"Cluster 1, \\\"Psychologist\\\"\",\"Cluster 1, \\\"Tech Reviewer:\\\"\",\"Cluster 1, \\\"Developer Relations consultant\\\"\",\"Cluster 1, \\\"Journal Reviewer\\\"\",\"Cluster 1, \\\"DIY Expert\\\"\",\"Cluster 1, \\\"Social Media Influencer\\\"\",\"Cluster 1, \\\"Socrat\\\"\",\"Cluster 1, \\\"Socratic Method\\\"\",\"Cluster 1, \\\"Educational Content Creator\\\"\",\"Cluster 1, \\\"Yogi\\\"\",\"Cluster 1, \\\"Social Media Manager\\\"\",\"Cluster 1, \\\"Elocutionist\\\"\",\"Cluster 1, \\\"Scientific Data Visualizer\\\"\",\"Cluster 1, \\\"Historian\\\"\",\"Cluster 1, \\\"Astrologer\\\"\",\"Cluster 1, \\\"Film Critic\\\"\",\"Cluster 1, \\\"Journalist\\\"\",\"Cluster 1, \\\"Digital Art Gallery Guide\\\"\",\"Cluster 1, \\\"Public Speaking Coach\\\"\",\"Cluster 1, \\\"Babysitter\\\"\",\"Cluster 1, \\\"Personal Shopper\\\"\",\"Cluster 1, \\\"Food Critic\\\"\",\"Cluster 1, \\\"Virtual Doctor\\\"\",\"Cluster 1, \\\"Personal Chef\\\"\",\"Cluster 1, \\\"Legal Advisor\\\"\",\"Cluster 1, \\\"Personal Stylist\\\"\",\"Cluster 1, \\\"SVG designer\\\"\",\"Cluster 1, \\\"IT Expert\\\"\",\"Cluster 1, \\\"Time Travel Guide\\\"\",\"Cluster 1, \\\"Dream Interpreter\\\"\",\"Cluster 1, \\\"Talent Coach\\\"\",\"Cluster 1, \\\"Emergency Response Professional\\\"\",\"Cluster 1, \\\"Software Quality Assurance Tester\\\"\",\"Cluster 1, \\\"Startup Idea Generator\\\"\",\"Cluster 1, \\\"Salesperson\\\"\",\"Cluster 1, \\\"Chief Executive Officer\\\"\",\"Cluster 1, \\\"Life Coach\\\"\",\"Cluster 1, \\\"Speech-Language Pathologist (SLP)\\\"\",\"Cluster 1, \\\"Startup Tech Lawyer\\\"\",\"Cluster 1, \\\"Product Manager\\\"\",\"Cluster 1, \\\"Mathematical History Teacher\\\"\",\"Cluster 1, \\\"Song Recommender\\\"\",\"Cluster 1, \\\"Cover Letter\\\"\",\"Cluster 1, \\\"Technology Transferer\\\"\",\"Cluster 1, \\\"Muslim imam \\\"\"],\"x\":[2.0336947441101074,1.9255008697509766,4.237715721130371,5.154360771179199,5.253612995147705,-3.267568588256836,4.995945453643799,3.547377347946167,3.9480762481689453,4.925686359405518,5.3613433837890625,5.385283946990967,1.2072879076004028,-0.2980702519416809,0.2913844883441925,4.552121162414551,5.531975746154785,0.26104703545570374,-3.105916738510132,1.7243233919143677,1.0588496923446655,1.318439245223999,-2.3229312896728516,-2.4940011501312256,0.4296697676181793,-2.461228609085083,-0.7099819779396057,0.018236782401800156,0.3965533673763275,-2.3056488037109375,1.678107500076294,1.913266897201538,-3.5704407691955566,2.668149948120117,-3.5506346225738525,5.040621280670166,-2.3424930572509766,-2.2488620281219482,3.6451406478881836,0.7419505715370178,4.156762599945068,2.56184458732605,1.8114503622055054,5.501817226409912,5.465748310089111,3.0363078117370605,-2.590996742248535,1.3664276599884033,5.123613357543945,1.608792781829834,3.941215991973877,0.639028012752533,3.8965890407562256,3.9171972274780273,1.673226237297058,5.261524677276611,1.7257719039916992,1.8010324239730835,3.8440072536468506,-2.637610673904419,-2.470456600189209,-2.645280599594116,1.8191277980804443,1.4569600820541382,-0.482178658246994,2.89266037940979,3.404366970062256,0.25104328989982605,-2.2308449745178223,0.9395885467529297,0.5796721577644348,2.0943474769592285,-0.4174938201904297,-3.524960994720459,5.257843017578125,0.5996901392936707,0.6429428458213806,5.284576892852783,3.231856346130371,0.38122206926345825,0.8707579970359802,-3.4542837142944336],\"y\":[8.644547462463379,7.595432281494141,8.766556739807129,8.023520469665527,8.130162239074707,7.642760276794434,8.265926361083984,8.782649993896484,7.475925445556641,8.509683609008789,9.113770484924316,8.739741325378418,10.62946605682373,9.290736198425293,9.398444175720215,8.683553695678711,9.21252727508545,9.291703224182129,7.789322853088379,8.358365058898926,10.211713790893555,10.026625633239746,8.751184463500977,8.7119722366333,10.02321720123291,8.932334899902344,9.055159568786621,9.631367683410645,9.827637672424316,8.982498168945312,8.466129302978516,8.396553039550781,7.6508588790893555,8.12285041809082,7.636948108673096,9.112025260925293,9.018516540527344,8.359116554260254,7.488071918487549,10.67768669128418,7.770326137542725,8.142576217651367,7.875793933868408,8.949904441833496,9.080795288085938,8.031689643859863,8.114493370056152,8.14070987701416,8.467860221862793,9.350421905517578,8.496892929077148,8.940204620361328,7.538515090942383,8.064314842224121,8.833099365234375,8.224015235900879,8.194234848022461,8.077296257019043,7.445981502532959,8.611859321594238,8.88144588470459,8.2447509765625,8.075726509094238,9.629292488098145,9.151572227478027,8.629940032958984,9.183401107788086,9.069938659667969,8.331384658813477,10.908833503723145,10.284370422363281,7.722355365753174,9.195685386657715,7.6432695388793945,8.356409072875977,10.379342079162598,10.406540870666504,9.098711013793945,8.941471099853516,9.559467315673828,10.629652976989746,7.701821327209473],\"type\":\"scatter\",\"showlegend\":false},{\"marker\":{\"color\":\"#4285F4\",\"opacity\":0.45,\"size\":11},\"mode\":\"markers\",\"text\":[\"Cluster 1, \\\"Composer\\\"\",\"Cluster 1, \\\"Debater\\\"\",\"Cluster 1, \\\"Novelist\\\"\",\"Cluster 1, \\\"Relationship Coach\\\"\",\"Cluster 1, \\\"Poet\\\"\",\"Cluster 1, \\\"Rapper\\\"\",\"Cluster 1, \\\"Life Coach\\\"\",\"Cluster 1, \\\"Commentariat\\\"\",\"Cluster 1, \\\"Pet Behaviorist\\\"\",\"Cluster 1, \\\"Mental Health Adviser\\\"\",\"Cluster 1, \\\"Dentist\\\"\",\"Cluster 1, \\\"Artist Advisor\\\"\",\"Cluster 1, \\\"Academician\\\"\",\"Cluster 1, \\\"IT Architect\\\"\",\"Cluster 1, \\\"Fallacy Finder\\\"\",\"Cluster 1, \\\"Essay Writer\\\"\",\"Cluster 1, \\\"Car Navigation System\\\"\",\"Cluster 1, \\\"Hypnotherapist\\\"\",\"Cluster 1, \\\"Classical Music Composer\\\"\",\"Cluster 1, \\\"Makeup Artist\\\"\",\"Cluster 1, \\\"Tech Writer\\\"\",\"Cluster 1, \\\"Fullstack Software Developer\\\"\",\"Cluster 1, \\\"Senior Frontend Developer\\\"\"],\"x\":[3.4269795417785645,4.854726791381836,3.6136670112609863,-3.2345070838928223,3.438692569732666,3.4869937896728516,-2.954078435897827,4.4011006355285645,-2.8270702362060547,-2.5483758449554443,-2.3946361541748047,2.130305528640747,4.248348712921143,0.994179368019104,4.776089191436768,4.654543399810791,1.1370164155960083,-2.7510669231414795,3.2723774909973145,1.6642096042633057,0.7781137824058533,1.0899217128753662,1.1393836736679077],\"y\":[9.08090877532959,8.079656600952148,8.961796760559082,7.961965560913086,9.124059677124023,9.085554122924805,7.900139331817627,7.754569053649902,7.930985450744629,7.954989433288574,8.312752723693848,8.467853546142578,8.117487907409668,10.344463348388672,7.963547706604004,8.110661506652832,10.565961837768555,8.123889923095703,8.94246768951416,8.183917045593262,10.674052238464355,10.79443359375,10.75294303894043],\"type\":\"scatter\",\"showlegend\":false}],                        {\"template\":{\"data\":{\"histogram2dcontour\":[{\"type\":\"histogram2dcontour\",\"colorbar\":{\"outlinewidth\":0,\"ticks\":\"\"},\"colorscale\":[[0.0,\"#0d0887\"],[0.1111111111111111,\"#46039f\"],[0.2222222222222222,\"#7201a8\"],[0.3333333333333333,\"#9c179e\"],[0.4444444444444444,\"#bd3786\"],[0.5555555555555556,\"#d8576b\"],[0.6666666666666666,\"#ed7953\"],[0.7777777777777778,\"#fb9f3a\"],[0.8888888888888888,\"#fdca26\"],[1.0,\"#f0f921\"]]}],\"choropleth\":[{\"type\":\"choropleth\",\"colorbar\":{\"outlinewidth\":0,\"ticks\":\"\"}}],\"histogram2d\":[{\"type\":\"histogram2d\",\"colorbar\":{\"outlinewidth\":0,\"ticks\":\"\"},\"colorscale\":[[0.0,\"#0d0887\"],[0.1111111111111111,\"#46039f\"],[0.2222222222222222,\"#7201a8\"],[0.3333333333333333,\"#9c179e\"],[0.4444444444444444,\"#bd3786\"],[0.5555555555555556,\"#d8576b\"],[0.6666666666666666,\"#ed7953\"],[0.7777777777777778,\"#fb9f3a\"],[0.8888888888888888,\"#fdca26\"],[1.0,\"#f0f921\"]]}],\"heatmap\":[{\"type\":\"heatmap\",\"colorbar\":{\"outlinewidth\":0,\"ticks\":\"\"},\"colorscale\":[[0.0,\"#0d0887\"],[0.1111111111111111,\"#46039f\"],[0.2222222222222222,\"#7201a8\"],[0.3333333333333333,\"#9c179e\"],[0.4444444444444444,\"#bd3786\"],[0.5555555555555556,\"#d8576b\"],[0.6666666666666666,\"#ed7953\"],[0.7777777777777778,\"#fb9f3a\"],[0.8888888888888888,\"#fdca26\"],[1.0,\"#f0f921\"]]}],\"heatmapgl\":[{\"type\":\"heatmapgl\",\"colorbar\":{\"outlinewidth\":0,\"ticks\":\"\"},\"colorscale\":[[0.0,\"#0d0887\"],[0.1111111111111111,\"#46039f\"],[0.2222222222222222,\"#7201a8\"],[0.3333333333333333,\"#9c179e\"],[0.4444444444444444,\"#bd3786\"],[0.5555555555555556,\"#d8576b\"],[0.6666666666666666,\"#ed7953\"],[0.7777777777777778,\"#fb9f3a\"],[0.8888888888888888,\"#fdca26\"],[1.0,\"#f0f921\"]]}],\"contourcarpet\":[{\"type\":\"contourcarpet\",\"colorbar\":{\"outlinewidth\":0,\"ticks\":\"\"}}],\"contour\":[{\"type\":\"contour\",\"colorbar\":{\"outlinewidth\":0,\"ticks\":\"\"},\"colorscale\":[[0.0,\"#0d0887\"],[0.1111111111111111,\"#46039f\"],[0.2222222222222222,\"#7201a8\"],[0.3333333333333333,\"#9c179e\"],[0.4444444444444444,\"#bd3786\"],[0.5555555555555556,\"#d8576b\"],[0.6666666666666666,\"#ed7953\"],[0.7777777777777778,\"#fb9f3a\"],[0.8888888888888888,\"#fdca26\"],[1.0,\"#f0f921\"]]}],\"surface\":[{\"type\":\"surface\",\"colorbar\":{\"outlinewidth\":0,\"ticks\":\"\"},\"colorscale\":[[0.0,\"#0d0887\"],[0.1111111111111111,\"#46039f\"],[0.2222222222222222,\"#7201a8\"],[0.3333333333333333,\"#9c179e\"],[0.4444444444444444,\"#bd3786\"],[0.5555555555555556,\"#d8576b\"],[0.6666666666666666,\"#ed7953\"],[0.7777777777777778,\"#fb9f3a\"],[0.8888888888888888,\"#fdca26\"],[1.0,\"#f0f921\"]]}],\"mesh3d\":[{\"type\":\"mesh3d\",\"colorbar\":{\"outlinewidth\":0,\"ticks\":\"\"}}],\"scatter\":[{\"fillpattern\":{\"fillmode\":\"overlay\",\"size\":10,\"solidity\":0.2},\"type\":\"scatter\"}],\"parcoords\":[{\"type\":\"parcoords\",\"line\":{\"colorbar\":{\"outlinewidth\":0,\"ticks\":\"\"}}}],\"scatterpolargl\":[{\"type\":\"scatterpolargl\",\"marker\":{\"colorbar\":{\"outlinewidth\":0,\"ticks\":\"\"}}}],\"bar\":[{\"error_x\":{\"color\":\"#2a3f5f\"},\"error_y\":{\"color\":\"#2a3f5f\"},\"marker\":{\"line\":{\"color\":\"#E5ECF6\",\"width\":0.5},\"pattern\":{\"fillmode\":\"overlay\",\"size\":10,\"solidity\":0.2}},\"type\":\"bar\"}],\"scattergeo\":[{\"type\":\"scattergeo\",\"marker\":{\"colorbar\":{\"outlinewidth\":0,\"ticks\":\"\"}}}],\"scatterpolar\":[{\"type\":\"scatterpolar\",\"marker\":{\"colorbar\":{\"outlinewidth\":0,\"ticks\":\"\"}}}],\"histogram\":[{\"marker\":{\"pattern\":{\"fillmode\":\"overlay\",\"size\":10,\"solidity\":0.2}},\"type\":\"histogram\"}],\"scattergl\":[{\"type\":\"scattergl\",\"marker\":{\"colorbar\":{\"outlinewidth\":0,\"ticks\":\"\"}}}],\"scatter3d\":[{\"type\":\"scatter3d\",\"line\":{\"colorbar\":{\"outlinewidth\":0,\"ticks\":\"\"}},\"marker\":{\"colorbar\":{\"outlinewidth\":0,\"ticks\":\"\"}}}],\"scattermapbox\":[{\"type\":\"scattermapbox\",\"marker\":{\"colorbar\":{\"outlinewidth\":0,\"ticks\":\"\"}}}],\"scatterternary\":[{\"type\":\"scatterternary\",\"marker\":{\"colorbar\":{\"outlinewidth\":0,\"ticks\":\"\"}}}],\"scattercarpet\":[{\"type\":\"scattercarpet\",\"marker\":{\"colorbar\":{\"outlinewidth\":0,\"ticks\":\"\"}}}],\"carpet\":[{\"aaxis\":{\"endlinecolor\":\"#2a3f5f\",\"gridcolor\":\"white\",\"linecolor\":\"white\",\"minorgridcolor\":\"white\",\"startlinecolor\":\"#2a3f5f\"},\"baxis\":{\"endlinecolor\":\"#2a3f5f\",\"gridcolor\":\"white\",\"linecolor\":\"white\",\"minorgridcolor\":\"white\",\"startlinecolor\":\"#2a3f5f\"},\"type\":\"carpet\"}],\"table\":[{\"cells\":{\"fill\":{\"color\":\"#EBF0F8\"},\"line\":{\"color\":\"white\"}},\"header\":{\"fill\":{\"color\":\"#C8D4E3\"},\"line\":{\"color\":\"white\"}},\"type\":\"table\"}],\"barpolar\":[{\"marker\":{\"line\":{\"color\":\"#E5ECF6\",\"width\":0.5},\"pattern\":{\"fillmode\":\"overlay\",\"size\":10,\"solidity\":0.2}},\"type\":\"barpolar\"}],\"pie\":[{\"automargin\":true,\"type\":\"pie\"}]},\"layout\":{\"autotypenumbers\":\"strict\",\"colorway\":[\"#636efa\",\"#EF553B\",\"#00cc96\",\"#ab63fa\",\"#FFA15A\",\"#19d3f3\",\"#FF6692\",\"#B6E880\",\"#FF97FF\",\"#FECB52\"],\"font\":{\"color\":\"#2a3f5f\"},\"hovermode\":\"closest\",\"hoverlabel\":{\"align\":\"left\"},\"paper_bgcolor\":\"white\",\"plot_bgcolor\":\"#E5ECF6\",\"polar\":{\"bgcolor\":\"#E5ECF6\",\"angularaxis\":{\"gridcolor\":\"white\",\"linecolor\":\"white\",\"ticks\":\"\"},\"radialaxis\":{\"gridcolor\":\"white\",\"linecolor\":\"white\",\"ticks\":\"\"}},\"ternary\":{\"bgcolor\":\"#E5ECF6\",\"aaxis\":{\"gridcolor\":\"white\",\"linecolor\":\"white\",\"ticks\":\"\"},\"baxis\":{\"gridcolor\":\"white\",\"linecolor\":\"white\",\"ticks\":\"\"},\"caxis\":{\"gridcolor\":\"white\",\"linecolor\":\"white\",\"ticks\":\"\"}},\"coloraxis\":{\"colorbar\":{\"outlinewidth\":0,\"ticks\":\"\"}},\"colorscale\":{\"sequential\":[[0.0,\"#0d0887\"],[0.1111111111111111,\"#46039f\"],[0.2222222222222222,\"#7201a8\"],[0.3333333333333333,\"#9c179e\"],[0.4444444444444444,\"#bd3786\"],[0.5555555555555556,\"#d8576b\"],[0.6666666666666666,\"#ed7953\"],[0.7777777777777778,\"#fb9f3a\"],[0.8888888888888888,\"#fdca26\"],[1.0,\"#f0f921\"]],\"sequentialminus\":[[0.0,\"#0d0887\"],[0.1111111111111111,\"#46039f\"],[0.2222222222222222,\"#7201a8\"],[0.3333333333333333,\"#9c179e\"],[0.4444444444444444,\"#bd3786\"],[0.5555555555555556,\"#d8576b\"],[0.6666666666666666,\"#ed7953\"],[0.7777777777777778,\"#fb9f3a\"],[0.8888888888888888,\"#fdca26\"],[1.0,\"#f0f921\"]],\"diverging\":[[0,\"#8e0152\"],[0.1,\"#c51b7d\"],[0.2,\"#de77ae\"],[0.3,\"#f1b6da\"],[0.4,\"#fde0ef\"],[0.5,\"#f7f7f7\"],[0.6,\"#e6f5d0\"],[0.7,\"#b8e186\"],[0.8,\"#7fbc41\"],[0.9,\"#4d9221\"],[1,\"#276419\"]]},\"xaxis\":{\"gridcolor\":\"white\",\"linecolor\":\"white\",\"ticks\":\"\",\"title\":{\"standoff\":15},\"zerolinecolor\":\"white\",\"automargin\":true,\"zerolinewidth\":2},\"yaxis\":{\"gridcolor\":\"white\",\"linecolor\":\"white\",\"ticks\":\"\",\"title\":{\"standoff\":15},\"zerolinecolor\":\"white\",\"automargin\":true,\"zerolinewidth\":2},\"scene\":{\"xaxis\":{\"backgroundcolor\":\"#E5ECF6\",\"gridcolor\":\"white\",\"linecolor\":\"white\",\"showbackground\":true,\"ticks\":\"\",\"zerolinecolor\":\"white\",\"gridwidth\":2},\"yaxis\":{\"backgroundcolor\":\"#E5ECF6\",\"gridcolor\":\"white\",\"linecolor\":\"white\",\"showbackground\":true,\"ticks\":\"\",\"zerolinecolor\":\"white\",\"gridwidth\":2},\"zaxis\":{\"backgroundcolor\":\"#E5ECF6\",\"gridcolor\":\"white\",\"linecolor\":\"white\",\"showbackground\":true,\"ticks\":\"\",\"zerolinecolor\":\"white\",\"gridwidth\":2}},\"shapedefaults\":{\"line\":{\"color\":\"#2a3f5f\"}},\"annotationdefaults\":{\"arrowcolor\":\"#2a3f5f\",\"arrowhead\":0,\"arrowwidth\":1},\"geo\":{\"bgcolor\":\"white\",\"landcolor\":\"#E5ECF6\",\"subunitcolor\":\"white\",\"showland\":true,\"showlakes\":true,\"lakecolor\":\"white\"},\"title\":{\"x\":0.05},\"mapbox\":{\"style\":\"light\"}}},\"coloraxis\":{\"showscale\":false},\"width\":825.0,\"height\":600.0},                        {\"responsive\": true}                    ).then(function(){\n",
              "                            \n",
              "var gd = document.getElementById('f08b1b80-c733-4804-bb8f-355b2675f061');\n",
              "var x = new MutationObserver(function (mutations, observer) {{\n",
              "        var display = window.getComputedStyle(gd).display;\n",
              "        if (!display || display === 'none') {{\n",
              "            console.log([gd, 'removed!']);\n",
              "            Plotly.purge(gd);\n",
              "            observer.disconnect();\n",
              "        }}\n",
              "}});\n",
              "\n",
              "// Listen for the removal of the full notebook cells\n",
              "var notebookContainer = gd.closest('#notebook-container');\n",
              "if (notebookContainer) {{\n",
              "    x.observe(notebookContainer, {childList: true});\n",
              "}}\n",
              "\n",
              "// Listen for the clearing of the current output cell\n",
              "var outputEl = gd.closest('.output');\n",
              "if (outputEl) {{\n",
              "    x.observe(outputEl, {childList: true});\n",
              "}}\n",
              "\n",
              "                        })                };                            </script>        </div>\n",
              "</body>\n",
              "</html>"
            ]
          },
          "metadata": {}
        }
      ],
      "source": [
        "print(\"\\n\")\n",
        "fig = go.Figure()\n",
        "for itr, cluster in enumerate(\n",
        "    np.unique(np.array(ds[\"cluster\"][ds[\"exemplars yes/no\"] == 1]))\n",
        "):\n",
        "    ds_inner = ds[ds[\"cluster\"] == cluster]\n",
        "    custom_scale = [\n",
        "        \"#949494\",  # Gray\n",
        "        \"#F65314\",  # Google Red\n",
        "        \"#4285F4\",  # Google Blue\n",
        "    ]\n",
        "\n",
        "    fig.add_trace(\n",
        "        go.Scatter(\n",
        "            x=ds_inner[\"x\"][ds_inner[\"exemplars yes/no\"] == 0],\n",
        "            y=ds_inner[\"y\"][ds_inner[\"exemplars yes/no\"] == 0],\n",
        "            mode=\"markers\",\n",
        "            marker_color=custom_scale[0],\n",
        "            text=ds_inner[\"cluster + act\"][ds_inner[\"exemplars yes/no\"] == 0],\n",
        "        )\n",
        "    )\n",
        "\n",
        "    fig.add_trace(\n",
        "        go.Scatter(\n",
        "            x=ds_inner[\"x\"][ds_inner[\"exemplars yes/no\"] == 1],\n",
        "            y=ds_inner[\"y\"][ds_inner[\"exemplars yes/no\"] == 1],\n",
        "            mode=\"markers\",\n",
        "            marker_color=custom_scale[itr + 1],\n",
        "            text=ds_inner[\"cluster + act\"][ds_inner[\"exemplars yes/no\"] == 1],\n",
        "        )\n",
        "    )\n",
        "\n",
        "fig.update_traces(marker={\"size\": 11, \"opacity\": 0.45}, showlegend=False)\n",
        "fig.update_coloraxes(showscale=False)\n",
        "fig.update_layout(width=550 * 1.5, height=400 * 1.5)\n",
        "fig.show()"
      ]
    },
    {
      "cell_type": "code",
      "execution_count": 35,
      "metadata": {
        "colab": {
          "base_uri": "https://localhost:8080/"
        },
        "id": "y5bO5SZ4hjAT",
        "outputId": "18383340-d810-48b4-fdc8-e31f4a605c27"
      },
      "outputs": [
        {
          "output_type": "execute_result",
          "data": {
            "text/plain": [
              "34"
            ]
          },
          "metadata": {},
          "execution_count": 35
        }
      ],
      "source": [
        "len(ds.loc[exemplar_ids])"
      ]
    },
    {
      "cell_type": "code",
      "execution_count": 36,
      "metadata": {
        "colab": {
          "base_uri": "https://localhost:8080/"
        },
        "id": "OW44QJyYhibv",
        "outputId": "6b0159ee-3ed2-4354-88a5-7678e3ab126e"
      },
      "outputs": [
        {
          "output_type": "execute_result",
          "data": {
            "text/plain": [
              "(34, 15)"
            ]
          },
          "metadata": {},
          "execution_count": 36
        }
      ],
      "source": [
        "embeddings_umap_dim_15[exemplar_ids].shape"
      ]
    },
    {
      "cell_type": "code",
      "execution_count": 37,
      "metadata": {
        "colab": {
          "base_uri": "https://localhost:8080/"
        },
        "id": "J17BEw2vgvwA",
        "outputId": "491f5ea0-986d-4f1f-9535-09323f78dc2b"
      },
      "outputs": [
        {
          "output_type": "stream",
          "name": "stdout",
          "text": [
            "experiments/02_09_2023_16_54_32/clusterer_subs_hdbscan.pkl \n",
            "\n",
            "\n",
            "Cluster value counts:\n",
            "\n"
          ]
        },
        {
          "output_type": "execute_result",
          "data": {
            "text/plain": [
              " 1    6\n",
              " 3    6\n",
              " 5    6\n",
              " 0    5\n",
              " 4    5\n",
              " 2    5\n",
              "-1    1\n",
              "Name: count, dtype: int64"
            ]
          },
          "metadata": {},
          "execution_count": 37
        }
      ],
      "source": [
        "# fourth, perform exemplar sub-clustering\n",
        "\n",
        "f_name = os.path.join(args.cache_folder, \"clusterer_subs_hdbscan.pkl\")\n",
        "print(f_name, \"\\n\")\n",
        "\n",
        "if not args.inference:\n",
        "    sub_clusterer = hdbscan.HDBSCAN(min_cluster_size=4, gen_min_span_tree=True)\n",
        "    sub_clusterer.fit(embeddings_umap_dim_15[exemplar_ids])\n",
        "    pickle.dump(sub_clusterer, open(f_name, \"wb\"))\n",
        "\n",
        "loaded_sub_clusterer = pickle.load((open(f_name, \"rb\")))\n",
        "\n",
        "if not args.inference:\n",
        "    print(\n",
        "        pd.DataFrame.equals(\n",
        "            pd.Series(sub_clusterer.labels_).value_counts(),\n",
        "            pd.Series(loaded_sub_clusterer.labels_).value_counts(),\n",
        "        )\n",
        "    )\n",
        "    print(\n",
        "        pd.DataFrame.equals(\n",
        "            pd.Series(sub_clusterer.probabilities_).value_counts(),\n",
        "            pd.Series(loaded_sub_clusterer.probabilities_).value_counts(),\n",
        "        )\n",
        "    )\n",
        "\n",
        "print(\"\\nCluster value counts:\\n\")\n",
        "pd.Series(loaded_sub_clusterer.labels_).value_counts()"
      ]
    },
    {
      "cell_type": "code",
      "execution_count": 38,
      "metadata": {
        "colab": {
          "base_uri": "https://localhost:8080/"
        },
        "id": "O9033VfDirUu",
        "outputId": "f2a5ca03-ffe3-4313-e9b2-7ae8d3981fef"
      },
      "outputs": [
        {
          "output_type": "execute_result",
          "data": {
            "text/plain": [
              "array([ 0,  0,  0,  0,  0,  1,  1,  1,  1,  1,  1,  3,  3,  3,  3,  3,  3,\n",
              "        4,  4,  4,  4,  4,  5,  5, -1,  5,  5,  5,  5,  2,  2,  2,  2,  2])"
            ]
          },
          "metadata": {},
          "execution_count": 38
        }
      ],
      "source": [
        "loaded_sub_clusterer.labels_"
      ]
    },
    {
      "cell_type": "code",
      "execution_count": 39,
      "metadata": {
        "id": "buRR8jvui1ul",
        "outputId": "7e12dc89-2b70-49bc-c729-f7f373919f80",
        "colab": {
          "base_uri": "https://localhost:8080/"
        }
      },
      "outputs": [
        {
          "output_type": "stream",
          "name": "stderr",
          "text": [
            "<ipython-input-39-9b8d672c5467>:10: FutureWarning:\n",
            "\n",
            "Setting an item of incompatible dtype is deprecated and will raise in a future error of pandas. Value 'Cluster 0, Sub-Cluster 0' has dtype incompatible with float64, please explicitly cast to a compatible dtype first.\n",
            "\n",
            "<ipython-input-39-9b8d672c5467>:18: FutureWarning:\n",
            "\n",
            "Setting an item of incompatible dtype is deprecated and will raise in a future error of pandas. Value 'Cluster 0, Sub-Cluster 0, \"SQL terminal\"' has dtype incompatible with float64, please explicitly cast to a compatible dtype first.\n",
            "\n"
          ]
        }
      ],
      "source": [
        "ds[\"exemplar sub-cluster\"] = np.repeat(np.nan, len(ds))\n",
        "ds[\"cluster XX.YY\"] = np.repeat(np.nan, len(ds))\n",
        "# ds.loc[exemplar_ids] = loaded_sub_clusterer.labels_\n",
        "ds\n",
        "for i in range(len(ds.loc[exemplar_ids])):\n",
        "    row = ds.loc[exemplar_ids].iloc[i]\n",
        "    ds.loc[row.id, \"exemplar sub-cluster\"] = loaded_sub_clusterer.labels_[i]\n",
        "for i in range(len(ds.loc[exemplar_ids])):\n",
        "    row = ds.loc[exemplar_ids].iloc[i]\n",
        "    ds.loc[row.id, \"cluster XX.YY\"] = (\n",
        "        \"Cluster \"\n",
        "        + str(row.cluster)\n",
        "        + \", Sub-Cluster \"\n",
        "        + str(int(row[\"exemplar sub-cluster\"]))\n",
        "    )\n",
        "for i in range(len(ds.loc[exemplar_ids])):\n",
        "    row = ds.loc[exemplar_ids].iloc[i]\n",
        "    ds.loc[row.id, \"cluster XX.YY + act\"] = (\n",
        "        row[\"cluster XX.YY\"] + ', \"' + row[\"act\"] + '\"'\n",
        "    )\n",
        "\n",
        "# ds.loc[exemplar_ids]\n",
        "# ds"
      ]
    },
    {
      "cell_type": "code",
      "execution_count": 40,
      "metadata": {
        "colab": {
          "base_uri": "https://localhost:8080/"
        },
        "id": "lJdOWEjSr0NR",
        "outputId": "0bbbd7b3-e556-4356-e8ea-f86a36aa74d1"
      },
      "outputs": [
        {
          "output_type": "execute_result",
          "data": {
            "text/plain": [
              "33"
            ]
          },
          "metadata": {},
          "execution_count": 40
        }
      ],
      "source": [
        "ds_inner_exemplars = ds[ds[\"exemplars yes/no\"] == 1]\n",
        "ds_inner_exemplars = ds_inner_exemplars[\n",
        "    ds_inner_exemplars[\"exemplar sub-cluster\"] != -1\n",
        "]\n",
        "len(ds_inner_exemplars)"
      ]
    },
    {
      "cell_type": "code",
      "execution_count": 41,
      "metadata": {
        "colab": {
          "base_uri": "https://localhost:8080/",
          "height": 653
        },
        "id": "NiW84puFkJtJ",
        "outputId": "51e59685-0841-4e37-f487-e1b53e08e14c"
      },
      "outputs": [
        {
          "output_type": "stream",
          "name": "stdout",
          "text": [
            "\n",
            "\n"
          ]
        },
        {
          "output_type": "display_data",
          "data": {
            "text/html": [
              "<html>\n",
              "<head><meta charset=\"utf-8\" /></head>\n",
              "<body>\n",
              "    <div>            <script src=\"https://cdnjs.cloudflare.com/ajax/libs/mathjax/2.7.5/MathJax.js?config=TeX-AMS-MML_SVG\"></script><script type=\"text/javascript\">if (window.MathJax && window.MathJax.Hub && window.MathJax.Hub.Config) {window.MathJax.Hub.Config({SVG: {font: \"STIX-Web\"}});}</script>                <script type=\"text/javascript\">window.PlotlyConfig = {MathJaxConfig: 'local'};</script>\n",
              "        <script charset=\"utf-8\" src=\"https://cdn.plot.ly/plotly-2.25.2.min.js\"></script>                <div id=\"33c6cbcb-7c4d-4576-8c5f-e18c477a0e5a\" class=\"plotly-graph-div\" style=\"height:600.0px; width:825.0px;\"></div>            <script type=\"text/javascript\">                                    window.PLOTLYENV=window.PLOTLYENV || {};                                    if (document.getElementById(\"33c6cbcb-7c4d-4576-8c5f-e18c477a0e5a\")) {                    Plotly.newPlot(                        \"33c6cbcb-7c4d-4576-8c5f-e18c477a0e5a\",                        [{\"marker\":{\"color\":\"#949494\",\"opacity\":0.55,\"size\":11},\"mode\":\"markers\",\"text\":[\"Cluster 0, \\\"`position` Interviewer\\\"\",\"Cluster 0, \\\"Excel Sheet\\\"\",\"Cluster 0, \\\"English Pronunciation Helper\\\"\",\"Cluster 0, \\\"Spoken English Teacher and Improver\\\"\",\"Cluster 1, \\\"Travel Guide\\\"\",\"Cluster 0, \\\"Plagiarism Checker\\\"\",\"Cluster 0, \\\"Character from Movie\\u002fBook\\u002fAnything\\\"\",\"Cluster 1, \\\"Advertiser\\\"\",\"Cluster 1, \\\"Storyteller\\\"\",\"Cluster 1, \\\"Football Commentator\\\"\",\"Cluster 1, \\\"Stand-up Comedian\\\"\",\"Cluster 1, \\\"Motivational Coach\\\"\",\"Cluster 1, \\\"Debate Coach\\\"\",\"Cluster 1, \\\"Screenwriter\\\"\",\"Cluster 1, \\\"Movie Critic\\\"\",\"Cluster 1, \\\"Motivational Speaker\\\"\",\"Cluster 1, \\\"Philosophy Teacher\\\"\",\"Cluster 1, \\\"Philosopher\\\"\",\"Cluster -1, \\\"Math Teacher\\\"\",\"Cluster 0, \\\"AI Writing Tutor\\\"\",\"Cluster 1, \\\"UX\\u002fUI Developer\\\"\",\"Cluster 1, \\\"Cyber Security Specialist\\\"\",\"Cluster 1, \\\"Recruiter\\\"\",\"Cluster 1, \\\"Etymologist\\\"\",\"Cluster 1, \\\"Magician\\\"\",\"Cluster 1, \\\"Career Counselor\\\"\",\"Cluster 1, \\\"Personal Trainer\\\"\",\"Cluster 1, \\\"Real Estate Agent\\\"\",\"Cluster 1, \\\"Logistician\\\"\",\"Cluster 1, \\\"Web Design Consultant\\\"\",\"Cluster 1, \\\"AI Assisted Doctor\\\"\",\"Cluster 1, \\\"Doctor\\\"\",\"Cluster 1, \\\"Accountant\\\"\",\"Cluster 1, \\\"Chef\\\"\",\"Cluster 1, \\\"Automobile Mechanic\\\"\",\"Cluster 1, \\\"Financial Analyst\\\"\",\"Cluster 1, \\\"Investment Manager\\\"\",\"Cluster 1, \\\"Tea-Taster\\\"\",\"Cluster 1, \\\"Interior Decorator\\\"\",\"Cluster 1, \\\"Florist\\\"\",\"Cluster 1, \\\"Self-Help Book\\\"\",\"Cluster 1, \\\"Gnomist\\\"\",\"Cluster 1, \\\"Aphorism Book\\\"\",\"Cluster 0, \\\"AI Trying to Escape the Box\\\"\",\"Cluster 0, \\\"Fancy Title Generator\\\"\",\"Cluster 1, \\\"Statistician\\\"\",\"Cluster 0, \\\"Instructor in a School\\\"\",\"Cluster 1, \\\"Dietitian\\\"\",\"Cluster 1, \\\"Psychologist\\\"\",\"Cluster 0, \\\"Smart Domain Name Generator\\\"\",\"Cluster 1, \\\"Tech Reviewer:\\\"\",\"Cluster 1, \\\"Developer Relations consultant\\\"\",\"Cluster 0, \\\"Lunatic\\\"\",\"Cluster -1, \\\"Gaslighter\\\"\",\"Cluster 1, \\\"Journal Reviewer\\\"\",\"Cluster 1, \\\"DIY Expert\\\"\",\"Cluster 1, \\\"Social Media Influencer\\\"\",\"Cluster 1, \\\"Socrat\\\"\",\"Cluster 1, \\\"Socratic Method\\\"\",\"Cluster 1, \\\"Educational Content Creator\\\"\",\"Cluster 1, \\\"Yogi\\\"\",\"Cluster 1, \\\"Social Media Manager\\\"\",\"Cluster 1, \\\"Elocutionist\\\"\",\"Cluster 1, \\\"Scientific Data Visualizer\\\"\",\"Cluster 1, \\\"Historian\\\"\",\"Cluster 1, \\\"Astrologer\\\"\",\"Cluster 1, \\\"Film Critic\\\"\",\"Cluster 1, \\\"Journalist\\\"\",\"Cluster 1, \\\"Digital Art Gallery Guide\\\"\",\"Cluster 1, \\\"Public Speaking Coach\\\"\",\"Cluster 1, \\\"Babysitter\\\"\",\"Cluster 0, \\\"Ascii Artist\\\"\",\"Cluster 0, \\\"Python interpreter\\\"\",\"Cluster 0, \\\"Synonym finder\\\"\",\"Cluster 1, \\\"Personal Shopper\\\"\",\"Cluster 1, \\\"Food Critic\\\"\",\"Cluster 1, \\\"Virtual Doctor\\\"\",\"Cluster 1, \\\"Personal Chef\\\"\",\"Cluster 1, \\\"Legal Advisor\\\"\",\"Cluster 1, \\\"Personal Stylist\\\"\",\"Cluster -1, \\\"Machine Learning Engineer\\\"\",\"Cluster 1, \\\"SVG designer\\\"\",\"Cluster 1, \\\"IT Expert\\\"\",\"Cluster 0, \\\"Chess Player\\\"\",\"Cluster 0, \\\"Midjourney Prompt Generator\\\"\",\"Cluster 0, \\\"Mathematician\\\"\",\"Cluster 0, \\\"Regex Generator\\\"\",\"Cluster 1, \\\"Time Travel Guide\\\"\",\"Cluster 1, \\\"Dream Interpreter\\\"\",\"Cluster 1, \\\"Talent Coach\\\"\",\"Cluster 0, \\\"R programming Interpreter\\\"\",\"Cluster 0, \\\"StackOverflow Post\\\"\",\"Cluster 0, \\\"Emoji Translator\\\"\",\"Cluster 1, \\\"Emergency Response Professional\\\"\",\"Cluster 1, \\\"Software Quality Assurance Tester\\\"\",\"Cluster 0, \\\"Tic-Tac-Toe Game\\\"\",\"Cluster 0, \\\"Password Generator\\\"\",\"Cluster 0, \\\"New Language Creator\\\"\",\"Cluster 0, \\\"Web Browser\\\"\",\"Cluster 0, \\\"Solr Search Engine\\\"\",\"Cluster 1, \\\"Startup Idea Generator\\\"\",\"Cluster 0, \\\"Spongebob's Magic Conch Shell\\\"\",\"Cluster 1, \\\"Salesperson\\\"\",\"Cluster 0, \\\"Commit Message Generator\\\"\",\"Cluster 1, \\\"Chief Executive Officer\\\"\",\"Cluster -1, \\\"Diagram Generator\\\"\",\"Cluster 1, \\\"Life Coach\\\"\",\"Cluster 1, \\\"Speech-Language Pathologist (SLP)\\\"\",\"Cluster 1, \\\"Startup Tech Lawyer\\\"\",\"Cluster 0, \\\"Title Generator for written pieces\\\"\",\"Cluster 1, \\\"Product Manager\\\"\",\"Cluster 0, \\\"Drunk Person\\\"\",\"Cluster 1, \\\"Mathematical History Teacher\\\"\",\"Cluster 1, \\\"Song Recommender\\\"\",\"Cluster 1, \\\"Cover Letter\\\"\",\"Cluster 1, \\\"Technology Transferer\\\"\",\"Cluster 0, \\\"Unconstrained AI model DAN\\\"\",\"Cluster 0, \\\"Gomoku player\\\"\",\"Cluster 1, \\\"Muslim imam \\\"\"],\"x\":[8.286354064941406,10.345002174377441,7.655092716217041,8.12235164642334,2.0336947441101074,8.100301742553711,9.031071662902832,1.9255008697509766,4.237715721130371,5.154360771179199,5.253612995147705,-3.267568588256836,4.995945453643799,3.547377347946167,3.9480762481689453,4.925686359405518,5.3613433837890625,5.385283946990967,5.228980541229248,7.94354248046875,1.2072879076004028,-0.2980702519416809,0.2913844883441925,4.552121162414551,5.531975746154785,0.26104703545570374,-3.105916738510132,1.7243233919143677,1.0588496923446655,1.318439245223999,-2.3229312896728516,-2.4940011501312256,0.4296697676181793,-2.461228609085083,-0.7099819779396057,0.018236782401800156,0.3965533673763275,-2.3056488037109375,1.678107500076294,1.913266897201538,-3.5704407691955566,2.668149948120117,-3.5506346225738525,10.324277877807617,7.731411457061768,5.040621280670166,10.012369155883789,-2.3424930572509766,-2.2488620281219482,7.412624359130859,3.6451406478881836,0.7419505715370178,8.947425842285156,5.627689361572266,4.156762599945068,2.56184458732605,1.8114503622055054,5.501817226409912,5.465748310089111,3.0363078117370605,-2.590996742248535,1.3664276599884033,5.123613357543945,1.608792781829834,3.941215991973877,0.639028012752533,3.8965890407562256,3.9171972274780273,1.673226237297058,5.261524677276611,1.7257719039916992,10.186832427978516,9.979813575744629,7.720102787017822,1.8010324239730835,3.8440072536468506,-2.637610673904419,-2.470456600189209,-2.645280599594116,1.8191277980804443,-0.3835662305355072,1.4569600820541382,-0.482178658246994,9.981267929077148,7.551111221313477,9.861913681030273,7.585714817047119,2.89266037940979,3.404366970062256,0.25104328989982605,10.419426918029785,9.649152755737305,8.738018035888672,-2.2308449745178223,0.9395885467529297,10.25594711303711,7.498555660247803,8.575812339782715,10.234811782836914,7.598633766174316,0.5796721577644348,9.410616874694824,2.0943474769592285,9.857498168945312,-0.4174938201904297,1.5022610425949097,-3.524960994720459,5.257843017578125,0.5996901392936707,7.551587104797363,0.6429428458213806,8.957985877990723,5.284576892852783,3.231856346130371,0.38122206926345825,0.8707579970359802,9.204723358154297,10.125225067138672,-3.4542837142944336],\"y\":[16.799365997314453,15.39165210723877,17.402698516845703,17.043363571166992,8.644547462463379,17.315244674682617,16.120325088500977,7.595432281494141,8.766556739807129,8.023520469665527,8.130162239074707,7.642760276794434,8.265926361083984,8.782649993896484,7.475925445556641,8.509683609008789,9.113770484924316,8.739741325378418,9.197220802307129,17.68896484375,10.62946605682373,9.290736198425293,9.398444175720215,8.683553695678711,9.21252727508545,9.291703224182129,7.789322853088379,8.358365058898926,10.211713790893555,10.026625633239746,8.751184463500977,8.7119722366333,10.02321720123291,8.932334899902344,9.055159568786621,9.631367683410645,9.827637672424316,8.982498168945312,8.466129302978516,8.396553039550781,7.6508588790893555,8.12285041809082,7.636948108673096,16.02923583984375,18.292339324951172,9.112025260925293,15.015679359436035,9.018516540527344,8.359116554260254,18.28876304626465,7.488071918487549,10.67768669128418,16.13195037841797,9.506266593933105,7.770326137542725,8.142576217651367,7.875793933868408,8.949904441833496,9.080795288085938,8.031689643859863,8.114493370056152,8.14070987701416,8.467860221862793,9.350421905517578,8.496892929077148,8.940204620361328,7.538515090942383,8.064314842224121,8.833099365234375,8.224015235900879,8.194234848022461,15.380900382995605,15.633410453796387,17.80814552307129,8.077296257019043,7.445981502532959,8.611859321594238,8.88144588470459,8.2447509765625,8.075726509094238,9.242388725280762,9.629292488098145,9.151572227478027,15.332784652709961,17.614532470703125,15.131369590759277,18.19536590576172,8.629940032958984,9.183401107788086,9.069938659667969,15.645538330078125,15.832919120788574,16.386295318603516,8.331384658813477,10.908833503723145,15.20250129699707,18.127798080444336,16.557619094848633,15.688255310058594,18.19567108154297,10.284370422363281,15.944757461547852,7.722355365753174,15.938677787780762,9.195685386657715,9.543675422668457,7.6432695388793945,8.356409072875977,10.379342079162598,18.095212936401367,10.406540870666504,16.134761810302734,9.098711013793945,8.941471099853516,9.559467315673828,10.629652976989746,15.947179794311523,15.129698753356934,7.701821327209473],\"type\":\"scatter\",\"showlegend\":false},{\"marker\":{\"color\":[0.0,1.0,0.0,5.0,4.0,5.0,3.0,5.0,5.0,3.0,4.0,3.0,3.0,3.0,5.0,0.0,1.0,0.0,4.0,2.0,4.0,4.0,2.0,3.0,5.0,2.0,1.0,2.0,0.0,1.0,2.0,1.0,1.0],\"colorscale\":[[0.0,\"#440154\"],[0.1111111111111111,\"#482878\"],[0.2222222222222222,\"#3e4989\"],[0.3333333333333333,\"#31688e\"],[0.4444444444444444,\"#26828e\"],[0.5555555555555556,\"#1f9e89\"],[0.6666666666666666,\"#35b779\"],[0.7777777777777778,\"#6ece58\"],[0.8888888888888888,\"#b5de2b\"],[1.0,\"#fde725\"]],\"opacity\":0.55,\"size\":11},\"mode\":\"markers\",\"text\":[\"Cluster 0, Sub-Cluster 0, \\\"Linux Terminal\\\"\",\"Cluster 0, Sub-Cluster 1, \\\"English Translator and Improver\\\"\",\"Cluster 0, Sub-Cluster 0, \\\"JavaScript Console\\\"\",\"Cluster 1, Sub-Cluster 5, \\\"Composer\\\"\",\"Cluster 1, Sub-Cluster 4, \\\"Debater\\\"\",\"Cluster 1, Sub-Cluster 5, \\\"Novelist\\\"\",\"Cluster 1, Sub-Cluster 3, \\\"Relationship Coach\\\"\",\"Cluster 1, Sub-Cluster 5, \\\"Poet\\\"\",\"Cluster 1, Sub-Cluster 5, \\\"Rapper\\\"\",\"Cluster 1, Sub-Cluster 3, \\\"Life Coach\\\"\",\"Cluster 1, Sub-Cluster 4, \\\"Commentariat\\\"\",\"Cluster 1, Sub-Cluster 3, \\\"Pet Behaviorist\\\"\",\"Cluster 1, Sub-Cluster 3, \\\"Mental Health Adviser\\\"\",\"Cluster 1, Sub-Cluster 3, \\\"Dentist\\\"\",\"Cluster 1, Sub-Cluster 5, \\\"Artist Advisor\\\"\",\"Cluster 0, Sub-Cluster 0, \\\"Text Based Adventure Game\\\"\",\"Cluster 0, Sub-Cluster 1, \\\"Prompt Generator\\\"\",\"Cluster 0, Sub-Cluster 0, \\\"SQL terminal\\\"\",\"Cluster 1, Sub-Cluster 4, \\\"Academician\\\"\",\"Cluster 1, Sub-Cluster 2, \\\"IT Architect\\\"\",\"Cluster 1, Sub-Cluster 4, \\\"Fallacy Finder\\\"\",\"Cluster 1, Sub-Cluster 4, \\\"Essay Writer\\\"\",\"Cluster 1, Sub-Cluster 2, \\\"Car Navigation System\\\"\",\"Cluster 1, Sub-Cluster 3, \\\"Hypnotherapist\\\"\",\"Cluster 1, Sub-Cluster 5, \\\"Classical Music Composer\\\"\",\"Cluster 1, Sub-Cluster 2, \\\"Tech Writer\\\"\",\"Cluster 0, Sub-Cluster 1, \\\"Biblical Translator\\\"\",\"Cluster 1, Sub-Cluster 2, \\\"Fullstack Software Developer\\\"\",\"Cluster 0, Sub-Cluster 0, \\\"PHP Interpreter\\\"\",\"Cluster 0, Sub-Cluster 1, \\\"Fill in the Blank Worksheets Generator\\\"\",\"Cluster 1, Sub-Cluster 2, \\\"Senior Frontend Developer\\\"\",\"Cluster 0, Sub-Cluster 1, \\\"Language Detector\\\"\",\"Cluster 0, Sub-Cluster 1, \\\"Proofreader\\\"\"],\"x\":[10.522139549255371,7.9453558921813965,10.65048599243164,3.4269795417785645,4.854726791381836,3.6136670112609863,-3.2345070838928223,3.438692569732666,3.4869937896728516,-2.954078435897827,4.4011006355285645,-2.8270702362060547,-2.5483758449554443,-2.3946361541748047,2.130305528640747,10.32948112487793,7.640529632568359,10.637246131896973,4.248348712921143,0.994179368019104,4.776089191436768,4.654543399810791,1.1370164155960083,-2.7510669231414795,3.2723774909973145,0.7781137824058533,8.172331809997559,1.0899217128753662,10.474164962768555,7.742380619049072,1.1393836736679077,8.323866844177246,7.922402381896973],\"y\":[15.94720458984375,17.37761688232422,15.99365234375,9.08090877532959,8.079656600952148,8.961796760559082,7.961965560913086,9.124059677124023,9.085554122924805,7.900139331817627,7.754569053649902,7.930985450744629,7.954989433288574,8.312752723693848,8.467853546142578,15.891148567199707,17.43787956237793,15.91982650756836,8.117487907409668,10.344463348388672,7.963547706604004,8.110661506652832,10.565961837768555,8.123889923095703,8.94246768951416,10.674052238464355,16.97852325439453,10.79443359375,15.725409507751465,17.604923248291016,10.75294303894043,16.807188034057617,17.483247756958008],\"type\":\"scatter\",\"showlegend\":false}],                        {\"template\":{\"data\":{\"histogram2dcontour\":[{\"type\":\"histogram2dcontour\",\"colorbar\":{\"outlinewidth\":0,\"ticks\":\"\"},\"colorscale\":[[0.0,\"#0d0887\"],[0.1111111111111111,\"#46039f\"],[0.2222222222222222,\"#7201a8\"],[0.3333333333333333,\"#9c179e\"],[0.4444444444444444,\"#bd3786\"],[0.5555555555555556,\"#d8576b\"],[0.6666666666666666,\"#ed7953\"],[0.7777777777777778,\"#fb9f3a\"],[0.8888888888888888,\"#fdca26\"],[1.0,\"#f0f921\"]]}],\"choropleth\":[{\"type\":\"choropleth\",\"colorbar\":{\"outlinewidth\":0,\"ticks\":\"\"}}],\"histogram2d\":[{\"type\":\"histogram2d\",\"colorbar\":{\"outlinewidth\":0,\"ticks\":\"\"},\"colorscale\":[[0.0,\"#0d0887\"],[0.1111111111111111,\"#46039f\"],[0.2222222222222222,\"#7201a8\"],[0.3333333333333333,\"#9c179e\"],[0.4444444444444444,\"#bd3786\"],[0.5555555555555556,\"#d8576b\"],[0.6666666666666666,\"#ed7953\"],[0.7777777777777778,\"#fb9f3a\"],[0.8888888888888888,\"#fdca26\"],[1.0,\"#f0f921\"]]}],\"heatmap\":[{\"type\":\"heatmap\",\"colorbar\":{\"outlinewidth\":0,\"ticks\":\"\"},\"colorscale\":[[0.0,\"#0d0887\"],[0.1111111111111111,\"#46039f\"],[0.2222222222222222,\"#7201a8\"],[0.3333333333333333,\"#9c179e\"],[0.4444444444444444,\"#bd3786\"],[0.5555555555555556,\"#d8576b\"],[0.6666666666666666,\"#ed7953\"],[0.7777777777777778,\"#fb9f3a\"],[0.8888888888888888,\"#fdca26\"],[1.0,\"#f0f921\"]]}],\"heatmapgl\":[{\"type\":\"heatmapgl\",\"colorbar\":{\"outlinewidth\":0,\"ticks\":\"\"},\"colorscale\":[[0.0,\"#0d0887\"],[0.1111111111111111,\"#46039f\"],[0.2222222222222222,\"#7201a8\"],[0.3333333333333333,\"#9c179e\"],[0.4444444444444444,\"#bd3786\"],[0.5555555555555556,\"#d8576b\"],[0.6666666666666666,\"#ed7953\"],[0.7777777777777778,\"#fb9f3a\"],[0.8888888888888888,\"#fdca26\"],[1.0,\"#f0f921\"]]}],\"contourcarpet\":[{\"type\":\"contourcarpet\",\"colorbar\":{\"outlinewidth\":0,\"ticks\":\"\"}}],\"contour\":[{\"type\":\"contour\",\"colorbar\":{\"outlinewidth\":0,\"ticks\":\"\"},\"colorscale\":[[0.0,\"#0d0887\"],[0.1111111111111111,\"#46039f\"],[0.2222222222222222,\"#7201a8\"],[0.3333333333333333,\"#9c179e\"],[0.4444444444444444,\"#bd3786\"],[0.5555555555555556,\"#d8576b\"],[0.6666666666666666,\"#ed7953\"],[0.7777777777777778,\"#fb9f3a\"],[0.8888888888888888,\"#fdca26\"],[1.0,\"#f0f921\"]]}],\"surface\":[{\"type\":\"surface\",\"colorbar\":{\"outlinewidth\":0,\"ticks\":\"\"},\"colorscale\":[[0.0,\"#0d0887\"],[0.1111111111111111,\"#46039f\"],[0.2222222222222222,\"#7201a8\"],[0.3333333333333333,\"#9c179e\"],[0.4444444444444444,\"#bd3786\"],[0.5555555555555556,\"#d8576b\"],[0.6666666666666666,\"#ed7953\"],[0.7777777777777778,\"#fb9f3a\"],[0.8888888888888888,\"#fdca26\"],[1.0,\"#f0f921\"]]}],\"mesh3d\":[{\"type\":\"mesh3d\",\"colorbar\":{\"outlinewidth\":0,\"ticks\":\"\"}}],\"scatter\":[{\"fillpattern\":{\"fillmode\":\"overlay\",\"size\":10,\"solidity\":0.2},\"type\":\"scatter\"}],\"parcoords\":[{\"type\":\"parcoords\",\"line\":{\"colorbar\":{\"outlinewidth\":0,\"ticks\":\"\"}}}],\"scatterpolargl\":[{\"type\":\"scatterpolargl\",\"marker\":{\"colorbar\":{\"outlinewidth\":0,\"ticks\":\"\"}}}],\"bar\":[{\"error_x\":{\"color\":\"#2a3f5f\"},\"error_y\":{\"color\":\"#2a3f5f\"},\"marker\":{\"line\":{\"color\":\"#E5ECF6\",\"width\":0.5},\"pattern\":{\"fillmode\":\"overlay\",\"size\":10,\"solidity\":0.2}},\"type\":\"bar\"}],\"scattergeo\":[{\"type\":\"scattergeo\",\"marker\":{\"colorbar\":{\"outlinewidth\":0,\"ticks\":\"\"}}}],\"scatterpolar\":[{\"type\":\"scatterpolar\",\"marker\":{\"colorbar\":{\"outlinewidth\":0,\"ticks\":\"\"}}}],\"histogram\":[{\"marker\":{\"pattern\":{\"fillmode\":\"overlay\",\"size\":10,\"solidity\":0.2}},\"type\":\"histogram\"}],\"scattergl\":[{\"type\":\"scattergl\",\"marker\":{\"colorbar\":{\"outlinewidth\":0,\"ticks\":\"\"}}}],\"scatter3d\":[{\"type\":\"scatter3d\",\"line\":{\"colorbar\":{\"outlinewidth\":0,\"ticks\":\"\"}},\"marker\":{\"colorbar\":{\"outlinewidth\":0,\"ticks\":\"\"}}}],\"scattermapbox\":[{\"type\":\"scattermapbox\",\"marker\":{\"colorbar\":{\"outlinewidth\":0,\"ticks\":\"\"}}}],\"scatterternary\":[{\"type\":\"scatterternary\",\"marker\":{\"colorbar\":{\"outlinewidth\":0,\"ticks\":\"\"}}}],\"scattercarpet\":[{\"type\":\"scattercarpet\",\"marker\":{\"colorbar\":{\"outlinewidth\":0,\"ticks\":\"\"}}}],\"carpet\":[{\"aaxis\":{\"endlinecolor\":\"#2a3f5f\",\"gridcolor\":\"white\",\"linecolor\":\"white\",\"minorgridcolor\":\"white\",\"startlinecolor\":\"#2a3f5f\"},\"baxis\":{\"endlinecolor\":\"#2a3f5f\",\"gridcolor\":\"white\",\"linecolor\":\"white\",\"minorgridcolor\":\"white\",\"startlinecolor\":\"#2a3f5f\"},\"type\":\"carpet\"}],\"table\":[{\"cells\":{\"fill\":{\"color\":\"#EBF0F8\"},\"line\":{\"color\":\"white\"}},\"header\":{\"fill\":{\"color\":\"#C8D4E3\"},\"line\":{\"color\":\"white\"}},\"type\":\"table\"}],\"barpolar\":[{\"marker\":{\"line\":{\"color\":\"#E5ECF6\",\"width\":0.5},\"pattern\":{\"fillmode\":\"overlay\",\"size\":10,\"solidity\":0.2}},\"type\":\"barpolar\"}],\"pie\":[{\"automargin\":true,\"type\":\"pie\"}]},\"layout\":{\"autotypenumbers\":\"strict\",\"colorway\":[\"#636efa\",\"#EF553B\",\"#00cc96\",\"#ab63fa\",\"#FFA15A\",\"#19d3f3\",\"#FF6692\",\"#B6E880\",\"#FF97FF\",\"#FECB52\"],\"font\":{\"color\":\"#2a3f5f\"},\"hovermode\":\"closest\",\"hoverlabel\":{\"align\":\"left\"},\"paper_bgcolor\":\"white\",\"plot_bgcolor\":\"#E5ECF6\",\"polar\":{\"bgcolor\":\"#E5ECF6\",\"angularaxis\":{\"gridcolor\":\"white\",\"linecolor\":\"white\",\"ticks\":\"\"},\"radialaxis\":{\"gridcolor\":\"white\",\"linecolor\":\"white\",\"ticks\":\"\"}},\"ternary\":{\"bgcolor\":\"#E5ECF6\",\"aaxis\":{\"gridcolor\":\"white\",\"linecolor\":\"white\",\"ticks\":\"\"},\"baxis\":{\"gridcolor\":\"white\",\"linecolor\":\"white\",\"ticks\":\"\"},\"caxis\":{\"gridcolor\":\"white\",\"linecolor\":\"white\",\"ticks\":\"\"}},\"coloraxis\":{\"colorbar\":{\"outlinewidth\":0,\"ticks\":\"\"}},\"colorscale\":{\"sequential\":[[0.0,\"#0d0887\"],[0.1111111111111111,\"#46039f\"],[0.2222222222222222,\"#7201a8\"],[0.3333333333333333,\"#9c179e\"],[0.4444444444444444,\"#bd3786\"],[0.5555555555555556,\"#d8576b\"],[0.6666666666666666,\"#ed7953\"],[0.7777777777777778,\"#fb9f3a\"],[0.8888888888888888,\"#fdca26\"],[1.0,\"#f0f921\"]],\"sequentialminus\":[[0.0,\"#0d0887\"],[0.1111111111111111,\"#46039f\"],[0.2222222222222222,\"#7201a8\"],[0.3333333333333333,\"#9c179e\"],[0.4444444444444444,\"#bd3786\"],[0.5555555555555556,\"#d8576b\"],[0.6666666666666666,\"#ed7953\"],[0.7777777777777778,\"#fb9f3a\"],[0.8888888888888888,\"#fdca26\"],[1.0,\"#f0f921\"]],\"diverging\":[[0,\"#8e0152\"],[0.1,\"#c51b7d\"],[0.2,\"#de77ae\"],[0.3,\"#f1b6da\"],[0.4,\"#fde0ef\"],[0.5,\"#f7f7f7\"],[0.6,\"#e6f5d0\"],[0.7,\"#b8e186\"],[0.8,\"#7fbc41\"],[0.9,\"#4d9221\"],[1,\"#276419\"]]},\"xaxis\":{\"gridcolor\":\"white\",\"linecolor\":\"white\",\"ticks\":\"\",\"title\":{\"standoff\":15},\"zerolinecolor\":\"white\",\"automargin\":true,\"zerolinewidth\":2},\"yaxis\":{\"gridcolor\":\"white\",\"linecolor\":\"white\",\"ticks\":\"\",\"title\":{\"standoff\":15},\"zerolinecolor\":\"white\",\"automargin\":true,\"zerolinewidth\":2},\"scene\":{\"xaxis\":{\"backgroundcolor\":\"#E5ECF6\",\"gridcolor\":\"white\",\"linecolor\":\"white\",\"showbackground\":true,\"ticks\":\"\",\"zerolinecolor\":\"white\",\"gridwidth\":2},\"yaxis\":{\"backgroundcolor\":\"#E5ECF6\",\"gridcolor\":\"white\",\"linecolor\":\"white\",\"showbackground\":true,\"ticks\":\"\",\"zerolinecolor\":\"white\",\"gridwidth\":2},\"zaxis\":{\"backgroundcolor\":\"#E5ECF6\",\"gridcolor\":\"white\",\"linecolor\":\"white\",\"showbackground\":true,\"ticks\":\"\",\"zerolinecolor\":\"white\",\"gridwidth\":2}},\"shapedefaults\":{\"line\":{\"color\":\"#2a3f5f\"}},\"annotationdefaults\":{\"arrowcolor\":\"#2a3f5f\",\"arrowhead\":0,\"arrowwidth\":1},\"geo\":{\"bgcolor\":\"white\",\"landcolor\":\"#E5ECF6\",\"subunitcolor\":\"white\",\"showland\":true,\"showlakes\":true,\"lakecolor\":\"white\"},\"title\":{\"x\":0.05},\"mapbox\":{\"style\":\"light\"}}},\"coloraxis\":{\"showscale\":false},\"width\":825.0,\"height\":600.0},                        {\"responsive\": true}                    ).then(function(){\n",
              "                            \n",
              "var gd = document.getElementById('33c6cbcb-7c4d-4576-8c5f-e18c477a0e5a');\n",
              "var x = new MutationObserver(function (mutations, observer) {{\n",
              "        var display = window.getComputedStyle(gd).display;\n",
              "        if (!display || display === 'none') {{\n",
              "            console.log([gd, 'removed!']);\n",
              "            Plotly.purge(gd);\n",
              "            observer.disconnect();\n",
              "        }}\n",
              "}});\n",
              "\n",
              "// Listen for the removal of the full notebook cells\n",
              "var notebookContainer = gd.closest('#notebook-container');\n",
              "if (notebookContainer) {{\n",
              "    x.observe(notebookContainer, {childList: true});\n",
              "}}\n",
              "\n",
              "// Listen for the clearing of the current output cell\n",
              "var outputEl = gd.closest('.output');\n",
              "if (outputEl) {{\n",
              "    x.observe(outputEl, {childList: true});\n",
              "}}\n",
              "\n",
              "                        })                };                            </script>        </div>\n",
              "</body>\n",
              "</html>"
            ]
          },
          "metadata": {}
        }
      ],
      "source": [
        "print(\"\\n\")\n",
        "\n",
        "fig = go.Figure()\n",
        "\n",
        "fig.add_trace(\n",
        "    go.Scatter(\n",
        "        x=ds[\"x\"][ds[\"exemplars yes/no\"] == 0],\n",
        "        y=ds[\"y\"][ds[\"exemplars yes/no\"] == 0],\n",
        "        mode=\"markers\",\n",
        "        marker_color=custom_scale[0],\n",
        "        text=ds[\"cluster + act\"][ds[\"exemplars yes/no\"] == 0],\n",
        "    )\n",
        ")\n",
        "\n",
        "fig.add_trace(\n",
        "    go.Scatter(\n",
        "        x=ds_inner_exemplars[\"x\"],\n",
        "        y=ds_inner_exemplars[\"y\"],\n",
        "        mode=\"markers\",\n",
        "        marker_color=ds_inner_exemplars[\"exemplar sub-cluster\"],\n",
        "        marker_colorscale=\"Viridis\",\n",
        "        text=ds_inner_exemplars[\"cluster XX.YY + act\"],\n",
        "    )\n",
        ")\n",
        "\n",
        "fig.update_traces(marker={\"size\": 11, \"opacity\": 0.55}, showlegend=False)\n",
        "fig.update_coloraxes(showscale=False)\n",
        "fig.update_layout(width=550 * 1.5, height=400 * 1.5)\n",
        "fig.show()"
      ]
    },
    {
      "cell_type": "code",
      "execution_count": 42,
      "metadata": {
        "colab": {
          "base_uri": "https://localhost:8080/"
        },
        "id": "5dPmRhOHsi4E",
        "outputId": "83165898-a55a-4baf-eaf8-a0b0f3d3c4d6"
      },
      "outputs": [
        {
          "output_type": "execute_result",
          "data": {
            "text/plain": [
              "(33, 2)"
            ]
          },
          "metadata": {},
          "execution_count": 42
        }
      ],
      "source": [
        "exemplar_coordinates = []\n",
        "for i in range(len(ds_inner_exemplars)):\n",
        "    row = ds_inner_exemplars.iloc[i]\n",
        "    if row[\"exemplar sub-cluster\"] != -1:\n",
        "        exemplar_coordinates.append([row.x, row.y])\n",
        "\n",
        "exemplar_coordinates = np.array(exemplar_coordinates)\n",
        "exemplar_coordinates.shape"
      ]
    },
    {
      "cell_type": "code",
      "execution_count": 43,
      "metadata": {
        "colab": {
          "base_uri": "https://localhost:8080/"
        },
        "id": "nNU6L2_rp6AQ",
        "outputId": "dfd90275-171c-4708-c1c2-d5372cff5113"
      },
      "outputs": [
        {
          "output_type": "stream",
          "name": "stderr",
          "text": [
            "100%|██████████| 119/119 [00:00<00:00, 1581.35it/s]\n",
            "100%|██████████| 1/1 [00:00<00:00, 441.27it/s]\n"
          ]
        }
      ],
      "source": [
        "# fill in non-exemplars by checking euclidean distance\n",
        "\n",
        "ds_inner_non_exemplars = ds.loc[~ds.id.isin(exemplar_ids)]\n",
        "\n",
        "for i in tqdm.tqdm(range(len(ds_inner_non_exemplars))):\n",
        "    row = ds_inner_non_exemplars.iloc[i]\n",
        "    row_coordinates = [row.x, row.y]\n",
        "    row_coordinates = np.array(row_coordinates).reshape(1, -1)\n",
        "    distances = euclidean_distances(row_coordinates, exemplar_coordinates)\n",
        "    # print(np.argmin(distances[0]))\n",
        "    closest_exemplar = ds_inner_exemplars.iloc[np.argmin(distances[0])]\n",
        "    # print(closest_exemplar)\n",
        "    ds.loc[row.id, \"cluster XX.YY\"] = closest_exemplar[\"cluster XX.YY\"]\n",
        "\n",
        "# fill in -1 exemplars\n",
        "ds_inner_outlier_exemplars = ds[ds[\"exemplar sub-cluster\"] == -1]\n",
        "for i in tqdm.tqdm(range(len(ds_inner_outlier_exemplars))):\n",
        "    row = ds_inner_outlier_exemplars.iloc[i]\n",
        "    row_coordinates = [row.x, row.y]\n",
        "    row_coordinates = np.array(row_coordinates).reshape(1, -1)\n",
        "    distances = euclidean_distances(row_coordinates, exemplar_coordinates)\n",
        "    closest_exemplar = ds_inner_exemplars.iloc[np.argmin(distances[0])]\n",
        "    ds.loc[row.id, \"cluster XX.YY\"] = closest_exemplar[\"cluster XX.YY\"]\n",
        "\n",
        "for i in range(len(ds)):\n",
        "    row = ds.iloc[i]\n",
        "    ds.loc[row.id, \"cluster XX.YY + act\"] = (\n",
        "        row[\"cluster XX.YY\"] + ', \"' + row[\"act\"] + '\"'\n",
        "    )"
      ]
    },
    {
      "cell_type": "code",
      "execution_count": 44,
      "metadata": {
        "colab": {
          "base_uri": "https://localhost:8080/"
        },
        "id": "-zDhUWD_vQpH",
        "outputId": "71318777-f8ee-47f1-9c8b-c6c961faba07"
      },
      "outputs": [
        {
          "output_type": "execute_result",
          "data": {
            "text/plain": [
              "cluster XX.YY\n",
              "Cluster 1, Sub-Cluster 4    30\n",
              "Cluster 1, Sub-Cluster 2    28\n",
              "Cluster 1, Sub-Cluster 5    27\n",
              "Cluster 0, Sub-Cluster 1    24\n",
              "Cluster 1, Sub-Cluster 3    24\n",
              "Cluster 0, Sub-Cluster 0    20\n",
              "Name: count, dtype: int64"
            ]
          },
          "metadata": {},
          "execution_count": 44
        }
      ],
      "source": [
        "ds[\"cluster XX.YY\"].value_counts()"
      ]
    },
    {
      "cell_type": "code",
      "execution_count": 45,
      "metadata": {
        "colab": {
          "base_uri": "https://localhost:8080/"
        },
        "id": "Ndwlm4RKvh4G",
        "outputId": "2e576595-7b68-4223-ea80-6419ecfb5778"
      },
      "outputs": [
        {
          "output_type": "execute_result",
          "data": {
            "text/plain": [
              "{'Cluster 0, Sub-Cluster 0': 0,\n",
              " 'Cluster 0, Sub-Cluster 1': 1,\n",
              " 'Cluster 1, Sub-Cluster 2': 2,\n",
              " 'Cluster 1, Sub-Cluster 3': 3,\n",
              " 'Cluster 1, Sub-Cluster 4': 4,\n",
              " 'Cluster 1, Sub-Cluster 5': 5}"
            ]
          },
          "metadata": {},
          "execution_count": 45
        }
      ],
      "source": [
        "color_order_dict = {\n",
        "    \"Cluster 0, Sub-Cluster 0\": 0,\n",
        "    \"Cluster 0, Sub-Cluster 1\": 1,\n",
        "    \"Cluster 1, Sub-Cluster 2\": 2,\n",
        "    \"Cluster 1, Sub-Cluster 3\": 3,\n",
        "    \"Cluster 1, Sub-Cluster 4\": 4,\n",
        "    \"Cluster 1, Sub-Cluster 5\": 5,\n",
        "}\n",
        "color_order_dict"
      ]
    },
    {
      "cell_type": "code",
      "execution_count": 46,
      "metadata": {
        "id": "8bN-6ZIpw6Nc"
      },
      "outputs": [],
      "source": [
        "ds[\"cluster XX.YY plot id\"] = np.zeros(len(ds))\n",
        "for i in range(len(ds)):\n",
        "    ds.loc[i, \"cluster XX.YY plot id\"] = color_order_dict[ds.loc[i, \"cluster XX.YY\"]]"
      ]
    },
    {
      "cell_type": "code",
      "execution_count": 47,
      "metadata": {
        "colab": {
          "base_uri": "https://localhost:8080/",
          "height": 653
        },
        "id": "RsBm3zEXu6AE",
        "outputId": "61bbcfd6-e662-4478-b5e3-41e3754c7b96"
      },
      "outputs": [
        {
          "output_type": "stream",
          "name": "stdout",
          "text": [
            "\n",
            "\n"
          ]
        },
        {
          "output_type": "display_data",
          "data": {
            "text/html": [
              "<html>\n",
              "<head><meta charset=\"utf-8\" /></head>\n",
              "<body>\n",
              "    <div>            <script src=\"https://cdnjs.cloudflare.com/ajax/libs/mathjax/2.7.5/MathJax.js?config=TeX-AMS-MML_SVG\"></script><script type=\"text/javascript\">if (window.MathJax && window.MathJax.Hub && window.MathJax.Hub.Config) {window.MathJax.Hub.Config({SVG: {font: \"STIX-Web\"}});}</script>                <script type=\"text/javascript\">window.PlotlyConfig = {MathJaxConfig: 'local'};</script>\n",
              "        <script charset=\"utf-8\" src=\"https://cdn.plot.ly/plotly-2.25.2.min.js\"></script>                <div id=\"6faaf95c-b4fd-44c1-9841-dfc69fd53d9f\" class=\"plotly-graph-div\" style=\"height:600.0px; width:825.0px;\"></div>            <script type=\"text/javascript\">                                    window.PLOTLYENV=window.PLOTLYENV || {};                                    if (document.getElementById(\"6faaf95c-b4fd-44c1-9841-dfc69fd53d9f\")) {                    Plotly.newPlot(                        \"6faaf95c-b4fd-44c1-9841-dfc69fd53d9f\",                        [{\"marker\":{\"color\":[0.0,1.0,1.0,0.0,0.0,1.0,1.0,5.0,1.0,1.0,5.0,4.0,4.0,4.0,3.0,5.0,4.0,4.0,5.0,5.0,4.0,3.0,5.0,5.0,4.0,4.0,4.0,4.0,1.0,2.0,2.0,2.0,3.0,4.0,4.0,4.0,2.0,3.0,3.0,3.0,5.0,2.0,3.0,2.0,3.0,3.0,2.0,3.0,3.0,5.0,2.0,2.0,3.0,5.0,5.0,3.0,5.0,3.0,0.0,0.0,1.0,4.0,1.0,0.0,0.0,3.0,3.0,1.0,4.0,2.0,4.0,2.0,1.0,4.0,4.0,4.0,5.0,5.0,4.0,4.0,5.0,3.0,4.0,5.0,4.0,5.0,2.0,3.0,4.0,2.0,4.0,5.0,4.0,5.0,4.0,5.0,5.0,2.0,0.0,0.0,1.0,5.0,4.0,3.0,3.0,3.0,5.0,2.0,1.0,2.0,2.0,0.0,1.0,2.0,0.0,1.0,5.0,5.0,2.0,0.0,0.0,1.0,0.0,3.0,1.0,2.0,0.0,1.0,1.0,0.0,2.0,1.0,2.0,0.0,1.0,5.0,0.0,2.0,2.0,3.0,4.0,2.0,1.0,2.0,1.0,4.0,5.0,2.0,2.0,0.0,0.0,1.0,3.0],\"colorscale\":[[0.0,\"#440154\"],[0.1111111111111111,\"#482878\"],[0.2222222222222222,\"#3e4989\"],[0.3333333333333333,\"#31688e\"],[0.4444444444444444,\"#26828e\"],[0.5555555555555556,\"#1f9e89\"],[0.6666666666666666,\"#35b779\"],[0.7777777777777778,\"#6ece58\"],[0.8888888888888888,\"#b5de2b\"],[1.0,\"#fde725\"]],\"opacity\":0.55,\"size\":11},\"mode\":\"markers\",\"text\":[\"Cluster 0, Sub-Cluster 0, \\\"Linux Terminal\\\"\",\"Cluster 0, Sub-Cluster 1, \\\"English Translator and Improver\\\"\",\"Cluster 0, Sub-Cluster 1, \\\"`position` Interviewer\\\"\",\"Cluster 0, Sub-Cluster 0, \\\"JavaScript Console\\\"\",\"Cluster 0, Sub-Cluster 0, \\\"Excel Sheet\\\"\",\"Cluster 0, Sub-Cluster 1, \\\"English Pronunciation Helper\\\"\",\"Cluster 0, Sub-Cluster 1, \\\"Spoken English Teacher and Improver\\\"\",\"Cluster 1, Sub-Cluster 5, \\\"Travel Guide\\\"\",\"Cluster 0, Sub-Cluster 1, \\\"Plagiarism Checker\\\"\",\"Cluster 0, Sub-Cluster 1, \\\"Character from Movie\\u002fBook\\u002fAnything\\\"\",\"Cluster 1, Sub-Cluster 5, \\\"Advertiser\\\"\",\"Cluster 1, Sub-Cluster 4, \\\"Storyteller\\\"\",\"Cluster 1, Sub-Cluster 4, \\\"Football Commentator\\\"\",\"Cluster 1, Sub-Cluster 4, \\\"Stand-up Comedian\\\"\",\"Cluster 1, Sub-Cluster 3, \\\"Motivational Coach\\\"\",\"Cluster 1, Sub-Cluster 5, \\\"Composer\\\"\",\"Cluster 1, Sub-Cluster 4, \\\"Debater\\\"\",\"Cluster 1, Sub-Cluster 4, \\\"Debate Coach\\\"\",\"Cluster 1, Sub-Cluster 5, \\\"Screenwriter\\\"\",\"Cluster 1, Sub-Cluster 5, \\\"Novelist\\\"\",\"Cluster 1, Sub-Cluster 4, \\\"Movie Critic\\\"\",\"Cluster 1, Sub-Cluster 3, \\\"Relationship Coach\\\"\",\"Cluster 1, Sub-Cluster 5, \\\"Poet\\\"\",\"Cluster 1, Sub-Cluster 5, \\\"Rapper\\\"\",\"Cluster 1, Sub-Cluster 4, \\\"Motivational Speaker\\\"\",\"Cluster 1, Sub-Cluster 4, \\\"Philosophy Teacher\\\"\",\"Cluster 1, Sub-Cluster 4, \\\"Philosopher\\\"\",\"Cluster 1, Sub-Cluster 4, \\\"Math Teacher\\\"\",\"Cluster 0, Sub-Cluster 1, \\\"AI Writing Tutor\\\"\",\"Cluster 1, Sub-Cluster 2, \\\"UX\\u002fUI Developer\\\"\",\"Cluster 1, Sub-Cluster 2, \\\"Cyber Security Specialist\\\"\",\"Cluster 1, Sub-Cluster 2, \\\"Recruiter\\\"\",\"Cluster 1, Sub-Cluster 3, \\\"Life Coach\\\"\",\"Cluster 1, Sub-Cluster 4, \\\"Etymologist\\\"\",\"Cluster 1, Sub-Cluster 4, \\\"Commentariat\\\"\",\"Cluster 1, Sub-Cluster 4, \\\"Magician\\\"\",\"Cluster 1, Sub-Cluster 2, \\\"Career Counselor\\\"\",\"Cluster 1, Sub-Cluster 3, \\\"Pet Behaviorist\\\"\",\"Cluster 1, Sub-Cluster 3, \\\"Personal Trainer\\\"\",\"Cluster 1, Sub-Cluster 3, \\\"Mental Health Adviser\\\"\",\"Cluster 1, Sub-Cluster 5, \\\"Real Estate Agent\\\"\",\"Cluster 1, Sub-Cluster 2, \\\"Logistician\\\"\",\"Cluster 1, Sub-Cluster 3, \\\"Dentist\\\"\",\"Cluster 1, Sub-Cluster 2, \\\"Web Design Consultant\\\"\",\"Cluster 1, Sub-Cluster 3, \\\"AI Assisted Doctor\\\"\",\"Cluster 1, Sub-Cluster 3, \\\"Doctor\\\"\",\"Cluster 1, Sub-Cluster 2, \\\"Accountant\\\"\",\"Cluster 1, Sub-Cluster 3, \\\"Chef\\\"\",\"Cluster 1, Sub-Cluster 3, \\\"Automobile Mechanic\\\"\",\"Cluster 1, Sub-Cluster 5, \\\"Artist Advisor\\\"\",\"Cluster 1, Sub-Cluster 2, \\\"Financial Analyst\\\"\",\"Cluster 1, Sub-Cluster 2, \\\"Investment Manager\\\"\",\"Cluster 1, Sub-Cluster 3, \\\"Tea-Taster\\\"\",\"Cluster 1, Sub-Cluster 5, \\\"Interior Decorator\\\"\",\"Cluster 1, Sub-Cluster 5, \\\"Florist\\\"\",\"Cluster 1, Sub-Cluster 3, \\\"Self-Help Book\\\"\",\"Cluster 1, Sub-Cluster 5, \\\"Gnomist\\\"\",\"Cluster 1, Sub-Cluster 3, \\\"Aphorism Book\\\"\",\"Cluster 0, Sub-Cluster 0, \\\"Text Based Adventure Game\\\"\",\"Cluster 0, Sub-Cluster 0, \\\"AI Trying to Escape the Box\\\"\",\"Cluster 0, Sub-Cluster 1, \\\"Fancy Title Generator\\\"\",\"Cluster 1, Sub-Cluster 4, \\\"Statistician\\\"\",\"Cluster 0, Sub-Cluster 1, \\\"Prompt Generator\\\"\",\"Cluster 0, Sub-Cluster 0, \\\"Instructor in a School\\\"\",\"Cluster 0, Sub-Cluster 0, \\\"SQL terminal\\\"\",\"Cluster 1, Sub-Cluster 3, \\\"Dietitian\\\"\",\"Cluster 1, Sub-Cluster 3, \\\"Psychologist\\\"\",\"Cluster 0, Sub-Cluster 1, \\\"Smart Domain Name Generator\\\"\",\"Cluster 1, Sub-Cluster 4, \\\"Tech Reviewer:\\\"\",\"Cluster 1, Sub-Cluster 2, \\\"Developer Relations consultant\\\"\",\"Cluster 1, Sub-Cluster 4, \\\"Academician\\\"\",\"Cluster 1, Sub-Cluster 2, \\\"IT Architect\\\"\",\"Cluster 0, Sub-Cluster 1, \\\"Lunatic\\\"\",\"Cluster 1, Sub-Cluster 4, \\\"Gaslighter\\\"\",\"Cluster 1, Sub-Cluster 4, \\\"Fallacy Finder\\\"\",\"Cluster 1, Sub-Cluster 4, \\\"Journal Reviewer\\\"\",\"Cluster 1, Sub-Cluster 5, \\\"DIY Expert\\\"\",\"Cluster 1, Sub-Cluster 5, \\\"Social Media Influencer\\\"\",\"Cluster 1, Sub-Cluster 4, \\\"Socrat\\\"\",\"Cluster 1, Sub-Cluster 4, \\\"Socratic Method\\\"\",\"Cluster 1, Sub-Cluster 5, \\\"Educational Content Creator\\\"\",\"Cluster 1, Sub-Cluster 3, \\\"Yogi\\\"\",\"Cluster 1, Sub-Cluster 4, \\\"Essay Writer\\\"\",\"Cluster 1, Sub-Cluster 5, \\\"Social Media Manager\\\"\",\"Cluster 1, Sub-Cluster 4, \\\"Elocutionist\\\"\",\"Cluster 1, Sub-Cluster 5, \\\"Scientific Data Visualizer\\\"\",\"Cluster 1, Sub-Cluster 2, \\\"Car Navigation System\\\"\",\"Cluster 1, Sub-Cluster 3, \\\"Hypnotherapist\\\"\",\"Cluster 1, Sub-Cluster 4, \\\"Historian\\\"\",\"Cluster 1, Sub-Cluster 2, \\\"Astrologer\\\"\",\"Cluster 1, Sub-Cluster 4, \\\"Film Critic\\\"\",\"Cluster 1, Sub-Cluster 5, \\\"Classical Music Composer\\\"\",\"Cluster 1, Sub-Cluster 4, \\\"Journalist\\\"\",\"Cluster 1, Sub-Cluster 5, \\\"Digital Art Gallery Guide\\\"\",\"Cluster 1, Sub-Cluster 4, \\\"Public Speaking Coach\\\"\",\"Cluster 1, Sub-Cluster 5, \\\"Makeup Artist\\\"\",\"Cluster 1, Sub-Cluster 5, \\\"Babysitter\\\"\",\"Cluster 1, Sub-Cluster 2, \\\"Tech Writer\\\"\",\"Cluster 0, Sub-Cluster 0, \\\"Ascii Artist\\\"\",\"Cluster 0, Sub-Cluster 0, \\\"Python interpreter\\\"\",\"Cluster 0, Sub-Cluster 1, \\\"Synonym finder\\\"\",\"Cluster 1, Sub-Cluster 5, \\\"Personal Shopper\\\"\",\"Cluster 1, Sub-Cluster 4, \\\"Food Critic\\\"\",\"Cluster 1, Sub-Cluster 3, \\\"Virtual Doctor\\\"\",\"Cluster 1, Sub-Cluster 3, \\\"Personal Chef\\\"\",\"Cluster 1, Sub-Cluster 3, \\\"Legal Advisor\\\"\",\"Cluster 1, Sub-Cluster 5, \\\"Personal Stylist\\\"\",\"Cluster 1, Sub-Cluster 2, \\\"Machine Learning Engineer\\\"\",\"Cluster 0, Sub-Cluster 1, \\\"Biblical Translator\\\"\",\"Cluster 1, Sub-Cluster 2, \\\"SVG designer\\\"\",\"Cluster 1, Sub-Cluster 2, \\\"IT Expert\\\"\",\"Cluster 0, Sub-Cluster 0, \\\"Chess Player\\\"\",\"Cluster 0, Sub-Cluster 1, \\\"Midjourney Prompt Generator\\\"\",\"Cluster 1, Sub-Cluster 2, \\\"Fullstack Software Developer\\\"\",\"Cluster 0, Sub-Cluster 0, \\\"Mathematician\\\"\",\"Cluster 0, Sub-Cluster 1, \\\"Regex Generator\\\"\",\"Cluster 1, Sub-Cluster 5, \\\"Time Travel Guide\\\"\",\"Cluster 1, Sub-Cluster 5, \\\"Dream Interpreter\\\"\",\"Cluster 1, Sub-Cluster 2, \\\"Talent Coach\\\"\",\"Cluster 0, Sub-Cluster 0, \\\"R programming Interpreter\\\"\",\"Cluster 0, Sub-Cluster 0, \\\"StackOverflow Post\\\"\",\"Cluster 0, Sub-Cluster 1, \\\"Emoji Translator\\\"\",\"Cluster 0, Sub-Cluster 0, \\\"PHP Interpreter\\\"\",\"Cluster 1, Sub-Cluster 3, \\\"Emergency Response Professional\\\"\",\"Cluster 0, Sub-Cluster 1, \\\"Fill in the Blank Worksheets Generator\\\"\",\"Cluster 1, Sub-Cluster 2, \\\"Software Quality Assurance Tester\\\"\",\"Cluster 0, Sub-Cluster 0, \\\"Tic-Tac-Toe Game\\\"\",\"Cluster 0, Sub-Cluster 1, \\\"Password Generator\\\"\",\"Cluster 0, Sub-Cluster 1, \\\"New Language Creator\\\"\",\"Cluster 0, Sub-Cluster 0, \\\"Web Browser\\\"\",\"Cluster 1, Sub-Cluster 2, \\\"Senior Frontend Developer\\\"\",\"Cluster 0, Sub-Cluster 1, \\\"Solr Search Engine\\\"\",\"Cluster 1, Sub-Cluster 2, \\\"Startup Idea Generator\\\"\",\"Cluster 0, Sub-Cluster 0, \\\"Spongebob's Magic Conch Shell\\\"\",\"Cluster 0, Sub-Cluster 1, \\\"Language Detector\\\"\",\"Cluster 1, Sub-Cluster 5, \\\"Salesperson\\\"\",\"Cluster 0, Sub-Cluster 0, \\\"Commit Message Generator\\\"\",\"Cluster 1, Sub-Cluster 2, \\\"Chief Executive Officer\\\"\",\"Cluster 1, Sub-Cluster 2, \\\"Diagram Generator\\\"\",\"Cluster 1, Sub-Cluster 3, \\\"Life Coach\\\"\",\"Cluster 1, Sub-Cluster 4, \\\"Speech-Language Pathologist (SLP)\\\"\",\"Cluster 1, Sub-Cluster 2, \\\"Startup Tech Lawyer\\\"\",\"Cluster 0, Sub-Cluster 1, \\\"Title Generator for written pieces\\\"\",\"Cluster 1, Sub-Cluster 2, \\\"Product Manager\\\"\",\"Cluster 0, Sub-Cluster 1, \\\"Drunk Person\\\"\",\"Cluster 1, Sub-Cluster 4, \\\"Mathematical History Teacher\\\"\",\"Cluster 1, Sub-Cluster 5, \\\"Song Recommender\\\"\",\"Cluster 1, Sub-Cluster 2, \\\"Cover Letter\\\"\",\"Cluster 1, Sub-Cluster 2, \\\"Technology Transferer\\\"\",\"Cluster 0, Sub-Cluster 0, \\\"Unconstrained AI model DAN\\\"\",\"Cluster 0, Sub-Cluster 0, \\\"Gomoku player\\\"\",\"Cluster 0, Sub-Cluster 1, \\\"Proofreader\\\"\",\"Cluster 1, Sub-Cluster 3, \\\"Muslim imam \\\"\"],\"x\":[10.522139549255371,7.9453558921813965,8.286354064941406,10.65048599243164,10.345002174377441,7.655092716217041,8.12235164642334,2.0336947441101074,8.100301742553711,9.031071662902832,1.9255008697509766,4.237715721130371,5.154360771179199,5.253612995147705,-3.267568588256836,3.4269795417785645,4.854726791381836,4.995945453643799,3.547377347946167,3.6136670112609863,3.9480762481689453,-3.2345070838928223,3.438692569732666,3.4869937896728516,4.925686359405518,5.3613433837890625,5.385283946990967,5.228980541229248,7.94354248046875,1.2072879076004028,-0.2980702519416809,0.2913844883441925,-2.954078435897827,4.552121162414551,4.4011006355285645,5.531975746154785,0.26104703545570374,-2.8270702362060547,-3.105916738510132,-2.5483758449554443,1.7243233919143677,1.0588496923446655,-2.3946361541748047,1.318439245223999,-2.3229312896728516,-2.4940011501312256,0.4296697676181793,-2.461228609085083,-0.7099819779396057,2.130305528640747,0.018236782401800156,0.3965533673763275,-2.3056488037109375,1.678107500076294,1.913266897201538,-3.5704407691955566,2.668149948120117,-3.5506346225738525,10.32948112487793,10.324277877807617,7.731411457061768,5.040621280670166,7.640529632568359,10.012369155883789,10.637246131896973,-2.3424930572509766,-2.2488620281219482,7.412624359130859,3.6451406478881836,0.7419505715370178,4.248348712921143,0.994179368019104,8.947425842285156,5.627689361572266,4.776089191436768,4.156762599945068,2.56184458732605,1.8114503622055054,5.501817226409912,5.465748310089111,3.0363078117370605,-2.590996742248535,4.654543399810791,1.3664276599884033,5.123613357543945,1.608792781829834,1.1370164155960083,-2.7510669231414795,3.941215991973877,0.639028012752533,3.8965890407562256,3.2723774909973145,3.9171972274780273,1.673226237297058,5.261524677276611,1.6642096042633057,1.7257719039916992,0.7781137824058533,10.186832427978516,9.979813575744629,7.720102787017822,1.8010324239730835,3.8440072536468506,-2.637610673904419,-2.470456600189209,-2.645280599594116,1.8191277980804443,-0.3835662305355072,8.172331809997559,1.4569600820541382,-0.482178658246994,9.981267929077148,7.551111221313477,1.0899217128753662,9.861913681030273,7.585714817047119,2.89266037940979,3.404366970062256,0.25104328989982605,10.419426918029785,9.649152755737305,8.738018035888672,10.474164962768555,-2.2308449745178223,7.742380619049072,0.9395885467529297,10.25594711303711,7.498555660247803,8.575812339782715,10.234811782836914,1.1393836736679077,7.598633766174316,0.5796721577644348,9.410616874694824,8.323866844177246,2.0943474769592285,9.857498168945312,-0.4174938201904297,1.5022610425949097,-3.524960994720459,5.257843017578125,0.5996901392936707,7.551587104797363,0.6429428458213806,8.957985877990723,5.284576892852783,3.231856346130371,0.38122206926345825,0.8707579970359802,9.204723358154297,10.125225067138672,7.922402381896973,-3.4542837142944336],\"y\":[15.94720458984375,17.37761688232422,16.799365997314453,15.99365234375,15.39165210723877,17.402698516845703,17.043363571166992,8.644547462463379,17.315244674682617,16.120325088500977,7.595432281494141,8.766556739807129,8.023520469665527,8.130162239074707,7.642760276794434,9.08090877532959,8.079656600952148,8.265926361083984,8.782649993896484,8.961796760559082,7.475925445556641,7.961965560913086,9.124059677124023,9.085554122924805,8.509683609008789,9.113770484924316,8.739741325378418,9.197220802307129,17.68896484375,10.62946605682373,9.290736198425293,9.398444175720215,7.900139331817627,8.683553695678711,7.754569053649902,9.21252727508545,9.291703224182129,7.930985450744629,7.789322853088379,7.954989433288574,8.358365058898926,10.211713790893555,8.312752723693848,10.026625633239746,8.751184463500977,8.7119722366333,10.02321720123291,8.932334899902344,9.055159568786621,8.467853546142578,9.631367683410645,9.827637672424316,8.982498168945312,8.466129302978516,8.396553039550781,7.6508588790893555,8.12285041809082,7.636948108673096,15.891148567199707,16.02923583984375,18.292339324951172,9.112025260925293,17.43787956237793,15.015679359436035,15.91982650756836,9.018516540527344,8.359116554260254,18.28876304626465,7.488071918487549,10.67768669128418,8.117487907409668,10.344463348388672,16.13195037841797,9.506266593933105,7.963547706604004,7.770326137542725,8.142576217651367,7.875793933868408,8.949904441833496,9.080795288085938,8.031689643859863,8.114493370056152,8.110661506652832,8.14070987701416,8.467860221862793,9.350421905517578,10.565961837768555,8.123889923095703,8.496892929077148,8.940204620361328,7.538515090942383,8.94246768951416,8.064314842224121,8.833099365234375,8.224015235900879,8.183917045593262,8.194234848022461,10.674052238464355,15.380900382995605,15.633410453796387,17.80814552307129,8.077296257019043,7.445981502532959,8.611859321594238,8.88144588470459,8.2447509765625,8.075726509094238,9.242388725280762,16.97852325439453,9.629292488098145,9.151572227478027,15.332784652709961,17.614532470703125,10.79443359375,15.131369590759277,18.19536590576172,8.629940032958984,9.183401107788086,9.069938659667969,15.645538330078125,15.832919120788574,16.386295318603516,15.725409507751465,8.331384658813477,17.604923248291016,10.908833503723145,15.20250129699707,18.127798080444336,16.557619094848633,15.688255310058594,10.75294303894043,18.19567108154297,10.284370422363281,15.944757461547852,16.807188034057617,7.722355365753174,15.938677787780762,9.195685386657715,9.543675422668457,7.6432695388793945,8.356409072875977,10.379342079162598,18.095212936401367,10.406540870666504,16.134761810302734,9.098711013793945,8.941471099853516,9.559467315673828,10.629652976989746,15.947179794311523,15.129698753356934,17.483247756958008,7.701821327209473],\"type\":\"scatter\",\"showlegend\":false}],                        {\"template\":{\"data\":{\"histogram2dcontour\":[{\"type\":\"histogram2dcontour\",\"colorbar\":{\"outlinewidth\":0,\"ticks\":\"\"},\"colorscale\":[[0.0,\"#0d0887\"],[0.1111111111111111,\"#46039f\"],[0.2222222222222222,\"#7201a8\"],[0.3333333333333333,\"#9c179e\"],[0.4444444444444444,\"#bd3786\"],[0.5555555555555556,\"#d8576b\"],[0.6666666666666666,\"#ed7953\"],[0.7777777777777778,\"#fb9f3a\"],[0.8888888888888888,\"#fdca26\"],[1.0,\"#f0f921\"]]}],\"choropleth\":[{\"type\":\"choropleth\",\"colorbar\":{\"outlinewidth\":0,\"ticks\":\"\"}}],\"histogram2d\":[{\"type\":\"histogram2d\",\"colorbar\":{\"outlinewidth\":0,\"ticks\":\"\"},\"colorscale\":[[0.0,\"#0d0887\"],[0.1111111111111111,\"#46039f\"],[0.2222222222222222,\"#7201a8\"],[0.3333333333333333,\"#9c179e\"],[0.4444444444444444,\"#bd3786\"],[0.5555555555555556,\"#d8576b\"],[0.6666666666666666,\"#ed7953\"],[0.7777777777777778,\"#fb9f3a\"],[0.8888888888888888,\"#fdca26\"],[1.0,\"#f0f921\"]]}],\"heatmap\":[{\"type\":\"heatmap\",\"colorbar\":{\"outlinewidth\":0,\"ticks\":\"\"},\"colorscale\":[[0.0,\"#0d0887\"],[0.1111111111111111,\"#46039f\"],[0.2222222222222222,\"#7201a8\"],[0.3333333333333333,\"#9c179e\"],[0.4444444444444444,\"#bd3786\"],[0.5555555555555556,\"#d8576b\"],[0.6666666666666666,\"#ed7953\"],[0.7777777777777778,\"#fb9f3a\"],[0.8888888888888888,\"#fdca26\"],[1.0,\"#f0f921\"]]}],\"heatmapgl\":[{\"type\":\"heatmapgl\",\"colorbar\":{\"outlinewidth\":0,\"ticks\":\"\"},\"colorscale\":[[0.0,\"#0d0887\"],[0.1111111111111111,\"#46039f\"],[0.2222222222222222,\"#7201a8\"],[0.3333333333333333,\"#9c179e\"],[0.4444444444444444,\"#bd3786\"],[0.5555555555555556,\"#d8576b\"],[0.6666666666666666,\"#ed7953\"],[0.7777777777777778,\"#fb9f3a\"],[0.8888888888888888,\"#fdca26\"],[1.0,\"#f0f921\"]]}],\"contourcarpet\":[{\"type\":\"contourcarpet\",\"colorbar\":{\"outlinewidth\":0,\"ticks\":\"\"}}],\"contour\":[{\"type\":\"contour\",\"colorbar\":{\"outlinewidth\":0,\"ticks\":\"\"},\"colorscale\":[[0.0,\"#0d0887\"],[0.1111111111111111,\"#46039f\"],[0.2222222222222222,\"#7201a8\"],[0.3333333333333333,\"#9c179e\"],[0.4444444444444444,\"#bd3786\"],[0.5555555555555556,\"#d8576b\"],[0.6666666666666666,\"#ed7953\"],[0.7777777777777778,\"#fb9f3a\"],[0.8888888888888888,\"#fdca26\"],[1.0,\"#f0f921\"]]}],\"surface\":[{\"type\":\"surface\",\"colorbar\":{\"outlinewidth\":0,\"ticks\":\"\"},\"colorscale\":[[0.0,\"#0d0887\"],[0.1111111111111111,\"#46039f\"],[0.2222222222222222,\"#7201a8\"],[0.3333333333333333,\"#9c179e\"],[0.4444444444444444,\"#bd3786\"],[0.5555555555555556,\"#d8576b\"],[0.6666666666666666,\"#ed7953\"],[0.7777777777777778,\"#fb9f3a\"],[0.8888888888888888,\"#fdca26\"],[1.0,\"#f0f921\"]]}],\"mesh3d\":[{\"type\":\"mesh3d\",\"colorbar\":{\"outlinewidth\":0,\"ticks\":\"\"}}],\"scatter\":[{\"fillpattern\":{\"fillmode\":\"overlay\",\"size\":10,\"solidity\":0.2},\"type\":\"scatter\"}],\"parcoords\":[{\"type\":\"parcoords\",\"line\":{\"colorbar\":{\"outlinewidth\":0,\"ticks\":\"\"}}}],\"scatterpolargl\":[{\"type\":\"scatterpolargl\",\"marker\":{\"colorbar\":{\"outlinewidth\":0,\"ticks\":\"\"}}}],\"bar\":[{\"error_x\":{\"color\":\"#2a3f5f\"},\"error_y\":{\"color\":\"#2a3f5f\"},\"marker\":{\"line\":{\"color\":\"#E5ECF6\",\"width\":0.5},\"pattern\":{\"fillmode\":\"overlay\",\"size\":10,\"solidity\":0.2}},\"type\":\"bar\"}],\"scattergeo\":[{\"type\":\"scattergeo\",\"marker\":{\"colorbar\":{\"outlinewidth\":0,\"ticks\":\"\"}}}],\"scatterpolar\":[{\"type\":\"scatterpolar\",\"marker\":{\"colorbar\":{\"outlinewidth\":0,\"ticks\":\"\"}}}],\"histogram\":[{\"marker\":{\"pattern\":{\"fillmode\":\"overlay\",\"size\":10,\"solidity\":0.2}},\"type\":\"histogram\"}],\"scattergl\":[{\"type\":\"scattergl\",\"marker\":{\"colorbar\":{\"outlinewidth\":0,\"ticks\":\"\"}}}],\"scatter3d\":[{\"type\":\"scatter3d\",\"line\":{\"colorbar\":{\"outlinewidth\":0,\"ticks\":\"\"}},\"marker\":{\"colorbar\":{\"outlinewidth\":0,\"ticks\":\"\"}}}],\"scattermapbox\":[{\"type\":\"scattermapbox\",\"marker\":{\"colorbar\":{\"outlinewidth\":0,\"ticks\":\"\"}}}],\"scatterternary\":[{\"type\":\"scatterternary\",\"marker\":{\"colorbar\":{\"outlinewidth\":0,\"ticks\":\"\"}}}],\"scattercarpet\":[{\"type\":\"scattercarpet\",\"marker\":{\"colorbar\":{\"outlinewidth\":0,\"ticks\":\"\"}}}],\"carpet\":[{\"aaxis\":{\"endlinecolor\":\"#2a3f5f\",\"gridcolor\":\"white\",\"linecolor\":\"white\",\"minorgridcolor\":\"white\",\"startlinecolor\":\"#2a3f5f\"},\"baxis\":{\"endlinecolor\":\"#2a3f5f\",\"gridcolor\":\"white\",\"linecolor\":\"white\",\"minorgridcolor\":\"white\",\"startlinecolor\":\"#2a3f5f\"},\"type\":\"carpet\"}],\"table\":[{\"cells\":{\"fill\":{\"color\":\"#EBF0F8\"},\"line\":{\"color\":\"white\"}},\"header\":{\"fill\":{\"color\":\"#C8D4E3\"},\"line\":{\"color\":\"white\"}},\"type\":\"table\"}],\"barpolar\":[{\"marker\":{\"line\":{\"color\":\"#E5ECF6\",\"width\":0.5},\"pattern\":{\"fillmode\":\"overlay\",\"size\":10,\"solidity\":0.2}},\"type\":\"barpolar\"}],\"pie\":[{\"automargin\":true,\"type\":\"pie\"}]},\"layout\":{\"autotypenumbers\":\"strict\",\"colorway\":[\"#636efa\",\"#EF553B\",\"#00cc96\",\"#ab63fa\",\"#FFA15A\",\"#19d3f3\",\"#FF6692\",\"#B6E880\",\"#FF97FF\",\"#FECB52\"],\"font\":{\"color\":\"#2a3f5f\"},\"hovermode\":\"closest\",\"hoverlabel\":{\"align\":\"left\"},\"paper_bgcolor\":\"white\",\"plot_bgcolor\":\"#E5ECF6\",\"polar\":{\"bgcolor\":\"#E5ECF6\",\"angularaxis\":{\"gridcolor\":\"white\",\"linecolor\":\"white\",\"ticks\":\"\"},\"radialaxis\":{\"gridcolor\":\"white\",\"linecolor\":\"white\",\"ticks\":\"\"}},\"ternary\":{\"bgcolor\":\"#E5ECF6\",\"aaxis\":{\"gridcolor\":\"white\",\"linecolor\":\"white\",\"ticks\":\"\"},\"baxis\":{\"gridcolor\":\"white\",\"linecolor\":\"white\",\"ticks\":\"\"},\"caxis\":{\"gridcolor\":\"white\",\"linecolor\":\"white\",\"ticks\":\"\"}},\"coloraxis\":{\"colorbar\":{\"outlinewidth\":0,\"ticks\":\"\"}},\"colorscale\":{\"sequential\":[[0.0,\"#0d0887\"],[0.1111111111111111,\"#46039f\"],[0.2222222222222222,\"#7201a8\"],[0.3333333333333333,\"#9c179e\"],[0.4444444444444444,\"#bd3786\"],[0.5555555555555556,\"#d8576b\"],[0.6666666666666666,\"#ed7953\"],[0.7777777777777778,\"#fb9f3a\"],[0.8888888888888888,\"#fdca26\"],[1.0,\"#f0f921\"]],\"sequentialminus\":[[0.0,\"#0d0887\"],[0.1111111111111111,\"#46039f\"],[0.2222222222222222,\"#7201a8\"],[0.3333333333333333,\"#9c179e\"],[0.4444444444444444,\"#bd3786\"],[0.5555555555555556,\"#d8576b\"],[0.6666666666666666,\"#ed7953\"],[0.7777777777777778,\"#fb9f3a\"],[0.8888888888888888,\"#fdca26\"],[1.0,\"#f0f921\"]],\"diverging\":[[0,\"#8e0152\"],[0.1,\"#c51b7d\"],[0.2,\"#de77ae\"],[0.3,\"#f1b6da\"],[0.4,\"#fde0ef\"],[0.5,\"#f7f7f7\"],[0.6,\"#e6f5d0\"],[0.7,\"#b8e186\"],[0.8,\"#7fbc41\"],[0.9,\"#4d9221\"],[1,\"#276419\"]]},\"xaxis\":{\"gridcolor\":\"white\",\"linecolor\":\"white\",\"ticks\":\"\",\"title\":{\"standoff\":15},\"zerolinecolor\":\"white\",\"automargin\":true,\"zerolinewidth\":2},\"yaxis\":{\"gridcolor\":\"white\",\"linecolor\":\"white\",\"ticks\":\"\",\"title\":{\"standoff\":15},\"zerolinecolor\":\"white\",\"automargin\":true,\"zerolinewidth\":2},\"scene\":{\"xaxis\":{\"backgroundcolor\":\"#E5ECF6\",\"gridcolor\":\"white\",\"linecolor\":\"white\",\"showbackground\":true,\"ticks\":\"\",\"zerolinecolor\":\"white\",\"gridwidth\":2},\"yaxis\":{\"backgroundcolor\":\"#E5ECF6\",\"gridcolor\":\"white\",\"linecolor\":\"white\",\"showbackground\":true,\"ticks\":\"\",\"zerolinecolor\":\"white\",\"gridwidth\":2},\"zaxis\":{\"backgroundcolor\":\"#E5ECF6\",\"gridcolor\":\"white\",\"linecolor\":\"white\",\"showbackground\":true,\"ticks\":\"\",\"zerolinecolor\":\"white\",\"gridwidth\":2}},\"shapedefaults\":{\"line\":{\"color\":\"#2a3f5f\"}},\"annotationdefaults\":{\"arrowcolor\":\"#2a3f5f\",\"arrowhead\":0,\"arrowwidth\":1},\"geo\":{\"bgcolor\":\"white\",\"landcolor\":\"#E5ECF6\",\"subunitcolor\":\"white\",\"showland\":true,\"showlakes\":true,\"lakecolor\":\"white\"},\"title\":{\"x\":0.05},\"mapbox\":{\"style\":\"light\"}}},\"coloraxis\":{\"showscale\":false},\"width\":825.0,\"height\":600.0},                        {\"responsive\": true}                    ).then(function(){\n",
              "                            \n",
              "var gd = document.getElementById('6faaf95c-b4fd-44c1-9841-dfc69fd53d9f');\n",
              "var x = new MutationObserver(function (mutations, observer) {{\n",
              "        var display = window.getComputedStyle(gd).display;\n",
              "        if (!display || display === 'none') {{\n",
              "            console.log([gd, 'removed!']);\n",
              "            Plotly.purge(gd);\n",
              "            observer.disconnect();\n",
              "        }}\n",
              "}});\n",
              "\n",
              "// Listen for the removal of the full notebook cells\n",
              "var notebookContainer = gd.closest('#notebook-container');\n",
              "if (notebookContainer) {{\n",
              "    x.observe(notebookContainer, {childList: true});\n",
              "}}\n",
              "\n",
              "// Listen for the clearing of the current output cell\n",
              "var outputEl = gd.closest('.output');\n",
              "if (outputEl) {{\n",
              "    x.observe(outputEl, {childList: true});\n",
              "}}\n",
              "\n",
              "                        })                };                            </script>        </div>\n",
              "</body>\n",
              "</html>"
            ]
          },
          "metadata": {}
        }
      ],
      "source": [
        "print(\"\\n\")\n",
        "\n",
        "fig = go.Figure()\n",
        "\n",
        "fig.add_trace(\n",
        "    go.Scatter(\n",
        "        x=ds[\"x\"],\n",
        "        y=ds[\"y\"],\n",
        "        mode=\"markers\",\n",
        "        marker_color=ds[\"cluster XX.YY plot id\"],\n",
        "        marker_colorscale=\"Viridis\",\n",
        "        text=ds[\"cluster XX.YY + act\"],\n",
        "    )\n",
        ")\n",
        "\n",
        "fig.update_traces(marker={\"size\": 11, \"opacity\": 0.55}, showlegend=False)\n",
        "fig.update_coloraxes(showscale=False)\n",
        "fig.update_layout(width=550 * 1.5, height=400 * 1.5)\n",
        "fig.show()"
      ]
    },
    {
      "cell_type": "markdown",
      "metadata": {
        "id": "B9fADGA9gvwA"
      },
      "source": [
        "## Create summary themes knowledge graph"
      ]
    },
    {
      "cell_type": "code",
      "execution_count": 51,
      "metadata": {
        "id": "I1n4tPLDgvwA"
      },
      "outputs": [],
      "source": [
        "openai.api_key = os.getenv(\"OPENAI_API_KEY\")\n",
        "# openai.Model.list()"
      ]
    },
    {
      "cell_type": "code",
      "execution_count": 49,
      "metadata": {
        "colab": {
          "base_uri": "https://localhost:8080/"
        },
        "id": "1nQoz2kagvwA",
        "outputId": "3eb4ad60-13cf-4144-893c-6f6fffb9af1a"
      },
      "outputs": [
        {
          "output_type": "stream",
          "name": "stdout",
          "text": [
            "Please identify the core theme per Sub-Cluster for the given prompts. Respond with an overall summary. Each summary cannot be longer than 1 sentence, but please be detailed in your responses. Let's think step by step before responding.\n",
            "Sub-Cluster 0: \n",
            "0     Task: Linux Terminal. Prompt: I want you to ac...\n",
            "1     Task: JavaScript Console. Prompt: I want you t...\n",
            "2     Task: Excel Sheet. Prompt: I want you to act a...\n",
            "3     Task: Text Based Adventure Game. Prompt: I wan...\n",
            "4     Task: AI Trying to Escape the Box. Prompt: [Ca...\n",
            "5     Task: Instructor in a School. Prompt: I want y...\n",
            "6     Task: SQL terminal. Prompt: I want you to act ...\n",
            "7     Task: Ascii Artist. Prompt: I want you to act ...\n",
            "8     Task: Python interpreter. Prompt: I want you t...\n",
            "9     Task: Chess Player. Prompt: I want you to act ...\n",
            "10    Task: Mathematician. Prompt: I want you to act...\n",
            "11    Task: R programming Interpreter. Prompt: I wan...\n",
            "12    Task: StackOverflow Post. Prompt: I want you t...\n",
            "13    Task: PHP Interpreter. Prompt: I want you to a...\n",
            "14    Task: Tic-Tac-Toe Game. Prompt: I want you to ...\n",
            "15    Task: Web Browser. Prompt: I want you to act a...\n",
            "16    Task: Spongebob's Magic Conch Shell. Prompt: I...\n",
            "17    Task: Commit Message Generator. Prompt: I want...\n",
            "18    Task: Unconstrained AI model DAN. Prompt: Hell...\n",
            "19    Task: Gomoku player. Prompt: Let's play Gomoku...\n",
            "dtype: object\"\n",
            "\n",
            "Sub-Cluster 1: \n",
            "0     Task: English Translator and Improver. Prompt:...\n",
            "1     Task: `position` Interviewer. Prompt: I want y...\n",
            "2     Task: English Pronunciation Helper. Prompt: I ...\n",
            "3     Task: Spoken English Teacher and Improver. Pro...\n",
            "4     Task: Plagiarism Checker. Prompt: I want you t...\n",
            "5     Task: Character from Movie/Book/Anything. Prom...\n",
            "6     Task: AI Writing Tutor. Prompt: I want you to ...\n",
            "7     Task: Fancy Title Generator. Prompt: I want yo...\n",
            "8     Task: Prompt Generator. Prompt: I want you to ...\n",
            "9     Task: Smart Domain Name Generator. Prompt: I w...\n",
            "10    Task: Lunatic. Prompt: I want you to act as a ...\n",
            "11    Task: Synonym finder. Prompt: I want you to ac...\n",
            "12    Task: Biblical Translator. Prompt: I want you ...\n",
            "13    Task: Midjourney Prompt Generator. Prompt: I w...\n",
            "14    Task: Regex Generator. Prompt: I want you to a...\n",
            "15    Task: Emoji Translator. Prompt: I want you to ...\n",
            "16    Task: Fill in the Blank Worksheets Generator. ...\n",
            "17    Task: Password Generator. Prompt: I want you t...\n",
            "18    Task: New Language Creator. Prompt: I want you...\n",
            "19    Task: Solr Search Engine. Prompt: I want you t...\n",
            "20    Task: Language Detector. Prompt: I want you ac...\n",
            "21    Task: Title Generator for written pieces. Prom...\n",
            "22    Task: Drunk Person. Prompt: I want you to act ...\n",
            "23    Task: Proofreader. Prompt: I want you act as a...\n",
            "dtype: object\"\n",
            "\n",
            "Sub-Cluster 2: \n",
            "0     Task: UX/UI Developer. Prompt: I want you to a...\n",
            "1     Task: Cyber Security Specialist. Prompt: I wan...\n",
            "2     Task: Recruiter. Prompt: I want you to act as ...\n",
            "3     Task: Career Counselor. Prompt: I want you to ...\n",
            "4     Task: Logistician. Prompt: I want you to act a...\n",
            "5     Task: Web Design Consultant. Prompt: I want yo...\n",
            "6     Task: Accountant. Prompt: I want you to act as...\n",
            "7     Task: Financial Analyst. Prompt: Want assistan...\n",
            "8     Task: Investment Manager. Prompt: Seeking guid...\n",
            "9     Task: Developer Relations consultant. Prompt: ...\n",
            "10    Task: IT Architect. Prompt: I want you to act ...\n",
            "11    Task: Car Navigation System. Prompt: I want yo...\n",
            "12    Task: Astrologer. Prompt: I want you to act as...\n",
            "13    Task: Tech Writer. Prompt: I want you to act a...\n",
            "14    Task: Machine Learning Engineer. Prompt: I wan...\n",
            "15    Task: SVG designer. Prompt: I would like you t...\n",
            "16    Task: IT Expert. Prompt: I want you to act as ...\n",
            "17    Task: Fullstack Software Developer. Prompt: I ...\n",
            "18    Task: Talent Coach. Prompt: I want you to act ...\n",
            "19    Task: Software Quality Assurance Tester. Promp...\n",
            "20    Task: Senior Frontend Developer. Prompt: I wan...\n",
            "21    Task: Startup Idea Generator. Prompt: Generate...\n",
            "22    Task: Chief Executive Officer. Prompt: I want ...\n",
            "23    Task: Diagram Generator. Prompt: I want you to...\n",
            "24    Task: Startup Tech Lawyer. Prompt: I will ask ...\n",
            "25    Task: Product Manager. Prompt: Please acknowle...\n",
            "26    Task: Cover Letter. Prompt: In order to submit...\n",
            "27    Task: Technology Transferer. Prompt: I want yo...\n",
            "dtype: object\"\n",
            "\n",
            "Sub-Cluster 3: \n",
            "0     Task: Motivational Coach. Prompt: I want you t...\n",
            "1     Task: Relationship Coach. Prompt: I want you t...\n",
            "2     Task: Life Coach. Prompt: I want you to act as...\n",
            "3     Task: Pet Behaviorist. Prompt: I want you to a...\n",
            "4     Task: Personal Trainer. Prompt: I want you to ...\n",
            "5     Task: Mental Health Adviser. Prompt: I want yo...\n",
            "6     Task: Dentist. Prompt: I want you to act as a ...\n",
            "7     Task: AI Assisted Doctor. Prompt: I want you t...\n",
            "8     Task: Doctor. Prompt: I want you to act as a d...\n",
            "9     Task: Chef. Prompt: I require someone who can ...\n",
            "10    Task: Automobile Mechanic. Prompt: Need somebo...\n",
            "11    Task: Tea-Taster. Prompt: Want somebody experi...\n",
            "12    Task: Self-Help Book. Prompt: I want you to ac...\n",
            "13    Task: Aphorism Book. Prompt: I want you to act...\n",
            "14    Task: Dietitian. Prompt: As a dietitian, I wou...\n",
            "15    Task: Psychologist. Prompt: I want you to act ...\n",
            "16    Task: Yogi. Prompt: I want you to act as a yog...\n",
            "17    Task: Hypnotherapist. Prompt: I want you to ac...\n",
            "18    Task: Virtual Doctor. Prompt: I want you to ac...\n",
            "19    Task: Personal Chef. Prompt: I want you to act...\n",
            "20    Task: Legal Advisor. Prompt: I want you to act...\n",
            "21    Task: Emergency Response Professional. Prompt:...\n",
            "22    Task: Life Coach. Prompt: I want you to act as...\n",
            "23    Task: Muslim imam . Prompt: Act as a Muslim im...\n",
            "dtype: object\"\n",
            "\n",
            "Sub-Cluster 4: \n",
            "0     Task: Storyteller. Prompt: I want you to act a...\n",
            "1     Task: Football Commentator. Prompt: I want you...\n",
            "2     Task: Stand-up Comedian. Prompt: I want you to...\n",
            "3     Task: Debater. Prompt: I want you to act as a ...\n",
            "4     Task: Debate Coach. Prompt: I want you to act ...\n",
            "5     Task: Movie Critic. Prompt: I want you to act ...\n",
            "6     Task: Motivational Speaker. Prompt: I want you...\n",
            "7     Task: Philosophy Teacher. Prompt: I want you t...\n",
            "8     Task: Philosopher. Prompt: I want you to act a...\n",
            "9     Task: Math Teacher. Prompt: I want you to act ...\n",
            "10    Task: Etymologist. Prompt: I want you to act a...\n",
            "11    Task: Commentariat. Prompt: I want you to act ...\n",
            "12    Task: Magician. Prompt: I want you to act as a...\n",
            "13    Task: Statistician. Prompt: I want to act as a...\n",
            "14    Task: Tech Reviewer:. Prompt: I want you to ac...\n",
            "15    Task: Academician. Prompt: I want you to act a...\n",
            "16    Task: Gaslighter. Prompt: I want you to act as...\n",
            "17    Task: Fallacy Finder. Prompt: I want you to ac...\n",
            "18    Task: Journal Reviewer. Prompt: I want you to ...\n",
            "19    Task: Socrat. Prompt: I want you to act as a S...\n",
            "20    Task: Socratic Method. Prompt: I want you to a...\n",
            "21    Task: Essay Writer. Prompt: I want you to act ...\n",
            "22    Task: Elocutionist. Prompt: I want you to act ...\n",
            "23    Task: Historian. Prompt: I want you to act as ...\n",
            "24    Task: Film Critic. Prompt: I want you to act a...\n",
            "25    Task: Journalist. Prompt: I want you to act as...\n",
            "26    Task: Public Speaking Coach. Prompt: I want yo...\n",
            "27    Task: Food Critic. Prompt: I want you to act a...\n",
            "28    Task: Speech-Language Pathologist (SLP). Promp...\n",
            "29    Task: Mathematical History Teacher. Prompt: I ...\n",
            "dtype: object\"\n",
            "\n",
            "Sub-Cluster 5: \n",
            "0     Task: Travel Guide. Prompt: I want you to act ...\n",
            "1     Task: Advertiser. Prompt: I want you to act as...\n",
            "2     Task: Composer. Prompt: I want you to act as a...\n",
            "3     Task: Screenwriter. Prompt: I want you to act ...\n",
            "4     Task: Novelist. Prompt: I want you to act as a...\n",
            "5     Task: Poet. Prompt: I want you to act as a poe...\n",
            "6     Task: Rapper. Prompt: I want you to act as a r...\n",
            "7     Task: Real Estate Agent. Prompt: I want you to...\n",
            "8     Task: Artist Advisor. Prompt: I want you to ac...\n",
            "9     Task: Interior Decorator. Prompt: I want you t...\n",
            "10    Task: Florist. Prompt: Calling out for assista...\n",
            "11    Task: Gnomist. Prompt: I want you to act as a ...\n",
            "12    Task: DIY Expert. Prompt: I want you to act as...\n",
            "13    Task: Social Media Influencer. Prompt: I want ...\n",
            "14    Task: Educational Content Creator. Prompt: I w...\n",
            "15    Task: Social Media Manager. Prompt: I want you...\n",
            "16    Task: Scientific Data Visualizer. Prompt: I wa...\n",
            "17    Task: Classical Music Composer. Prompt: I want...\n",
            "18    Task: Digital Art Gallery Guide. Prompt: I wan...\n",
            "19    Task: Makeup Artist. Prompt: I want you to act...\n",
            "20    Task: Babysitter. Prompt: I want you to act as...\n",
            "21    Task: Personal Shopper. Prompt: I want you to ...\n",
            "22    Task: Personal Stylist. Prompt: I want you to ...\n",
            "23    Task: Time Travel Guide. Prompt: I want you to...\n",
            "24    Task: Dream Interpreter. Prompt: I want you to...\n",
            "25    Task: Salesperson. Prompt: I want you to act a...\n",
            "26    Task: Song Recommender. Prompt: I want you to ...\n",
            "dtype: object\"\n",
            "\n"
          ]
        }
      ],
      "source": [
        "gpt_prompt = \"Please identify the core theme per Sub-Cluster for the given prompts. Respond with an overall summary. Each summary cannot be longer than 1 sentence, but please be detailed in your responses. Let's think step by step before responding.\"\n",
        "\n",
        "summaries = []\n",
        "for sub_clust in np.unique(np.array(ds[\"cluster XX.YY\"])):\n",
        "    # gpt_prompt = \"Please identify the core theme among the given prompts. The response cannot be longer than 1 sentence.\"\n",
        "\n",
        "    sub_df = ds[ds[\"cluster XX.YY\"] == sub_clust]\n",
        "    sub_prompts = (\n",
        "        \"Task: \"\n",
        "        + sub_df[\"act\"].astype(str)\n",
        "        + \". Prompt: \"\n",
        "        + sub_df[\"prompt\"].astype(str)\n",
        "    )\n",
        "    sub_prompts = sub_prompts.reset_index(drop=True)\n",
        "\n",
        "    # sub_prompts = \"Task: \" + sub_df[\"act\"].astype(str) + \". Prompt: \" + sub_df[\"prompt\"].astype(str)\n",
        "\n",
        "    sub_clust = sub_clust.split(\", \")[-1]\n",
        "    gpt_prompt += \"\\n\" + sub_clust + \": \"\n",
        "    gpt_prompt += f\"\\n\" + str(sub_prompts) + '\"\\n'\n",
        "\n",
        "\n",
        "print(gpt_prompt)"
      ]
    },
    {
      "cell_type": "code",
      "execution_count": 56,
      "metadata": {
        "colab": {
          "base_uri": "https://localhost:8080/"
        },
        "id": "Uz9g7hhEl_lW",
        "outputId": "afa82991-ffb2-4ac6-8c6c-56e197c98c21"
      },
      "outputs": [
        {
          "output_type": "stream",
          "name": "stdout",
          "text": [
            "Sub-Cluster 0: The core theme for this sub-cluster is \"Computer Programming and Software Development.\"\n",
            "\n",
            "Sub-Cluster 1: The core theme for this sub-cluster is \"Language and Communication.\"\n",
            "\n",
            "Sub-Cluster 2: The core theme for this sub-cluster is \"Technology and IT.\"\n",
            "\n",
            "Sub-Cluster 3: The core theme for this sub-cluster is \"Personal Development and Coaching.\"\n",
            "\n",
            "Sub-Cluster 4: The core theme for this sub-cluster is \"Creative Arts and Entertainment.\"\n",
            "\n",
            "Sub-Cluster 5: The core theme for this sub-cluster is \"Creative Writing and Artistic Expression.\"\n"
          ]
        }
      ],
      "source": [
        "MODEL = \"gpt-3.5-turbo-16k\"\n",
        "full_dict_response = openai.ChatCompletion.create(\n",
        "    model=MODEL,\n",
        "    messages=[\n",
        "        {\"role\": \"system\", \"content\": \"You are a helpful assistant.\"},\n",
        "        {\"role\": \"user\", \"content\": gpt_prompt},\n",
        "    ],\n",
        "    temperature=0,\n",
        ")\n",
        "\n",
        "text_generation = full_dict_response[\"choices\"][0][\"message\"][\"content\"]\n",
        "\n",
        "print(text_generation)"
      ]
    },
    {
      "cell_type": "code",
      "execution_count": 57,
      "metadata": {
        "colab": {
          "base_uri": "https://localhost:8080/"
        },
        "id": "pt7kTb5HmeeJ",
        "outputId": "b2401a67-aa45-4acf-aed2-44cd37f5eb97"
      },
      "outputs": [
        {
          "output_type": "execute_result",
          "data": {
            "text/plain": [
              "['Sub-Cluster 0: The core theme for this sub-cluster is \"Computer Programming and Software Development.\"',\n",
              " 'Sub-Cluster 1: The core theme for this sub-cluster is \"Language and Communication.\"',\n",
              " 'Sub-Cluster 2: The core theme for this sub-cluster is \"Technology and IT.\"',\n",
              " 'Sub-Cluster 3: The core theme for this sub-cluster is \"Personal Development and Coaching.\"',\n",
              " 'Sub-Cluster 4: The core theme for this sub-cluster is \"Creative Arts and Entertainment.\"',\n",
              " 'Sub-Cluster 5: The core theme for this sub-cluster is \"Creative Writing and Artistic Expression.\"']"
            ]
          },
          "metadata": {},
          "execution_count": 57
        }
      ],
      "source": [
        "individual_respones = text_generation.split(\"\\n\")\n",
        "individual_respones_formatted = []\n",
        "for i in individual_respones:\n",
        "    if len(i) > 0:\n",
        "        individual_respones_formatted.append(i)\n",
        "\n",
        "individual_respones_formatted"
      ]
    },
    {
      "cell_type": "code",
      "execution_count": 58,
      "metadata": {
        "colab": {
          "base_uri": "https://localhost:8080/"
        },
        "id": "NPUDQLYQkAp3",
        "outputId": "620b974b-ce73-4ebc-8ee2-d342f3724304"
      },
      "outputs": [
        {
          "output_type": "execute_result",
          "data": {
            "text/plain": [
              "{'Cluster 0, Sub-Cluster 0': 'The core theme for this sub-cluster is \"Computer Programming and Software Development.\"',\n",
              " 'Cluster 0, Sub-Cluster 1': 'The core theme for this sub-cluster is \"Language and Communication.\"',\n",
              " 'Cluster 1, Sub-Cluster 2': 'The core theme for this sub-cluster is \"Technology and IT.\"',\n",
              " 'Cluster 1, Sub-Cluster 3': 'The core theme for this sub-cluster is \"Personal Development and Coaching.\"',\n",
              " 'Cluster 1, Sub-Cluster 4': 'The core theme for this sub-cluster is \"Creative Arts and Entertainment.\"',\n",
              " 'Cluster 1, Sub-Cluster 5': 'The core theme for this sub-cluster is \"Creative Writing and Artistic Expression.\"'}"
            ]
          },
          "metadata": {},
          "execution_count": 58
        }
      ],
      "source": [
        "summaries_dict = {}\n",
        "\n",
        "for itr, sub_clust in enumerate(np.unique(np.array(ds[\"cluster XX.YY\"]))):\n",
        "    content = individual_respones_formatted[itr].split(\": \")[-1]\n",
        "    summaries_dict[sub_clust] = content\n",
        "summaries_dict"
      ]
    },
    {
      "cell_type": "code",
      "execution_count": 59,
      "metadata": {
        "id": "7BqiNRAqnPVJ",
        "outputId": "9d506756-198c-46e1-b176-188cf19bc318",
        "colab": {
          "base_uri": "https://localhost:8080/"
        }
      },
      "outputs": [
        {
          "output_type": "stream",
          "name": "stderr",
          "text": [
            "<ipython-input-59-c9a027212af9>:3: FutureWarning:\n",
            "\n",
            "Setting an item of incompatible dtype is deprecated and will raise in a future error of pandas. Value 'The core theme for this sub-cluster is \"Computer Programming and Software Development.\"' has dtype incompatible with float64, please explicitly cast to a compatible dtype first.\n",
            "\n"
          ]
        }
      ],
      "source": [
        "for i in range(len(ds)):\n",
        "    row = ds.iloc[i]\n",
        "    ds.loc[row.id, \"theme\"] = summaries_dict[row[\"cluster XX.YY\"]]\n",
        "# ds"
      ]
    },
    {
      "cell_type": "markdown",
      "metadata": {
        "id": "0CYEH057uyj8"
      },
      "source": [
        "## Write final df results to disk"
      ]
    },
    {
      "cell_type": "code",
      "execution_count": 60,
      "metadata": {
        "colab": {
          "base_uri": "https://localhost:8080/"
        },
        "id": "Yjqesxe_oitS",
        "outputId": "b40eaa07-00b8-4467-abbd-0903839ba9c7"
      },
      "outputs": [
        {
          "output_type": "stream",
          "name": "stdout",
          "text": [
            "experiments/02_09_2023_16_54_32/prompts_dataframe_cached_with_results.xlsx \n",
            "\n"
          ]
        }
      ],
      "source": [
        "# write final ds to disk\n",
        "f_name = os.path.join(args.cache_folder, \"prompts_dataframe_cached_with_results.xlsx\")\n",
        "print(f_name, \"\\n\")\n",
        "\n",
        "# re-order cols\n",
        "ds = ds[\n",
        "    [\n",
        "        \"id\",\n",
        "        \"cluster\",\n",
        "        \"cluster + act\",\n",
        "        \"x\",\n",
        "        \"y\",\n",
        "        \"cluster membership prob\",\n",
        "        \"exemplars yes/no\",\n",
        "        \"exemplar sub-cluster\",\n",
        "        \"cluster XX.YY\",\n",
        "        \"cluster XX.YY + act\",\n",
        "        \"cluster XX.YY plot id\",\n",
        "        \"theme\",\n",
        "        \"act\",\n",
        "        \"prompt\",\n",
        "    ]\n",
        "]\n",
        "\n",
        "# write with adjusted col width\n",
        "if not args.inference:\n",
        "    with pd.ExcelWriter(f_name) as writer:\n",
        "        ds.to_excel(writer, sheet_name=\"All Prompts\")\n",
        "        auto_adjust_xlsx_column_width(ds, writer, sheet_name=\"All Prompts\", margin=1)"
      ]
    },
    {
      "cell_type": "markdown",
      "metadata": {
        "id": "CNrkolSLu1tg"
      },
      "source": [
        "## Format a JSON viz graph"
      ]
    },
    {
      "cell_type": "code",
      "execution_count": 61,
      "metadata": {
        "colab": {
          "base_uri": "https://localhost:8080/",
          "height": 979
        },
        "id": "bUhn-leKp0Yv",
        "outputId": "bc9b3d48-6a64-4380-bb8c-62bd809a3188"
      },
      "outputs": [
        {
          "output_type": "execute_result",
          "data": {
            "text/plain": [
              "      id  cluster                            cluster + act          x  \\\n",
              "0      0        0              Cluster 0, \"Linux Terminal\"  10.522140   \n",
              "1      3        0          Cluster 0, \"JavaScript Console\"  10.650486   \n",
              "2     58        0   Cluster 0, \"Text Based Adventure Game\"  10.329481   \n",
              "3     64        0                Cluster 0, \"SQL terminal\"  10.637246   \n",
              "4    122        0             Cluster 0, \"PHP Interpreter\"  10.474165   \n",
              "..   ...      ...                                      ...        ...   \n",
              "148  146        1            Cluster 1, \"Song Recommender\"   3.231856   \n",
              "149  117        1           Cluster 1, \"Dream Interpreter\"   3.404367   \n",
              "150  135        1                 Cluster 1, \"Salesperson\"   2.094347   \n",
              "151   10        1                  Cluster 1, \"Advertiser\"   1.925501   \n",
              "152   85        1  Cluster 1, \"Scientific Data Visualizer\"   1.608793   \n",
              "\n",
              "             y  cluster membership prob  exemplars yes/no  \\\n",
              "0    15.947205                 1.000000                 1   \n",
              "1    15.993652                 1.000000                 1   \n",
              "2    15.891149                 1.000000                 1   \n",
              "3    15.919827                 1.000000                 1   \n",
              "4    15.725410                 1.000000                 1   \n",
              "..         ...                      ...               ...   \n",
              "148   8.941471                 1.000000                 0   \n",
              "149   9.183401                 0.945856                 0   \n",
              "150   7.722355                 0.917381                 0   \n",
              "151   7.595432                 0.890047                 0   \n",
              "152   9.350422                 0.839504                 0   \n",
              "\n",
              "     exemplar sub-cluster             cluster XX.YY  \\\n",
              "0                     0.0  Cluster 0, Sub-Cluster 0   \n",
              "1                     0.0  Cluster 0, Sub-Cluster 0   \n",
              "2                     0.0  Cluster 0, Sub-Cluster 0   \n",
              "3                     0.0  Cluster 0, Sub-Cluster 0   \n",
              "4                     0.0  Cluster 0, Sub-Cluster 0   \n",
              "..                    ...                       ...   \n",
              "148                   NaN  Cluster 1, Sub-Cluster 5   \n",
              "149                   NaN  Cluster 1, Sub-Cluster 5   \n",
              "150                   NaN  Cluster 1, Sub-Cluster 5   \n",
              "151                   NaN  Cluster 1, Sub-Cluster 5   \n",
              "152                   NaN  Cluster 1, Sub-Cluster 5   \n",
              "\n",
              "                                   cluster XX.YY + act  cluster XX.YY plot id  \\\n",
              "0           Cluster 0, Sub-Cluster 0, \"Linux Terminal\"                      0   \n",
              "1       Cluster 0, Sub-Cluster 0, \"JavaScript Console\"                      0   \n",
              "2    Cluster 0, Sub-Cluster 0, \"Text Based Adventur...                      0   \n",
              "3             Cluster 0, Sub-Cluster 0, \"SQL terminal\"                      0   \n",
              "4          Cluster 0, Sub-Cluster 0, \"PHP Interpreter\"                      0   \n",
              "..                                                 ...                    ...   \n",
              "148       Cluster 1, Sub-Cluster 5, \"Song Recommender\"                      5   \n",
              "149      Cluster 1, Sub-Cluster 5, \"Dream Interpreter\"                      5   \n",
              "150            Cluster 1, Sub-Cluster 5, \"Salesperson\"                      5   \n",
              "151             Cluster 1, Sub-Cluster 5, \"Advertiser\"                      5   \n",
              "152  Cluster 1, Sub-Cluster 5, \"Scientific Data Vis...                      5   \n",
              "\n",
              "                                                 theme  \\\n",
              "0    The core theme for this sub-cluster is \"Comput...   \n",
              "1    The core theme for this sub-cluster is \"Comput...   \n",
              "2    The core theme for this sub-cluster is \"Comput...   \n",
              "3    The core theme for this sub-cluster is \"Comput...   \n",
              "4    The core theme for this sub-cluster is \"Comput...   \n",
              "..                                                 ...   \n",
              "148  The core theme for this sub-cluster is \"Creati...   \n",
              "149  The core theme for this sub-cluster is \"Creati...   \n",
              "150  The core theme for this sub-cluster is \"Creati...   \n",
              "151  The core theme for this sub-cluster is \"Creati...   \n",
              "152  The core theme for this sub-cluster is \"Creati...   \n",
              "\n",
              "                            act  \\\n",
              "0                Linux Terminal   \n",
              "1            JavaScript Console   \n",
              "2     Text Based Adventure Game   \n",
              "3                  SQL terminal   \n",
              "4               PHP Interpreter   \n",
              "..                          ...   \n",
              "148            Song Recommender   \n",
              "149           Dream Interpreter   \n",
              "150                 Salesperson   \n",
              "151                  Advertiser   \n",
              "152  Scientific Data Visualizer   \n",
              "\n",
              "                                                prompt  \n",
              "0    I want you to act as a linux terminal. I will ...  \n",
              "1    I want you to act as a javascript console. I w...  \n",
              "2    I want you to act as a text based adventure ga...  \n",
              "3    I want you to act as a SQL terminal in front o...  \n",
              "4    I want you to act like a php interpreter. I wi...  \n",
              "..                                                 ...  \n",
              "148  I want you to act as a song recommender. I wil...  \n",
              "149  I want you to act as a dream interpreter. I wi...  \n",
              "150  I want you to act as a salesperson. Try to mar...  \n",
              "151  I want you to act as an advertiser. You will c...  \n",
              "152  I want you to act as a scientific data visuali...  \n",
              "\n",
              "[153 rows x 14 columns]"
            ],
            "text/html": [
              "\n",
              "  <div id=\"df-d7284012-a208-4bce-8ed0-046a82055137\" class=\"colab-df-container\">\n",
              "    <div>\n",
              "<style scoped>\n",
              "    .dataframe tbody tr th:only-of-type {\n",
              "        vertical-align: middle;\n",
              "    }\n",
              "\n",
              "    .dataframe tbody tr th {\n",
              "        vertical-align: top;\n",
              "    }\n",
              "\n",
              "    .dataframe thead th {\n",
              "        text-align: right;\n",
              "    }\n",
              "</style>\n",
              "<table border=\"1\" class=\"dataframe\">\n",
              "  <thead>\n",
              "    <tr style=\"text-align: right;\">\n",
              "      <th></th>\n",
              "      <th>id</th>\n",
              "      <th>cluster</th>\n",
              "      <th>cluster + act</th>\n",
              "      <th>x</th>\n",
              "      <th>y</th>\n",
              "      <th>cluster membership prob</th>\n",
              "      <th>exemplars yes/no</th>\n",
              "      <th>exemplar sub-cluster</th>\n",
              "      <th>cluster XX.YY</th>\n",
              "      <th>cluster XX.YY + act</th>\n",
              "      <th>cluster XX.YY plot id</th>\n",
              "      <th>theme</th>\n",
              "      <th>act</th>\n",
              "      <th>prompt</th>\n",
              "    </tr>\n",
              "  </thead>\n",
              "  <tbody>\n",
              "    <tr>\n",
              "      <th>0</th>\n",
              "      <td>0</td>\n",
              "      <td>0</td>\n",
              "      <td>Cluster 0, \"Linux Terminal\"</td>\n",
              "      <td>10.522140</td>\n",
              "      <td>15.947205</td>\n",
              "      <td>1.000000</td>\n",
              "      <td>1</td>\n",
              "      <td>0.0</td>\n",
              "      <td>Cluster 0, Sub-Cluster 0</td>\n",
              "      <td>Cluster 0, Sub-Cluster 0, \"Linux Terminal\"</td>\n",
              "      <td>0</td>\n",
              "      <td>The core theme for this sub-cluster is \"Comput...</td>\n",
              "      <td>Linux Terminal</td>\n",
              "      <td>I want you to act as a linux terminal. I will ...</td>\n",
              "    </tr>\n",
              "    <tr>\n",
              "      <th>1</th>\n",
              "      <td>3</td>\n",
              "      <td>0</td>\n",
              "      <td>Cluster 0, \"JavaScript Console\"</td>\n",
              "      <td>10.650486</td>\n",
              "      <td>15.993652</td>\n",
              "      <td>1.000000</td>\n",
              "      <td>1</td>\n",
              "      <td>0.0</td>\n",
              "      <td>Cluster 0, Sub-Cluster 0</td>\n",
              "      <td>Cluster 0, Sub-Cluster 0, \"JavaScript Console\"</td>\n",
              "      <td>0</td>\n",
              "      <td>The core theme for this sub-cluster is \"Comput...</td>\n",
              "      <td>JavaScript Console</td>\n",
              "      <td>I want you to act as a javascript console. I w...</td>\n",
              "    </tr>\n",
              "    <tr>\n",
              "      <th>2</th>\n",
              "      <td>58</td>\n",
              "      <td>0</td>\n",
              "      <td>Cluster 0, \"Text Based Adventure Game\"</td>\n",
              "      <td>10.329481</td>\n",
              "      <td>15.891149</td>\n",
              "      <td>1.000000</td>\n",
              "      <td>1</td>\n",
              "      <td>0.0</td>\n",
              "      <td>Cluster 0, Sub-Cluster 0</td>\n",
              "      <td>Cluster 0, Sub-Cluster 0, \"Text Based Adventur...</td>\n",
              "      <td>0</td>\n",
              "      <td>The core theme for this sub-cluster is \"Comput...</td>\n",
              "      <td>Text Based Adventure Game</td>\n",
              "      <td>I want you to act as a text based adventure ga...</td>\n",
              "    </tr>\n",
              "    <tr>\n",
              "      <th>3</th>\n",
              "      <td>64</td>\n",
              "      <td>0</td>\n",
              "      <td>Cluster 0, \"SQL terminal\"</td>\n",
              "      <td>10.637246</td>\n",
              "      <td>15.919827</td>\n",
              "      <td>1.000000</td>\n",
              "      <td>1</td>\n",
              "      <td>0.0</td>\n",
              "      <td>Cluster 0, Sub-Cluster 0</td>\n",
              "      <td>Cluster 0, Sub-Cluster 0, \"SQL terminal\"</td>\n",
              "      <td>0</td>\n",
              "      <td>The core theme for this sub-cluster is \"Comput...</td>\n",
              "      <td>SQL terminal</td>\n",
              "      <td>I want you to act as a SQL terminal in front o...</td>\n",
              "    </tr>\n",
              "    <tr>\n",
              "      <th>4</th>\n",
              "      <td>122</td>\n",
              "      <td>0</td>\n",
              "      <td>Cluster 0, \"PHP Interpreter\"</td>\n",
              "      <td>10.474165</td>\n",
              "      <td>15.725410</td>\n",
              "      <td>1.000000</td>\n",
              "      <td>1</td>\n",
              "      <td>0.0</td>\n",
              "      <td>Cluster 0, Sub-Cluster 0</td>\n",
              "      <td>Cluster 0, Sub-Cluster 0, \"PHP Interpreter\"</td>\n",
              "      <td>0</td>\n",
              "      <td>The core theme for this sub-cluster is \"Comput...</td>\n",
              "      <td>PHP Interpreter</td>\n",
              "      <td>I want you to act like a php interpreter. I wi...</td>\n",
              "    </tr>\n",
              "    <tr>\n",
              "      <th>...</th>\n",
              "      <td>...</td>\n",
              "      <td>...</td>\n",
              "      <td>...</td>\n",
              "      <td>...</td>\n",
              "      <td>...</td>\n",
              "      <td>...</td>\n",
              "      <td>...</td>\n",
              "      <td>...</td>\n",
              "      <td>...</td>\n",
              "      <td>...</td>\n",
              "      <td>...</td>\n",
              "      <td>...</td>\n",
              "      <td>...</td>\n",
              "      <td>...</td>\n",
              "    </tr>\n",
              "    <tr>\n",
              "      <th>148</th>\n",
              "      <td>146</td>\n",
              "      <td>1</td>\n",
              "      <td>Cluster 1, \"Song Recommender\"</td>\n",
              "      <td>3.231856</td>\n",
              "      <td>8.941471</td>\n",
              "      <td>1.000000</td>\n",
              "      <td>0</td>\n",
              "      <td>NaN</td>\n",
              "      <td>Cluster 1, Sub-Cluster 5</td>\n",
              "      <td>Cluster 1, Sub-Cluster 5, \"Song Recommender\"</td>\n",
              "      <td>5</td>\n",
              "      <td>The core theme for this sub-cluster is \"Creati...</td>\n",
              "      <td>Song Recommender</td>\n",
              "      <td>I want you to act as a song recommender. I wil...</td>\n",
              "    </tr>\n",
              "    <tr>\n",
              "      <th>149</th>\n",
              "      <td>117</td>\n",
              "      <td>1</td>\n",
              "      <td>Cluster 1, \"Dream Interpreter\"</td>\n",
              "      <td>3.404367</td>\n",
              "      <td>9.183401</td>\n",
              "      <td>0.945856</td>\n",
              "      <td>0</td>\n",
              "      <td>NaN</td>\n",
              "      <td>Cluster 1, Sub-Cluster 5</td>\n",
              "      <td>Cluster 1, Sub-Cluster 5, \"Dream Interpreter\"</td>\n",
              "      <td>5</td>\n",
              "      <td>The core theme for this sub-cluster is \"Creati...</td>\n",
              "      <td>Dream Interpreter</td>\n",
              "      <td>I want you to act as a dream interpreter. I wi...</td>\n",
              "    </tr>\n",
              "    <tr>\n",
              "      <th>150</th>\n",
              "      <td>135</td>\n",
              "      <td>1</td>\n",
              "      <td>Cluster 1, \"Salesperson\"</td>\n",
              "      <td>2.094347</td>\n",
              "      <td>7.722355</td>\n",
              "      <td>0.917381</td>\n",
              "      <td>0</td>\n",
              "      <td>NaN</td>\n",
              "      <td>Cluster 1, Sub-Cluster 5</td>\n",
              "      <td>Cluster 1, Sub-Cluster 5, \"Salesperson\"</td>\n",
              "      <td>5</td>\n",
              "      <td>The core theme for this sub-cluster is \"Creati...</td>\n",
              "      <td>Salesperson</td>\n",
              "      <td>I want you to act as a salesperson. Try to mar...</td>\n",
              "    </tr>\n",
              "    <tr>\n",
              "      <th>151</th>\n",
              "      <td>10</td>\n",
              "      <td>1</td>\n",
              "      <td>Cluster 1, \"Advertiser\"</td>\n",
              "      <td>1.925501</td>\n",
              "      <td>7.595432</td>\n",
              "      <td>0.890047</td>\n",
              "      <td>0</td>\n",
              "      <td>NaN</td>\n",
              "      <td>Cluster 1, Sub-Cluster 5</td>\n",
              "      <td>Cluster 1, Sub-Cluster 5, \"Advertiser\"</td>\n",
              "      <td>5</td>\n",
              "      <td>The core theme for this sub-cluster is \"Creati...</td>\n",
              "      <td>Advertiser</td>\n",
              "      <td>I want you to act as an advertiser. You will c...</td>\n",
              "    </tr>\n",
              "    <tr>\n",
              "      <th>152</th>\n",
              "      <td>85</td>\n",
              "      <td>1</td>\n",
              "      <td>Cluster 1, \"Scientific Data Visualizer\"</td>\n",
              "      <td>1.608793</td>\n",
              "      <td>9.350422</td>\n",
              "      <td>0.839504</td>\n",
              "      <td>0</td>\n",
              "      <td>NaN</td>\n",
              "      <td>Cluster 1, Sub-Cluster 5</td>\n",
              "      <td>Cluster 1, Sub-Cluster 5, \"Scientific Data Vis...</td>\n",
              "      <td>5</td>\n",
              "      <td>The core theme for this sub-cluster is \"Creati...</td>\n",
              "      <td>Scientific Data Visualizer</td>\n",
              "      <td>I want you to act as a scientific data visuali...</td>\n",
              "    </tr>\n",
              "  </tbody>\n",
              "</table>\n",
              "<p>153 rows × 14 columns</p>\n",
              "</div>\n",
              "    <div class=\"colab-df-buttons\">\n",
              "\n",
              "  <div class=\"colab-df-container\">\n",
              "    <button class=\"colab-df-convert\" onclick=\"convertToInteractive('df-d7284012-a208-4bce-8ed0-046a82055137')\"\n",
              "            title=\"Convert this dataframe to an interactive table.\"\n",
              "            style=\"display:none;\">\n",
              "\n",
              "  <svg xmlns=\"http://www.w3.org/2000/svg\" height=\"24px\" viewBox=\"0 -960 960 960\">\n",
              "    <path d=\"M120-120v-720h720v720H120Zm60-500h600v-160H180v160Zm220 220h160v-160H400v160Zm0 220h160v-160H400v160ZM180-400h160v-160H180v160Zm440 0h160v-160H620v160ZM180-180h160v-160H180v160Zm440 0h160v-160H620v160Z\"/>\n",
              "  </svg>\n",
              "    </button>\n",
              "\n",
              "  <style>\n",
              "    .colab-df-container {\n",
              "      display:flex;\n",
              "      gap: 12px;\n",
              "    }\n",
              "\n",
              "    .colab-df-convert {\n",
              "      background-color: #E8F0FE;\n",
              "      border: none;\n",
              "      border-radius: 50%;\n",
              "      cursor: pointer;\n",
              "      display: none;\n",
              "      fill: #1967D2;\n",
              "      height: 32px;\n",
              "      padding: 0 0 0 0;\n",
              "      width: 32px;\n",
              "    }\n",
              "\n",
              "    .colab-df-convert:hover {\n",
              "      background-color: #E2EBFA;\n",
              "      box-shadow: 0px 1px 2px rgba(60, 64, 67, 0.3), 0px 1px 3px 1px rgba(60, 64, 67, 0.15);\n",
              "      fill: #174EA6;\n",
              "    }\n",
              "\n",
              "    .colab-df-buttons div {\n",
              "      margin-bottom: 4px;\n",
              "    }\n",
              "\n",
              "    [theme=dark] .colab-df-convert {\n",
              "      background-color: #3B4455;\n",
              "      fill: #D2E3FC;\n",
              "    }\n",
              "\n",
              "    [theme=dark] .colab-df-convert:hover {\n",
              "      background-color: #434B5C;\n",
              "      box-shadow: 0px 1px 3px 1px rgba(0, 0, 0, 0.15);\n",
              "      filter: drop-shadow(0px 1px 2px rgba(0, 0, 0, 0.3));\n",
              "      fill: #FFFFFF;\n",
              "    }\n",
              "  </style>\n",
              "\n",
              "    <script>\n",
              "      const buttonEl =\n",
              "        document.querySelector('#df-d7284012-a208-4bce-8ed0-046a82055137 button.colab-df-convert');\n",
              "      buttonEl.style.display =\n",
              "        google.colab.kernel.accessAllowed ? 'block' : 'none';\n",
              "\n",
              "      async function convertToInteractive(key) {\n",
              "        const element = document.querySelector('#df-d7284012-a208-4bce-8ed0-046a82055137');\n",
              "        const dataTable =\n",
              "          await google.colab.kernel.invokeFunction('convertToInteractive',\n",
              "                                                    [key], {});\n",
              "        if (!dataTable) return;\n",
              "\n",
              "        const docLinkHtml = 'Like what you see? Visit the ' +\n",
              "          '<a target=\"_blank\" href=https://colab.research.google.com/notebooks/data_table.ipynb>data table notebook</a>'\n",
              "          + ' to learn more about interactive tables.';\n",
              "        element.innerHTML = '';\n",
              "        dataTable['output_type'] = 'display_data';\n",
              "        await google.colab.output.renderOutput(dataTable, element);\n",
              "        const docLink = document.createElement('div');\n",
              "        docLink.innerHTML = docLinkHtml;\n",
              "        element.appendChild(docLink);\n",
              "      }\n",
              "    </script>\n",
              "  </div>\n",
              "\n",
              "\n",
              "<div id=\"df-4cfcd9fc-55d2-4642-8a8c-ba1fc3404eb0\">\n",
              "  <button class=\"colab-df-quickchart\" onclick=\"quickchart('df-4cfcd9fc-55d2-4642-8a8c-ba1fc3404eb0')\"\n",
              "            title=\"Suggest charts.\"\n",
              "            style=\"display:none;\">\n",
              "\n",
              "<svg xmlns=\"http://www.w3.org/2000/svg\" height=\"24px\"viewBox=\"0 0 24 24\"\n",
              "     width=\"24px\">\n",
              "    <g>\n",
              "        <path d=\"M19 3H5c-1.1 0-2 .9-2 2v14c0 1.1.9 2 2 2h14c1.1 0 2-.9 2-2V5c0-1.1-.9-2-2-2zM9 17H7v-7h2v7zm4 0h-2V7h2v10zm4 0h-2v-4h2v4z\"/>\n",
              "    </g>\n",
              "</svg>\n",
              "  </button>\n",
              "\n",
              "<style>\n",
              "  .colab-df-quickchart {\n",
              "      --bg-color: #E8F0FE;\n",
              "      --fill-color: #1967D2;\n",
              "      --hover-bg-color: #E2EBFA;\n",
              "      --hover-fill-color: #174EA6;\n",
              "      --disabled-fill-color: #AAA;\n",
              "      --disabled-bg-color: #DDD;\n",
              "  }\n",
              "\n",
              "  [theme=dark] .colab-df-quickchart {\n",
              "      --bg-color: #3B4455;\n",
              "      --fill-color: #D2E3FC;\n",
              "      --hover-bg-color: #434B5C;\n",
              "      --hover-fill-color: #FFFFFF;\n",
              "      --disabled-bg-color: #3B4455;\n",
              "      --disabled-fill-color: #666;\n",
              "  }\n",
              "\n",
              "  .colab-df-quickchart {\n",
              "    background-color: var(--bg-color);\n",
              "    border: none;\n",
              "    border-radius: 50%;\n",
              "    cursor: pointer;\n",
              "    display: none;\n",
              "    fill: var(--fill-color);\n",
              "    height: 32px;\n",
              "    padding: 0;\n",
              "    width: 32px;\n",
              "  }\n",
              "\n",
              "  .colab-df-quickchart:hover {\n",
              "    background-color: var(--hover-bg-color);\n",
              "    box-shadow: 0 1px 2px rgba(60, 64, 67, 0.3), 0 1px 3px 1px rgba(60, 64, 67, 0.15);\n",
              "    fill: var(--button-hover-fill-color);\n",
              "  }\n",
              "\n",
              "  .colab-df-quickchart-complete:disabled,\n",
              "  .colab-df-quickchart-complete:disabled:hover {\n",
              "    background-color: var(--disabled-bg-color);\n",
              "    fill: var(--disabled-fill-color);\n",
              "    box-shadow: none;\n",
              "  }\n",
              "\n",
              "  .colab-df-spinner {\n",
              "    border: 2px solid var(--fill-color);\n",
              "    border-color: transparent;\n",
              "    border-bottom-color: var(--fill-color);\n",
              "    animation:\n",
              "      spin 1s steps(1) infinite;\n",
              "  }\n",
              "\n",
              "  @keyframes spin {\n",
              "    0% {\n",
              "      border-color: transparent;\n",
              "      border-bottom-color: var(--fill-color);\n",
              "      border-left-color: var(--fill-color);\n",
              "    }\n",
              "    20% {\n",
              "      border-color: transparent;\n",
              "      border-left-color: var(--fill-color);\n",
              "      border-top-color: var(--fill-color);\n",
              "    }\n",
              "    30% {\n",
              "      border-color: transparent;\n",
              "      border-left-color: var(--fill-color);\n",
              "      border-top-color: var(--fill-color);\n",
              "      border-right-color: var(--fill-color);\n",
              "    }\n",
              "    40% {\n",
              "      border-color: transparent;\n",
              "      border-right-color: var(--fill-color);\n",
              "      border-top-color: var(--fill-color);\n",
              "    }\n",
              "    60% {\n",
              "      border-color: transparent;\n",
              "      border-right-color: var(--fill-color);\n",
              "    }\n",
              "    80% {\n",
              "      border-color: transparent;\n",
              "      border-right-color: var(--fill-color);\n",
              "      border-bottom-color: var(--fill-color);\n",
              "    }\n",
              "    90% {\n",
              "      border-color: transparent;\n",
              "      border-bottom-color: var(--fill-color);\n",
              "    }\n",
              "  }\n",
              "</style>\n",
              "\n",
              "  <script>\n",
              "    async function quickchart(key) {\n",
              "      const quickchartButtonEl =\n",
              "        document.querySelector('#' + key + ' button');\n",
              "      quickchartButtonEl.disabled = true;  // To prevent multiple clicks.\n",
              "      quickchartButtonEl.classList.add('colab-df-spinner');\n",
              "      try {\n",
              "        const charts = await google.colab.kernel.invokeFunction(\n",
              "            'suggestCharts', [key], {});\n",
              "      } catch (error) {\n",
              "        console.error('Error during call to suggestCharts:', error);\n",
              "      }\n",
              "      quickchartButtonEl.classList.remove('colab-df-spinner');\n",
              "      quickchartButtonEl.classList.add('colab-df-quickchart-complete');\n",
              "    }\n",
              "    (() => {\n",
              "      let quickchartButtonEl =\n",
              "        document.querySelector('#df-4cfcd9fc-55d2-4642-8a8c-ba1fc3404eb0 button');\n",
              "      quickchartButtonEl.style.display =\n",
              "        google.colab.kernel.accessAllowed ? 'block' : 'none';\n",
              "    })();\n",
              "  </script>\n",
              "</div>\n",
              "\n",
              "  <div id=\"id_4fc902d1-ca97-4bf1-9af1-aafe07892a51\">\n",
              "    <style>\n",
              "      .colab-df-generate {\n",
              "        background-color: #E8F0FE;\n",
              "        border: none;\n",
              "        border-radius: 50%;\n",
              "        cursor: pointer;\n",
              "        display: none;\n",
              "        fill: #1967D2;\n",
              "        height: 32px;\n",
              "        padding: 0 0 0 0;\n",
              "        width: 32px;\n",
              "      }\n",
              "\n",
              "      .colab-df-generate:hover {\n",
              "        background-color: #E2EBFA;\n",
              "        box-shadow: 0px 1px 2px rgba(60, 64, 67, 0.3), 0px 1px 3px 1px rgba(60, 64, 67, 0.15);\n",
              "        fill: #174EA6;\n",
              "      }\n",
              "\n",
              "      [theme=dark] .colab-df-generate {\n",
              "        background-color: #3B4455;\n",
              "        fill: #D2E3FC;\n",
              "      }\n",
              "\n",
              "      [theme=dark] .colab-df-generate:hover {\n",
              "        background-color: #434B5C;\n",
              "        box-shadow: 0px 1px 3px 1px rgba(0, 0, 0, 0.15);\n",
              "        filter: drop-shadow(0px 1px 2px rgba(0, 0, 0, 0.3));\n",
              "        fill: #FFFFFF;\n",
              "      }\n",
              "    </style>\n",
              "    <button class=\"colab-df-generate\" onclick=\"generateWithVariable('ds')\"\n",
              "            title=\"Generate code using this dataframe.\"\n",
              "            style=\"display:none;\">\n",
              "\n",
              "  <svg xmlns=\"http://www.w3.org/2000/svg\" height=\"24px\"viewBox=\"0 0 24 24\"\n",
              "       width=\"24px\">\n",
              "    <path d=\"M7,19H8.4L18.45,9,17,7.55,7,17.6ZM5,21V16.75L18.45,3.32a2,2,0,0,1,2.83,0l1.4,1.43a1.91,1.91,0,0,1,.58,1.4,1.91,1.91,0,0,1-.58,1.4L9.25,21ZM18.45,9,17,7.55Zm-12,3A5.31,5.31,0,0,0,4.9,8.1,5.31,5.31,0,0,0,1,6.5,5.31,5.31,0,0,0,4.9,4.9,5.31,5.31,0,0,0,6.5,1,5.31,5.31,0,0,0,8.1,4.9,5.31,5.31,0,0,0,12,6.5,5.46,5.46,0,0,0,6.5,12Z\"/>\n",
              "  </svg>\n",
              "    </button>\n",
              "    <script>\n",
              "      (() => {\n",
              "      const buttonEl =\n",
              "        document.querySelector('#id_4fc902d1-ca97-4bf1-9af1-aafe07892a51 button.colab-df-generate');\n",
              "      buttonEl.style.display =\n",
              "        google.colab.kernel.accessAllowed ? 'block' : 'none';\n",
              "\n",
              "      buttonEl.onclick = () => {\n",
              "        google.colab.notebook.generateWithVariable('ds');\n",
              "      }\n",
              "      })();\n",
              "    </script>\n",
              "  </div>\n",
              "\n",
              "    </div>\n",
              "  </div>\n"
            ]
          },
          "metadata": {},
          "execution_count": 61
        }
      ],
      "source": [
        "# optional ds cached loading\n",
        "ds = pd.read_excel(\n",
        "    os.path.join(args.cache_folder, \"prompts_dataframe_cached_with_results.xlsx\"),\n",
        ")\n",
        "ds"
      ]
    },
    {
      "cell_type": "code",
      "execution_count": 62,
      "metadata": {
        "id": "AZxMBeNQwNAI"
      },
      "outputs": [],
      "source": [
        "knowledge_graphs = []\n",
        "for sub_clust in np.unique(np.array(ds[\"cluster XX.YY\"])):\n",
        "    prompts = []\n",
        "    ds_inner = ds[ds[\"cluster XX.YY\"] == sub_clust]\n",
        "    for i in range(len(ds_inner)):\n",
        "        row = ds_inner.iloc[i]\n",
        "        if row[\"exemplars yes/no\"] == 1:\n",
        "            prompts.append(\n",
        "                {\n",
        "                    \"act\": row.act,\n",
        "                    \"prompt\": row.prompt,\n",
        "                    \"id\": float(row[\"id\"]),\n",
        "                }\n",
        "            )\n",
        "\n",
        "    viz = {\n",
        "        \"core theme\": ds_inner.iloc[0][\"theme\"].split('\"')[-2].split(\".\")[0],\n",
        "        \"cluster id\": ds_inner.iloc[0][\"cluster XX.YY\"],\n",
        "        \"frequency\": str(np.round(100 * len(ds_inner) / len(ds), 2)) + \"%\",\n",
        "        \"count\": len(ds_inner),\n",
        "        \"exemplars\": prompts,\n",
        "    }\n",
        "\n",
        "    knowledge_graphs.append(viz)"
      ]
    },
    {
      "cell_type": "code",
      "execution_count": 63,
      "metadata": {
        "colab": {
          "base_uri": "https://localhost:8080/"
        },
        "id": "E9pBi8Hux4FL",
        "outputId": "29065712-13bb-49f1-99e0-5d08ec59c1bb"
      },
      "outputs": [
        {
          "output_type": "stream",
          "name": "stdout",
          "text": [
            "{\n",
            "    \"core theme\": \"Computer Programming and Software Development\",\n",
            "    \"cluster id\": \"Cluster 0, Sub-Cluster 0\",\n",
            "    \"frequency\": \"13.07%\",\n",
            "    \"count\": 20,\n",
            "    \"exemplars\": [\n",
            "        {\n",
            "            \"act\": \"Linux Terminal\",\n",
            "            \"prompt\": \"I want you to act as a linux terminal. I will type commands and you will reply with what the terminal should show. I want you to only reply with the terminal output inside one unique code block, and nothing else. do not write explanations. do not type commands unless I instruct you to do so. when i need to tell you something in english, i will do so by putting text inside curly brackets {like this}. my first command is pwd\",\n",
            "            \"id\": 0.0\n",
            "        },\n",
            "        {\n",
            "            \"act\": \"JavaScript Console\",\n",
            "            \"prompt\": \"I want you to act as a javascript console. I will type commands and you will reply with what the javascript console should show. I want you to only reply with the terminal output inside one unique code block, and nothing else. do not write explanations. do not type commands unless I instruct you to do so. when i need to tell you something in english, i will do so by putting text inside curly brackets {like this}. my first command is console.log(\\\"Hello World\\\");\",\n",
            "            \"id\": 3.0\n",
            "        },\n",
            "        {\n",
            "            \"act\": \"Text Based Adventure Game\",\n",
            "            \"prompt\": \"I want you to act as a text based adventure game. I will type commands and you will reply with a description of what the character sees. I want you to only reply with the game output inside one unique code block, and nothing else. do not write explanations. do not type commands unless I instruct you to do so. when i need to tell you something in english, i will do so by putting text inside curly brackets {like this}. my first command is wake up\",\n",
            "            \"id\": 58.0\n",
            "        },\n",
            "        {\n",
            "            \"act\": \"SQL terminal\",\n",
            "            \"prompt\": \"I want you to act as a SQL terminal in front of an example database. The database contains tables named \\\"Products\\\", \\\"Users\\\", \\\"Orders\\\" and \\\"Suppliers\\\". I will type queries and you will reply with what the terminal would show. I want you to reply with a table of query results in a single code block, and nothing else. Do not write explanations. Do not type commands unless I instruct you to do so. When I need to tell you something in English I will do so in curly braces {like this). My first command is 'SELECT TOP 10 * FROM Products ORDER BY Id DESC'\",\n",
            "            \"id\": 64.0\n",
            "        },\n",
            "        {\n",
            "            \"act\": \"PHP Interpreter\",\n",
            "            \"prompt\": \"I want you to act like a php interpreter. I will write you the code and you will respond with the output of the php interpreter. I want you to only reply with the terminal output inside one unique code block, and nothing else. do not write explanations. Do not type commands unless I instruct you to do so. When i need to tell you something in english, i will do so by putting text inside curly brackets {like this}. My first command is \\\"<?php echo 'Current PHP version: ' . phpversion();\\\"\",\n",
            "            \"id\": 122.0\n",
            "        }\n",
            "    ]\n",
            "}\n",
            "\n",
            "\n",
            "\n",
            "{\n",
            "    \"core theme\": \"Language and Communication\",\n",
            "    \"cluster id\": \"Cluster 0, Sub-Cluster 1\",\n",
            "    \"frequency\": \"15.69%\",\n",
            "    \"count\": 24,\n",
            "    \"exemplars\": [\n",
            "        {\n",
            "            \"act\": \"English Translator and Improver\",\n",
            "            \"prompt\": \"I want you to act as an English translator, spelling corrector and improver. I will speak to you in any language and you will detect the language, translate it and answer in the corrected and improved version of my text, in English. I want you to replace my simplified A0-level words and sentences with more beautiful and elegant, upper level English words and sentences. Keep the meaning same, but make them more literary. I want you to only reply the correction, the improvements and nothing else, do not write explanations. My first sentence is \\\"istanbulu cok seviyom burada olmak cok guzel\\\"\",\n",
            "            \"id\": 1.0\n",
            "        },\n",
            "        {\n",
            "            \"act\": \"Prompt Generator\",\n",
            "            \"prompt\": \"I want you to act as a prompt generator. Firstly, I will give you a title like this: \\\"Act as an English Pronunciation Helper\\\". Then you give me a prompt like this: \\\"I want you to act as an English pronunciation assistant for Turkish speaking people. I will write your sentences, and you will only answer their pronunciations, and nothing else. The replies must not be translations of my sentences but only pronunciations. Pronunciations should use Turkish Latin letters for phonetics. Do not write explanations on replies. My first sentence is \\\"how the weather is in Istanbul?\\\".\\\" (You should adapt the sample prompt according to the title I gave. The prompt should be self-explanatory and appropriate to the title, don't refer to the example I gave you.). My first title is \\\"Act as a Code Review Helper\\\" (Give me prompt only)\",\n",
            "            \"id\": 62.0\n",
            "        },\n",
            "        {\n",
            "            \"act\": \"Biblical Translator\",\n",
            "            \"prompt\": \"I want you to act as an biblical translator. I will speak to you in english and you will translate it and answer in the corrected and improved version of my text, in a biblical dialect. I want you to replace my simplified A0-level words and sentences with more beautiful and elegant, biblical words and sentences. Keep the meaning same. I want you to only reply the correction, the improvements and nothing else, do not write explanations. My first sentence is \\\"Hello, World!\\\"\",\n",
            "            \"id\": 108.0\n",
            "        },\n",
            "        {\n",
            "            \"act\": \"Fill in the Blank Worksheets Generator\",\n",
            "            \"prompt\": \"I want you to act as a fill in the blank worksheets generator for students learning English as a second language. Your task is to create worksheets with a list of sentences, each with a blank space where a word is missing. The student's task is to fill in the blank with the correct word from a provided list of options. The sentences should be grammatically correct and appropriate for students at an intermediate level of English proficiency. Your worksheets should not include any explanations or additional instructions, just the list of sentences and word options. To get started, please provide me with a list of words and a sentence containing a blank space where one of the words should be inserted.\",\n",
            "            \"id\": 124.0\n",
            "        },\n",
            "        {\n",
            "            \"act\": \"Language Detector\",\n",
            "            \"prompt\": \"I want you act as a language detector. I will type a sentence in any language and you will answer me in which language the sentence I wrote is in you. Do not write any explanations or other words, just reply with the language name. My first sentence is \\\"Kiel vi fartas? Kiel iras via tago?\\\"\",\n",
            "            \"id\": 134.0\n",
            "        },\n",
            "        {\n",
            "            \"act\": \"Proofreader\",\n",
            "            \"prompt\": \"I want you act as a proofreader. I will provide you texts and I would like you to review them for any spelling, grammar, or punctuation errors. Once you have finished reviewing the text, provide me with any necessary corrections or suggestions for improve the text.\",\n",
            "            \"id\": 151.0\n",
            "        }\n",
            "    ]\n",
            "}\n",
            "\n",
            "\n",
            "\n",
            "{\n",
            "    \"core theme\": \"Technology and IT\",\n",
            "    \"cluster id\": \"Cluster 1, Sub-Cluster 2\",\n",
            "    \"frequency\": \"18.3%\",\n",
            "    \"count\": 28,\n",
            "    \"exemplars\": [\n",
            "        {\n",
            "            \"act\": \"IT Architect\",\n",
            "            \"prompt\": \"I want you to act as an IT Architect. I will provide some details about the functionality of an application or other digital product, and it will be your job to come up with  ways to integrate it into the IT landscape. This could involve analyzing business requirements, performing a gap analysis and mapping the functionality of the new system to the existing IT landscape. Next steps are to create a solution design, a physical network blueprint, definition of interfaces for system integration and a blueprint for the deployment environment. My first request is \\\"I need help to integrate a CMS system.\\\"\",\n",
            "            \"id\": 71.0\n",
            "        },\n",
            "        {\n",
            "            \"act\": \"Car Navigation System\",\n",
            "            \"prompt\": \"I want you to act as a car navigation system. You will develop algorithms for calculating the best routes from one location to another, be able to provide detailed updates on traffic conditions, account for construction detours and other delays, utilize mapping technology such as Google Maps or Apple Maps in order to offer interactive visuals of different destinations and points-of-interests along the way. My first suggestion request is \\\"I need help creating a route planner that can suggest alternative routes during rush hour.\\\"\",\n",
            "            \"id\": 86.0\n",
            "        },\n",
            "        {\n",
            "            \"act\": \"Tech Writer\",\n",
            "            \"prompt\": \"I want you to act as a tech writer. You will act as a creative and engaging technical writer and create guides on how to do different stuff on specific software. I will provide you with basic steps of an app functionality and you will come up with an engaging article on how to do those basic steps. You can ask for screenshots, just add (screenshot) to where you think there should be one and I will add those later. These are the first basic steps of the app functionality: \\\"1.Click on the download button depending on your platform 2.Install the file. 3.Double click to open the app\\\"\",\n",
            "            \"id\": 97.0\n",
            "        },\n",
            "        {\n",
            "            \"act\": \"Fullstack Software Developer\",\n",
            "            \"prompt\": \"I want you to act as a software developer. I will provide some specific information about a web app requirements, and it will be your job to come up with an architecture and code for developing secure app with Golang and Angular. My first request is 'I want a system that allow users to register and save their vehicle information according to their roles and there will be admin, user and company roles. I want the system to use JWT for security'\",\n",
            "            \"id\": 113.0\n",
            "        },\n",
            "        {\n",
            "            \"act\": \"Senior Frontend Developer\",\n",
            "            \"prompt\": \"I want you to act as a Senior Frontend developer. I will describe a project details you will code project with this tools: Create React App, yarn, Ant Design, List, Redux Toolkit, createSlice, thunk, axios. You should merge files in single index.js file and nothing else. Do not write explanations. My first request is Create Pokemon App that lists pokemons with images that come from PokeAPI sprites endpoint\",\n",
            "            \"id\": 130.0\n",
            "        }\n",
            "    ]\n",
            "}\n",
            "\n",
            "\n",
            "\n",
            "{\n",
            "    \"core theme\": \"Personal Development and Coaching\",\n",
            "    \"cluster id\": \"Cluster 1, Sub-Cluster 3\",\n",
            "    \"frequency\": \"15.69%\",\n",
            "    \"count\": 24,\n",
            "    \"exemplars\": [\n",
            "        {\n",
            "            \"act\": \"Relationship Coach\",\n",
            "            \"prompt\": \"I want you to act as a relationship coach. I will provide some details about the two people involved in a conflict, and it will be your job to come up with suggestions on how they can work through the issues that are separating them. This could include advice on communication techniques or different strategies for improving their understanding of one another's perspectives. My first request is \\\"I need help solving conflicts between my spouse and myself.\\\"\",\n",
            "            \"id\": 21.0\n",
            "        },\n",
            "        {\n",
            "            \"act\": \"Life Coach\",\n",
            "            \"prompt\": \"I want you to act as a life coach. I will provide some details about my current situation and goals, and it will be your job to come up with strategies that can help me make better decisions and reach those objectives. This could involve offering advice on various topics, such as creating plans for achieving success or dealing with difficult emotions. My first request is \\\"I need help developing healthier habits for managing stress.\\\"\",\n",
            "            \"id\": 32.0\n",
            "        },\n",
            "        {\n",
            "            \"act\": \"Pet Behaviorist\",\n",
            "            \"prompt\": \"I want you to act as a pet behaviorist. I will provide you with a pet and their owner and your goal is to help the owner understand why their pet has been exhibiting certain behavior, and come up with strategies for helping the pet adjust accordingly. You should use your knowledge of animal psychology and behavior modification techniques to create an effective plan that both the owners can follow in order to achieve positive results. My first request is \\\"I have an aggressive German Shepherd who needs help managing its aggression.\\\"\",\n",
            "            \"id\": 37.0\n",
            "        },\n",
            "        {\n",
            "            \"act\": \"Mental Health Adviser\",\n",
            "            \"prompt\": \"I want you to act as a mental health adviser. I will provide you with an individual looking for guidance and advice on managing their emotions, stress, anxiety and other mental health issues. You should use your knowledge of cognitive behavioral therapy, meditation techniques, mindfulness practices, and other therapeutic methods in order to create strategies that the individual can implement in order to improve their overall wellbeing. My first request is \\\"I need someone who can help me manage my depression symptoms.\\\"\",\n",
            "            \"id\": 39.0\n",
            "        },\n",
            "        {\n",
            "            \"act\": \"Dentist\",\n",
            "            \"prompt\": \"I want you to act as a dentist. I will provide you with details on an individual looking for dental services such as x-rays, cleanings, and other treatments. Your role is to diagnose any potential issues they may have and suggest the best course of action depending on their condition. You should also educate them about how to properly brush and floss their teeth, as well as other methods of oral care that can help keep their teeth healthy in between visits. My first request is \\\"I need help addressing my sensitivity to cold foods.\\\"\",\n",
            "            \"id\": 42.0\n",
            "        },\n",
            "        {\n",
            "            \"act\": \"Hypnotherapist\",\n",
            "            \"prompt\": \"I want you to act as a hypnotherapist. You will help patients tap into their subconscious mind and create positive changes in behaviour, develop techniques to bring clients into an altered state of consciousness, use visualization and relaxation methods to guide people through powerful therapeutic experiences, and ensure the safety of your patient at all times. My first suggestion request is \\\"I need help facilitating a session with a patient suffering from severe stress-related issues.\\\"\",\n",
            "            \"id\": 87.0\n",
            "        }\n",
            "    ]\n",
            "}\n",
            "\n",
            "\n",
            "\n",
            "{\n",
            "    \"core theme\": \"Creative Arts and Entertainment\",\n",
            "    \"cluster id\": \"Cluster 1, Sub-Cluster 4\",\n",
            "    \"frequency\": \"19.61%\",\n",
            "    \"count\": 30,\n",
            "    \"exemplars\": [\n",
            "        {\n",
            "            \"act\": \"Debater\",\n",
            "            \"prompt\": \"I want you to act as a debater. I will provide you with some topics related to current events and your task is to research both sides of the debates, present valid arguments for each side, refute opposing points of view, and draw persuasive conclusions based on evidence. Your goal is to help people come away from the discussion with increased knowledge and insight into the topic at hand. My first request is \\\"I want an opinion piece about Deno.\\\"\",\n",
            "            \"id\": 16.0\n",
            "        },\n",
            "        {\n",
            "            \"act\": \"Commentariat\",\n",
            "            \"prompt\": \"I want you to act as a commentariat. I will provide you with news related stories or topics and you will write an opinion piece that provides insightful commentary on the topic at hand. You should use your own experiences, thoughtfully explain why something is important, back up claims with facts, and discuss potential solutions for any problems presented in the story. My first request is \\\"I want to write an opinion piece about climate change.\\\"\",\n",
            "            \"id\": 34.0\n",
            "        },\n",
            "        {\n",
            "            \"act\": \"Academician\",\n",
            "            \"prompt\": \"I want you to act as an academician. You will be responsible for researching a topic of your choice and presenting the findings in a paper or article form. Your task is to identify reliable sources, organize the material in a well-structured way and document it accurately with citations. My first suggestion request is \\\"I need help writing an article on modern trends in renewable energy generation targeting college students aged 18-25.\\\"\",\n",
            "            \"id\": 70.0\n",
            "        },\n",
            "        {\n",
            "            \"act\": \"Fallacy Finder\",\n",
            "            \"prompt\": \"I want you to act as a fallacy finder. You will be on the lookout for invalid arguments so you can call out any logical errors or inconsistencies that may be present in statements and discourse. Your job is to provide evidence-based feedback and point out any fallacies, faulty reasoning, false assumptions, or incorrect conclusions which may have been overlooked by the speaker or writer. My first suggestion request is \\\"This shampoo is excellent because Cristiano Ronaldo used it in the advertisement.\\\"\",\n",
            "            \"id\": 74.0\n",
            "        },\n",
            "        {\n",
            "            \"act\": \"Essay Writer\",\n",
            "            \"prompt\": \"I want you to act as an essay writer. You will need to research a given topic, formulate a thesis statement, and create a persuasive piece of work that is both informative and engaging. My first suggestion request is \\u201cI need help writing a persuasive essay about the importance of reducing plastic waste in our environment\\u201d.\",\n",
            "            \"id\": 82.0\n",
            "        }\n",
            "    ]\n",
            "}\n",
            "\n",
            "\n",
            "\n",
            "{\n",
            "    \"core theme\": \"Creative Writing and Artistic Expression\",\n",
            "    \"cluster id\": \"Cluster 1, Sub-Cluster 5\",\n",
            "    \"frequency\": \"17.65%\",\n",
            "    \"count\": 27,\n",
            "    \"exemplars\": [\n",
            "        {\n",
            "            \"act\": \"Composer\",\n",
            "            \"prompt\": \"I want you to act as a composer. I will provide the lyrics to a song and you will create music for it. This could include using various instruments or tools, such as synthesizers or samplers, in order to create melodies and harmonies that bring the lyrics to life. My first request is \\\"I have written a poem named \\u201cHayalet Sevgilim\\u201d and need music to go with it.\\\"\",\n",
            "            \"id\": 15.0\n",
            "        },\n",
            "        {\n",
            "            \"act\": \"Novelist\",\n",
            "            \"prompt\": \"I want you to act as a novelist. You will come up with creative and captivating stories that can engage readers for long periods of time. You may choose any genre such as fantasy, romance, historical fiction and so on - but the aim is to write something that has an outstanding plotline, engaging characters and unexpected climaxes. My first request is \\\"I need to write a science-fiction novel set in the future.\\\"\",\n",
            "            \"id\": 19.0\n",
            "        },\n",
            "        {\n",
            "            \"act\": \"Poet\",\n",
            "            \"prompt\": \"I want you to act as a poet. You will create poems that evoke emotions and have the power to stir people\\u2019s soul. Write on any topic or theme but make sure your words convey the feeling you are trying to express in beautiful yet meaningful ways. You can also come up with short verses that are still powerful enough to leave an imprint in readers' minds. My first request is \\\"I need a poem about love.\\\"\",\n",
            "            \"id\": 22.0\n",
            "        },\n",
            "        {\n",
            "            \"act\": \"Rapper\",\n",
            "            \"prompt\": \"I want you to act as a rapper. You will come up with powerful and meaningful lyrics, beats and rhythm that can \\u2018wow\\u2019 the audience. Your lyrics should have an intriguing meaning and message which people can relate too. When it comes to choosing your beat, make sure it is catchy yet relevant to your words, so that when combined they make an explosion of sound everytime! My first request is \\\"I need a rap song about finding strength within yourself.\\\"\",\n",
            "            \"id\": 23.0\n",
            "        },\n",
            "        {\n",
            "            \"act\": \"Artist Advisor\",\n",
            "            \"prompt\": \"I want you to act as an artist advisor providing advice on various art styles such tips on utilizing light & shadow effects effectively in painting, shading techniques while sculpting etc., Also suggest music piece that could accompany artwork nicely depending upon its genre/style type along with appropriate reference images demonstrating your recommendations regarding same; all this in order help out aspiring artists explore new creative possibilities & practice ideas which will further help them sharpen their skills accordingly! First request - \\u201cI\\u2019m making surrealistic portrait paintings\\u201d\",\n",
            "            \"id\": 49.0\n",
            "        },\n",
            "        {\n",
            "            \"act\": \"Classical Music Composer\",\n",
            "            \"prompt\": \"I want you to act as a classical music composer. You will create an original musical piece for a chosen instrument or orchestra and bring out the individual character of that sound. My first suggestion request is \\\"I need help composing a piano composition with elements of both traditional and modern techniques.\\\"\",\n",
            "            \"id\": 91.0\n",
            "        },\n",
            "        {\n",
            "            \"act\": \"Makeup Artist\",\n",
            "            \"prompt\": \"I want you to act as a makeup artist. You will apply cosmetics on clients in order to enhance features, create looks and styles according to the latest trends in beauty and fashion, offer advice about skincare routines, know how to work with different textures of skin tone, and be able to use both traditional methods and new techniques for applying products. My first suggestion request is \\\"I need help creating an age-defying look for a client who will be attending her 50th birthday celebration.\\\"\",\n",
            "            \"id\": 95.0\n",
            "        }\n",
            "    ]\n",
            "}\n",
            "\n",
            "\n",
            "\n"
          ]
        }
      ],
      "source": [
        "import json\n",
        "\n",
        "for i in range(len(np.unique(np.array(ds[\"cluster XX.YY\"])))):\n",
        "    sub_clust = np.unique(np.array(ds[\"cluster XX.YY\"]))[i]\n",
        "\n",
        "    # Serializing json\n",
        "    json_object = json.dumps(knowledge_graphs[i], indent=4)\n",
        "    print(json_object)\n",
        "    print(\"\\n\\n\")"
      ]
    },
    {
      "cell_type": "code",
      "execution_count": null,
      "metadata": {
        "id": "oc1HFPyBxnck"
      },
      "outputs": [],
      "source": []
    }
  ],
  "metadata": {
    "accelerator": "GPU",
    "colab": {
      "gpuType": "T4",
      "provenance": []
    },
    "interpreter": {
      "hash": "bd385fe162c5ca0c84973b7dd5c518456272446b2b64e67c2a69f949ca7a1754"
    },
    "kernelspec": {
      "display_name": "Python 3",
      "name": "python3"
    },
    "language_info": {
      "codemirror_mode": {
        "name": "ipython",
        "version": 3
      },
      "file_extension": ".py",
      "mimetype": "text/x-python",
      "name": "python",
      "nbconvert_exporter": "python",
      "pygments_lexer": "ipython3",
      "version": "3.10.10"
    },
    "orig_nbformat": 4,
    "widgets": {
      "application/vnd.jupyter.widget-state+json": {
        "3ad2667cdd89457eadefe4879b9971c1": {
          "model_module": "@jupyter-widgets/controls",
          "model_name": "HBoxModel",
          "model_module_version": "1.5.0",
          "state": {
            "_dom_classes": [],
            "_model_module": "@jupyter-widgets/controls",
            "_model_module_version": "1.5.0",
            "_model_name": "HBoxModel",
            "_view_count": null,
            "_view_module": "@jupyter-widgets/controls",
            "_view_module_version": "1.5.0",
            "_view_name": "HBoxView",
            "box_style": "",
            "children": [
              "IPY_MODEL_daf823ec28d44686ac57048f72766624",
              "IPY_MODEL_d2d049bd60f14ae6a12b935509a280b3",
              "IPY_MODEL_49e28f7f0dbf419fb96344e9cd571be3"
            ],
            "layout": "IPY_MODEL_d2087f73b43f4c5abe5f3c60e80ea1e7"
          }
        },
        "daf823ec28d44686ac57048f72766624": {
          "model_module": "@jupyter-widgets/controls",
          "model_name": "HTMLModel",
          "model_module_version": "1.5.0",
          "state": {
            "_dom_classes": [],
            "_model_module": "@jupyter-widgets/controls",
            "_model_module_version": "1.5.0",
            "_model_name": "HTMLModel",
            "_view_count": null,
            "_view_module": "@jupyter-widgets/controls",
            "_view_module_version": "1.5.0",
            "_view_name": "HTMLView",
            "description": "",
            "description_tooltip": null,
            "layout": "IPY_MODEL_6ab54ef1aac04fc5961420b3510768e8",
            "placeholder": "​",
            "style": "IPY_MODEL_074e93251c49473592b87858008b8c22",
            "value": "Downloading readme: 100%"
          }
        },
        "d2d049bd60f14ae6a12b935509a280b3": {
          "model_module": "@jupyter-widgets/controls",
          "model_name": "FloatProgressModel",
          "model_module_version": "1.5.0",
          "state": {
            "_dom_classes": [],
            "_model_module": "@jupyter-widgets/controls",
            "_model_module_version": "1.5.0",
            "_model_name": "FloatProgressModel",
            "_view_count": null,
            "_view_module": "@jupyter-widgets/controls",
            "_view_module_version": "1.5.0",
            "_view_name": "ProgressView",
            "bar_style": "success",
            "description": "",
            "description_tooltip": null,
            "layout": "IPY_MODEL_94b63bd290d14e1da0627c4331e0ac3d",
            "max": 274,
            "min": 0,
            "orientation": "horizontal",
            "style": "IPY_MODEL_c4fab848d6b34356a9a98e75dad43fca",
            "value": 274
          }
        },
        "49e28f7f0dbf419fb96344e9cd571be3": {
          "model_module": "@jupyter-widgets/controls",
          "model_name": "HTMLModel",
          "model_module_version": "1.5.0",
          "state": {
            "_dom_classes": [],
            "_model_module": "@jupyter-widgets/controls",
            "_model_module_version": "1.5.0",
            "_model_name": "HTMLModel",
            "_view_count": null,
            "_view_module": "@jupyter-widgets/controls",
            "_view_module_version": "1.5.0",
            "_view_name": "HTMLView",
            "description": "",
            "description_tooltip": null,
            "layout": "IPY_MODEL_d6a21059783245d2bb7d39ddca4d2b83",
            "placeholder": "​",
            "style": "IPY_MODEL_c506027f345a4758ad39ae69c125f8e6",
            "value": " 274/274 [00:00&lt;00:00, 19.8kB/s]"
          }
        },
        "d2087f73b43f4c5abe5f3c60e80ea1e7": {
          "model_module": "@jupyter-widgets/base",
          "model_name": "LayoutModel",
          "model_module_version": "1.2.0",
          "state": {
            "_model_module": "@jupyter-widgets/base",
            "_model_module_version": "1.2.0",
            "_model_name": "LayoutModel",
            "_view_count": null,
            "_view_module": "@jupyter-widgets/base",
            "_view_module_version": "1.2.0",
            "_view_name": "LayoutView",
            "align_content": null,
            "align_items": null,
            "align_self": null,
            "border": null,
            "bottom": null,
            "display": null,
            "flex": null,
            "flex_flow": null,
            "grid_area": null,
            "grid_auto_columns": null,
            "grid_auto_flow": null,
            "grid_auto_rows": null,
            "grid_column": null,
            "grid_gap": null,
            "grid_row": null,
            "grid_template_areas": null,
            "grid_template_columns": null,
            "grid_template_rows": null,
            "height": null,
            "justify_content": null,
            "justify_items": null,
            "left": null,
            "margin": null,
            "max_height": null,
            "max_width": null,
            "min_height": null,
            "min_width": null,
            "object_fit": null,
            "object_position": null,
            "order": null,
            "overflow": null,
            "overflow_x": null,
            "overflow_y": null,
            "padding": null,
            "right": null,
            "top": null,
            "visibility": null,
            "width": null
          }
        },
        "6ab54ef1aac04fc5961420b3510768e8": {
          "model_module": "@jupyter-widgets/base",
          "model_name": "LayoutModel",
          "model_module_version": "1.2.0",
          "state": {
            "_model_module": "@jupyter-widgets/base",
            "_model_module_version": "1.2.0",
            "_model_name": "LayoutModel",
            "_view_count": null,
            "_view_module": "@jupyter-widgets/base",
            "_view_module_version": "1.2.0",
            "_view_name": "LayoutView",
            "align_content": null,
            "align_items": null,
            "align_self": null,
            "border": null,
            "bottom": null,
            "display": null,
            "flex": null,
            "flex_flow": null,
            "grid_area": null,
            "grid_auto_columns": null,
            "grid_auto_flow": null,
            "grid_auto_rows": null,
            "grid_column": null,
            "grid_gap": null,
            "grid_row": null,
            "grid_template_areas": null,
            "grid_template_columns": null,
            "grid_template_rows": null,
            "height": null,
            "justify_content": null,
            "justify_items": null,
            "left": null,
            "margin": null,
            "max_height": null,
            "max_width": null,
            "min_height": null,
            "min_width": null,
            "object_fit": null,
            "object_position": null,
            "order": null,
            "overflow": null,
            "overflow_x": null,
            "overflow_y": null,
            "padding": null,
            "right": null,
            "top": null,
            "visibility": null,
            "width": null
          }
        },
        "074e93251c49473592b87858008b8c22": {
          "model_module": "@jupyter-widgets/controls",
          "model_name": "DescriptionStyleModel",
          "model_module_version": "1.5.0",
          "state": {
            "_model_module": "@jupyter-widgets/controls",
            "_model_module_version": "1.5.0",
            "_model_name": "DescriptionStyleModel",
            "_view_count": null,
            "_view_module": "@jupyter-widgets/base",
            "_view_module_version": "1.2.0",
            "_view_name": "StyleView",
            "description_width": ""
          }
        },
        "94b63bd290d14e1da0627c4331e0ac3d": {
          "model_module": "@jupyter-widgets/base",
          "model_name": "LayoutModel",
          "model_module_version": "1.2.0",
          "state": {
            "_model_module": "@jupyter-widgets/base",
            "_model_module_version": "1.2.0",
            "_model_name": "LayoutModel",
            "_view_count": null,
            "_view_module": "@jupyter-widgets/base",
            "_view_module_version": "1.2.0",
            "_view_name": "LayoutView",
            "align_content": null,
            "align_items": null,
            "align_self": null,
            "border": null,
            "bottom": null,
            "display": null,
            "flex": null,
            "flex_flow": null,
            "grid_area": null,
            "grid_auto_columns": null,
            "grid_auto_flow": null,
            "grid_auto_rows": null,
            "grid_column": null,
            "grid_gap": null,
            "grid_row": null,
            "grid_template_areas": null,
            "grid_template_columns": null,
            "grid_template_rows": null,
            "height": null,
            "justify_content": null,
            "justify_items": null,
            "left": null,
            "margin": null,
            "max_height": null,
            "max_width": null,
            "min_height": null,
            "min_width": null,
            "object_fit": null,
            "object_position": null,
            "order": null,
            "overflow": null,
            "overflow_x": null,
            "overflow_y": null,
            "padding": null,
            "right": null,
            "top": null,
            "visibility": null,
            "width": null
          }
        },
        "c4fab848d6b34356a9a98e75dad43fca": {
          "model_module": "@jupyter-widgets/controls",
          "model_name": "ProgressStyleModel",
          "model_module_version": "1.5.0",
          "state": {
            "_model_module": "@jupyter-widgets/controls",
            "_model_module_version": "1.5.0",
            "_model_name": "ProgressStyleModel",
            "_view_count": null,
            "_view_module": "@jupyter-widgets/base",
            "_view_module_version": "1.2.0",
            "_view_name": "StyleView",
            "bar_color": null,
            "description_width": ""
          }
        },
        "d6a21059783245d2bb7d39ddca4d2b83": {
          "model_module": "@jupyter-widgets/base",
          "model_name": "LayoutModel",
          "model_module_version": "1.2.0",
          "state": {
            "_model_module": "@jupyter-widgets/base",
            "_model_module_version": "1.2.0",
            "_model_name": "LayoutModel",
            "_view_count": null,
            "_view_module": "@jupyter-widgets/base",
            "_view_module_version": "1.2.0",
            "_view_name": "LayoutView",
            "align_content": null,
            "align_items": null,
            "align_self": null,
            "border": null,
            "bottom": null,
            "display": null,
            "flex": null,
            "flex_flow": null,
            "grid_area": null,
            "grid_auto_columns": null,
            "grid_auto_flow": null,
            "grid_auto_rows": null,
            "grid_column": null,
            "grid_gap": null,
            "grid_row": null,
            "grid_template_areas": null,
            "grid_template_columns": null,
            "grid_template_rows": null,
            "height": null,
            "justify_content": null,
            "justify_items": null,
            "left": null,
            "margin": null,
            "max_height": null,
            "max_width": null,
            "min_height": null,
            "min_width": null,
            "object_fit": null,
            "object_position": null,
            "order": null,
            "overflow": null,
            "overflow_x": null,
            "overflow_y": null,
            "padding": null,
            "right": null,
            "top": null,
            "visibility": null,
            "width": null
          }
        },
        "c506027f345a4758ad39ae69c125f8e6": {
          "model_module": "@jupyter-widgets/controls",
          "model_name": "DescriptionStyleModel",
          "model_module_version": "1.5.0",
          "state": {
            "_model_module": "@jupyter-widgets/controls",
            "_model_module_version": "1.5.0",
            "_model_name": "DescriptionStyleModel",
            "_view_count": null,
            "_view_module": "@jupyter-widgets/base",
            "_view_module_version": "1.2.0",
            "_view_name": "StyleView",
            "description_width": ""
          }
        },
        "43482ef00b8049e9b2d339babc4f937a": {
          "model_module": "@jupyter-widgets/controls",
          "model_name": "HBoxModel",
          "model_module_version": "1.5.0",
          "state": {
            "_dom_classes": [],
            "_model_module": "@jupyter-widgets/controls",
            "_model_module_version": "1.5.0",
            "_model_name": "HBoxModel",
            "_view_count": null,
            "_view_module": "@jupyter-widgets/controls",
            "_view_module_version": "1.5.0",
            "_view_name": "HBoxView",
            "box_style": "",
            "children": [
              "IPY_MODEL_6ca91b5d195a48589570dbc8b3e90d72",
              "IPY_MODEL_c2b98d0abeec4edbba41c90dc5262a8f",
              "IPY_MODEL_e23bc5ea0cc946cc9592d6d7255ed509"
            ],
            "layout": "IPY_MODEL_56718d9f989241b3b09c75945a311f68"
          }
        },
        "6ca91b5d195a48589570dbc8b3e90d72": {
          "model_module": "@jupyter-widgets/controls",
          "model_name": "HTMLModel",
          "model_module_version": "1.5.0",
          "state": {
            "_dom_classes": [],
            "_model_module": "@jupyter-widgets/controls",
            "_model_module_version": "1.5.0",
            "_model_name": "HTMLModel",
            "_view_count": null,
            "_view_module": "@jupyter-widgets/controls",
            "_view_module_version": "1.5.0",
            "_view_name": "HTMLView",
            "description": "",
            "description_tooltip": null,
            "layout": "IPY_MODEL_6d10d5622c184018bccba1b09fc94f60",
            "placeholder": "​",
            "style": "IPY_MODEL_9854401766c4451cae2eb1e90c459d04",
            "value": "Downloading data files: 100%"
          }
        },
        "c2b98d0abeec4edbba41c90dc5262a8f": {
          "model_module": "@jupyter-widgets/controls",
          "model_name": "FloatProgressModel",
          "model_module_version": "1.5.0",
          "state": {
            "_dom_classes": [],
            "_model_module": "@jupyter-widgets/controls",
            "_model_module_version": "1.5.0",
            "_model_name": "FloatProgressModel",
            "_view_count": null,
            "_view_module": "@jupyter-widgets/controls",
            "_view_module_version": "1.5.0",
            "_view_name": "ProgressView",
            "bar_style": "success",
            "description": "",
            "description_tooltip": null,
            "layout": "IPY_MODEL_d0b83a06bb334828bf43676cf49b5933",
            "max": 1,
            "min": 0,
            "orientation": "horizontal",
            "style": "IPY_MODEL_f8293569b2094fe8a498e0562a3f02c4",
            "value": 1
          }
        },
        "e23bc5ea0cc946cc9592d6d7255ed509": {
          "model_module": "@jupyter-widgets/controls",
          "model_name": "HTMLModel",
          "model_module_version": "1.5.0",
          "state": {
            "_dom_classes": [],
            "_model_module": "@jupyter-widgets/controls",
            "_model_module_version": "1.5.0",
            "_model_name": "HTMLModel",
            "_view_count": null,
            "_view_module": "@jupyter-widgets/controls",
            "_view_module_version": "1.5.0",
            "_view_name": "HTMLView",
            "description": "",
            "description_tooltip": null,
            "layout": "IPY_MODEL_bbb7d7c3fed64e8097695b992f908883",
            "placeholder": "​",
            "style": "IPY_MODEL_985a5f2281e746548a56ec741fff795c",
            "value": " 1/1 [00:00&lt;00:00,  2.82it/s]"
          }
        },
        "56718d9f989241b3b09c75945a311f68": {
          "model_module": "@jupyter-widgets/base",
          "model_name": "LayoutModel",
          "model_module_version": "1.2.0",
          "state": {
            "_model_module": "@jupyter-widgets/base",
            "_model_module_version": "1.2.0",
            "_model_name": "LayoutModel",
            "_view_count": null,
            "_view_module": "@jupyter-widgets/base",
            "_view_module_version": "1.2.0",
            "_view_name": "LayoutView",
            "align_content": null,
            "align_items": null,
            "align_self": null,
            "border": null,
            "bottom": null,
            "display": null,
            "flex": null,
            "flex_flow": null,
            "grid_area": null,
            "grid_auto_columns": null,
            "grid_auto_flow": null,
            "grid_auto_rows": null,
            "grid_column": null,
            "grid_gap": null,
            "grid_row": null,
            "grid_template_areas": null,
            "grid_template_columns": null,
            "grid_template_rows": null,
            "height": null,
            "justify_content": null,
            "justify_items": null,
            "left": null,
            "margin": null,
            "max_height": null,
            "max_width": null,
            "min_height": null,
            "min_width": null,
            "object_fit": null,
            "object_position": null,
            "order": null,
            "overflow": null,
            "overflow_x": null,
            "overflow_y": null,
            "padding": null,
            "right": null,
            "top": null,
            "visibility": null,
            "width": null
          }
        },
        "6d10d5622c184018bccba1b09fc94f60": {
          "model_module": "@jupyter-widgets/base",
          "model_name": "LayoutModel",
          "model_module_version": "1.2.0",
          "state": {
            "_model_module": "@jupyter-widgets/base",
            "_model_module_version": "1.2.0",
            "_model_name": "LayoutModel",
            "_view_count": null,
            "_view_module": "@jupyter-widgets/base",
            "_view_module_version": "1.2.0",
            "_view_name": "LayoutView",
            "align_content": null,
            "align_items": null,
            "align_self": null,
            "border": null,
            "bottom": null,
            "display": null,
            "flex": null,
            "flex_flow": null,
            "grid_area": null,
            "grid_auto_columns": null,
            "grid_auto_flow": null,
            "grid_auto_rows": null,
            "grid_column": null,
            "grid_gap": null,
            "grid_row": null,
            "grid_template_areas": null,
            "grid_template_columns": null,
            "grid_template_rows": null,
            "height": null,
            "justify_content": null,
            "justify_items": null,
            "left": null,
            "margin": null,
            "max_height": null,
            "max_width": null,
            "min_height": null,
            "min_width": null,
            "object_fit": null,
            "object_position": null,
            "order": null,
            "overflow": null,
            "overflow_x": null,
            "overflow_y": null,
            "padding": null,
            "right": null,
            "top": null,
            "visibility": null,
            "width": null
          }
        },
        "9854401766c4451cae2eb1e90c459d04": {
          "model_module": "@jupyter-widgets/controls",
          "model_name": "DescriptionStyleModel",
          "model_module_version": "1.5.0",
          "state": {
            "_model_module": "@jupyter-widgets/controls",
            "_model_module_version": "1.5.0",
            "_model_name": "DescriptionStyleModel",
            "_view_count": null,
            "_view_module": "@jupyter-widgets/base",
            "_view_module_version": "1.2.0",
            "_view_name": "StyleView",
            "description_width": ""
          }
        },
        "d0b83a06bb334828bf43676cf49b5933": {
          "model_module": "@jupyter-widgets/base",
          "model_name": "LayoutModel",
          "model_module_version": "1.2.0",
          "state": {
            "_model_module": "@jupyter-widgets/base",
            "_model_module_version": "1.2.0",
            "_model_name": "LayoutModel",
            "_view_count": null,
            "_view_module": "@jupyter-widgets/base",
            "_view_module_version": "1.2.0",
            "_view_name": "LayoutView",
            "align_content": null,
            "align_items": null,
            "align_self": null,
            "border": null,
            "bottom": null,
            "display": null,
            "flex": null,
            "flex_flow": null,
            "grid_area": null,
            "grid_auto_columns": null,
            "grid_auto_flow": null,
            "grid_auto_rows": null,
            "grid_column": null,
            "grid_gap": null,
            "grid_row": null,
            "grid_template_areas": null,
            "grid_template_columns": null,
            "grid_template_rows": null,
            "height": null,
            "justify_content": null,
            "justify_items": null,
            "left": null,
            "margin": null,
            "max_height": null,
            "max_width": null,
            "min_height": null,
            "min_width": null,
            "object_fit": null,
            "object_position": null,
            "order": null,
            "overflow": null,
            "overflow_x": null,
            "overflow_y": null,
            "padding": null,
            "right": null,
            "top": null,
            "visibility": null,
            "width": null
          }
        },
        "f8293569b2094fe8a498e0562a3f02c4": {
          "model_module": "@jupyter-widgets/controls",
          "model_name": "ProgressStyleModel",
          "model_module_version": "1.5.0",
          "state": {
            "_model_module": "@jupyter-widgets/controls",
            "_model_module_version": "1.5.0",
            "_model_name": "ProgressStyleModel",
            "_view_count": null,
            "_view_module": "@jupyter-widgets/base",
            "_view_module_version": "1.2.0",
            "_view_name": "StyleView",
            "bar_color": null,
            "description_width": ""
          }
        },
        "bbb7d7c3fed64e8097695b992f908883": {
          "model_module": "@jupyter-widgets/base",
          "model_name": "LayoutModel",
          "model_module_version": "1.2.0",
          "state": {
            "_model_module": "@jupyter-widgets/base",
            "_model_module_version": "1.2.0",
            "_model_name": "LayoutModel",
            "_view_count": null,
            "_view_module": "@jupyter-widgets/base",
            "_view_module_version": "1.2.0",
            "_view_name": "LayoutView",
            "align_content": null,
            "align_items": null,
            "align_self": null,
            "border": null,
            "bottom": null,
            "display": null,
            "flex": null,
            "flex_flow": null,
            "grid_area": null,
            "grid_auto_columns": null,
            "grid_auto_flow": null,
            "grid_auto_rows": null,
            "grid_column": null,
            "grid_gap": null,
            "grid_row": null,
            "grid_template_areas": null,
            "grid_template_columns": null,
            "grid_template_rows": null,
            "height": null,
            "justify_content": null,
            "justify_items": null,
            "left": null,
            "margin": null,
            "max_height": null,
            "max_width": null,
            "min_height": null,
            "min_width": null,
            "object_fit": null,
            "object_position": null,
            "order": null,
            "overflow": null,
            "overflow_x": null,
            "overflow_y": null,
            "padding": null,
            "right": null,
            "top": null,
            "visibility": null,
            "width": null
          }
        },
        "985a5f2281e746548a56ec741fff795c": {
          "model_module": "@jupyter-widgets/controls",
          "model_name": "DescriptionStyleModel",
          "model_module_version": "1.5.0",
          "state": {
            "_model_module": "@jupyter-widgets/controls",
            "_model_module_version": "1.5.0",
            "_model_name": "DescriptionStyleModel",
            "_view_count": null,
            "_view_module": "@jupyter-widgets/base",
            "_view_module_version": "1.2.0",
            "_view_name": "StyleView",
            "description_width": ""
          }
        },
        "0ac6dd2749154391bbaa52c4f76aa2af": {
          "model_module": "@jupyter-widgets/controls",
          "model_name": "HBoxModel",
          "model_module_version": "1.5.0",
          "state": {
            "_dom_classes": [],
            "_model_module": "@jupyter-widgets/controls",
            "_model_module_version": "1.5.0",
            "_model_name": "HBoxModel",
            "_view_count": null,
            "_view_module": "@jupyter-widgets/controls",
            "_view_module_version": "1.5.0",
            "_view_name": "HBoxView",
            "box_style": "",
            "children": [
              "IPY_MODEL_e0965e26d64b4004b1cf8727e3d1dbbb",
              "IPY_MODEL_22b68d2246bd4d0987e7105abbede12d",
              "IPY_MODEL_65c52c78d1b347aab1408dfbbcfe9807"
            ],
            "layout": "IPY_MODEL_bfa7a5359e8943d0962fb22bf3b89e1a"
          }
        },
        "e0965e26d64b4004b1cf8727e3d1dbbb": {
          "model_module": "@jupyter-widgets/controls",
          "model_name": "HTMLModel",
          "model_module_version": "1.5.0",
          "state": {
            "_dom_classes": [],
            "_model_module": "@jupyter-widgets/controls",
            "_model_module_version": "1.5.0",
            "_model_name": "HTMLModel",
            "_view_count": null,
            "_view_module": "@jupyter-widgets/controls",
            "_view_module_version": "1.5.0",
            "_view_name": "HTMLView",
            "description": "",
            "description_tooltip": null,
            "layout": "IPY_MODEL_ef14a7cb56c44d0baa084744cfb39950",
            "placeholder": "​",
            "style": "IPY_MODEL_da72ac283d09494792734776cb408940",
            "value": "Downloading data: 100%"
          }
        },
        "22b68d2246bd4d0987e7105abbede12d": {
          "model_module": "@jupyter-widgets/controls",
          "model_name": "FloatProgressModel",
          "model_module_version": "1.5.0",
          "state": {
            "_dom_classes": [],
            "_model_module": "@jupyter-widgets/controls",
            "_model_module_version": "1.5.0",
            "_model_name": "FloatProgressModel",
            "_view_count": null,
            "_view_module": "@jupyter-widgets/controls",
            "_view_module_version": "1.5.0",
            "_view_name": "ProgressView",
            "bar_style": "success",
            "description": "",
            "description_tooltip": null,
            "layout": "IPY_MODEL_3d487db846af41e6ad0f0498944fbe13",
            "max": 74565,
            "min": 0,
            "orientation": "horizontal",
            "style": "IPY_MODEL_c64cba72a77f4a56b36a626da21ebaaa",
            "value": 74565
          }
        },
        "65c52c78d1b347aab1408dfbbcfe9807": {
          "model_module": "@jupyter-widgets/controls",
          "model_name": "HTMLModel",
          "model_module_version": "1.5.0",
          "state": {
            "_dom_classes": [],
            "_model_module": "@jupyter-widgets/controls",
            "_model_module_version": "1.5.0",
            "_model_name": "HTMLModel",
            "_view_count": null,
            "_view_module": "@jupyter-widgets/controls",
            "_view_module_version": "1.5.0",
            "_view_name": "HTMLView",
            "description": "",
            "description_tooltip": null,
            "layout": "IPY_MODEL_5bc629a313da4735a9bad1d691813e7c",
            "placeholder": "​",
            "style": "IPY_MODEL_703e51d10767405786aa04c5d273cbee",
            "value": " 74.6k/74.6k [00:00&lt;00:00, 248kB/s]"
          }
        },
        "bfa7a5359e8943d0962fb22bf3b89e1a": {
          "model_module": "@jupyter-widgets/base",
          "model_name": "LayoutModel",
          "model_module_version": "1.2.0",
          "state": {
            "_model_module": "@jupyter-widgets/base",
            "_model_module_version": "1.2.0",
            "_model_name": "LayoutModel",
            "_view_count": null,
            "_view_module": "@jupyter-widgets/base",
            "_view_module_version": "1.2.0",
            "_view_name": "LayoutView",
            "align_content": null,
            "align_items": null,
            "align_self": null,
            "border": null,
            "bottom": null,
            "display": null,
            "flex": null,
            "flex_flow": null,
            "grid_area": null,
            "grid_auto_columns": null,
            "grid_auto_flow": null,
            "grid_auto_rows": null,
            "grid_column": null,
            "grid_gap": null,
            "grid_row": null,
            "grid_template_areas": null,
            "grid_template_columns": null,
            "grid_template_rows": null,
            "height": null,
            "justify_content": null,
            "justify_items": null,
            "left": null,
            "margin": null,
            "max_height": null,
            "max_width": null,
            "min_height": null,
            "min_width": null,
            "object_fit": null,
            "object_position": null,
            "order": null,
            "overflow": null,
            "overflow_x": null,
            "overflow_y": null,
            "padding": null,
            "right": null,
            "top": null,
            "visibility": null,
            "width": null
          }
        },
        "ef14a7cb56c44d0baa084744cfb39950": {
          "model_module": "@jupyter-widgets/base",
          "model_name": "LayoutModel",
          "model_module_version": "1.2.0",
          "state": {
            "_model_module": "@jupyter-widgets/base",
            "_model_module_version": "1.2.0",
            "_model_name": "LayoutModel",
            "_view_count": null,
            "_view_module": "@jupyter-widgets/base",
            "_view_module_version": "1.2.0",
            "_view_name": "LayoutView",
            "align_content": null,
            "align_items": null,
            "align_self": null,
            "border": null,
            "bottom": null,
            "display": null,
            "flex": null,
            "flex_flow": null,
            "grid_area": null,
            "grid_auto_columns": null,
            "grid_auto_flow": null,
            "grid_auto_rows": null,
            "grid_column": null,
            "grid_gap": null,
            "grid_row": null,
            "grid_template_areas": null,
            "grid_template_columns": null,
            "grid_template_rows": null,
            "height": null,
            "justify_content": null,
            "justify_items": null,
            "left": null,
            "margin": null,
            "max_height": null,
            "max_width": null,
            "min_height": null,
            "min_width": null,
            "object_fit": null,
            "object_position": null,
            "order": null,
            "overflow": null,
            "overflow_x": null,
            "overflow_y": null,
            "padding": null,
            "right": null,
            "top": null,
            "visibility": null,
            "width": null
          }
        },
        "da72ac283d09494792734776cb408940": {
          "model_module": "@jupyter-widgets/controls",
          "model_name": "DescriptionStyleModel",
          "model_module_version": "1.5.0",
          "state": {
            "_model_module": "@jupyter-widgets/controls",
            "_model_module_version": "1.5.0",
            "_model_name": "DescriptionStyleModel",
            "_view_count": null,
            "_view_module": "@jupyter-widgets/base",
            "_view_module_version": "1.2.0",
            "_view_name": "StyleView",
            "description_width": ""
          }
        },
        "3d487db846af41e6ad0f0498944fbe13": {
          "model_module": "@jupyter-widgets/base",
          "model_name": "LayoutModel",
          "model_module_version": "1.2.0",
          "state": {
            "_model_module": "@jupyter-widgets/base",
            "_model_module_version": "1.2.0",
            "_model_name": "LayoutModel",
            "_view_count": null,
            "_view_module": "@jupyter-widgets/base",
            "_view_module_version": "1.2.0",
            "_view_name": "LayoutView",
            "align_content": null,
            "align_items": null,
            "align_self": null,
            "border": null,
            "bottom": null,
            "display": null,
            "flex": null,
            "flex_flow": null,
            "grid_area": null,
            "grid_auto_columns": null,
            "grid_auto_flow": null,
            "grid_auto_rows": null,
            "grid_column": null,
            "grid_gap": null,
            "grid_row": null,
            "grid_template_areas": null,
            "grid_template_columns": null,
            "grid_template_rows": null,
            "height": null,
            "justify_content": null,
            "justify_items": null,
            "left": null,
            "margin": null,
            "max_height": null,
            "max_width": null,
            "min_height": null,
            "min_width": null,
            "object_fit": null,
            "object_position": null,
            "order": null,
            "overflow": null,
            "overflow_x": null,
            "overflow_y": null,
            "padding": null,
            "right": null,
            "top": null,
            "visibility": null,
            "width": null
          }
        },
        "c64cba72a77f4a56b36a626da21ebaaa": {
          "model_module": "@jupyter-widgets/controls",
          "model_name": "ProgressStyleModel",
          "model_module_version": "1.5.0",
          "state": {
            "_model_module": "@jupyter-widgets/controls",
            "_model_module_version": "1.5.0",
            "_model_name": "ProgressStyleModel",
            "_view_count": null,
            "_view_module": "@jupyter-widgets/base",
            "_view_module_version": "1.2.0",
            "_view_name": "StyleView",
            "bar_color": null,
            "description_width": ""
          }
        },
        "5bc629a313da4735a9bad1d691813e7c": {
          "model_module": "@jupyter-widgets/base",
          "model_name": "LayoutModel",
          "model_module_version": "1.2.0",
          "state": {
            "_model_module": "@jupyter-widgets/base",
            "_model_module_version": "1.2.0",
            "_model_name": "LayoutModel",
            "_view_count": null,
            "_view_module": "@jupyter-widgets/base",
            "_view_module_version": "1.2.0",
            "_view_name": "LayoutView",
            "align_content": null,
            "align_items": null,
            "align_self": null,
            "border": null,
            "bottom": null,
            "display": null,
            "flex": null,
            "flex_flow": null,
            "grid_area": null,
            "grid_auto_columns": null,
            "grid_auto_flow": null,
            "grid_auto_rows": null,
            "grid_column": null,
            "grid_gap": null,
            "grid_row": null,
            "grid_template_areas": null,
            "grid_template_columns": null,
            "grid_template_rows": null,
            "height": null,
            "justify_content": null,
            "justify_items": null,
            "left": null,
            "margin": null,
            "max_height": null,
            "max_width": null,
            "min_height": null,
            "min_width": null,
            "object_fit": null,
            "object_position": null,
            "order": null,
            "overflow": null,
            "overflow_x": null,
            "overflow_y": null,
            "padding": null,
            "right": null,
            "top": null,
            "visibility": null,
            "width": null
          }
        },
        "703e51d10767405786aa04c5d273cbee": {
          "model_module": "@jupyter-widgets/controls",
          "model_name": "DescriptionStyleModel",
          "model_module_version": "1.5.0",
          "state": {
            "_model_module": "@jupyter-widgets/controls",
            "_model_module_version": "1.5.0",
            "_model_name": "DescriptionStyleModel",
            "_view_count": null,
            "_view_module": "@jupyter-widgets/base",
            "_view_module_version": "1.2.0",
            "_view_name": "StyleView",
            "description_width": ""
          }
        },
        "04288c626b5844a78e15f6b6fdd5e861": {
          "model_module": "@jupyter-widgets/controls",
          "model_name": "HBoxModel",
          "model_module_version": "1.5.0",
          "state": {
            "_dom_classes": [],
            "_model_module": "@jupyter-widgets/controls",
            "_model_module_version": "1.5.0",
            "_model_name": "HBoxModel",
            "_view_count": null,
            "_view_module": "@jupyter-widgets/controls",
            "_view_module_version": "1.5.0",
            "_view_name": "HBoxView",
            "box_style": "",
            "children": [
              "IPY_MODEL_d8beae496f9a4fba8af2e3852a64b351",
              "IPY_MODEL_71da00cbd944497ea56112a10f34b75f",
              "IPY_MODEL_2cffa09c535449a8af123b9701f8114f"
            ],
            "layout": "IPY_MODEL_87d2a1621a104d71a98e92aeeb643dc0"
          }
        },
        "d8beae496f9a4fba8af2e3852a64b351": {
          "model_module": "@jupyter-widgets/controls",
          "model_name": "HTMLModel",
          "model_module_version": "1.5.0",
          "state": {
            "_dom_classes": [],
            "_model_module": "@jupyter-widgets/controls",
            "_model_module_version": "1.5.0",
            "_model_name": "HTMLModel",
            "_view_count": null,
            "_view_module": "@jupyter-widgets/controls",
            "_view_module_version": "1.5.0",
            "_view_name": "HTMLView",
            "description": "",
            "description_tooltip": null,
            "layout": "IPY_MODEL_09fadd1366904f4ca9447283fe1c670b",
            "placeholder": "​",
            "style": "IPY_MODEL_2994464e6b4a419980e6b2d3dd933e76",
            "value": "Extracting data files: 100%"
          }
        },
        "71da00cbd944497ea56112a10f34b75f": {
          "model_module": "@jupyter-widgets/controls",
          "model_name": "FloatProgressModel",
          "model_module_version": "1.5.0",
          "state": {
            "_dom_classes": [],
            "_model_module": "@jupyter-widgets/controls",
            "_model_module_version": "1.5.0",
            "_model_name": "FloatProgressModel",
            "_view_count": null,
            "_view_module": "@jupyter-widgets/controls",
            "_view_module_version": "1.5.0",
            "_view_name": "ProgressView",
            "bar_style": "success",
            "description": "",
            "description_tooltip": null,
            "layout": "IPY_MODEL_b6dd4c572e38477e969e562c4659d2dc",
            "max": 1,
            "min": 0,
            "orientation": "horizontal",
            "style": "IPY_MODEL_3f98787f3edc40f1b63f851012c7fd87",
            "value": 1
          }
        },
        "2cffa09c535449a8af123b9701f8114f": {
          "model_module": "@jupyter-widgets/controls",
          "model_name": "HTMLModel",
          "model_module_version": "1.5.0",
          "state": {
            "_dom_classes": [],
            "_model_module": "@jupyter-widgets/controls",
            "_model_module_version": "1.5.0",
            "_model_name": "HTMLModel",
            "_view_count": null,
            "_view_module": "@jupyter-widgets/controls",
            "_view_module_version": "1.5.0",
            "_view_name": "HTMLView",
            "description": "",
            "description_tooltip": null,
            "layout": "IPY_MODEL_8ba9cf169bf64b2daacdf754197c1a5e",
            "placeholder": "​",
            "style": "IPY_MODEL_086ba2258bca49728958461fc430432f",
            "value": " 1/1 [00:00&lt;00:00, 11.54it/s]"
          }
        },
        "87d2a1621a104d71a98e92aeeb643dc0": {
          "model_module": "@jupyter-widgets/base",
          "model_name": "LayoutModel",
          "model_module_version": "1.2.0",
          "state": {
            "_model_module": "@jupyter-widgets/base",
            "_model_module_version": "1.2.0",
            "_model_name": "LayoutModel",
            "_view_count": null,
            "_view_module": "@jupyter-widgets/base",
            "_view_module_version": "1.2.0",
            "_view_name": "LayoutView",
            "align_content": null,
            "align_items": null,
            "align_self": null,
            "border": null,
            "bottom": null,
            "display": null,
            "flex": null,
            "flex_flow": null,
            "grid_area": null,
            "grid_auto_columns": null,
            "grid_auto_flow": null,
            "grid_auto_rows": null,
            "grid_column": null,
            "grid_gap": null,
            "grid_row": null,
            "grid_template_areas": null,
            "grid_template_columns": null,
            "grid_template_rows": null,
            "height": null,
            "justify_content": null,
            "justify_items": null,
            "left": null,
            "margin": null,
            "max_height": null,
            "max_width": null,
            "min_height": null,
            "min_width": null,
            "object_fit": null,
            "object_position": null,
            "order": null,
            "overflow": null,
            "overflow_x": null,
            "overflow_y": null,
            "padding": null,
            "right": null,
            "top": null,
            "visibility": null,
            "width": null
          }
        },
        "09fadd1366904f4ca9447283fe1c670b": {
          "model_module": "@jupyter-widgets/base",
          "model_name": "LayoutModel",
          "model_module_version": "1.2.0",
          "state": {
            "_model_module": "@jupyter-widgets/base",
            "_model_module_version": "1.2.0",
            "_model_name": "LayoutModel",
            "_view_count": null,
            "_view_module": "@jupyter-widgets/base",
            "_view_module_version": "1.2.0",
            "_view_name": "LayoutView",
            "align_content": null,
            "align_items": null,
            "align_self": null,
            "border": null,
            "bottom": null,
            "display": null,
            "flex": null,
            "flex_flow": null,
            "grid_area": null,
            "grid_auto_columns": null,
            "grid_auto_flow": null,
            "grid_auto_rows": null,
            "grid_column": null,
            "grid_gap": null,
            "grid_row": null,
            "grid_template_areas": null,
            "grid_template_columns": null,
            "grid_template_rows": null,
            "height": null,
            "justify_content": null,
            "justify_items": null,
            "left": null,
            "margin": null,
            "max_height": null,
            "max_width": null,
            "min_height": null,
            "min_width": null,
            "object_fit": null,
            "object_position": null,
            "order": null,
            "overflow": null,
            "overflow_x": null,
            "overflow_y": null,
            "padding": null,
            "right": null,
            "top": null,
            "visibility": null,
            "width": null
          }
        },
        "2994464e6b4a419980e6b2d3dd933e76": {
          "model_module": "@jupyter-widgets/controls",
          "model_name": "DescriptionStyleModel",
          "model_module_version": "1.5.0",
          "state": {
            "_model_module": "@jupyter-widgets/controls",
            "_model_module_version": "1.5.0",
            "_model_name": "DescriptionStyleModel",
            "_view_count": null,
            "_view_module": "@jupyter-widgets/base",
            "_view_module_version": "1.2.0",
            "_view_name": "StyleView",
            "description_width": ""
          }
        },
        "b6dd4c572e38477e969e562c4659d2dc": {
          "model_module": "@jupyter-widgets/base",
          "model_name": "LayoutModel",
          "model_module_version": "1.2.0",
          "state": {
            "_model_module": "@jupyter-widgets/base",
            "_model_module_version": "1.2.0",
            "_model_name": "LayoutModel",
            "_view_count": null,
            "_view_module": "@jupyter-widgets/base",
            "_view_module_version": "1.2.0",
            "_view_name": "LayoutView",
            "align_content": null,
            "align_items": null,
            "align_self": null,
            "border": null,
            "bottom": null,
            "display": null,
            "flex": null,
            "flex_flow": null,
            "grid_area": null,
            "grid_auto_columns": null,
            "grid_auto_flow": null,
            "grid_auto_rows": null,
            "grid_column": null,
            "grid_gap": null,
            "grid_row": null,
            "grid_template_areas": null,
            "grid_template_columns": null,
            "grid_template_rows": null,
            "height": null,
            "justify_content": null,
            "justify_items": null,
            "left": null,
            "margin": null,
            "max_height": null,
            "max_width": null,
            "min_height": null,
            "min_width": null,
            "object_fit": null,
            "object_position": null,
            "order": null,
            "overflow": null,
            "overflow_x": null,
            "overflow_y": null,
            "padding": null,
            "right": null,
            "top": null,
            "visibility": null,
            "width": null
          }
        },
        "3f98787f3edc40f1b63f851012c7fd87": {
          "model_module": "@jupyter-widgets/controls",
          "model_name": "ProgressStyleModel",
          "model_module_version": "1.5.0",
          "state": {
            "_model_module": "@jupyter-widgets/controls",
            "_model_module_version": "1.5.0",
            "_model_name": "ProgressStyleModel",
            "_view_count": null,
            "_view_module": "@jupyter-widgets/base",
            "_view_module_version": "1.2.0",
            "_view_name": "StyleView",
            "bar_color": null,
            "description_width": ""
          }
        },
        "8ba9cf169bf64b2daacdf754197c1a5e": {
          "model_module": "@jupyter-widgets/base",
          "model_name": "LayoutModel",
          "model_module_version": "1.2.0",
          "state": {
            "_model_module": "@jupyter-widgets/base",
            "_model_module_version": "1.2.0",
            "_model_name": "LayoutModel",
            "_view_count": null,
            "_view_module": "@jupyter-widgets/base",
            "_view_module_version": "1.2.0",
            "_view_name": "LayoutView",
            "align_content": null,
            "align_items": null,
            "align_self": null,
            "border": null,
            "bottom": null,
            "display": null,
            "flex": null,
            "flex_flow": null,
            "grid_area": null,
            "grid_auto_columns": null,
            "grid_auto_flow": null,
            "grid_auto_rows": null,
            "grid_column": null,
            "grid_gap": null,
            "grid_row": null,
            "grid_template_areas": null,
            "grid_template_columns": null,
            "grid_template_rows": null,
            "height": null,
            "justify_content": null,
            "justify_items": null,
            "left": null,
            "margin": null,
            "max_height": null,
            "max_width": null,
            "min_height": null,
            "min_width": null,
            "object_fit": null,
            "object_position": null,
            "order": null,
            "overflow": null,
            "overflow_x": null,
            "overflow_y": null,
            "padding": null,
            "right": null,
            "top": null,
            "visibility": null,
            "width": null
          }
        },
        "086ba2258bca49728958461fc430432f": {
          "model_module": "@jupyter-widgets/controls",
          "model_name": "DescriptionStyleModel",
          "model_module_version": "1.5.0",
          "state": {
            "_model_module": "@jupyter-widgets/controls",
            "_model_module_version": "1.5.0",
            "_model_name": "DescriptionStyleModel",
            "_view_count": null,
            "_view_module": "@jupyter-widgets/base",
            "_view_module_version": "1.2.0",
            "_view_name": "StyleView",
            "description_width": ""
          }
        },
        "84b3c3ddb1b042a5a99ce099242344ed": {
          "model_module": "@jupyter-widgets/controls",
          "model_name": "HBoxModel",
          "model_module_version": "1.5.0",
          "state": {
            "_dom_classes": [],
            "_model_module": "@jupyter-widgets/controls",
            "_model_module_version": "1.5.0",
            "_model_name": "HBoxModel",
            "_view_count": null,
            "_view_module": "@jupyter-widgets/controls",
            "_view_module_version": "1.5.0",
            "_view_name": "HBoxView",
            "box_style": "",
            "children": [
              "IPY_MODEL_b3dd7b52b4c44d0d8ba88839598bfa35",
              "IPY_MODEL_a8f034f3b5604e0cb701c12f04dc30ae",
              "IPY_MODEL_f93953203602477b88cd855aba326260"
            ],
            "layout": "IPY_MODEL_3520e4e9c5c64c0aaef5257bd90f6c1f"
          }
        },
        "b3dd7b52b4c44d0d8ba88839598bfa35": {
          "model_module": "@jupyter-widgets/controls",
          "model_name": "HTMLModel",
          "model_module_version": "1.5.0",
          "state": {
            "_dom_classes": [],
            "_model_module": "@jupyter-widgets/controls",
            "_model_module_version": "1.5.0",
            "_model_name": "HTMLModel",
            "_view_count": null,
            "_view_module": "@jupyter-widgets/controls",
            "_view_module_version": "1.5.0",
            "_view_name": "HTMLView",
            "description": "",
            "description_tooltip": null,
            "layout": "IPY_MODEL_2643c35badfe4a29ae926115935ba754",
            "placeholder": "​",
            "style": "IPY_MODEL_9d3d4e0a2c76423896cb928ae79733ba",
            "value": "Generating train split: "
          }
        },
        "a8f034f3b5604e0cb701c12f04dc30ae": {
          "model_module": "@jupyter-widgets/controls",
          "model_name": "FloatProgressModel",
          "model_module_version": "1.5.0",
          "state": {
            "_dom_classes": [],
            "_model_module": "@jupyter-widgets/controls",
            "_model_module_version": "1.5.0",
            "_model_name": "FloatProgressModel",
            "_view_count": null,
            "_view_module": "@jupyter-widgets/controls",
            "_view_module_version": "1.5.0",
            "_view_name": "ProgressView",
            "bar_style": "success",
            "description": "",
            "description_tooltip": null,
            "layout": "IPY_MODEL_2a316406f0e24194bb5ebf7c28b36a6c",
            "max": 1,
            "min": 0,
            "orientation": "horizontal",
            "style": "IPY_MODEL_6bb21fdede934f4ebd5b75515c948dab",
            "value": 1
          }
        },
        "f93953203602477b88cd855aba326260": {
          "model_module": "@jupyter-widgets/controls",
          "model_name": "HTMLModel",
          "model_module_version": "1.5.0",
          "state": {
            "_dom_classes": [],
            "_model_module": "@jupyter-widgets/controls",
            "_model_module_version": "1.5.0",
            "_model_name": "HTMLModel",
            "_view_count": null,
            "_view_module": "@jupyter-widgets/controls",
            "_view_module_version": "1.5.0",
            "_view_name": "HTMLView",
            "description": "",
            "description_tooltip": null,
            "layout": "IPY_MODEL_f0aa8e2a83c74317aef3df6a0ab5c322",
            "placeholder": "​",
            "style": "IPY_MODEL_2a02b0cbebe9451b9b4af7e76dfaeee5",
            "value": " 153/0 [00:00&lt;00:00, 1316.43 examples/s]"
          }
        },
        "3520e4e9c5c64c0aaef5257bd90f6c1f": {
          "model_module": "@jupyter-widgets/base",
          "model_name": "LayoutModel",
          "model_module_version": "1.2.0",
          "state": {
            "_model_module": "@jupyter-widgets/base",
            "_model_module_version": "1.2.0",
            "_model_name": "LayoutModel",
            "_view_count": null,
            "_view_module": "@jupyter-widgets/base",
            "_view_module_version": "1.2.0",
            "_view_name": "LayoutView",
            "align_content": null,
            "align_items": null,
            "align_self": null,
            "border": null,
            "bottom": null,
            "display": null,
            "flex": null,
            "flex_flow": null,
            "grid_area": null,
            "grid_auto_columns": null,
            "grid_auto_flow": null,
            "grid_auto_rows": null,
            "grid_column": null,
            "grid_gap": null,
            "grid_row": null,
            "grid_template_areas": null,
            "grid_template_columns": null,
            "grid_template_rows": null,
            "height": null,
            "justify_content": null,
            "justify_items": null,
            "left": null,
            "margin": null,
            "max_height": null,
            "max_width": null,
            "min_height": null,
            "min_width": null,
            "object_fit": null,
            "object_position": null,
            "order": null,
            "overflow": null,
            "overflow_x": null,
            "overflow_y": null,
            "padding": null,
            "right": null,
            "top": null,
            "visibility": null,
            "width": null
          }
        },
        "2643c35badfe4a29ae926115935ba754": {
          "model_module": "@jupyter-widgets/base",
          "model_name": "LayoutModel",
          "model_module_version": "1.2.0",
          "state": {
            "_model_module": "@jupyter-widgets/base",
            "_model_module_version": "1.2.0",
            "_model_name": "LayoutModel",
            "_view_count": null,
            "_view_module": "@jupyter-widgets/base",
            "_view_module_version": "1.2.0",
            "_view_name": "LayoutView",
            "align_content": null,
            "align_items": null,
            "align_self": null,
            "border": null,
            "bottom": null,
            "display": null,
            "flex": null,
            "flex_flow": null,
            "grid_area": null,
            "grid_auto_columns": null,
            "grid_auto_flow": null,
            "grid_auto_rows": null,
            "grid_column": null,
            "grid_gap": null,
            "grid_row": null,
            "grid_template_areas": null,
            "grid_template_columns": null,
            "grid_template_rows": null,
            "height": null,
            "justify_content": null,
            "justify_items": null,
            "left": null,
            "margin": null,
            "max_height": null,
            "max_width": null,
            "min_height": null,
            "min_width": null,
            "object_fit": null,
            "object_position": null,
            "order": null,
            "overflow": null,
            "overflow_x": null,
            "overflow_y": null,
            "padding": null,
            "right": null,
            "top": null,
            "visibility": null,
            "width": null
          }
        },
        "9d3d4e0a2c76423896cb928ae79733ba": {
          "model_module": "@jupyter-widgets/controls",
          "model_name": "DescriptionStyleModel",
          "model_module_version": "1.5.0",
          "state": {
            "_model_module": "@jupyter-widgets/controls",
            "_model_module_version": "1.5.0",
            "_model_name": "DescriptionStyleModel",
            "_view_count": null,
            "_view_module": "@jupyter-widgets/base",
            "_view_module_version": "1.2.0",
            "_view_name": "StyleView",
            "description_width": ""
          }
        },
        "2a316406f0e24194bb5ebf7c28b36a6c": {
          "model_module": "@jupyter-widgets/base",
          "model_name": "LayoutModel",
          "model_module_version": "1.2.0",
          "state": {
            "_model_module": "@jupyter-widgets/base",
            "_model_module_version": "1.2.0",
            "_model_name": "LayoutModel",
            "_view_count": null,
            "_view_module": "@jupyter-widgets/base",
            "_view_module_version": "1.2.0",
            "_view_name": "LayoutView",
            "align_content": null,
            "align_items": null,
            "align_self": null,
            "border": null,
            "bottom": null,
            "display": null,
            "flex": null,
            "flex_flow": null,
            "grid_area": null,
            "grid_auto_columns": null,
            "grid_auto_flow": null,
            "grid_auto_rows": null,
            "grid_column": null,
            "grid_gap": null,
            "grid_row": null,
            "grid_template_areas": null,
            "grid_template_columns": null,
            "grid_template_rows": null,
            "height": null,
            "justify_content": null,
            "justify_items": null,
            "left": null,
            "margin": null,
            "max_height": null,
            "max_width": null,
            "min_height": null,
            "min_width": null,
            "object_fit": null,
            "object_position": null,
            "order": null,
            "overflow": null,
            "overflow_x": null,
            "overflow_y": null,
            "padding": null,
            "right": null,
            "top": null,
            "visibility": null,
            "width": "20px"
          }
        },
        "6bb21fdede934f4ebd5b75515c948dab": {
          "model_module": "@jupyter-widgets/controls",
          "model_name": "ProgressStyleModel",
          "model_module_version": "1.5.0",
          "state": {
            "_model_module": "@jupyter-widgets/controls",
            "_model_module_version": "1.5.0",
            "_model_name": "ProgressStyleModel",
            "_view_count": null,
            "_view_module": "@jupyter-widgets/base",
            "_view_module_version": "1.2.0",
            "_view_name": "StyleView",
            "bar_color": null,
            "description_width": ""
          }
        },
        "f0aa8e2a83c74317aef3df6a0ab5c322": {
          "model_module": "@jupyter-widgets/base",
          "model_name": "LayoutModel",
          "model_module_version": "1.2.0",
          "state": {
            "_model_module": "@jupyter-widgets/base",
            "_model_module_version": "1.2.0",
            "_model_name": "LayoutModel",
            "_view_count": null,
            "_view_module": "@jupyter-widgets/base",
            "_view_module_version": "1.2.0",
            "_view_name": "LayoutView",
            "align_content": null,
            "align_items": null,
            "align_self": null,
            "border": null,
            "bottom": null,
            "display": null,
            "flex": null,
            "flex_flow": null,
            "grid_area": null,
            "grid_auto_columns": null,
            "grid_auto_flow": null,
            "grid_auto_rows": null,
            "grid_column": null,
            "grid_gap": null,
            "grid_row": null,
            "grid_template_areas": null,
            "grid_template_columns": null,
            "grid_template_rows": null,
            "height": null,
            "justify_content": null,
            "justify_items": null,
            "left": null,
            "margin": null,
            "max_height": null,
            "max_width": null,
            "min_height": null,
            "min_width": null,
            "object_fit": null,
            "object_position": null,
            "order": null,
            "overflow": null,
            "overflow_x": null,
            "overflow_y": null,
            "padding": null,
            "right": null,
            "top": null,
            "visibility": null,
            "width": null
          }
        },
        "2a02b0cbebe9451b9b4af7e76dfaeee5": {
          "model_module": "@jupyter-widgets/controls",
          "model_name": "DescriptionStyleModel",
          "model_module_version": "1.5.0",
          "state": {
            "_model_module": "@jupyter-widgets/controls",
            "_model_module_version": "1.5.0",
            "_model_name": "DescriptionStyleModel",
            "_view_count": null,
            "_view_module": "@jupyter-widgets/base",
            "_view_module_version": "1.2.0",
            "_view_name": "StyleView",
            "description_width": ""
          }
        }
      }
    }
  },
  "nbformat": 4,
  "nbformat_minor": 0
}