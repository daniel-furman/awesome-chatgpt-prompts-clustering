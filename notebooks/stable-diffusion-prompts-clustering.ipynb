{
  "cells": [
    {
      "cell_type": "markdown",
      "metadata": {
        "id": "LQ-HKp9u4kTR"
      },
      "source": [
        "# Text clustering: HDBSCAN is probably all you need\n",
        "\n",
        "<a target=\"_blank\" href=\"https://colab.research.google.com/github/daniel-furman/awesome-chatgpt-prompts-clustering/blob/main/notebooks/stable-diffusion-prompts-clustering.ipynb\">\n",
        "  <img src=\"https://colab.research.google.com/assets/colab-badge.svg\" alt=\"Open In Colab\"/>\n",
        "</a>"
      ]
    },
    {
      "cell_type": "markdown",
      "metadata": {
        "id": "IpEhs9ujlcQ1"
      },
      "source": [
        "## Sections\n",
        "\n",
        "1. Setup\n",
        "2. Data I/O\n",
        "3. Embed text\n",
        "4. Clustering\n",
        "5. Exemplar sub-clustering\n",
        "6. Knowledge graph theming\n",
        "7. Write final df results to disk\n",
        "8. Create a JSON knowledge graph viz"
      ]
    },
    {
      "cell_type": "markdown",
      "metadata": {
        "id": "ZMZjJxWGeSZP"
      },
      "source": [
        "## Setup"
      ]
    },
    {
      "cell_type": "code",
      "execution_count": 1,
      "metadata": {
        "colab": {
          "base_uri": "https://localhost:8080/"
        },
        "id": "a6GR5Tfzx2z9",
        "outputId": "8c7bc6ed-295a-4a19-c847-464e2728c67f"
      },
      "outputs": [
        {
          "output_type": "stream",
          "name": "stdout",
          "text": [
            "Mounted at /content/drive\n"
          ]
        }
      ],
      "source": [
        "# copying larger files to GDrive storage for this experiment\n",
        "\n",
        "from google.colab import drive\n",
        "\n",
        "drive.mount(\"/content/drive\")"
      ]
    },
    {
      "cell_type": "code",
      "execution_count": 2,
      "metadata": {
        "colab": {
          "base_uri": "https://localhost:8080/"
        },
        "id": "-mA_PgxV4KV2",
        "outputId": "08dd150d-2a9c-499e-a096-d4797b54a820"
      },
      "outputs": [
        {
          "output_type": "stream",
          "name": "stdout",
          "text": [
            "Cloning into 'awesome-chatgpt-prompts-clustering'...\n",
            "remote: Enumerating objects: 482, done.\u001b[K\n",
            "remote: Counting objects: 100% (113/113), done.\u001b[K\n",
            "remote: Compressing objects: 100% (81/81), done.\u001b[K\n",
            "remote: Total 482 (delta 61), reused 78 (delta 27), pack-reused 369\u001b[K\n",
            "Receiving objects: 100% (482/482), 15.26 MiB | 19.90 MiB/s, done.\n",
            "Resolving deltas: 100% (273/273), done.\n"
          ]
        }
      ],
      "source": [
        "!git clone https://github.com/daniel-furman/awesome-chatgpt-prompts-clustering.git"
      ]
    },
    {
      "cell_type": "code",
      "execution_count": 3,
      "metadata": {
        "id": "mO55HvFB3egw"
      },
      "outputs": [],
      "source": [
        "\n",
        "# for local run, see below commands for setting up a new venv\n",
        "\n",
        "#!python -m venv .venv_clust_demo\n",
        "#!source .venv_clust_demo/bin/activate\n",
        "#!pip install --upgrade pip\n",
        "#!pip list"
      ]
    },
    {
      "cell_type": "code",
      "execution_count": 4,
      "metadata": {
        "colab": {
          "base_uri": "https://localhost:8080/"
        },
        "id": "96JEWSNtljzH",
        "outputId": "74951160-6612-4b4e-9ac3-1c0e9b0adbd3"
      },
      "outputs": [
        {
          "output_type": "stream",
          "name": "stdout",
          "text": [
            "experiments  LICENSE  notebooks  README.md  requirements.txt\n"
          ]
        }
      ],
      "source": [
        "import os\n",
        "\n",
        "os.chdir(\"/content/awesome-chatgpt-prompts-clustering\")\n",
        "!ls"
      ]
    },
    {
      "cell_type": "code",
      "execution_count": null,
      "metadata": {
        "id": "GeFaTjyW2Gk7"
      },
      "outputs": [],
      "source": [
        "!pip install -qUr requirements.txt"
      ]
    },
    {
      "cell_type": "code",
      "execution_count": 6,
      "metadata": {
        "colab": {
          "base_uri": "https://localhost:8080/"
        },
        "id": "8nBmAAxvye3w",
        "outputId": "5af0e9f7-63b4-49c8-9ff0-58dbde5697e0"
      },
      "outputs": [
        {
          "output_type": "stream",
          "name": "stdout",
          "text": [
            "bin\t\t\t    etc     media\t\t      root  tools\n",
            "boot\t\t\t    home    mnt\t\t\t      run   usr\n",
            "content\t\t\t    lib     NGC-DL-CONTAINER-LICENSE  sbin  var\n",
            "cuda-keyring_1.0-1_all.deb  lib32   opt\t\t\t      srv\n",
            "datalab\t\t\t    lib64   proc\t\t      sys\n",
            "dev\t\t\t    libx32  python-apt\t\t      tmp\n"
          ]
        }
      ],
      "source": [
        "os.chdir(\"../..\")\n",
        "!ls"
      ]
    },
    {
      "cell_type": "code",
      "execution_count": 7,
      "metadata": {
        "id": "lPBnmvEd3egy"
      },
      "outputs": [],
      "source": [
        "#!pip list"
      ]
    },
    {
      "cell_type": "code",
      "execution_count": 8,
      "metadata": {
        "id": "NXc0G4wQ3egy"
      },
      "outputs": [],
      "source": [
        "import argparse\n",
        "import os\n",
        "from tqdm.notebook import tqdm\n",
        "import datetime\n",
        "import json\n",
        "import pickle\n",
        "import numpy as np\n",
        "from numpy import random\n",
        "import pandas as pd\n",
        "import seaborn as sns\n",
        "import matplotlib.pyplot as plt\n",
        "import plotly.graph_objects as go\n",
        "\n",
        "import umap\n",
        "from datasets import load_dataset\n",
        "from sentence_transformers import SentenceTransformer\n",
        "import torch\n",
        "import hdbscan\n",
        "from sklearn.metrics.pairwise import euclidean_distances\n",
        "import openai\n",
        "import tiktoken\n",
        "import cleantext\n",
        "\n",
        "from UliPlot.XLSX import auto_adjust_xlsx_column_width"
      ]
    },
    {
      "cell_type": "code",
      "execution_count": 9,
      "metadata": {
        "colab": {
          "base_uri": "https://localhost:8080/"
        },
        "id": "TnRCOUWK9hkn",
        "outputId": "07afabb9-d24e-4f87-bef3-10c92e34588f"
      },
      "outputs": [
        {
          "output_type": "execute_result",
          "data": {
            "text/plain": [
              "Namespace(inference=True)"
            ]
          },
          "metadata": {},
          "execution_count": 9
        }
      ],
      "source": [
        "args = argparse.Namespace()\n",
        "args.inference = True\n",
        "args"
      ]
    },
    {
      "cell_type": "code",
      "execution_count": 10,
      "metadata": {
        "colab": {
          "base_uri": "https://localhost:8080/"
        },
        "id": "m89BDk6WXSZM",
        "outputId": "d3bf848f-9eab-4da2-d6c5-e647ef45b2de"
      },
      "outputs": [
        {
          "output_type": "stream",
          "name": "stdout",
          "text": [
            "experiment's datetime identifier = 04_09_2023_03_02_25\n"
          ]
        }
      ],
      "source": [
        "now = datetime.datetime.now()\n",
        "# dd/mm/YY H:M:S\n",
        "dt_string = now.strftime(\"%d_%m_%Y_%H_%M_%S\")\n",
        "\n",
        "# hardcode in an existing experiment datetime for inference runs\n",
        "\n",
        "if args.inference:\n",
        "    # dt_string identifiers from cached experiments:\n",
        "    dt_string = \"04_09_2023_03_02_25\"\n",
        "\n",
        "print(\"experiment's datetime identifier =\", dt_string)\n",
        "\n",
        "# create results folder if it doesn't exist\n",
        "if not os.path.isdir(\n",
        "    f\"/content/drive/MyDrive/colab_files/text_clustering/experiments/{dt_string}\"\n",
        "):\n",
        "    os.mkdir(\n",
        "        f\"/content/drive/MyDrive/colab_files/text_clustering/experiments/{dt_string}\"\n",
        "    )"
      ]
    },
    {
      "cell_type": "code",
      "execution_count": 11,
      "metadata": {
        "colab": {
          "base_uri": "https://localhost:8080/"
        },
        "id": "3EzBV-Mm6C90",
        "outputId": "484a8b3e-9104-4795-a4b0-e872aceeead5"
      },
      "outputs": [
        {
          "output_type": "execute_result",
          "data": {
            "text/plain": [
              "Namespace(inference=True, cache_folder='/content/drive/MyDrive/colab_files/text_clustering/experiments/04_09_2023_03_02_25')"
            ]
          },
          "metadata": {},
          "execution_count": 11
        }
      ],
      "source": [
        "args.cache_folder = (\n",
        "    f\"/content/drive/MyDrive/colab_files/text_clustering/experiments/{dt_string}\"\n",
        ")\n",
        "args"
      ]
    },
    {
      "cell_type": "markdown",
      "metadata": {
        "id": "ZRwI0I6IeVNr"
      },
      "source": [
        "## Data I/O"
      ]
    },
    {
      "cell_type": "code",
      "execution_count": null,
      "metadata": {
        "id": "_BNPvSprLRzM"
      },
      "outputs": [],
      "source": [
        "ds_hf = load_dataset(\"Gustavosta/Stable-Diffusion-Prompts\")\n",
        "ds = ds_hf[\"train\"]\n",
        "\n",
        "ds = ds.to_pandas()\n",
        "ds[\"id\"] = ds.index\n",
        "ds = ds[[\"id\", \"Prompt\"]]\n",
        "ds"
      ]
    },
    {
      "cell_type": "markdown",
      "metadata": {
        "id": "h8uYPW_TeYOa"
      },
      "source": [
        "## Embed Text\n",
        "\n",
        "* See [pretrained models](https://www.sbert.net/docs/pretrained_models.html) for supporting information"
      ]
    },
    {
      "cell_type": "code",
      "execution_count": null,
      "metadata": {
        "id": "pLLXTuZd6QyV"
      },
      "outputs": [],
      "source": [
        "model = SentenceTransformer(\"all-mpnet-base-v2\")"
      ]
    },
    {
      "cell_type": "code",
      "execution_count": null,
      "metadata": {
        "id": "UIen4vsj3egz"
      },
      "outputs": [],
      "source": [
        "if not args.inference:\n",
        "    embeddings = torch.zeros([len(ds), 768])\n",
        "    for i in tqdm(range(len(ds))):\n",
        "        emb = model.encode(ds.loc[i, \"Prompt\"], convert_to_tensor=True)\n",
        "        embeddings[i, :] = emb\n",
        "    embeddings"
      ]
    },
    {
      "cell_type": "code",
      "execution_count": null,
      "metadata": {
        "id": "5h2kpB6C2I_N"
      },
      "outputs": [],
      "source": [
        "f_name = os.path.join(\n",
        "    args.cache_folder, \"stable_diffusion_prompts_embeddings_all_mpnet_base_v2.pt\"\n",
        ")\n",
        "print(f_name, \"\\n\")\n",
        "\n",
        "if not args.inference:\n",
        "    torch.save(embeddings, f_name)\n",
        "loaded_embeddings = torch.load(f_name)\n",
        "loaded_embeddings"
      ]
    },
    {
      "cell_type": "code",
      "execution_count": null,
      "metadata": {
        "id": "fsWOJjwdzgeG"
      },
      "outputs": [],
      "source": [
        "loaded_embeddings.shape"
      ]
    },
    {
      "cell_type": "code",
      "execution_count": null,
      "metadata": {
        "id": "DWdeAnld5xhH"
      },
      "outputs": [],
      "source": [
        "if not args.inference:\n",
        "    torch.equal(loaded_embeddings.cpu(), embeddings.cpu())"
      ]
    },
    {
      "cell_type": "code",
      "execution_count": null,
      "metadata": {
        "id": "j6f0cJmH3egz"
      },
      "outputs": [],
      "source": [
        "test_itr = random.randint(low=0, high=len(ds))\n",
        "test_itr"
      ]
    },
    {
      "cell_type": "code",
      "execution_count": null,
      "metadata": {
        "id": "2WoZs9mF3egz"
      },
      "outputs": [],
      "source": [
        "# test embeddings worked\n",
        "ds.loc[test_itr, \"Prompt\"]"
      ]
    },
    {
      "cell_type": "code",
      "execution_count": null,
      "metadata": {
        "id": "78eiylg53egz"
      },
      "outputs": [],
      "source": [
        "test_emb = model.encode(ds.loc[test_itr, \"Prompt\"], convert_to_tensor=True)\n",
        "a = np.array(test_emb.cpu())\n",
        "b = np.array(loaded_embeddings[test_itr, :].cpu())\n",
        "np.allclose(a, b, rtol=1e-02)"
      ]
    },
    {
      "cell_type": "markdown",
      "metadata": {
        "id": "THg1GieGesDQ"
      },
      "source": [
        "## Clustering\n",
        "\n",
        "* See [how hdbscan works](https://hdbscan.readthedocs.io/en/latest/how_hdbscan_works.html) for supporting information"
      ]
    },
    {
      "cell_type": "code",
      "execution_count": null,
      "metadata": {
        "id": "m2A8EHRg7dzr"
      },
      "outputs": [],
      "source": [
        "# second, perform clustering\n",
        "\n",
        "# first, perform dimensionality reduction from 768 to 15\n",
        "f_name = os.path.join(args.cache_folder, \"reducer_umap_15.pkl\")\n",
        "print(f_name, \"\\n\")\n",
        "\n",
        "if not args.inference:\n",
        "    reducer_15 = umap.UMAP(n_components=15)\n",
        "    reducer_15.fit(loaded_embeddings)\n",
        "    embeddings_umap_dim_15 = reducer_15.transform(loaded_embeddings)\n",
        "    # Verify that the result of calling transform is\n",
        "    # idenitical to accessing the embedding_ attribute\n",
        "    assert np.all(embeddings_umap_dim_15 == reducer_15.embedding_)\n",
        "\n",
        "    # cache fitted umap object\n",
        "    pickle.dump(reducer_15, open(f_name, \"wb\"))\n",
        "\n",
        "loaded_reducer_15 = pickle.load((open(f_name, \"rb\")))\n",
        "\n",
        "embeddings_umap_dim_15 = loaded_reducer_15.transform(loaded_embeddings)\n",
        "# Verify that the result of calling transform is\n",
        "# idenitical to accessing the embedding_ attribute\n",
        "assert np.all(embeddings_umap_dim_15 == loaded_reducer_15.embedding_)\n",
        "\n",
        "print(embeddings_umap_dim_15.shape)\n",
        "\n",
        "f_name = os.path.join(args.cache_folder, \"clusterer_hdbscan.pkl\")\n",
        "print(f_name, \"\\n\")\n",
        "\n",
        "if not args.inference:\n",
        "    clusterer = hdbscan.HDBSCAN(min_cluster_size=110, gen_min_span_tree=True)\n",
        "    clusterer.fit(embeddings_umap_dim_15)\n",
        "    pickle.dump(clusterer, open(f_name, \"wb\"))\n",
        "\n",
        "loaded_clusterer = pickle.load((open(f_name, \"rb\")))\n",
        "\n",
        "if not args.inference:\n",
        "    print(\n",
        "        pd.DataFrame.equals(\n",
        "            pd.Series(clusterer.labels_).value_counts(),\n",
        "            pd.Series(loaded_clusterer.labels_).value_counts(),\n",
        "        )\n",
        "    )\n",
        "    print(\n",
        "        pd.DataFrame.equals(\n",
        "            pd.Series(clusterer.probabilities_).value_counts(),\n",
        "            pd.Series(loaded_clusterer.probabilities_).value_counts(),\n",
        "        )\n",
        "    )\n",
        "\n",
        "num_ouliers = pd.Series(loaded_clusterer.labels_).value_counts().loc[-1]\n",
        "\n",
        "print(pd.Series(loaded_clusterer.labels_).value_counts())\n",
        "print(f\"\\nCluster outliers : {num_ouliers}\\n\")"
      ]
    },
    {
      "cell_type": "code",
      "execution_count": null,
      "metadata": {
        "id": "eqIqeraG-jTd"
      },
      "outputs": [],
      "source": [
        "# sum of top 25 cluster counts\n",
        "\n",
        "pd.Series(loaded_clusterer.labels_).value_counts()[1:26].sum()"
      ]
    },
    {
      "cell_type": "code",
      "execution_count": null,
      "metadata": {
        "id": "zB9nU0ka_JpA"
      },
      "outputs": [],
      "source": [
        "ds[\"cluster\"] = loaded_clusterer.labels_\n",
        "ds[\"cluster membership prob\"] = loaded_clusterer.probabilities_\n",
        "ds"
      ]
    },
    {
      "cell_type": "code",
      "execution_count": null,
      "metadata": {
        "id": "pDW5AVDn891V"
      },
      "outputs": [],
      "source": [
        "loaded_clusterer.condensed_tree_.plot()"
      ]
    },
    {
      "cell_type": "code",
      "execution_count": null,
      "metadata": {
        "id": "N-aJm6Sz9A2h"
      },
      "outputs": [],
      "source": [
        "loaded_clusterer.condensed_tree_.plot(\n",
        "    select_clusters=True, selection_palette=sns.color_palette()\n",
        ")"
      ]
    },
    {
      "cell_type": "code",
      "execution_count": null,
      "metadata": {
        "id": "Bug6Ab-n8DqQ"
      },
      "outputs": [],
      "source": [
        "# third, perform dimensionality reduction from 15 to 2\n",
        "\n",
        "f_name = os.path.join(args.cache_folder, \"reducer_umap_2.pkl\")\n",
        "print(f_name, \"\\n\")\n",
        "\n",
        "if not args.inference:\n",
        "    reducer_2 = umap.UMAP(n_components=2)\n",
        "    reducer_2.fit(embeddings_umap_dim_15)\n",
        "    embeddings_umap_dim_2 = reducer_2.transform(embeddings_umap_dim_15)\n",
        "\n",
        "    # Verify that the result of calling transform is\n",
        "    # idenitical to accessing the embedding_ attribute\n",
        "    assert np.all(embeddings_umap_dim_2 == reducer_2.embedding_)\n",
        "\n",
        "    # cache fitted umap object\n",
        "    pickle.dump(reducer_2, open(f_name, \"wb\"))\n",
        "\n",
        "loaded_reducer_2 = pickle.load((open(f_name, \"rb\")))\n",
        "\n",
        "embeddings_umap_dim_2 = loaded_reducer_2.transform(embeddings_umap_dim_15)\n",
        "# Verify that the result of calling transform is\n",
        "# idenitical to accessing the embedding_ attribute\n",
        "assert np.all(embeddings_umap_dim_2 == loaded_reducer_2.embedding_)\n",
        "embeddings_umap_dim_2.shape"
      ]
    },
    {
      "cell_type": "code",
      "execution_count": null,
      "metadata": {
        "id": "PjOkZzekl1vx"
      },
      "outputs": [],
      "source": [
        "ds[\"x\"] = embeddings_umap_dim_2[:, 0]\n",
        "ds[\"y\"] = embeddings_umap_dim_2[:, 1]"
      ]
    },
    {
      "cell_type": "code",
      "execution_count": null,
      "metadata": {
        "id": "lcOHNlilQAeU"
      },
      "outputs": [],
      "source": [
        "# Visualize clusters\n",
        "fig, ax = plt.subplots(figsize=(20, 10))\n",
        "outliers = ds[ds[\"cluster\"] == -1]\n",
        "clustered = ds[ds[\"cluster\"] != -1]\n",
        "plt.scatter(outliers.x, outliers.y, color=\"#BDBDBD\", s=10, alpha=0.1)\n",
        "plt.scatter(\n",
        "    clustered.x, clustered.y, c=clustered.cluster, s=10, alpha=0.35, cmap=\"viridis\"\n",
        ")"
      ]
    },
    {
      "cell_type": "code",
      "execution_count": null,
      "metadata": {
        "id": "jdCSkHYZ9VTK"
      },
      "outputs": [],
      "source": [
        "fig = go.Figure()\n",
        "fig.add_trace(\n",
        "    go.Scatter(\n",
        "        x=ds[\"x\"][ds[\"cluster\"] != -1],\n",
        "        y=ds[\"y\"][ds[\"cluster\"] != -1],\n",
        "        mode=\"markers\",\n",
        "        marker_color=ds[\"cluster\"][ds[\"cluster\"] != -1],\n",
        "        marker_colorscale=\"Viridis\",\n",
        "        text=ds[\"cluster\"][ds[\"cluster\"] != -1],\n",
        "    )\n",
        ")\n",
        "\n",
        "fig.update_traces(marker={\"size\": 5, \"opacity\": 0.45}, showlegend=False)\n",
        "fig.update_coloraxes(showscale=False)\n",
        "fig.update_layout(width=550 * 2, height=400 * 2)\n",
        "fig.show()"
      ]
    },
    {
      "cell_type": "markdown",
      "metadata": {
        "id": "fZl5qjp7r6QJ"
      },
      "source": [
        "## Exemplar Sub-Clustering\n",
        "\n",
        "* See [soft clustering explanation](https://hdbscan.readthedocs.io/en/latest/soft_clustering_explanation.html) for supporting information"
      ]
    },
    {
      "cell_type": "code",
      "execution_count": null,
      "metadata": {
        "id": "87hBN35f-J0-"
      },
      "outputs": [],
      "source": [
        "# function copied from:\n",
        "# https://hdbscan.readthedocs.io/en/latest/soft_clustering_explanation.html#distance-based-membership\n",
        "\n",
        "\n",
        "def exemplars(cluster_id, condensed_tree):\n",
        "    raw_tree = condensed_tree._raw_tree\n",
        "    # Just the cluster elements of the tree, excluding singleton points\n",
        "    cluster_tree = raw_tree[raw_tree[\"child_size\"] > 1]\n",
        "    # Get the leaf cluster nodes under the cluster we are considering\n",
        "    leaves = hdbscan.plots._recurse_leaf_dfs(cluster_tree, cluster_id)\n",
        "    # Now collect up the last remaining points of each leaf cluster (the heart of the leaf)\n",
        "    result = np.array([])\n",
        "    for leaf in leaves:\n",
        "        max_lambda = raw_tree[\"lambda_val\"][raw_tree[\"parent\"] == leaf].max()\n",
        "        points = raw_tree[\"child\"][\n",
        "            (raw_tree[\"parent\"] == leaf) & (raw_tree[\"lambda_val\"] == max_lambda)\n",
        "        ]\n",
        "        result = np.hstack((result, points))\n",
        "    return result.astype(np.int)"
      ]
    },
    {
      "cell_type": "code",
      "execution_count": null,
      "metadata": {
        "id": "hu4rVHAHAoms"
      },
      "outputs": [],
      "source": [
        "tree = loaded_clusterer.condensed_tree_\n",
        "\n",
        "exemplar_ids = []\n",
        "for i, c in enumerate(tree._select_clusters()):\n",
        "    c_exemplars = exemplars(c, tree)\n",
        "    print(f\"Cluster {i} has {len(c_exemplars)} exemplars\")\n",
        "    exemplar_ids.extend(c_exemplars)"
      ]
    },
    {
      "cell_type": "code",
      "execution_count": null,
      "metadata": {
        "id": "3X3Wc86tnVRY"
      },
      "outputs": [],
      "source": [
        "ds[\"exemplars yes/no\"] = np.zeros(len(ds))\n",
        "ds.loc[exemplar_ids, \"exemplars yes/no\"] = 1\n",
        "\n",
        "assert len(ds[ds[\"exemplars yes/no\"] == 1]) == len(exemplar_ids)"
      ]
    },
    {
      "cell_type": "code",
      "execution_count": null,
      "metadata": {
        "id": "uyJW97LhrRp0"
      },
      "outputs": [],
      "source": [
        "print(\"\\n\")\n",
        "fig = go.Figure()\n",
        "\n",
        "custom_scale = [\n",
        "    \"#949494\",  # Gray\n",
        "    \"#F65314\",  # Google Red\n",
        "    \"#4285F4\",  # Google Blue\n",
        "]\n",
        "\n",
        "fig.add_trace(\n",
        "    go.Scatter(\n",
        "        x=ds[\"x\"][(ds[\"exemplars yes/no\"] == 0) & (ds[\"cluster\"] != -1)],\n",
        "        y=ds[\"y\"][(ds[\"exemplars yes/no\"] == 0) & (ds[\"cluster\"] != -1)],\n",
        "        mode=\"markers\",\n",
        "        marker_color=custom_scale[0],\n",
        "        text=ds[\"cluster\"][(ds[\"exemplars yes/no\"] == 0) & (ds[\"cluster\"] != -1)],\n",
        "    )\n",
        ")\n",
        "\n",
        "fig.add_trace(\n",
        "    go.Scatter(\n",
        "        x=ds[\"x\"][ds[\"exemplars yes/no\"] == 1],\n",
        "        y=ds[\"y\"][ds[\"exemplars yes/no\"] == 1],\n",
        "        mode=\"markers\",\n",
        "        marker_color=ds[\"cluster\"][ds[\"exemplars yes/no\"] == 1],\n",
        "        marker_colorscale=\"Viridis\",\n",
        "        text=ds[\"cluster\"][ds[\"exemplars yes/no\"] == 1],\n",
        "    )\n",
        ")\n",
        "\n",
        "fig.update_traces(marker={\"size\": 5, \"opacity\": 0.45}, showlegend=False)\n",
        "fig.update_coloraxes(showscale=False)\n",
        "fig.update_layout(width=550 * 2, height=400 * 2)\n",
        "fig.show()"
      ]
    },
    {
      "cell_type": "code",
      "execution_count": null,
      "metadata": {
        "id": "y5bO5SZ4hjAT"
      },
      "outputs": [],
      "source": [
        "len(ds.loc[exemplar_ids])"
      ]
    },
    {
      "cell_type": "code",
      "execution_count": null,
      "metadata": {
        "id": "OW44QJyYhibv"
      },
      "outputs": [],
      "source": [
        "embeddings_umap_dim_15[exemplar_ids].shape"
      ]
    },
    {
      "cell_type": "code",
      "execution_count": null,
      "metadata": {
        "id": "J17BEw2vgvwA"
      },
      "outputs": [],
      "source": [
        "# fourth, perform exemplar sub-clustering\n",
        "\n",
        "f_name = os.path.join(args.cache_folder, \"clusterer_subs_hdbscan.pkl\")\n",
        "print(f_name, \"\\n\")\n",
        "\n",
        "if not args.inference:\n",
        "    sub_clusterer = hdbscan.HDBSCAN(min_cluster_size=4, gen_min_span_tree=True)\n",
        "    sub_clusterer.fit(embeddings_umap_dim_15[exemplar_ids])\n",
        "    pickle.dump(sub_clusterer, open(f_name, \"wb\"))\n",
        "\n",
        "loaded_sub_clusterer = pickle.load((open(f_name, \"rb\")))\n",
        "\n",
        "if not args.inference:\n",
        "    print(\n",
        "        pd.DataFrame.equals(\n",
        "            pd.Series(sub_clusterer.labels_).value_counts(),\n",
        "            pd.Series(loaded_sub_clusterer.labels_).value_counts(),\n",
        "        )\n",
        "    )\n",
        "    print(\n",
        "        pd.DataFrame.equals(\n",
        "            pd.Series(sub_clusterer.probabilities_).value_counts(),\n",
        "            pd.Series(loaded_sub_clusterer.probabilities_).value_counts(),\n",
        "        )\n",
        "    )\n",
        "\n",
        "print(\"\\nCluster value counts:\\n\")\n",
        "pd.Series(loaded_sub_clusterer.labels_).value_counts()"
      ]
    },
    {
      "cell_type": "code",
      "execution_count": null,
      "metadata": {
        "id": "O9033VfDirUu"
      },
      "outputs": [],
      "source": [
        "loaded_sub_clusterer.labels_"
      ]
    },
    {
      "cell_type": "code",
      "execution_count": null,
      "metadata": {
        "id": "buRR8jvui1ul"
      },
      "outputs": [],
      "source": [
        "ds[\"exemplar sub-cluster\"] = np.repeat(np.nan, len(ds))\n",
        "ds[\"cluster XX.YY\"] = np.repeat(np.nan, len(ds))\n",
        "# ds.loc[exemplar_ids] = loaded_sub_clusterer.labels_\n",
        "ds\n",
        "for i in range(len(ds.loc[exemplar_ids])):\n",
        "    row = ds.loc[exemplar_ids].iloc[i]\n",
        "    ds.loc[row.id, \"exemplar sub-cluster\"] = loaded_sub_clusterer.labels_[i]\n",
        "for i in range(len(ds.loc[exemplar_ids])):\n",
        "    row = ds.loc[exemplar_ids].iloc[i]\n",
        "    ds.loc[row.id, \"cluster XX.YY\"] = (\n",
        "        \"Cluster \"\n",
        "        + str(row.cluster)\n",
        "        + \", Sub-Cluster \"\n",
        "        + str(int(row[\"exemplar sub-cluster\"]))\n",
        "    )\n",
        "\n",
        "# ds.loc[exemplar_ids]\n",
        "# ds"
      ]
    },
    {
      "cell_type": "code",
      "execution_count": null,
      "metadata": {
        "id": "lJdOWEjSr0NR"
      },
      "outputs": [],
      "source": [
        "ds_inner_exemplars = ds[ds[\"exemplars yes/no\"] == 1]\n",
        "ds_inner_exemplars = ds_inner_exemplars[\n",
        "    ds_inner_exemplars[\"exemplar sub-cluster\"] != -1\n",
        "]\n",
        "len(ds_inner_exemplars)"
      ]
    },
    {
      "cell_type": "code",
      "execution_count": null,
      "metadata": {
        "id": "NiW84puFkJtJ"
      },
      "outputs": [],
      "source": [
        "print(\"\\n\")\n",
        "\n",
        "fig = go.Figure()\n",
        "\n",
        "fig.add_trace(\n",
        "    go.Scatter(\n",
        "        x=ds[\"x\"][(ds[\"exemplars yes/no\"] == 0) & (ds[\"cluster\"] != -1)],\n",
        "        y=ds[\"y\"][(ds[\"exemplars yes/no\"] == 0) & (ds[\"cluster\"] != -1)],\n",
        "        mode=\"markers\",\n",
        "        marker_color=custom_scale[0],\n",
        "        text=ds[\"cluster XX.YY\"][(ds[\"exemplars yes/no\"] == 0) & (ds[\"cluster\"] != -1)],\n",
        "    )\n",
        ")\n",
        "\n",
        "fig.add_trace(\n",
        "    go.Scatter(\n",
        "        x=ds_inner_exemplars[\"x\"],\n",
        "        y=ds_inner_exemplars[\"y\"],\n",
        "        mode=\"markers\",\n",
        "        marker_color=ds_inner_exemplars[\"exemplar sub-cluster\"],\n",
        "        marker_colorscale=\"Viridis\",\n",
        "        text=ds_inner_exemplars[\"cluster XX.YY\"],\n",
        "    )\n",
        ")\n",
        "\n",
        "fig.update_traces(marker={\"size\": 11, \"opacity\": 0.55}, showlegend=False)\n",
        "fig.update_coloraxes(showscale=False)\n",
        "fig.update_layout(width=550 * 1.5, height=400 * 1.5)\n",
        "fig.show()"
      ]
    },
    {
      "cell_type": "code",
      "execution_count": null,
      "metadata": {
        "id": "1JJB33r5qCSq"
      },
      "outputs": [],
      "source": [
        "for i in range(len(ds)):\n",
        "    ds.loc[i, \"Prompt head\"] = \" \".join(\n",
        "        cleantext.clean_words(\n",
        "            ds.loc[i, \"Prompt\"],\n",
        "            clean_all=False,  # Execute all cleaning operations\n",
        "            extra_spaces=True,  # Remove extra white spaces\n",
        "            stemming=False,  # Stem the words\n",
        "            stopwords=False,  # Remove stop words\n",
        "            lowercase=False,  # Convert to lowercase\n",
        "            numbers=False,  # Remove all digits\n",
        "            punct=False,  # Remove all punctuations\n",
        "            stp_lang=\"english\",  # Language for stop words\n",
        "        )[0:12]\n",
        "    )"
      ]
    },
    {
      "cell_type": "code",
      "execution_count": null,
      "metadata": {
        "id": "iEG1AZTurPkN"
      },
      "outputs": [],
      "source": [
        "ds"
      ]
    },
    {
      "cell_type": "code",
      "execution_count": null,
      "metadata": {
        "id": "UdQ3Rf3YpBSE"
      },
      "outputs": [],
      "source": [
        "ds[\"cluster + Prompt\"] = (\n",
        "    \"Cluster: \"\n",
        "    + ds[\"cluster\"].astype(str)\n",
        "    + \", Prompt id \"\n",
        "    + ds[\"id\"].astype(str)\n",
        "    + \": \"\n",
        "    + '\"'\n",
        "    + ds[\"Prompt head\"]\n",
        "    + '\"'\n",
        ")\n",
        "ds"
      ]
    },
    {
      "cell_type": "code",
      "execution_count": null,
      "metadata": {
        "id": "w6l_0xa2luhO"
      },
      "outputs": [],
      "source": [
        "# visualize top 25 clusters by count\n",
        "\n",
        "clust_to_zoom_list = pd.Series(loaded_clusterer.labels_).value_counts().index[1:26]\n",
        "\n",
        "for clust_to_zoom in clust_to_zoom_list:\n",
        "    print(f\"Cluster {clust_to_zoom}:\")\n",
        "    ds_inner_exemplars = ds[\n",
        "        (ds[\"exemplars yes/no\"] == 1) & (ds[\"cluster\"] == clust_to_zoom)\n",
        "    ]\n",
        "    ds_inner_exemplars = ds_inner_exemplars[\n",
        "        ds_inner_exemplars[\"exemplar sub-cluster\"] != -1\n",
        "    ]\n",
        "\n",
        "    fig = go.Figure()\n",
        "\n",
        "    fig.add_trace(\n",
        "        go.Scatter(\n",
        "            x=ds[\"x\"][(ds[\"exemplars yes/no\"] == 0) & (ds[\"cluster\"] == clust_to_zoom)],\n",
        "            y=ds[\"y\"][(ds[\"exemplars yes/no\"] == 0) & (ds[\"cluster\"] == clust_to_zoom)],\n",
        "            mode=\"markers\",\n",
        "            marker_color=custom_scale[0],\n",
        "            text=ds[\"cluster + Prompt\"][\n",
        "                (ds[\"exemplars yes/no\"] == 0) & (ds[\"cluster\"] == clust_to_zoom)\n",
        "            ],\n",
        "        )\n",
        "    )\n",
        "\n",
        "    fig.add_trace(\n",
        "        go.Scatter(\n",
        "            x=ds_inner_exemplars[\"x\"],\n",
        "            y=ds_inner_exemplars[\"y\"],\n",
        "            mode=\"markers\",\n",
        "            marker_color=ds_inner_exemplars[\"exemplar sub-cluster\"],\n",
        "            marker_colorscale=\"Viridis\",\n",
        "            text=ds_inner_exemplars[\"cluster + Prompt\"],\n",
        "        )\n",
        "    )\n",
        "\n",
        "    fig.update_traces(marker={\"size\": 11, \"opacity\": 0.55}, showlegend=False)\n",
        "    fig.update_coloraxes(showscale=False)\n",
        "    fig.update_layout(width=550 * 1.5, height=400 * 1.5)\n",
        "    fig.show()"
      ]
    },
    {
      "cell_type": "code",
      "execution_count": null,
      "metadata": {
        "id": "PuTTU71N5AkX"
      },
      "outputs": [],
      "source": [
        "ds_inner_exemplars = ds[ds[\"exemplars yes/no\"] == 1]\n",
        "ds_inner_exemplars = ds_inner_exemplars[\n",
        "    ds_inner_exemplars[\"exemplar sub-cluster\"] != -1\n",
        "]"
      ]
    },
    {
      "cell_type": "code",
      "execution_count": null,
      "metadata": {
        "id": "rx58ZS3-40gI"
      },
      "outputs": [],
      "source": [
        "print(\"\\n\")\n",
        "\n",
        "fig = go.Figure()\n",
        "\n",
        "fig.add_trace(\n",
        "    go.Scatter(\n",
        "        x=ds[\"x\"][(ds[\"exemplars yes/no\"] == 0) & (ds[\"cluster\"] != -1)],\n",
        "        y=ds[\"y\"][(ds[\"exemplars yes/no\"] == 0) & (ds[\"cluster\"] != -1)],\n",
        "        mode=\"markers\",\n",
        "        marker_color=custom_scale[0],\n",
        "        text=ds[\"cluster + Prompt\"][(ds[\"exemplars yes/no\"] == 0) & (ds[\"cluster\"] != -1)],\n",
        "    )\n",
        ")\n",
        "\n",
        "fig.add_trace(\n",
        "    go.Scatter(\n",
        "        x=ds_inner_exemplars[\"x\"],\n",
        "        y=ds_inner_exemplars[\"y\"],\n",
        "        mode=\"markers\",\n",
        "        marker_color=ds_inner_exemplars[\"exemplar sub-cluster\"],\n",
        "        marker_colorscale=\"Viridis\",\n",
        "        text=ds_inner_exemplars[\"cluster + Prompt\"],\n",
        "    )\n",
        ")\n",
        "\n",
        "fig.update_traces(marker={\"size\": 11, \"opacity\": 0.55}, showlegend=False)\n",
        "fig.update_coloraxes(showscale=False)\n",
        "fig.update_layout(width=550 * 1.5, height=400 * 1.5)\n",
        "fig.show()"
      ]
    },
    {
      "cell_type": "markdown",
      "metadata": {
        "id": "B9fADGA9gvwA"
      },
      "source": [
        "## Create summary themes knowledge graph"
      ]
    },
    {
      "cell_type": "code",
      "execution_count": null,
      "metadata": {
        "id": "kXz16XO5dd6j"
      },
      "outputs": [],
      "source": [
        "claude_prompt = \"Please identify and summarize the core theme for each Sub-Cluster. Respond as succinctly as possible. Each summary cannot be longer than 1 sentence. Do not skip any of the Sub-Clusters. Do not list out the names of individuals in the prompts. Let's think step by step before responding.\"\n",
        "\n",
        "num_subclusts = 0\n",
        "subclusts_in_order = []\n",
        "\n",
        "for clust in np.unique(np.array(ds[(ds[\"exemplars yes/no\"] == 1)][\"cluster\"])):\n",
        "\n",
        "    sub_df = ds[(ds[\"cluster\"] == clust) & (ds[\"exemplars yes/no\"] == 1)]\n",
        "\n",
        "    for clust_to_zoom in clust_to_zoom_list:\n",
        "        if sub_df[\"cluster\"].iloc[0] == clust_to_zoom:\n",
        "            sub_clusts = list(np.unique(np.array(sub_df[\"cluster XX.YY\"])))\n",
        "            sub_clusts.sort()\n",
        "            for sub_clust in sub_clusts:\n",
        "                if int(sub_clust.split(\"Sub-Cluster \")[-1]) != -1:\n",
        "                    #print(sub_clust)\n",
        "                    num_subclusts+=1\n",
        "                    subclusts_in_order.append(sub_clust)\n",
        "                    sub_prompts = sub_df[sub_df[\"cluster XX.YY\"]==sub_clust][\"Prompt\"].astype(str)\n",
        "                    claude_prompt += \"\\n\" + str(sub_clust.split(\", \")[1]) + \": \"\n",
        "                    claude_prompt += f\"\\n\" + str(sub_prompts) + '\"\\n'\n"
      ]
    },
    {
      "cell_type": "code",
      "execution_count": null,
      "metadata": {
        "id": "y49WrTOLq_Dy"
      },
      "outputs": [],
      "source": [
        "#print(claude_prompt)\n",
        "#subclusts_in_order"
      ]
    },
    {
      "cell_type": "code",
      "execution_count": null,
      "metadata": {
        "id": "c0zRcjt0rBJd"
      },
      "outputs": [],
      "source": [
        "num_subclusts"
      ]
    },
    {
      "cell_type": "code",
      "execution_count": null,
      "metadata": {
        "id": "Qt-LdSAFlvxh"
      },
      "outputs": [],
      "source": [
        "claude_prompt.count(\"Sub-Cluster \")"
      ]
    },
    {
      "cell_type": "code",
      "execution_count": null,
      "metadata": {
        "id": "vqR42TGDnLvh"
      },
      "outputs": [],
      "source": [
        "ds_exemps = ds[(ds[\"exemplars yes/no\"] == 1) & (ds[\"exemplar sub-cluster\"]!=-1)]\n",
        "\n",
        "mask = ds_exemps['cluster'].isin(clust_to_zoom_list)\n",
        "ds_exemps_of_interest = ds_exemps[mask]\n",
        "#ds_exemps_of_interest"
      ]
    },
    {
      "cell_type": "code",
      "execution_count": null,
      "metadata": {
        "id": "TJkN6z9clcSR"
      },
      "outputs": [],
      "source": [
        "len(np.unique(np.array(ds_exemps_of_interest[\"cluster XX.YY\"])))"
      ]
    },
    {
      "cell_type": "code",
      "execution_count": null,
      "metadata": {
        "id": "fEqyYu9tn8vD"
      },
      "outputs": [],
      "source": [
        "tokenizer = tiktoken.encoding_for_model(\"gpt-3.5-turbo-16k\")\n",
        "len(tokenizer.encode(claude_prompt))"
      ]
    },
    {
      "cell_type": "code",
      "execution_count": null,
      "metadata": {
        "id": "VTTbFvQds-yc"
      },
      "outputs": [],
      "source": [
        "claude_prompt"
      ]
    },
    {
      "cell_type": "code",
      "execution_count": null,
      "metadata": {
        "id": "DfAbeTWZp2M5"
      },
      "outputs": [],
      "source": [
        "# saved response from claude-2 conversation\n",
        "\n",
        "text_generation = \"\"\"Sub-Cluster 19: Portraits of characters in lofi style by various artists.\n",
        "\n",
        "Sub-Cluster 17: Symmetry portraits of various people and characters.\n",
        "\n",
        "Sub-Cluster 18: Symmetry sci-fi portraits of characters and people.\n",
        "\n",
        "Sub-Cluster 128: Highly detailed illustrations of people, often describing hair and age.\n",
        "\n",
        "Sub-Cluster 162: Highly detailed illustrations of sadistic or aggressive looking people.\n",
        "\n",
        "Sub-Cluster 163: Highly detailed illustrations of attractive people, often with white hair.\n",
        "\n",
        "Sub-Cluster 75: Highly detailed illustrations of beautiful, fierce, or smug women.\n",
        "\n",
        "Sub-Cluster 76: Art of the League of Legends champion Vi.\n",
        "\n",
        "Sub-Cluster 66: Greg Manchess portrait paintings of various characters as different roles.\n",
        "\n",
        "Sub-Cluster 78: Art and portraits featuring Star Wars characters, especially Darth Vader.\n",
        "\n",
        "Sub-Cluster 91: Portraits and art of female cyborg characters.\n",
        "\n",
        "Sub-Cluster 93: Art and portraits of robots and humanoid AI characters.\n",
        "\n",
        "Sub-Cluster 107: Art of Vladimir Putin being killed or defeated.\n",
        "\n",
        "Sub-Cluster 168: Portraits of Putin and Biden as magical characters.\n",
        "\n",
        "Sub-Cluster 235: Art depicting Vladimir Putin as various monsters, animals, or in humiliating situations.\n",
        "\n",
        "Sub-Cluster 236: Art of Putin with Kim Jong Un's haircut.\n",
        "\n",
        "Sub-Cluster 164: Art of characters like aliens eating hamburgers.\n",
        "\n",
        "Sub-Cluster 191: Art of Final Fantasy 7 character Sephiroth.\n",
        "\n",
        "Sub-Cluster 192: Beautiful, award winning pencil drawings and illustrations.\n",
        "\n",
        "Sub-Cluster 240: Portraits of celebrities eating hamburgers.\n",
        "\n",
        "Sub-Cluster 241: Portraits of various real people and characters eating hamburgers.\n",
        "\n",
        "Sub-Cluster 85: Art and portraits of dragons in various settings.\n",
        "\n",
        "Sub-Cluster 92: Art depicting Donald Trump in various roles and situations.\n",
        "\n",
        "Sub-Cluster 89: Art and portraits of Batman characters.\n",
        "\n",
        "Sub-Cluster 90: Art of Spider-Man and related Marvel characters.\n",
        "\n",
        "Sub-Cluster 135: Award winning portrait commissions.\n",
        "\n",
        "Sub-Cluster 136: Award winning portrait commissions of furry characters.\n",
        "\n",
        "Sub-Cluster 143: Anthropomorphic furry fox characters.\n",
        "\n",
        "Sub-Cluster 184: Trending furry fox character art.\n",
        "\n",
        "Sub-Cluster 185: Beautiful portrait commissions of furry characters.\n",
        "\n",
        "Sub-Cluster 65: Art and portraits of fox characters in various outfits and settings.\n",
        "\n",
        "Sub-Cluster 121: Portraits and art of cats in various styles.\n",
        "\n",
        "Sub-Cluster 146: Portraits of goddesses and divine figures.\n",
        "\n",
        "Sub-Cluster 178: Portraits of Megan Fox as characters from video games.\n",
        "\n",
        "Sub-Cluster 186: Psychedelic and Lovecraftian portraits of Megan Fox.\n",
        "\n",
        "Sub-Cluster 187: Portraits of Megan Fox in various roles and outfits.\n",
        "\n",
        "Sub-Cluster 54: Portraits of Emma Watson in various roles and settings.\n",
        "\n",
        "Sub-Cluster 74: Alexandra Daddario and Megan Fox as Scarlet Witch.\n",
        "\n",
        "Sub-Cluster 84: Futuristic and fantasy vehicle concept art.\n",
        "\n",
        "Sub-Cluster 94: Highly detailed realistic portraits of men.\n",
        "\n",
        "Sub-Cluster 113: Anime girl character portraits and concept art.\n",
        "\n",
        "Sub-Cluster 117: Portraits of beautiful women in various settings.\n",
        "\n",
        "Sub-Cluster 118: Portraits of young women in various outfits and styles.\n",
        "\n",
        "Sub-Cluster 81: Cinematic concept art portraits by Jama Jurabaev.\n",
        "\n",
        "Sub-Cluster 82: Futuristic sci-fi spaceship concept art.\n",
        "\n",
        "Sub-Cluster 125: Concept art of knights and warriors.\n",
        "\n",
        "Sub-Cluster 132: Surreal, cinematic, and futuristic digital art.\n",
        "\n",
        "Sub-Cluster 167: Beautiful landscape paintings and matte art.\n",
        "\n",
        "Sub-Cluster 151: Futuristic cityscape concept art.\"\"\"\n",
        "\n",
        "text_generation = text_generation.split(\"\\n\\n\")\n",
        "len(text_generation)"
      ]
    },
    {
      "cell_type": "code",
      "execution_count": null,
      "metadata": {
        "id": "qHa4rgqcrQM0"
      },
      "outputs": [],
      "source": [
        "summaries_dict = {subclusts_in_order[i]: text_generation[i] for i in range(len(subclusts_in_order))}\n",
        "summaries_dict"
      ]
    },
    {
      "cell_type": "code",
      "execution_count": null,
      "metadata": {
        "id": "kI0Qs_ITvNzG"
      },
      "outputs": [],
      "source": [
        "for i in range(len(list(summaries_dict.keys()))):\n",
        "    pass\n",
        "    key = list(summaries_dict.keys())[i]\n",
        "    summary = summaries_dict[key]\n",
        "    key_subclust = key.split(\", \")[-1]\n",
        "    summary_subclust = summary.split(\": \")[0]\n",
        "    assert key_subclust == summary_subclust\n"
      ]
    },
    {
      "cell_type": "code",
      "execution_count": null,
      "metadata": {
        "id": "ktj6ipyctjOs"
      },
      "outputs": [],
      "source": [
        "#for i in range(len(text_generation)):\n",
        "    #text_generation[i] = text_generation[i].split(\": \")[-1]"
      ]
    },
    {
      "cell_type": "code",
      "execution_count": null,
      "metadata": {
        "id": "CmQLnLiXtf7u"
      },
      "outputs": [],
      "source": [
        "summaries_dict_cleaned = {subclusts_in_order[i]: text_generation[i] for i in range(len(subclusts_in_order))}\n",
        "summaries_dict_cleaned"
      ]
    },
    {
      "cell_type": "code",
      "execution_count": null,
      "metadata": {
        "id": "NQ8XhfRZuo8l"
      },
      "outputs": [],
      "source": [
        "for i in range(len(ds)):\n",
        "    try:\n",
        "        ds.loc[i, \"theme\"] = summaries_dict_cleaned[ds.loc[i, \"cluster XX.YY\"]]\n",
        "    except KeyError:\n",
        "        pass\n",
        "\n"
      ]
    },
    {
      "cell_type": "code",
      "execution_count": null,
      "metadata": {
        "id": "RgKbnRtut3YG"
      },
      "outputs": [],
      "source": [
        "ds[\"theme\"][ds[\"cluster XX.YY\"] == \"Cluster 77, Sub-Cluster 151\"].iloc[0]"
      ]
    },
    {
      "cell_type": "markdown",
      "metadata": {
        "id": "0CYEH057uyj8"
      },
      "source": [
        "## Write final df results to disk"
      ]
    },
    {
      "cell_type": "code",
      "execution_count": null,
      "metadata": {
        "id": "Yjqesxe_oitS"
      },
      "outputs": [],
      "source": [
        "# write final ds to disk\n",
        "f_name = os.path.join(\n",
        "    args.cache_folder, \"stable_diffusion_prompts_dataframe_cached_with_results.xlsx\"\n",
        ")\n",
        "print(f_name, \"\\n\")\n",
        "\n",
        "# re-order cols\n",
        "ds = ds[\n",
        "    [\n",
        "        \"id\",\n",
        "        \"cluster\",\n",
        "        \"x\",\n",
        "        \"y\",\n",
        "        \"cluster membership prob\",\n",
        "        \"exemplars yes/no\",\n",
        "        \"exemplar sub-cluster\",\n",
        "        \"cluster XX.YY\",\n",
        "        \"theme\",\n",
        "        \"Prompt\",\n",
        "    ]\n",
        "]\n",
        "ds"
      ]
    },
    {
      "cell_type": "code",
      "execution_count": null,
      "metadata": {
        "id": "CuoIn4KCvyPR"
      },
      "outputs": [],
      "source": [
        "# write with adjusted col width\n",
        "# if not args.inference:\n",
        "if True:\n",
        "    with pd.ExcelWriter(f_name) as writer:\n",
        "        ds.to_excel(writer, sheet_name=\"All Prompts\")\n",
        "        auto_adjust_xlsx_column_width(ds, writer, sheet_name=\"All Prompts\", margin=1)"
      ]
    },
    {
      "cell_type": "markdown",
      "metadata": {
        "id": "CNrkolSLu1tg"
      },
      "source": [
        "## Format a JSON viz graph"
      ]
    },
    {
      "cell_type": "code",
      "execution_count": 12,
      "metadata": {
        "colab": {
          "base_uri": "https://localhost:8080/",
          "height": 35
        },
        "id": "DGsJa7GrN2cf",
        "outputId": "060478d8-bbbe-4036-ec39-a5670a12263b"
      },
      "outputs": [
        {
          "output_type": "execute_result",
          "data": {
            "text/plain": [
              "'/content/drive/MyDrive/colab_files/text_clustering/experiments/04_09_2023_03_02_25'"
            ],
            "application/vnd.google.colaboratory.intrinsic+json": {
              "type": "string"
            }
          },
          "metadata": {},
          "execution_count": 12
        }
      ],
      "source": [
        "args.cache_folder"
      ]
    },
    {
      "cell_type": "code",
      "execution_count": 13,
      "metadata": {
        "colab": {
          "base_uri": "https://localhost:8080/",
          "height": 615
        },
        "id": "bUhn-leKp0Yv",
        "outputId": "2877f698-ec93-4a48-897f-5943de9a73e3"
      },
      "outputs": [
        {
          "output_type": "execute_result",
          "data": {
            "text/plain": [
              "          id  cluster          x          y  cluster membership prob  \\\n",
              "0          0       52   6.367171  -1.370529                 1.000000   \n",
              "1          1       51  -0.914971  14.205160                 0.361015   \n",
              "2          2       -1  -1.574000   8.215963                 0.000000   \n",
              "3          3       31  -5.293690   9.292396                 0.887642   \n",
              "4          4       -1  12.724822   2.950573                 0.000000   \n",
              "...      ...      ...        ...        ...                      ...   \n",
              "73713  73713       -1  10.263610  -0.206133                 0.000000   \n",
              "73714  73714       -1   3.630631   6.450800                 0.000000   \n",
              "73715  73715       -1  16.592136   2.287766                 0.000000   \n",
              "73716  73716       -1  -1.338233  12.725625                 0.000000   \n",
              "73717  73717       31  -4.855416   9.951269                 0.979121   \n",
              "\n",
              "       exemplars yes/no  exemplar sub-cluster               cluster XX.YY  \\\n",
              "0                     1                  84.0  Cluster 52, Sub-Cluster 84   \n",
              "1                     0                   NaN                         NaN   \n",
              "2                     0                   NaN                         NaN   \n",
              "3                     0                   NaN                         NaN   \n",
              "4                     0                   NaN                         NaN   \n",
              "...                 ...                   ...                         ...   \n",
              "73713                 0                   NaN                         NaN   \n",
              "73714                 0                   NaN                         NaN   \n",
              "73715                 0                   NaN                         NaN   \n",
              "73716                 0                   NaN                         NaN   \n",
              "73717                 0                   NaN                         NaN   \n",
              "\n",
              "                                                   theme  \\\n",
              "0      Sub-Cluster 84: Futuristic and fantasy vehicle...   \n",
              "1                                                    NaN   \n",
              "2                                                    NaN   \n",
              "3                                                    NaN   \n",
              "4                                                    NaN   \n",
              "...                                                  ...   \n",
              "73713                                                NaN   \n",
              "73714                                                NaN   \n",
              "73715                                                NaN   \n",
              "73716                                                NaN   \n",
              "73717                                                NaN   \n",
              "\n",
              "                                                  Prompt  \n",
              "0      realistic car 3 d render sci - fi car and sci ...  \n",
              "1      a comic potrait of a female necromamcer with b...  \n",
              "2      steampunk market interior, colorful, 3 d scene...  \n",
              "3      “A portrait of a cyborg in a golden suit, D&D ...  \n",
              "4      A full portrait of a beautiful post apocalypti...  \n",
              "...                                                  ...  \n",
              "73713  ismail inceoglu epic oil on canvas painting of...  \n",
              "73714  eating crayons and being reborn in the loving ...  \n",
              "73715  ilya kuvshinov with long hair, sky blue hair, ...  \n",
              "73716  cyberpunk woman with green hair wearing futuri...  \n",
              "73717  zulu cyborg, male, green eyes, red diodes, sci...  \n",
              "\n",
              "[73718 rows x 10 columns]"
            ],
            "text/html": [
              "\n",
              "  <div id=\"df-0c8f7a42-ecfa-4e6f-a204-d35d7f3b7d78\" class=\"colab-df-container\">\n",
              "    <div>\n",
              "<style scoped>\n",
              "    .dataframe tbody tr th:only-of-type {\n",
              "        vertical-align: middle;\n",
              "    }\n",
              "\n",
              "    .dataframe tbody tr th {\n",
              "        vertical-align: top;\n",
              "    }\n",
              "\n",
              "    .dataframe thead th {\n",
              "        text-align: right;\n",
              "    }\n",
              "</style>\n",
              "<table border=\"1\" class=\"dataframe\">\n",
              "  <thead>\n",
              "    <tr style=\"text-align: right;\">\n",
              "      <th></th>\n",
              "      <th>id</th>\n",
              "      <th>cluster</th>\n",
              "      <th>x</th>\n",
              "      <th>y</th>\n",
              "      <th>cluster membership prob</th>\n",
              "      <th>exemplars yes/no</th>\n",
              "      <th>exemplar sub-cluster</th>\n",
              "      <th>cluster XX.YY</th>\n",
              "      <th>theme</th>\n",
              "      <th>Prompt</th>\n",
              "    </tr>\n",
              "  </thead>\n",
              "  <tbody>\n",
              "    <tr>\n",
              "      <th>0</th>\n",
              "      <td>0</td>\n",
              "      <td>52</td>\n",
              "      <td>6.367171</td>\n",
              "      <td>-1.370529</td>\n",
              "      <td>1.000000</td>\n",
              "      <td>1</td>\n",
              "      <td>84.0</td>\n",
              "      <td>Cluster 52, Sub-Cluster 84</td>\n",
              "      <td>Sub-Cluster 84: Futuristic and fantasy vehicle...</td>\n",
              "      <td>realistic car 3 d render sci - fi car and sci ...</td>\n",
              "    </tr>\n",
              "    <tr>\n",
              "      <th>1</th>\n",
              "      <td>1</td>\n",
              "      <td>51</td>\n",
              "      <td>-0.914971</td>\n",
              "      <td>14.205160</td>\n",
              "      <td>0.361015</td>\n",
              "      <td>0</td>\n",
              "      <td>NaN</td>\n",
              "      <td>NaN</td>\n",
              "      <td>NaN</td>\n",
              "      <td>a comic potrait of a female necromamcer with b...</td>\n",
              "    </tr>\n",
              "    <tr>\n",
              "      <th>2</th>\n",
              "      <td>2</td>\n",
              "      <td>-1</td>\n",
              "      <td>-1.574000</td>\n",
              "      <td>8.215963</td>\n",
              "      <td>0.000000</td>\n",
              "      <td>0</td>\n",
              "      <td>NaN</td>\n",
              "      <td>NaN</td>\n",
              "      <td>NaN</td>\n",
              "      <td>steampunk market interior, colorful, 3 d scene...</td>\n",
              "    </tr>\n",
              "    <tr>\n",
              "      <th>3</th>\n",
              "      <td>3</td>\n",
              "      <td>31</td>\n",
              "      <td>-5.293690</td>\n",
              "      <td>9.292396</td>\n",
              "      <td>0.887642</td>\n",
              "      <td>0</td>\n",
              "      <td>NaN</td>\n",
              "      <td>NaN</td>\n",
              "      <td>NaN</td>\n",
              "      <td>“A portrait of a cyborg in a golden suit, D&amp;D ...</td>\n",
              "    </tr>\n",
              "    <tr>\n",
              "      <th>4</th>\n",
              "      <td>4</td>\n",
              "      <td>-1</td>\n",
              "      <td>12.724822</td>\n",
              "      <td>2.950573</td>\n",
              "      <td>0.000000</td>\n",
              "      <td>0</td>\n",
              "      <td>NaN</td>\n",
              "      <td>NaN</td>\n",
              "      <td>NaN</td>\n",
              "      <td>A full portrait of a beautiful post apocalypti...</td>\n",
              "    </tr>\n",
              "    <tr>\n",
              "      <th>...</th>\n",
              "      <td>...</td>\n",
              "      <td>...</td>\n",
              "      <td>...</td>\n",
              "      <td>...</td>\n",
              "      <td>...</td>\n",
              "      <td>...</td>\n",
              "      <td>...</td>\n",
              "      <td>...</td>\n",
              "      <td>...</td>\n",
              "      <td>...</td>\n",
              "    </tr>\n",
              "    <tr>\n",
              "      <th>73713</th>\n",
              "      <td>73713</td>\n",
              "      <td>-1</td>\n",
              "      <td>10.263610</td>\n",
              "      <td>-0.206133</td>\n",
              "      <td>0.000000</td>\n",
              "      <td>0</td>\n",
              "      <td>NaN</td>\n",
              "      <td>NaN</td>\n",
              "      <td>NaN</td>\n",
              "      <td>ismail inceoglu epic oil on canvas painting of...</td>\n",
              "    </tr>\n",
              "    <tr>\n",
              "      <th>73714</th>\n",
              "      <td>73714</td>\n",
              "      <td>-1</td>\n",
              "      <td>3.630631</td>\n",
              "      <td>6.450800</td>\n",
              "      <td>0.000000</td>\n",
              "      <td>0</td>\n",
              "      <td>NaN</td>\n",
              "      <td>NaN</td>\n",
              "      <td>NaN</td>\n",
              "      <td>eating crayons and being reborn in the loving ...</td>\n",
              "    </tr>\n",
              "    <tr>\n",
              "      <th>73715</th>\n",
              "      <td>73715</td>\n",
              "      <td>-1</td>\n",
              "      <td>16.592136</td>\n",
              "      <td>2.287766</td>\n",
              "      <td>0.000000</td>\n",
              "      <td>0</td>\n",
              "      <td>NaN</td>\n",
              "      <td>NaN</td>\n",
              "      <td>NaN</td>\n",
              "      <td>ilya kuvshinov with long hair, sky blue hair, ...</td>\n",
              "    </tr>\n",
              "    <tr>\n",
              "      <th>73716</th>\n",
              "      <td>73716</td>\n",
              "      <td>-1</td>\n",
              "      <td>-1.338233</td>\n",
              "      <td>12.725625</td>\n",
              "      <td>0.000000</td>\n",
              "      <td>0</td>\n",
              "      <td>NaN</td>\n",
              "      <td>NaN</td>\n",
              "      <td>NaN</td>\n",
              "      <td>cyberpunk woman with green hair wearing futuri...</td>\n",
              "    </tr>\n",
              "    <tr>\n",
              "      <th>73717</th>\n",
              "      <td>73717</td>\n",
              "      <td>31</td>\n",
              "      <td>-4.855416</td>\n",
              "      <td>9.951269</td>\n",
              "      <td>0.979121</td>\n",
              "      <td>0</td>\n",
              "      <td>NaN</td>\n",
              "      <td>NaN</td>\n",
              "      <td>NaN</td>\n",
              "      <td>zulu cyborg, male, green eyes, red diodes, sci...</td>\n",
              "    </tr>\n",
              "  </tbody>\n",
              "</table>\n",
              "<p>73718 rows × 10 columns</p>\n",
              "</div>\n",
              "    <div class=\"colab-df-buttons\">\n",
              "\n",
              "  <div class=\"colab-df-container\">\n",
              "    <button class=\"colab-df-convert\" onclick=\"convertToInteractive('df-0c8f7a42-ecfa-4e6f-a204-d35d7f3b7d78')\"\n",
              "            title=\"Convert this dataframe to an interactive table.\"\n",
              "            style=\"display:none;\">\n",
              "\n",
              "  <svg xmlns=\"http://www.w3.org/2000/svg\" height=\"24px\" viewBox=\"0 -960 960 960\">\n",
              "    <path d=\"M120-120v-720h720v720H120Zm60-500h600v-160H180v160Zm220 220h160v-160H400v160Zm0 220h160v-160H400v160ZM180-400h160v-160H180v160Zm440 0h160v-160H620v160ZM180-180h160v-160H180v160Zm440 0h160v-160H620v160Z\"/>\n",
              "  </svg>\n",
              "    </button>\n",
              "\n",
              "  <style>\n",
              "    .colab-df-container {\n",
              "      display:flex;\n",
              "      gap: 12px;\n",
              "    }\n",
              "\n",
              "    .colab-df-convert {\n",
              "      background-color: #E8F0FE;\n",
              "      border: none;\n",
              "      border-radius: 50%;\n",
              "      cursor: pointer;\n",
              "      display: none;\n",
              "      fill: #1967D2;\n",
              "      height: 32px;\n",
              "      padding: 0 0 0 0;\n",
              "      width: 32px;\n",
              "    }\n",
              "\n",
              "    .colab-df-convert:hover {\n",
              "      background-color: #E2EBFA;\n",
              "      box-shadow: 0px 1px 2px rgba(60, 64, 67, 0.3), 0px 1px 3px 1px rgba(60, 64, 67, 0.15);\n",
              "      fill: #174EA6;\n",
              "    }\n",
              "\n",
              "    .colab-df-buttons div {\n",
              "      margin-bottom: 4px;\n",
              "    }\n",
              "\n",
              "    [theme=dark] .colab-df-convert {\n",
              "      background-color: #3B4455;\n",
              "      fill: #D2E3FC;\n",
              "    }\n",
              "\n",
              "    [theme=dark] .colab-df-convert:hover {\n",
              "      background-color: #434B5C;\n",
              "      box-shadow: 0px 1px 3px 1px rgba(0, 0, 0, 0.15);\n",
              "      filter: drop-shadow(0px 1px 2px rgba(0, 0, 0, 0.3));\n",
              "      fill: #FFFFFF;\n",
              "    }\n",
              "  </style>\n",
              "\n",
              "    <script>\n",
              "      const buttonEl =\n",
              "        document.querySelector('#df-0c8f7a42-ecfa-4e6f-a204-d35d7f3b7d78 button.colab-df-convert');\n",
              "      buttonEl.style.display =\n",
              "        google.colab.kernel.accessAllowed ? 'block' : 'none';\n",
              "\n",
              "      async function convertToInteractive(key) {\n",
              "        const element = document.querySelector('#df-0c8f7a42-ecfa-4e6f-a204-d35d7f3b7d78');\n",
              "        const dataTable =\n",
              "          await google.colab.kernel.invokeFunction('convertToInteractive',\n",
              "                                                    [key], {});\n",
              "        if (!dataTable) return;\n",
              "\n",
              "        const docLinkHtml = 'Like what you see? Visit the ' +\n",
              "          '<a target=\"_blank\" href=https://colab.research.google.com/notebooks/data_table.ipynb>data table notebook</a>'\n",
              "          + ' to learn more about interactive tables.';\n",
              "        element.innerHTML = '';\n",
              "        dataTable['output_type'] = 'display_data';\n",
              "        await google.colab.output.renderOutput(dataTable, element);\n",
              "        const docLink = document.createElement('div');\n",
              "        docLink.innerHTML = docLinkHtml;\n",
              "        element.appendChild(docLink);\n",
              "      }\n",
              "    </script>\n",
              "  </div>\n",
              "\n",
              "\n",
              "<div id=\"df-e7cee19d-2da8-42ec-8a98-5cb0c36cb4b3\">\n",
              "  <button class=\"colab-df-quickchart\" onclick=\"quickchart('df-e7cee19d-2da8-42ec-8a98-5cb0c36cb4b3')\"\n",
              "            title=\"Suggest charts.\"\n",
              "            style=\"display:none;\">\n",
              "\n",
              "<svg xmlns=\"http://www.w3.org/2000/svg\" height=\"24px\"viewBox=\"0 0 24 24\"\n",
              "     width=\"24px\">\n",
              "    <g>\n",
              "        <path d=\"M19 3H5c-1.1 0-2 .9-2 2v14c0 1.1.9 2 2 2h14c1.1 0 2-.9 2-2V5c0-1.1-.9-2-2-2zM9 17H7v-7h2v7zm4 0h-2V7h2v10zm4 0h-2v-4h2v4z\"/>\n",
              "    </g>\n",
              "</svg>\n",
              "  </button>\n",
              "\n",
              "<style>\n",
              "  .colab-df-quickchart {\n",
              "      --bg-color: #E8F0FE;\n",
              "      --fill-color: #1967D2;\n",
              "      --hover-bg-color: #E2EBFA;\n",
              "      --hover-fill-color: #174EA6;\n",
              "      --disabled-fill-color: #AAA;\n",
              "      --disabled-bg-color: #DDD;\n",
              "  }\n",
              "\n",
              "  [theme=dark] .colab-df-quickchart {\n",
              "      --bg-color: #3B4455;\n",
              "      --fill-color: #D2E3FC;\n",
              "      --hover-bg-color: #434B5C;\n",
              "      --hover-fill-color: #FFFFFF;\n",
              "      --disabled-bg-color: #3B4455;\n",
              "      --disabled-fill-color: #666;\n",
              "  }\n",
              "\n",
              "  .colab-df-quickchart {\n",
              "    background-color: var(--bg-color);\n",
              "    border: none;\n",
              "    border-radius: 50%;\n",
              "    cursor: pointer;\n",
              "    display: none;\n",
              "    fill: var(--fill-color);\n",
              "    height: 32px;\n",
              "    padding: 0;\n",
              "    width: 32px;\n",
              "  }\n",
              "\n",
              "  .colab-df-quickchart:hover {\n",
              "    background-color: var(--hover-bg-color);\n",
              "    box-shadow: 0 1px 2px rgba(60, 64, 67, 0.3), 0 1px 3px 1px rgba(60, 64, 67, 0.15);\n",
              "    fill: var(--button-hover-fill-color);\n",
              "  }\n",
              "\n",
              "  .colab-df-quickchart-complete:disabled,\n",
              "  .colab-df-quickchart-complete:disabled:hover {\n",
              "    background-color: var(--disabled-bg-color);\n",
              "    fill: var(--disabled-fill-color);\n",
              "    box-shadow: none;\n",
              "  }\n",
              "\n",
              "  .colab-df-spinner {\n",
              "    border: 2px solid var(--fill-color);\n",
              "    border-color: transparent;\n",
              "    border-bottom-color: var(--fill-color);\n",
              "    animation:\n",
              "      spin 1s steps(1) infinite;\n",
              "  }\n",
              "\n",
              "  @keyframes spin {\n",
              "    0% {\n",
              "      border-color: transparent;\n",
              "      border-bottom-color: var(--fill-color);\n",
              "      border-left-color: var(--fill-color);\n",
              "    }\n",
              "    20% {\n",
              "      border-color: transparent;\n",
              "      border-left-color: var(--fill-color);\n",
              "      border-top-color: var(--fill-color);\n",
              "    }\n",
              "    30% {\n",
              "      border-color: transparent;\n",
              "      border-left-color: var(--fill-color);\n",
              "      border-top-color: var(--fill-color);\n",
              "      border-right-color: var(--fill-color);\n",
              "    }\n",
              "    40% {\n",
              "      border-color: transparent;\n",
              "      border-right-color: var(--fill-color);\n",
              "      border-top-color: var(--fill-color);\n",
              "    }\n",
              "    60% {\n",
              "      border-color: transparent;\n",
              "      border-right-color: var(--fill-color);\n",
              "    }\n",
              "    80% {\n",
              "      border-color: transparent;\n",
              "      border-right-color: var(--fill-color);\n",
              "      border-bottom-color: var(--fill-color);\n",
              "    }\n",
              "    90% {\n",
              "      border-color: transparent;\n",
              "      border-bottom-color: var(--fill-color);\n",
              "    }\n",
              "  }\n",
              "</style>\n",
              "\n",
              "  <script>\n",
              "    async function quickchart(key) {\n",
              "      const quickchartButtonEl =\n",
              "        document.querySelector('#' + key + ' button');\n",
              "      quickchartButtonEl.disabled = true;  // To prevent multiple clicks.\n",
              "      quickchartButtonEl.classList.add('colab-df-spinner');\n",
              "      try {\n",
              "        const charts = await google.colab.kernel.invokeFunction(\n",
              "            'suggestCharts', [key], {});\n",
              "      } catch (error) {\n",
              "        console.error('Error during call to suggestCharts:', error);\n",
              "      }\n",
              "      quickchartButtonEl.classList.remove('colab-df-spinner');\n",
              "      quickchartButtonEl.classList.add('colab-df-quickchart-complete');\n",
              "    }\n",
              "    (() => {\n",
              "      let quickchartButtonEl =\n",
              "        document.querySelector('#df-e7cee19d-2da8-42ec-8a98-5cb0c36cb4b3 button');\n",
              "      quickchartButtonEl.style.display =\n",
              "        google.colab.kernel.accessAllowed ? 'block' : 'none';\n",
              "    })();\n",
              "  </script>\n",
              "</div>\n",
              "\n",
              "  <div id=\"id_a70b27b9-4dda-4745-8495-940bcdeb5260\">\n",
              "    <style>\n",
              "      .colab-df-generate {\n",
              "        background-color: #E8F0FE;\n",
              "        border: none;\n",
              "        border-radius: 50%;\n",
              "        cursor: pointer;\n",
              "        display: none;\n",
              "        fill: #1967D2;\n",
              "        height: 32px;\n",
              "        padding: 0 0 0 0;\n",
              "        width: 32px;\n",
              "      }\n",
              "\n",
              "      .colab-df-generate:hover {\n",
              "        background-color: #E2EBFA;\n",
              "        box-shadow: 0px 1px 2px rgba(60, 64, 67, 0.3), 0px 1px 3px 1px rgba(60, 64, 67, 0.15);\n",
              "        fill: #174EA6;\n",
              "      }\n",
              "\n",
              "      [theme=dark] .colab-df-generate {\n",
              "        background-color: #3B4455;\n",
              "        fill: #D2E3FC;\n",
              "      }\n",
              "\n",
              "      [theme=dark] .colab-df-generate:hover {\n",
              "        background-color: #434B5C;\n",
              "        box-shadow: 0px 1px 3px 1px rgba(0, 0, 0, 0.15);\n",
              "        filter: drop-shadow(0px 1px 2px rgba(0, 0, 0, 0.3));\n",
              "        fill: #FFFFFF;\n",
              "      }\n",
              "    </style>\n",
              "    <button class=\"colab-df-generate\" onclick=\"generateWithVariable('ds_loaded')\"\n",
              "            title=\"Generate code using this dataframe.\"\n",
              "            style=\"display:none;\">\n",
              "\n",
              "  <svg xmlns=\"http://www.w3.org/2000/svg\" height=\"24px\"viewBox=\"0 0 24 24\"\n",
              "       width=\"24px\">\n",
              "    <path d=\"M7,19H8.4L18.45,9,17,7.55,7,17.6ZM5,21V16.75L18.45,3.32a2,2,0,0,1,2.83,0l1.4,1.43a1.91,1.91,0,0,1,.58,1.4,1.91,1.91,0,0,1-.58,1.4L9.25,21ZM18.45,9,17,7.55Zm-12,3A5.31,5.31,0,0,0,4.9,8.1,5.31,5.31,0,0,0,1,6.5,5.31,5.31,0,0,0,4.9,4.9,5.31,5.31,0,0,0,6.5,1,5.31,5.31,0,0,0,8.1,4.9,5.31,5.31,0,0,0,12,6.5,5.46,5.46,0,0,0,6.5,12Z\"/>\n",
              "  </svg>\n",
              "    </button>\n",
              "    <script>\n",
              "      (() => {\n",
              "      const buttonEl =\n",
              "        document.querySelector('#id_a70b27b9-4dda-4745-8495-940bcdeb5260 button.colab-df-generate');\n",
              "      buttonEl.style.display =\n",
              "        google.colab.kernel.accessAllowed ? 'block' : 'none';\n",
              "\n",
              "      buttonEl.onclick = () => {\n",
              "        google.colab.notebook.generateWithVariable('ds_loaded');\n",
              "      }\n",
              "      })();\n",
              "    </script>\n",
              "  </div>\n",
              "\n",
              "    </div>\n",
              "  </div>\n"
            ]
          },
          "metadata": {},
          "execution_count": 13
        }
      ],
      "source": [
        "# optional ds cached loading\n",
        "ds_loaded = pd.read_excel(\n",
        "    os.path.join(\n",
        "        args.cache_folder, \"stable_diffusion_prompts_dataframe_cached_with_results.xlsx\"\n",
        "    ),\n",
        "    index_col=\"Unnamed: 0\",\n",
        ")\n",
        "ds_loaded"
      ]
    },
    {
      "cell_type": "code",
      "execution_count": 14,
      "metadata": {
        "colab": {
          "base_uri": "https://localhost:8080/",
          "height": 615
        },
        "id": "829s5RJtxJ2j",
        "outputId": "ee721028-069b-42c7-f014-940dad80359b"
      },
      "outputs": [
        {
          "output_type": "execute_result",
          "data": {
            "text/plain": [
              "          id  cluster         x         y  cluster membership prob  \\\n",
              "0          0       52  6.367171 -1.370529                      1.0   \n",
              "48        48       75  2.764831  8.960857                      1.0   \n",
              "51        51       68 -3.581940  6.579964                      1.0   \n",
              "79        79       36 -0.151504 -7.177082                      1.0   \n",
              "112      112       13 -4.041320 -3.509273                      1.0   \n",
              "...      ...      ...       ...       ...                      ...   \n",
              "73644  73644       40  9.918500  6.696694                      1.0   \n",
              "73668  73668       60 -5.593586  7.623156                      1.0   \n",
              "73677  73677       36 -5.244152 -0.913215                      1.0   \n",
              "73683  73683       56 -2.305521  1.589342                      1.0   \n",
              "73697  73697       68 -3.748497  6.487183                      1.0   \n",
              "\n",
              "       exemplars yes/no  exemplar sub-cluster                cluster XX.YY  \\\n",
              "0                     1                  84.0   Cluster 52, Sub-Cluster 84   \n",
              "48                    1                 167.0  Cluster 75, Sub-Cluster 167   \n",
              "51                    1                 125.0  Cluster 68, Sub-Cluster 125   \n",
              "79                    1                 192.0  Cluster 36, Sub-Cluster 192   \n",
              "112                   1                  18.0   Cluster 13, Sub-Cluster 18   \n",
              "...                 ...                   ...                          ...   \n",
              "73644                 1                  92.0   Cluster 40, Sub-Cluster 92   \n",
              "73668                 1                  81.0   Cluster 60, Sub-Cluster 81   \n",
              "73677                 1                 241.0  Cluster 36, Sub-Cluster 241   \n",
              "73683                 1                 113.0  Cluster 56, Sub-Cluster 113   \n",
              "73697                 1                 125.0  Cluster 68, Sub-Cluster 125   \n",
              "\n",
              "                                                   theme  \\\n",
              "0      Sub-Cluster 84: Futuristic and fantasy vehicle...   \n",
              "48     Sub-Cluster 167: Beautiful landscape paintings...   \n",
              "51     Sub-Cluster 125: Concept art of knights and wa...   \n",
              "79     Sub-Cluster 192: Beautiful, award winning penc...   \n",
              "112    Sub-Cluster 18: Symmetry sci-fi portraits of c...   \n",
              "...                                                  ...   \n",
              "73644  Sub-Cluster 92: Art depicting Donald Trump in ...   \n",
              "73668  Sub-Cluster 81: Cinematic concept art portrait...   \n",
              "73677  Sub-Cluster 241: Portraits of various real peo...   \n",
              "73683  Sub-Cluster 113: Anime girl character portrait...   \n",
              "73697  Sub-Cluster 125: Concept art of knights and wa...   \n",
              "\n",
              "                                                  Prompt  \n",
              "0      realistic car 3 d render sci - fi car and sci ...  \n",
              "48     a beautiful matte painting of glass forest, m....  \n",
              "51     a knight in armor on a thick strong warhorse b...  \n",
              "79     beautiful lifelike award winning pencil illust...  \n",
              "112    symmetry!! portrait of oompa loompa, sci - fi,...  \n",
              "...                                                  ...  \n",
              "73644  trump as man of the night's watch | | realisti...  \n",
              "73668  mariachi, cinematic shot, concept art oil pain...  \n",
              "73677  portrait of chasey lain in clown makeup eating...  \n",
              "73683  anime young woman, long black hair, with glass...  \n",
              "73697  portrait of knight laurentius, elegant, intric...  \n",
              "\n",
              "[3029 rows x 10 columns]"
            ],
            "text/html": [
              "\n",
              "  <div id=\"df-99580bfd-db18-4594-a39b-83ee280d11c1\" class=\"colab-df-container\">\n",
              "    <div>\n",
              "<style scoped>\n",
              "    .dataframe tbody tr th:only-of-type {\n",
              "        vertical-align: middle;\n",
              "    }\n",
              "\n",
              "    .dataframe tbody tr th {\n",
              "        vertical-align: top;\n",
              "    }\n",
              "\n",
              "    .dataframe thead th {\n",
              "        text-align: right;\n",
              "    }\n",
              "</style>\n",
              "<table border=\"1\" class=\"dataframe\">\n",
              "  <thead>\n",
              "    <tr style=\"text-align: right;\">\n",
              "      <th></th>\n",
              "      <th>id</th>\n",
              "      <th>cluster</th>\n",
              "      <th>x</th>\n",
              "      <th>y</th>\n",
              "      <th>cluster membership prob</th>\n",
              "      <th>exemplars yes/no</th>\n",
              "      <th>exemplar sub-cluster</th>\n",
              "      <th>cluster XX.YY</th>\n",
              "      <th>theme</th>\n",
              "      <th>Prompt</th>\n",
              "    </tr>\n",
              "  </thead>\n",
              "  <tbody>\n",
              "    <tr>\n",
              "      <th>0</th>\n",
              "      <td>0</td>\n",
              "      <td>52</td>\n",
              "      <td>6.367171</td>\n",
              "      <td>-1.370529</td>\n",
              "      <td>1.0</td>\n",
              "      <td>1</td>\n",
              "      <td>84.0</td>\n",
              "      <td>Cluster 52, Sub-Cluster 84</td>\n",
              "      <td>Sub-Cluster 84: Futuristic and fantasy vehicle...</td>\n",
              "      <td>realistic car 3 d render sci - fi car and sci ...</td>\n",
              "    </tr>\n",
              "    <tr>\n",
              "      <th>48</th>\n",
              "      <td>48</td>\n",
              "      <td>75</td>\n",
              "      <td>2.764831</td>\n",
              "      <td>8.960857</td>\n",
              "      <td>1.0</td>\n",
              "      <td>1</td>\n",
              "      <td>167.0</td>\n",
              "      <td>Cluster 75, Sub-Cluster 167</td>\n",
              "      <td>Sub-Cluster 167: Beautiful landscape paintings...</td>\n",
              "      <td>a beautiful matte painting of glass forest, m....</td>\n",
              "    </tr>\n",
              "    <tr>\n",
              "      <th>51</th>\n",
              "      <td>51</td>\n",
              "      <td>68</td>\n",
              "      <td>-3.581940</td>\n",
              "      <td>6.579964</td>\n",
              "      <td>1.0</td>\n",
              "      <td>1</td>\n",
              "      <td>125.0</td>\n",
              "      <td>Cluster 68, Sub-Cluster 125</td>\n",
              "      <td>Sub-Cluster 125: Concept art of knights and wa...</td>\n",
              "      <td>a knight in armor on a thick strong warhorse b...</td>\n",
              "    </tr>\n",
              "    <tr>\n",
              "      <th>79</th>\n",
              "      <td>79</td>\n",
              "      <td>36</td>\n",
              "      <td>-0.151504</td>\n",
              "      <td>-7.177082</td>\n",
              "      <td>1.0</td>\n",
              "      <td>1</td>\n",
              "      <td>192.0</td>\n",
              "      <td>Cluster 36, Sub-Cluster 192</td>\n",
              "      <td>Sub-Cluster 192: Beautiful, award winning penc...</td>\n",
              "      <td>beautiful lifelike award winning pencil illust...</td>\n",
              "    </tr>\n",
              "    <tr>\n",
              "      <th>112</th>\n",
              "      <td>112</td>\n",
              "      <td>13</td>\n",
              "      <td>-4.041320</td>\n",
              "      <td>-3.509273</td>\n",
              "      <td>1.0</td>\n",
              "      <td>1</td>\n",
              "      <td>18.0</td>\n",
              "      <td>Cluster 13, Sub-Cluster 18</td>\n",
              "      <td>Sub-Cluster 18: Symmetry sci-fi portraits of c...</td>\n",
              "      <td>symmetry!! portrait of oompa loompa, sci - fi,...</td>\n",
              "    </tr>\n",
              "    <tr>\n",
              "      <th>...</th>\n",
              "      <td>...</td>\n",
              "      <td>...</td>\n",
              "      <td>...</td>\n",
              "      <td>...</td>\n",
              "      <td>...</td>\n",
              "      <td>...</td>\n",
              "      <td>...</td>\n",
              "      <td>...</td>\n",
              "      <td>...</td>\n",
              "      <td>...</td>\n",
              "    </tr>\n",
              "    <tr>\n",
              "      <th>73644</th>\n",
              "      <td>73644</td>\n",
              "      <td>40</td>\n",
              "      <td>9.918500</td>\n",
              "      <td>6.696694</td>\n",
              "      <td>1.0</td>\n",
              "      <td>1</td>\n",
              "      <td>92.0</td>\n",
              "      <td>Cluster 40, Sub-Cluster 92</td>\n",
              "      <td>Sub-Cluster 92: Art depicting Donald Trump in ...</td>\n",
              "      <td>trump as man of the night's watch | | realisti...</td>\n",
              "    </tr>\n",
              "    <tr>\n",
              "      <th>73668</th>\n",
              "      <td>73668</td>\n",
              "      <td>60</td>\n",
              "      <td>-5.593586</td>\n",
              "      <td>7.623156</td>\n",
              "      <td>1.0</td>\n",
              "      <td>1</td>\n",
              "      <td>81.0</td>\n",
              "      <td>Cluster 60, Sub-Cluster 81</td>\n",
              "      <td>Sub-Cluster 81: Cinematic concept art portrait...</td>\n",
              "      <td>mariachi, cinematic shot, concept art oil pain...</td>\n",
              "    </tr>\n",
              "    <tr>\n",
              "      <th>73677</th>\n",
              "      <td>73677</td>\n",
              "      <td>36</td>\n",
              "      <td>-5.244152</td>\n",
              "      <td>-0.913215</td>\n",
              "      <td>1.0</td>\n",
              "      <td>1</td>\n",
              "      <td>241.0</td>\n",
              "      <td>Cluster 36, Sub-Cluster 241</td>\n",
              "      <td>Sub-Cluster 241: Portraits of various real peo...</td>\n",
              "      <td>portrait of chasey lain in clown makeup eating...</td>\n",
              "    </tr>\n",
              "    <tr>\n",
              "      <th>73683</th>\n",
              "      <td>73683</td>\n",
              "      <td>56</td>\n",
              "      <td>-2.305521</td>\n",
              "      <td>1.589342</td>\n",
              "      <td>1.0</td>\n",
              "      <td>1</td>\n",
              "      <td>113.0</td>\n",
              "      <td>Cluster 56, Sub-Cluster 113</td>\n",
              "      <td>Sub-Cluster 113: Anime girl character portrait...</td>\n",
              "      <td>anime young woman, long black hair, with glass...</td>\n",
              "    </tr>\n",
              "    <tr>\n",
              "      <th>73697</th>\n",
              "      <td>73697</td>\n",
              "      <td>68</td>\n",
              "      <td>-3.748497</td>\n",
              "      <td>6.487183</td>\n",
              "      <td>1.0</td>\n",
              "      <td>1</td>\n",
              "      <td>125.0</td>\n",
              "      <td>Cluster 68, Sub-Cluster 125</td>\n",
              "      <td>Sub-Cluster 125: Concept art of knights and wa...</td>\n",
              "      <td>portrait of knight laurentius, elegant, intric...</td>\n",
              "    </tr>\n",
              "  </tbody>\n",
              "</table>\n",
              "<p>3029 rows × 10 columns</p>\n",
              "</div>\n",
              "    <div class=\"colab-df-buttons\">\n",
              "\n",
              "  <div class=\"colab-df-container\">\n",
              "    <button class=\"colab-df-convert\" onclick=\"convertToInteractive('df-99580bfd-db18-4594-a39b-83ee280d11c1')\"\n",
              "            title=\"Convert this dataframe to an interactive table.\"\n",
              "            style=\"display:none;\">\n",
              "\n",
              "  <svg xmlns=\"http://www.w3.org/2000/svg\" height=\"24px\" viewBox=\"0 -960 960 960\">\n",
              "    <path d=\"M120-120v-720h720v720H120Zm60-500h600v-160H180v160Zm220 220h160v-160H400v160Zm0 220h160v-160H400v160ZM180-400h160v-160H180v160Zm440 0h160v-160H620v160ZM180-180h160v-160H180v160Zm440 0h160v-160H620v160Z\"/>\n",
              "  </svg>\n",
              "    </button>\n",
              "\n",
              "  <style>\n",
              "    .colab-df-container {\n",
              "      display:flex;\n",
              "      gap: 12px;\n",
              "    }\n",
              "\n",
              "    .colab-df-convert {\n",
              "      background-color: #E8F0FE;\n",
              "      border: none;\n",
              "      border-radius: 50%;\n",
              "      cursor: pointer;\n",
              "      display: none;\n",
              "      fill: #1967D2;\n",
              "      height: 32px;\n",
              "      padding: 0 0 0 0;\n",
              "      width: 32px;\n",
              "    }\n",
              "\n",
              "    .colab-df-convert:hover {\n",
              "      background-color: #E2EBFA;\n",
              "      box-shadow: 0px 1px 2px rgba(60, 64, 67, 0.3), 0px 1px 3px 1px rgba(60, 64, 67, 0.15);\n",
              "      fill: #174EA6;\n",
              "    }\n",
              "\n",
              "    .colab-df-buttons div {\n",
              "      margin-bottom: 4px;\n",
              "    }\n",
              "\n",
              "    [theme=dark] .colab-df-convert {\n",
              "      background-color: #3B4455;\n",
              "      fill: #D2E3FC;\n",
              "    }\n",
              "\n",
              "    [theme=dark] .colab-df-convert:hover {\n",
              "      background-color: #434B5C;\n",
              "      box-shadow: 0px 1px 3px 1px rgba(0, 0, 0, 0.15);\n",
              "      filter: drop-shadow(0px 1px 2px rgba(0, 0, 0, 0.3));\n",
              "      fill: #FFFFFF;\n",
              "    }\n",
              "  </style>\n",
              "\n",
              "    <script>\n",
              "      const buttonEl =\n",
              "        document.querySelector('#df-99580bfd-db18-4594-a39b-83ee280d11c1 button.colab-df-convert');\n",
              "      buttonEl.style.display =\n",
              "        google.colab.kernel.accessAllowed ? 'block' : 'none';\n",
              "\n",
              "      async function convertToInteractive(key) {\n",
              "        const element = document.querySelector('#df-99580bfd-db18-4594-a39b-83ee280d11c1');\n",
              "        const dataTable =\n",
              "          await google.colab.kernel.invokeFunction('convertToInteractive',\n",
              "                                                    [key], {});\n",
              "        if (!dataTable) return;\n",
              "\n",
              "        const docLinkHtml = 'Like what you see? Visit the ' +\n",
              "          '<a target=\"_blank\" href=https://colab.research.google.com/notebooks/data_table.ipynb>data table notebook</a>'\n",
              "          + ' to learn more about interactive tables.';\n",
              "        element.innerHTML = '';\n",
              "        dataTable['output_type'] = 'display_data';\n",
              "        await google.colab.output.renderOutput(dataTable, element);\n",
              "        const docLink = document.createElement('div');\n",
              "        docLink.innerHTML = docLinkHtml;\n",
              "        element.appendChild(docLink);\n",
              "      }\n",
              "    </script>\n",
              "  </div>\n",
              "\n",
              "\n",
              "<div id=\"df-d1ad2a6c-07b0-4cd4-998f-0b07eb09c1a5\">\n",
              "  <button class=\"colab-df-quickchart\" onclick=\"quickchart('df-d1ad2a6c-07b0-4cd4-998f-0b07eb09c1a5')\"\n",
              "            title=\"Suggest charts.\"\n",
              "            style=\"display:none;\">\n",
              "\n",
              "<svg xmlns=\"http://www.w3.org/2000/svg\" height=\"24px\"viewBox=\"0 0 24 24\"\n",
              "     width=\"24px\">\n",
              "    <g>\n",
              "        <path d=\"M19 3H5c-1.1 0-2 .9-2 2v14c0 1.1.9 2 2 2h14c1.1 0 2-.9 2-2V5c0-1.1-.9-2-2-2zM9 17H7v-7h2v7zm4 0h-2V7h2v10zm4 0h-2v-4h2v4z\"/>\n",
              "    </g>\n",
              "</svg>\n",
              "  </button>\n",
              "\n",
              "<style>\n",
              "  .colab-df-quickchart {\n",
              "      --bg-color: #E8F0FE;\n",
              "      --fill-color: #1967D2;\n",
              "      --hover-bg-color: #E2EBFA;\n",
              "      --hover-fill-color: #174EA6;\n",
              "      --disabled-fill-color: #AAA;\n",
              "      --disabled-bg-color: #DDD;\n",
              "  }\n",
              "\n",
              "  [theme=dark] .colab-df-quickchart {\n",
              "      --bg-color: #3B4455;\n",
              "      --fill-color: #D2E3FC;\n",
              "      --hover-bg-color: #434B5C;\n",
              "      --hover-fill-color: #FFFFFF;\n",
              "      --disabled-bg-color: #3B4455;\n",
              "      --disabled-fill-color: #666;\n",
              "  }\n",
              "\n",
              "  .colab-df-quickchart {\n",
              "    background-color: var(--bg-color);\n",
              "    border: none;\n",
              "    border-radius: 50%;\n",
              "    cursor: pointer;\n",
              "    display: none;\n",
              "    fill: var(--fill-color);\n",
              "    height: 32px;\n",
              "    padding: 0;\n",
              "    width: 32px;\n",
              "  }\n",
              "\n",
              "  .colab-df-quickchart:hover {\n",
              "    background-color: var(--hover-bg-color);\n",
              "    box-shadow: 0 1px 2px rgba(60, 64, 67, 0.3), 0 1px 3px 1px rgba(60, 64, 67, 0.15);\n",
              "    fill: var(--button-hover-fill-color);\n",
              "  }\n",
              "\n",
              "  .colab-df-quickchart-complete:disabled,\n",
              "  .colab-df-quickchart-complete:disabled:hover {\n",
              "    background-color: var(--disabled-bg-color);\n",
              "    fill: var(--disabled-fill-color);\n",
              "    box-shadow: none;\n",
              "  }\n",
              "\n",
              "  .colab-df-spinner {\n",
              "    border: 2px solid var(--fill-color);\n",
              "    border-color: transparent;\n",
              "    border-bottom-color: var(--fill-color);\n",
              "    animation:\n",
              "      spin 1s steps(1) infinite;\n",
              "  }\n",
              "\n",
              "  @keyframes spin {\n",
              "    0% {\n",
              "      border-color: transparent;\n",
              "      border-bottom-color: var(--fill-color);\n",
              "      border-left-color: var(--fill-color);\n",
              "    }\n",
              "    20% {\n",
              "      border-color: transparent;\n",
              "      border-left-color: var(--fill-color);\n",
              "      border-top-color: var(--fill-color);\n",
              "    }\n",
              "    30% {\n",
              "      border-color: transparent;\n",
              "      border-left-color: var(--fill-color);\n",
              "      border-top-color: var(--fill-color);\n",
              "      border-right-color: var(--fill-color);\n",
              "    }\n",
              "    40% {\n",
              "      border-color: transparent;\n",
              "      border-right-color: var(--fill-color);\n",
              "      border-top-color: var(--fill-color);\n",
              "    }\n",
              "    60% {\n",
              "      border-color: transparent;\n",
              "      border-right-color: var(--fill-color);\n",
              "    }\n",
              "    80% {\n",
              "      border-color: transparent;\n",
              "      border-right-color: var(--fill-color);\n",
              "      border-bottom-color: var(--fill-color);\n",
              "    }\n",
              "    90% {\n",
              "      border-color: transparent;\n",
              "      border-bottom-color: var(--fill-color);\n",
              "    }\n",
              "  }\n",
              "</style>\n",
              "\n",
              "  <script>\n",
              "    async function quickchart(key) {\n",
              "      const quickchartButtonEl =\n",
              "        document.querySelector('#' + key + ' button');\n",
              "      quickchartButtonEl.disabled = true;  // To prevent multiple clicks.\n",
              "      quickchartButtonEl.classList.add('colab-df-spinner');\n",
              "      try {\n",
              "        const charts = await google.colab.kernel.invokeFunction(\n",
              "            'suggestCharts', [key], {});\n",
              "      } catch (error) {\n",
              "        console.error('Error during call to suggestCharts:', error);\n",
              "      }\n",
              "      quickchartButtonEl.classList.remove('colab-df-spinner');\n",
              "      quickchartButtonEl.classList.add('colab-df-quickchart-complete');\n",
              "    }\n",
              "    (() => {\n",
              "      let quickchartButtonEl =\n",
              "        document.querySelector('#df-d1ad2a6c-07b0-4cd4-998f-0b07eb09c1a5 button');\n",
              "      quickchartButtonEl.style.display =\n",
              "        google.colab.kernel.accessAllowed ? 'block' : 'none';\n",
              "    })();\n",
              "  </script>\n",
              "</div>\n",
              "\n",
              "  <div id=\"id_9d8c072b-4450-4a3f-8dc5-23240e4098a0\">\n",
              "    <style>\n",
              "      .colab-df-generate {\n",
              "        background-color: #E8F0FE;\n",
              "        border: none;\n",
              "        border-radius: 50%;\n",
              "        cursor: pointer;\n",
              "        display: none;\n",
              "        fill: #1967D2;\n",
              "        height: 32px;\n",
              "        padding: 0 0 0 0;\n",
              "        width: 32px;\n",
              "      }\n",
              "\n",
              "      .colab-df-generate:hover {\n",
              "        background-color: #E2EBFA;\n",
              "        box-shadow: 0px 1px 2px rgba(60, 64, 67, 0.3), 0px 1px 3px 1px rgba(60, 64, 67, 0.15);\n",
              "        fill: #174EA6;\n",
              "      }\n",
              "\n",
              "      [theme=dark] .colab-df-generate {\n",
              "        background-color: #3B4455;\n",
              "        fill: #D2E3FC;\n",
              "      }\n",
              "\n",
              "      [theme=dark] .colab-df-generate:hover {\n",
              "        background-color: #434B5C;\n",
              "        box-shadow: 0px 1px 3px 1px rgba(0, 0, 0, 0.15);\n",
              "        filter: drop-shadow(0px 1px 2px rgba(0, 0, 0, 0.3));\n",
              "        fill: #FFFFFF;\n",
              "      }\n",
              "    </style>\n",
              "    <button class=\"colab-df-generate\" onclick=\"generateWithVariable('ds_clust')\"\n",
              "            title=\"Generate code using this dataframe.\"\n",
              "            style=\"display:none;\">\n",
              "\n",
              "  <svg xmlns=\"http://www.w3.org/2000/svg\" height=\"24px\"viewBox=\"0 0 24 24\"\n",
              "       width=\"24px\">\n",
              "    <path d=\"M7,19H8.4L18.45,9,17,7.55,7,17.6ZM5,21V16.75L18.45,3.32a2,2,0,0,1,2.83,0l1.4,1.43a1.91,1.91,0,0,1,.58,1.4,1.91,1.91,0,0,1-.58,1.4L9.25,21ZM18.45,9,17,7.55Zm-12,3A5.31,5.31,0,0,0,4.9,8.1,5.31,5.31,0,0,0,1,6.5,5.31,5.31,0,0,0,4.9,4.9,5.31,5.31,0,0,0,6.5,1,5.31,5.31,0,0,0,8.1,4.9,5.31,5.31,0,0,0,12,6.5,5.46,5.46,0,0,0,6.5,12Z\"/>\n",
              "  </svg>\n",
              "    </button>\n",
              "    <script>\n",
              "      (() => {\n",
              "      const buttonEl =\n",
              "        document.querySelector('#id_9d8c072b-4450-4a3f-8dc5-23240e4098a0 button.colab-df-generate');\n",
              "      buttonEl.style.display =\n",
              "        google.colab.kernel.accessAllowed ? 'block' : 'none';\n",
              "\n",
              "      buttonEl.onclick = () => {\n",
              "        google.colab.notebook.generateWithVariable('ds_clust');\n",
              "      }\n",
              "      })();\n",
              "    </script>\n",
              "  </div>\n",
              "\n",
              "    </div>\n",
              "  </div>\n"
            ]
          },
          "metadata": {},
          "execution_count": 14
        }
      ],
      "source": [
        "ds_clust = ds_loaded[ds_loaded[\"theme\"].notna()]\n",
        "ds_clust"
      ]
    },
    {
      "cell_type": "code",
      "execution_count": 15,
      "metadata": {
        "colab": {
          "base_uri": "https://localhost:8080/"
        },
        "id": "Q_H93u9QuC2u",
        "outputId": "f29a2e02-f159-4740-c7d9-5d519c26d271"
      },
      "outputs": [
        {
          "output_type": "execute_result",
          "data": {
            "text/plain": [
              "49"
            ]
          },
          "metadata": {},
          "execution_count": 15
        }
      ],
      "source": [
        "len(np.unique(np.array(ds_clust[\"cluster XX.YY\"])))"
      ]
    },
    {
      "cell_type": "code",
      "execution_count": 16,
      "metadata": {
        "id": "oc1HFPyBxnck"
      },
      "outputs": [],
      "source": [
        "knowledge_graphs = []\n",
        "\n",
        "for sub_clust in np.unique(np.array(ds_clust[\"cluster XX.YY\"])):\n",
        "    clust = sub_clust.split(\"Cluster \")[1].split(\",\")[0]\n",
        "\n",
        "    prompts = []\n",
        "    ds_inner = ds_clust[ds_clust[\"cluster XX.YY\"] == sub_clust]\n",
        "    for i in range(len(ds_inner)):\n",
        "        row = ds_inner.iloc[i]\n",
        "        if row[\"exemplars yes/no\"] == 1:\n",
        "            prompts.append(\n",
        "                {\n",
        "                    \"Prompt\": row.Prompt,\n",
        "                    \"id\": float(row[\"id\"]),\n",
        "                }\n",
        "            )\n",
        "\n",
        "    viz = {\n",
        "        \"core theme\": ds_inner.iloc[0][\"theme\"],\n",
        "        \"cluster id\": ds_inner.iloc[0][\"cluster XX.YY\"],\n",
        "        # \"frequency\": str(np.round(100 * len(ds_inner) / len(ds), 2)) + \"%\",\n",
        "        # \"count\": len(ds_inner),\n",
        "        # \"exemplars\": prompts,\n",
        "    }\n",
        "\n",
        "    knowledge_graphs.append(viz)"
      ]
    },
    {
      "cell_type": "code",
      "execution_count": null,
      "metadata": {
        "id": "iwpVNL_vOze_"
      },
      "outputs": [],
      "source": [
        "for i in range(len(np.unique(np.array(ds_clust[\"cluster XX.YY\"])))):\n",
        "    sub_clust = np.unique(np.array(ds_clust[\"cluster XX.YY\"]))[i]\n",
        "\n",
        "    # Serializing json\n",
        "    json_object = json.dumps(knowledge_graphs[i], indent=4)\n",
        "    print(json_object)\n",
        "    print(\"\\n\\n\")"
      ]
    },
    {
      "cell_type": "code",
      "execution_count": 20,
      "metadata": {
        "id": "uqu2JMCcw3I4"
      },
      "outputs": [],
      "source": [
        "#summaries_dict_cleaned[\"Cluster 75, Sub-Cluster 167\"]"
      ]
    },
    {
      "cell_type": "code",
      "execution_count": 21,
      "metadata": {
        "id": "sr7BqFUM5E96"
      },
      "outputs": [],
      "source": [
        "summaries_dict_cluster_level = {}\n",
        "for clust in np.unique(np.array(ds_clust[\"cluster\"])):\n",
        "    summaries_dict_cluster_level[clust] = list(\n",
        "        np.unique(np.array(ds_clust[ds_clust[\"cluster\"] == clust][\"theme\"]))\n",
        "    )"
      ]
    },
    {
      "cell_type": "code",
      "execution_count": 22,
      "metadata": {
        "colab": {
          "base_uri": "https://localhost:8080/"
        },
        "id": "_Oe7fGdKyK7q",
        "outputId": "c523388f-a20b-4e34-f906-87d531cf11c3"
      },
      "outputs": [
        {
          "output_type": "execute_result",
          "data": {
            "text/plain": [
              "{10: ['Sub-Cluster 19: Portraits of characters in lofi style by various artists.'],\n",
              " 13: ['Sub-Cluster 17: Symmetry portraits of various people and characters. ',\n",
              "  'Sub-Cluster 18: Symmetry sci-fi portraits of characters and people.'],\n",
              " 18: ['Sub-Cluster 128: Highly detailed illustrations of people, often describing hair and age.',\n",
              "  'Sub-Cluster 162: Highly detailed illustrations of sadistic or aggressive looking people.',\n",
              "  'Sub-Cluster 163: Highly detailed illustrations of attractive people, often with white hair.',\n",
              "  'Sub-Cluster 75: Highly detailed illustrations of beautiful, fierce, or smug women. ',\n",
              "  'Sub-Cluster 76: Art of the League of Legends champion Vi.'],\n",
              " 19: ['Sub-Cluster 66: Greg Manchess portrait paintings of various characters as different roles.'],\n",
              " 25: ['Sub-Cluster 78: Art and portraits featuring Star Wars characters, especially Darth Vader.'],\n",
              " 31: ['Sub-Cluster 91: Portraits and art of female cyborg characters.'],\n",
              " 33: ['Sub-Cluster 93: Art and portraits of robots and humanoid AI characters. '],\n",
              " 35: ['Sub-Cluster 107: Art of Vladimir Putin being killed or defeated.',\n",
              "  'Sub-Cluster 168: Portraits of Putin and Biden as magical characters.',\n",
              "  'Sub-Cluster 235: Art depicting Vladimir Putin as various monsters, animals, or in humiliating situations.',\n",
              "  \"Sub-Cluster 236: Art of Putin with Kim Jong Un's haircut.\"],\n",
              " 36: ['Sub-Cluster 164: Art of characters like aliens eating hamburgers.',\n",
              "  'Sub-Cluster 191: Art of Final Fantasy 7 character Sephiroth.',\n",
              "  'Sub-Cluster 192: Beautiful, award winning pencil drawings and illustrations.',\n",
              "  'Sub-Cluster 240: Portraits of celebrities eating hamburgers.',\n",
              "  'Sub-Cluster 241: Portraits of various real people and characters eating hamburgers.'],\n",
              " 37: ['Sub-Cluster 85: Art and portraits of dragons in various settings.'],\n",
              " 40: ['Sub-Cluster 92: Art depicting Donald Trump in various roles and situations.'],\n",
              " 41: ['Sub-Cluster 89: Art and portraits of Batman characters. ',\n",
              "  'Sub-Cluster 90: Art of Spider-Man and related Marvel characters.'],\n",
              " 42: ['Sub-Cluster 135: Award winning portrait commissions.',\n",
              "  'Sub-Cluster 136: Award winning portrait commissions of furry characters.',\n",
              "  'Sub-Cluster 143: Anthropomorphic furry fox characters.',\n",
              "  'Sub-Cluster 184: Trending furry fox character art.',\n",
              "  'Sub-Cluster 185: Beautiful portrait commissions of furry characters.',\n",
              "  'Sub-Cluster 65: Art and portraits of fox characters in various outfits and settings.'],\n",
              " 44: ['Sub-Cluster 121: Portraits and art of cats in various styles.'],\n",
              " 46: ['Sub-Cluster 146: Portraits of goddesses and divine figures.'],\n",
              " 50: ['Sub-Cluster 178: Portraits of Megan Fox as characters from video games. ',\n",
              "  'Sub-Cluster 186: Psychedelic and Lovecraftian portraits of Megan Fox.',\n",
              "  'Sub-Cluster 187: Portraits of Megan Fox in various roles and outfits.',\n",
              "  'Sub-Cluster 54: Portraits of Emma Watson in various roles and settings.',\n",
              "  'Sub-Cluster 74: Alexandra Daddario and Megan Fox as Scarlet Witch.'],\n",
              " 52: ['Sub-Cluster 84: Futuristic and fantasy vehicle concept art.'],\n",
              " 54: ['Sub-Cluster 94: Highly detailed realistic portraits of men.'],\n",
              " 56: ['Sub-Cluster 113: Anime girl character portraits and concept art. ',\n",
              "  'Sub-Cluster 117: Portraits of beautiful women in various settings.',\n",
              "  'Sub-Cluster 118: Portraits of young women in various outfits and styles.'],\n",
              " 60: ['Sub-Cluster 81: Cinematic concept art portraits by Jama Jurabaev.'],\n",
              " 61: ['Sub-Cluster 82: Futuristic sci-fi spaceship concept art.'],\n",
              " 68: ['Sub-Cluster 125: Concept art of knights and warriors.'],\n",
              " 74: ['Sub-Cluster 132: Surreal, cinematic, and futuristic digital art.'],\n",
              " 75: ['Sub-Cluster 167: Beautiful landscape paintings and matte art.'],\n",
              " 77: ['Sub-Cluster 151: Futuristic cityscape concept art.']}"
            ]
          },
          "metadata": {},
          "execution_count": 22
        }
      ],
      "source": [
        "summaries_dict_cluster_level"
      ]
    },
    {
      "cell_type": "code",
      "execution_count": 23,
      "metadata": {
        "colab": {
          "base_uri": "https://localhost:8080/"
        },
        "id": "Ju1VNC4w5yQD",
        "outputId": "ea341772-fe23-48cc-c021-8039dd554dd0"
      },
      "outputs": [
        {
          "output_type": "execute_result",
          "data": {
            "text/plain": [
              "['Sub-Cluster 19: Portraits of characters in lofi style by various artists.']"
            ]
          },
          "metadata": {},
          "execution_count": 23
        }
      ],
      "source": [
        "summaries_dict_cluster_level[10]"
      ]
    },
    {
      "cell_type": "code",
      "execution_count": 27,
      "metadata": {
        "id": "rX2glhje2sYI"
      },
      "outputs": [],
      "source": [
        "knowledge_graphs = []\n",
        "\n",
        "itr = 0\n",
        "for clust in ds_loaded[\"cluster\"].value_counts().index:\n",
        "    if clust in list(np.unique(np.array(ds_clust[\"cluster\"]))):\n",
        "        ds_inner = ds_clust[ds_clust[\"cluster\"] == int(clust)]\n",
        "\n",
        "        viz = {\n",
        "            \"cluster id\": \"Cluster \" + str(ds_inner.iloc[0][\"cluster\"]),\n",
        "            \"count\": float(ds_loaded[\"cluster\"].value_counts().loc[int(clust)]),\n",
        "            \"frequency\": str(\n",
        "                np.round(\n",
        "                    100 * float(ds_loaded[\"cluster\"].value_counts().loc[int(clust)]) / len(ds_loaded),\n",
        "                    2,\n",
        "                )\n",
        "            )\n",
        "            + \"%\",\n",
        "            \"core theme\": summaries_dict_cluster_level[clust],\n",
        "        }\n",
        "\n",
        "        knowledge_graphs.append(viz)"
      ]
    },
    {
      "cell_type": "code",
      "execution_count": 28,
      "metadata": {
        "colab": {
          "base_uri": "https://localhost:8080/"
        },
        "id": "_lgrhx7H4iC7",
        "outputId": "2d2b0f44-9054-47fe-ce4a-8f2393fb1335"
      },
      "outputs": [
        {
          "output_type": "execute_result",
          "data": {
            "text/plain": [
              "25"
            ]
          },
          "metadata": {},
          "execution_count": 28
        }
      ],
      "source": [
        "len(knowledge_graphs)"
      ]
    },
    {
      "cell_type": "code",
      "execution_count": 29,
      "metadata": {
        "id": "MKfP4tMj8PHL"
      },
      "outputs": [],
      "source": [
        "knowledge_graphs = {\"knowledge graph\": knowledge_graphs}"
      ]
    },
    {
      "cell_type": "code",
      "execution_count": 30,
      "metadata": {
        "colab": {
          "base_uri": "https://localhost:8080/"
        },
        "id": "Gi-uJ6Ds2sYJ",
        "outputId": "4ece1128-2237-4828-a707-711d69bfe326"
      },
      "outputs": [
        {
          "output_type": "stream",
          "name": "stdout",
          "text": [
            "{\n",
            "    \"knowledge graph\": [\n",
            "        {\n",
            "            \"cluster id\": \"Cluster 56\",\n",
            "            \"count\": 2530.0,\n",
            "            \"frequency\": \"3.43%\",\n",
            "            \"core theme\": [\n",
            "                \"Sub-Cluster 113: Anime girl character portraits and concept art. \",\n",
            "                \"Sub-Cluster 117: Portraits of beautiful women in various settings.\",\n",
            "                \"Sub-Cluster 118: Portraits of young women in various outfits and styles.\"\n",
            "            ]\n",
            "        },\n",
            "        {\n",
            "            \"cluster id\": \"Cluster 13\",\n",
            "            \"count\": 1343.0,\n",
            "            \"frequency\": \"1.82%\",\n",
            "            \"core theme\": [\n",
            "                \"Sub-Cluster 17: Symmetry portraits of various people and characters. \",\n",
            "                \"Sub-Cluster 18: Symmetry sci-fi portraits of characters and people.\"\n",
            "            ]\n",
            "        },\n",
            "        {\n",
            "            \"cluster id\": \"Cluster 61\",\n",
            "            \"count\": 1287.0,\n",
            "            \"frequency\": \"1.75%\",\n",
            "            \"core theme\": [\n",
            "                \"Sub-Cluster 82: Futuristic sci-fi spaceship concept art.\"\n",
            "            ]\n",
            "        },\n",
            "        {\n",
            "            \"cluster id\": \"Cluster 50\",\n",
            "            \"count\": 1055.0,\n",
            "            \"frequency\": \"1.43%\",\n",
            "            \"core theme\": [\n",
            "                \"Sub-Cluster 178: Portraits of Megan Fox as characters from video games. \",\n",
            "                \"Sub-Cluster 186: Psychedelic and Lovecraftian portraits of Megan Fox.\",\n",
            "                \"Sub-Cluster 187: Portraits of Megan Fox in various roles and outfits.\",\n",
            "                \"Sub-Cluster 54: Portraits of Emma Watson in various roles and settings.\",\n",
            "                \"Sub-Cluster 74: Alexandra Daddario and Megan Fox as Scarlet Witch.\"\n",
            "            ]\n",
            "        },\n",
            "        {\n",
            "            \"cluster id\": \"Cluster 74\",\n",
            "            \"count\": 749.0,\n",
            "            \"frequency\": \"1.02%\",\n",
            "            \"core theme\": [\n",
            "                \"Sub-Cluster 132: Surreal, cinematic, and futuristic digital art.\"\n",
            "            ]\n",
            "        },\n",
            "        {\n",
            "            \"cluster id\": \"Cluster 77\",\n",
            "            \"count\": 714.0,\n",
            "            \"frequency\": \"0.97%\",\n",
            "            \"core theme\": [\n",
            "                \"Sub-Cluster 151: Futuristic cityscape concept art.\"\n",
            "            ]\n",
            "        },\n",
            "        {\n",
            "            \"cluster id\": \"Cluster 25\",\n",
            "            \"count\": 654.0,\n",
            "            \"frequency\": \"0.89%\",\n",
            "            \"core theme\": [\n",
            "                \"Sub-Cluster 78: Art and portraits featuring Star Wars characters, especially Darth Vader.\"\n",
            "            ]\n",
            "        },\n",
            "        {\n",
            "            \"cluster id\": \"Cluster 31\",\n",
            "            \"count\": 578.0,\n",
            "            \"frequency\": \"0.78%\",\n",
            "            \"core theme\": [\n",
            "                \"Sub-Cluster 91: Portraits and art of female cyborg characters.\"\n",
            "            ]\n",
            "        },\n",
            "        {\n",
            "            \"cluster id\": \"Cluster 44\",\n",
            "            \"count\": 493.0,\n",
            "            \"frequency\": \"0.67%\",\n",
            "            \"core theme\": [\n",
            "                \"Sub-Cluster 121: Portraits and art of cats in various styles.\"\n",
            "            ]\n",
            "        },\n",
            "        {\n",
            "            \"cluster id\": \"Cluster 75\",\n",
            "            \"count\": 487.0,\n",
            "            \"frequency\": \"0.66%\",\n",
            "            \"core theme\": [\n",
            "                \"Sub-Cluster 167: Beautiful landscape paintings and matte art.\"\n",
            "            ]\n",
            "        },\n",
            "        {\n",
            "            \"cluster id\": \"Cluster 37\",\n",
            "            \"count\": 468.0,\n",
            "            \"frequency\": \"0.63%\",\n",
            "            \"core theme\": [\n",
            "                \"Sub-Cluster 85: Art and portraits of dragons in various settings.\"\n",
            "            ]\n",
            "        },\n",
            "        {\n",
            "            \"cluster id\": \"Cluster 41\",\n",
            "            \"count\": 419.0,\n",
            "            \"frequency\": \"0.57%\",\n",
            "            \"core theme\": [\n",
            "                \"Sub-Cluster 89: Art and portraits of Batman characters. \",\n",
            "                \"Sub-Cluster 90: Art of Spider-Man and related Marvel characters.\"\n",
            "            ]\n",
            "        },\n",
            "        {\n",
            "            \"cluster id\": \"Cluster 54\",\n",
            "            \"count\": 416.0,\n",
            "            \"frequency\": \"0.56%\",\n",
            "            \"core theme\": [\n",
            "                \"Sub-Cluster 94: Highly detailed realistic portraits of men.\"\n",
            "            ]\n",
            "        },\n",
            "        {\n",
            "            \"cluster id\": \"Cluster 68\",\n",
            "            \"count\": 410.0,\n",
            "            \"frequency\": \"0.56%\",\n",
            "            \"core theme\": [\n",
            "                \"Sub-Cluster 125: Concept art of knights and warriors.\"\n",
            "            ]\n",
            "        },\n",
            "        {\n",
            "            \"cluster id\": \"Cluster 33\",\n",
            "            \"count\": 389.0,\n",
            "            \"frequency\": \"0.53%\",\n",
            "            \"core theme\": [\n",
            "                \"Sub-Cluster 93: Art and portraits of robots and humanoid AI characters. \"\n",
            "            ]\n",
            "        },\n",
            "        {\n",
            "            \"cluster id\": \"Cluster 42\",\n",
            "            \"count\": 372.0,\n",
            "            \"frequency\": \"0.5%\",\n",
            "            \"core theme\": [\n",
            "                \"Sub-Cluster 135: Award winning portrait commissions.\",\n",
            "                \"Sub-Cluster 136: Award winning portrait commissions of furry characters.\",\n",
            "                \"Sub-Cluster 143: Anthropomorphic furry fox characters.\",\n",
            "                \"Sub-Cluster 184: Trending furry fox character art.\",\n",
            "                \"Sub-Cluster 185: Beautiful portrait commissions of furry characters.\",\n",
            "                \"Sub-Cluster 65: Art and portraits of fox characters in various outfits and settings.\"\n",
            "            ]\n",
            "        },\n",
            "        {\n",
            "            \"cluster id\": \"Cluster 46\",\n",
            "            \"count\": 359.0,\n",
            "            \"frequency\": \"0.49%\",\n",
            "            \"core theme\": [\n",
            "                \"Sub-Cluster 146: Portraits of goddesses and divine figures.\"\n",
            "            ]\n",
            "        },\n",
            "        {\n",
            "            \"cluster id\": \"Cluster 60\",\n",
            "            \"count\": 353.0,\n",
            "            \"frequency\": \"0.48%\",\n",
            "            \"core theme\": [\n",
            "                \"Sub-Cluster 81: Cinematic concept art portraits by Jama Jurabaev.\"\n",
            "            ]\n",
            "        },\n",
            "        {\n",
            "            \"cluster id\": \"Cluster 19\",\n",
            "            \"count\": 327.0,\n",
            "            \"frequency\": \"0.44%\",\n",
            "            \"core theme\": [\n",
            "                \"Sub-Cluster 66: Greg Manchess portrait paintings of various characters as different roles.\"\n",
            "            ]\n",
            "        },\n",
            "        {\n",
            "            \"cluster id\": \"Cluster 36\",\n",
            "            \"count\": 319.0,\n",
            "            \"frequency\": \"0.43%\",\n",
            "            \"core theme\": [\n",
            "                \"Sub-Cluster 164: Art of characters like aliens eating hamburgers.\",\n",
            "                \"Sub-Cluster 191: Art of Final Fantasy 7 character Sephiroth.\",\n",
            "                \"Sub-Cluster 192: Beautiful, award winning pencil drawings and illustrations.\",\n",
            "                \"Sub-Cluster 240: Portraits of celebrities eating hamburgers.\",\n",
            "                \"Sub-Cluster 241: Portraits of various real people and characters eating hamburgers.\"\n",
            "            ]\n",
            "        },\n",
            "        {\n",
            "            \"cluster id\": \"Cluster 10\",\n",
            "            \"count\": 316.0,\n",
            "            \"frequency\": \"0.43%\",\n",
            "            \"core theme\": [\n",
            "                \"Sub-Cluster 19: Portraits of characters in lofi style by various artists.\"\n",
            "            ]\n",
            "        },\n",
            "        {\n",
            "            \"cluster id\": \"Cluster 52\",\n",
            "            \"count\": 306.0,\n",
            "            \"frequency\": \"0.42%\",\n",
            "            \"core theme\": [\n",
            "                \"Sub-Cluster 84: Futuristic and fantasy vehicle concept art.\"\n",
            "            ]\n",
            "        },\n",
            "        {\n",
            "            \"cluster id\": \"Cluster 18\",\n",
            "            \"count\": 295.0,\n",
            "            \"frequency\": \"0.4%\",\n",
            "            \"core theme\": [\n",
            "                \"Sub-Cluster 128: Highly detailed illustrations of people, often describing hair and age.\",\n",
            "                \"Sub-Cluster 162: Highly detailed illustrations of sadistic or aggressive looking people.\",\n",
            "                \"Sub-Cluster 163: Highly detailed illustrations of attractive people, often with white hair.\",\n",
            "                \"Sub-Cluster 75: Highly detailed illustrations of beautiful, fierce, or smug women. \",\n",
            "                \"Sub-Cluster 76: Art of the League of Legends champion Vi.\"\n",
            "            ]\n",
            "        },\n",
            "        {\n",
            "            \"cluster id\": \"Cluster 35\",\n",
            "            \"count\": 289.0,\n",
            "            \"frequency\": \"0.39%\",\n",
            "            \"core theme\": [\n",
            "                \"Sub-Cluster 107: Art of Vladimir Putin being killed or defeated.\",\n",
            "                \"Sub-Cluster 168: Portraits of Putin and Biden as magical characters.\",\n",
            "                \"Sub-Cluster 235: Art depicting Vladimir Putin as various monsters, animals, or in humiliating situations.\",\n",
            "                \"Sub-Cluster 236: Art of Putin with Kim Jong Un's haircut.\"\n",
            "            ]\n",
            "        },\n",
            "        {\n",
            "            \"cluster id\": \"Cluster 40\",\n",
            "            \"count\": 282.0,\n",
            "            \"frequency\": \"0.38%\",\n",
            "            \"core theme\": [\n",
            "                \"Sub-Cluster 92: Art depicting Donald Trump in various roles and situations.\"\n",
            "            ]\n",
            "        }\n",
            "    ]\n",
            "}\n",
            "\n",
            "\n",
            "\n"
          ]
        }
      ],
      "source": [
        "# Serializing json\n",
        "json_object = json.dumps(knowledge_graphs, indent=4)\n",
        "print(json_object)\n",
        "print(\"\\n\\n\")"
      ]
    },
    {
      "cell_type": "markdown",
      "metadata": {
        "id": "p3NXLZVOPpFk"
      },
      "source": [
        "## Drift detection on the above cluster\n",
        "\n",
        "### To come"
      ]
    },
    {
      "cell_type": "code",
      "execution_count": null,
      "metadata": {
        "id": "t_zMrCONOhpd"
      },
      "outputs": [],
      "source": [
        "ds_hf = load_dataset(\"Gustavosta/Stable-Diffusion-Prompts\")\n",
        "ds = ds_hf[\"test\"]\n",
        "\n",
        "ds = ds.to_pandas()\n",
        "ds[\"id\"] = ds.index\n",
        "ds = ds[[\"id\", \"Prompt\"]]\n",
        "ds"
      ]
    }
  ],
  "metadata": {
    "colab": {
      "machine_shape": "hm",
      "provenance": []
    },
    "interpreter": {
      "hash": "bd385fe162c5ca0c84973b7dd5c518456272446b2b64e67c2a69f949ca7a1754"
    },
    "kernelspec": {
      "display_name": "Python 3",
      "name": "python3"
    },
    "language_info": {
      "codemirror_mode": {
        "name": "ipython",
        "version": 3
      },
      "file_extension": ".py",
      "mimetype": "text/x-python",
      "name": "python",
      "nbconvert_exporter": "python",
      "pygments_lexer": "ipython3",
      "version": "3.10.10"
    },
    "orig_nbformat": 4
  },
  "nbformat": 4,
  "nbformat_minor": 0
}