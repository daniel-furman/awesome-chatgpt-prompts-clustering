{
 "cells": [
  {
   "cell_type": "markdown",
   "metadata": {
    "id": "LQ-HKp9u4kTR"
   },
   "source": [
    "# Text clustering: HDBSCAN is probably all you need\n",
    "\n",
    "<a target=\"_blank\" href=\"https://colab.research.google.com/github/daniel-furman/awesome-chatgpt-prompts-clustering/blob/main/notebooks/stable-diffusion-prompts-clustering.ipynb\">\n",
    "  <img src=\"https://colab.research.google.com/assets/colab-badge.svg\" alt=\"Open In Colab\"/>\n",
    "</a>"
   ]
  },
  {
   "cell_type": "markdown",
   "metadata": {
    "id": "IpEhs9ujlcQ1"
   },
   "source": [
    "## Sections\n",
    "\n",
    "1. Setup\n",
    "2. Data I/O\n",
    "3. Embed text\n",
    "4. Clustering\n",
    "5. Exemplar sub-clustering\n",
    "6. Knowledge graph theming\n",
    "7. Write final df results to disk\n",
    "8. Create a JSON knowledge graph viz"
   ]
  },
  {
   "cell_type": "markdown",
   "metadata": {
    "id": "ZMZjJxWGeSZP"
   },
   "source": [
    "## Setup"
   ]
  },
  {
   "cell_type": "code",
   "execution_count": null,
   "metadata": {
    "colab": {
     "base_uri": "https://localhost:8080/"
    },
    "id": "a6GR5Tfzx2z9",
    "outputId": "0ccecdb6-b57c-4c05-de12-196770056162"
   },
   "outputs": [],
   "source": [
    "# copying larger files to GDrive storage for this experiment\n",
    "\n",
    "from google.colab import drive\n",
    "\n",
    "drive.mount(\"/content/drive\")"
   ]
  },
  {
   "cell_type": "code",
   "execution_count": null,
   "metadata": {
    "id": "-mA_PgxV4KV2"
   },
   "outputs": [],
   "source": [
    "!git clone https://github.com/daniel-furman/awesome-chatgpt-prompts-clustering.git"
   ]
  },
  {
   "cell_type": "code",
   "execution_count": null,
   "metadata": {
    "id": "mO55HvFB3egw"
   },
   "outputs": [],
   "source": [
    "# for local run, see below commands for setting up a new venv\n",
    "\n",
    "#!python -m venv .venv_clust_demo\n",
    "#!source .venv_clust_demo/bin/activate\n",
    "#!pip install --upgrade pip\n",
    "#!pip list"
   ]
  },
  {
   "cell_type": "code",
   "execution_count": null,
   "metadata": {
    "colab": {
     "base_uri": "https://localhost:8080/"
    },
    "id": "96JEWSNtljzH",
    "outputId": "04f47fc2-588e-4557-ac04-16989c152ee7"
   },
   "outputs": [],
   "source": [
    "import os\n",
    "\n",
    "os.chdir(\"/content/awesome-chatgpt-prompts-clustering\")\n",
    "!ls"
   ]
  },
  {
   "cell_type": "code",
   "execution_count": null,
   "metadata": {
    "id": "GeFaTjyW2Gk7"
   },
   "outputs": [],
   "source": [
    "!pip install -qUr requirements.txt"
   ]
  },
  {
   "cell_type": "code",
   "execution_count": null,
   "metadata": {
    "colab": {
     "base_uri": "https://localhost:8080/"
    },
    "id": "8nBmAAxvye3w",
    "outputId": "04ea9f9f-b092-40da-f5cb-39b468509561"
   },
   "outputs": [],
   "source": [
    "os.chdir(\"../..\")\n",
    "!ls"
   ]
  },
  {
   "cell_type": "code",
   "execution_count": null,
   "metadata": {
    "id": "lPBnmvEd3egy"
   },
   "outputs": [],
   "source": [
    "#!pip list"
   ]
  },
  {
   "cell_type": "code",
   "execution_count": null,
   "metadata": {
    "id": "NXc0G4wQ3egy"
   },
   "outputs": [],
   "source": [
    "import argparse\n",
    "import os\n",
    "from tqdm.notebook import tqdm\n",
    "import datetime\n",
    "import json\n",
    "import pickle\n",
    "import numpy as np\n",
    "from numpy import random\n",
    "import pandas as pd\n",
    "import seaborn as sns\n",
    "import matplotlib.pyplot as plt\n",
    "import plotly.graph_objects as go\n",
    "\n",
    "import umap\n",
    "from datasets import load_dataset\n",
    "from sentence_transformers import SentenceTransformer\n",
    "import torch\n",
    "import hdbscan\n",
    "from sklearn.metrics.pairwise import euclidean_distances\n",
    "import openai\n",
    "import tiktoken\n",
    "import cleantext\n",
    "\n",
    "from UliPlot.XLSX import auto_adjust_xlsx_column_width"
   ]
  },
  {
   "cell_type": "code",
   "execution_count": null,
   "metadata": {
    "colab": {
     "base_uri": "https://localhost:8080/"
    },
    "id": "TnRCOUWK9hkn",
    "outputId": "e347ce5a-844b-4dfb-99ff-7f25a071619e"
   },
   "outputs": [],
   "source": [
    "args = argparse.Namespace()\n",
    "args.inference = True\n",
    "args"
   ]
  },
  {
   "cell_type": "code",
   "execution_count": null,
   "metadata": {
    "colab": {
     "base_uri": "https://localhost:8080/"
    },
    "id": "m89BDk6WXSZM",
    "outputId": "4ea9d179-75aa-41cd-9a8c-e3022e72d0ff"
   },
   "outputs": [],
   "source": [
    "now = datetime.datetime.now()\n",
    "# dd/mm/YY H:M:S\n",
    "dt_string = now.strftime(\"%d_%m_%Y_%H_%M_%S\")\n",
    "\n",
    "# hardcode in an existing experiment datetime for inference runs\n",
    "\n",
    "if args.inference:\n",
    "    # dt_string identifiers from cached experiments:\n",
    "    dt_string = \"04_09_2023_03_02_25\"\n",
    "\n",
    "print(\"experiment's datetime identifier =\", dt_string)\n",
    "\n",
    "# create results folder if it doesn't exist\n",
    "if not os.path.isdir(\n",
    "    f\"/content/drive/MyDrive/colab_files/text_clustering/experiments/{dt_string}\"\n",
    "):\n",
    "    os.mkdir(\n",
    "        f\"/content/drive/MyDrive/colab_files/text_clustering/experiments/{dt_string}\"\n",
    "    )"
   ]
  },
  {
   "cell_type": "code",
   "execution_count": null,
   "metadata": {
    "colab": {
     "base_uri": "https://localhost:8080/"
    },
    "id": "3EzBV-Mm6C90",
    "outputId": "42ff75a2-11c5-474a-90bd-a0204885e6ba"
   },
   "outputs": [],
   "source": [
    "args.cache_folder = (\n",
    "    f\"/content/drive/MyDrive/colab_files/text_clustering/experiments/{dt_string}\"\n",
    ")\n",
    "args"
   ]
  },
  {
   "cell_type": "markdown",
   "metadata": {
    "id": "ZRwI0I6IeVNr"
   },
   "source": [
    "## Data I/O"
   ]
  },
  {
   "cell_type": "code",
   "execution_count": null,
   "metadata": {
    "colab": {
     "base_uri": "https://localhost:8080/",
     "height": 424
    },
    "id": "_BNPvSprLRzM",
    "outputId": "b9559cd9-8111-42f6-edab-272b616ae73d"
   },
   "outputs": [],
   "source": [
    "ds_hf = load_dataset(\"Gustavosta/Stable-Diffusion-Prompts\")\n",
    "ds = ds_hf[\"train\"]\n",
    "\n",
    "ds = ds.to_pandas()\n",
    "ds[\"id\"] = ds.index\n",
    "ds = ds[[\"id\", \"Prompt\"]]\n",
    "ds"
   ]
  },
  {
   "cell_type": "markdown",
   "metadata": {
    "id": "h8uYPW_TeYOa"
   },
   "source": [
    "## Embed Text\n",
    "\n",
    "* See [pretrained models](https://www.sbert.net/docs/pretrained_models.html) for supporting information"
   ]
  },
  {
   "cell_type": "code",
   "execution_count": null,
   "metadata": {
    "id": "pLLXTuZd6QyV"
   },
   "outputs": [],
   "source": [
    "model = SentenceTransformer(\"all-mpnet-base-v2\")"
   ]
  },
  {
   "cell_type": "code",
   "execution_count": null,
   "metadata": {
    "id": "UIen4vsj3egz"
   },
   "outputs": [],
   "source": [
    "if not args.inference:\n",
    "    embeddings = torch.zeros([len(ds), 768])\n",
    "    for i in tqdm(range(len(ds))):\n",
    "        emb = model.encode(ds.loc[i, \"Prompt\"], convert_to_tensor=True)\n",
    "        embeddings[i, :] = emb\n",
    "    embeddings"
   ]
  },
  {
   "cell_type": "code",
   "execution_count": null,
   "metadata": {
    "colab": {
     "base_uri": "https://localhost:8080/"
    },
    "id": "5h2kpB6C2I_N",
    "outputId": "88bfa974-8686-49d7-9f93-b131b89ba9a3"
   },
   "outputs": [],
   "source": [
    "f_name = os.path.join(\n",
    "    args.cache_folder, \"stable_diffusion_prompts_embeddings_all_mpnet_base_v2.pt\"\n",
    ")\n",
    "print(f_name, \"\\n\")\n",
    "\n",
    "if not args.inference:\n",
    "    torch.save(embeddings, f_name)\n",
    "loaded_embeddings = torch.load(f_name)\n",
    "loaded_embeddings"
   ]
  },
  {
   "cell_type": "code",
   "execution_count": null,
   "metadata": {
    "colab": {
     "base_uri": "https://localhost:8080/"
    },
    "id": "fsWOJjwdzgeG",
    "outputId": "b91af737-4ec1-43af-a45d-705a6a893fdd"
   },
   "outputs": [],
   "source": [
    "loaded_embeddings.shape"
   ]
  },
  {
   "cell_type": "code",
   "execution_count": null,
   "metadata": {
    "id": "DWdeAnld5xhH"
   },
   "outputs": [],
   "source": [
    "if not args.inference:\n",
    "    torch.equal(loaded_embeddings.cpu(), embeddings.cpu())"
   ]
  },
  {
   "cell_type": "code",
   "execution_count": null,
   "metadata": {
    "colab": {
     "base_uri": "https://localhost:8080/"
    },
    "id": "j6f0cJmH3egz",
    "outputId": "e4b5aee8-31a9-4348-f8da-4e2e1b07da14"
   },
   "outputs": [],
   "source": [
    "test_itr = random.randint(low=0, high=len(ds))\n",
    "test_itr"
   ]
  },
  {
   "cell_type": "code",
   "execution_count": null,
   "metadata": {
    "colab": {
     "base_uri": "https://localhost:8080/",
     "height": 89
    },
    "id": "2WoZs9mF3egz",
    "outputId": "708a1772-9947-4949-f4ad-89bf734aa6b3"
   },
   "outputs": [],
   "source": [
    "# test embeddings worked\n",
    "ds.loc[test_itr, \"Prompt\"]"
   ]
  },
  {
   "cell_type": "code",
   "execution_count": null,
   "metadata": {
    "colab": {
     "base_uri": "https://localhost:8080/"
    },
    "id": "78eiylg53egz",
    "outputId": "0a1eee8c-ed7a-4feb-a406-8e001d2fe657"
   },
   "outputs": [],
   "source": [
    "test_emb = model.encode(ds.loc[test_itr, \"Prompt\"], convert_to_tensor=True)\n",
    "a = np.array(test_emb.cpu())\n",
    "b = np.array(loaded_embeddings[test_itr, :].cpu())\n",
    "np.allclose(a, b, rtol=1e-02)"
   ]
  },
  {
   "cell_type": "markdown",
   "metadata": {
    "id": "THg1GieGesDQ"
   },
   "source": [
    "## Clustering\n",
    "\n",
    "* See [how hdbscan works](https://hdbscan.readthedocs.io/en/latest/how_hdbscan_works.html) for supporting information"
   ]
  },
  {
   "cell_type": "code",
   "execution_count": null,
   "metadata": {
    "colab": {
     "base_uri": "https://localhost:8080/"
    },
    "id": "m2A8EHRg7dzr",
    "outputId": "e6f9135c-02c2-4e47-ca4a-75d56369ffd8"
   },
   "outputs": [],
   "source": [
    "# second, perform clustering\n",
    "\n",
    "# first, perform dimensionality reduction from 768 to 15\n",
    "f_name = os.path.join(args.cache_folder, \"reducer_umap_15.pkl\")\n",
    "print(f_name, \"\\n\")\n",
    "\n",
    "if not args.inference:\n",
    "    reducer_15 = umap.UMAP(n_components=15)\n",
    "    reducer_15.fit(loaded_embeddings)\n",
    "    embeddings_umap_dim_15 = reducer_15.transform(loaded_embeddings)\n",
    "    # Verify that the result of calling transform is\n",
    "    # idenitical to accessing the embedding_ attribute\n",
    "    assert np.all(embeddings_umap_dim_15 == reducer_15.embedding_)\n",
    "\n",
    "    # cache fitted umap object\n",
    "    pickle.dump(reducer_15, open(f_name, \"wb\"))\n",
    "\n",
    "loaded_reducer_15 = pickle.load((open(f_name, \"rb\")))\n",
    "\n",
    "embeddings_umap_dim_15 = loaded_reducer_15.transform(loaded_embeddings)\n",
    "# Verify that the result of calling transform is\n",
    "# idenitical to accessing the embedding_ attribute\n",
    "assert np.all(embeddings_umap_dim_15 == loaded_reducer_15.embedding_)\n",
    "\n",
    "print(embeddings_umap_dim_15.shape)"
   ]
  },
  {
   "cell_type": "code",
   "execution_count": null,
   "metadata": {
    "colab": {
     "base_uri": "https://localhost:8080/"
    },
    "id": "0TGPS4pSySbc",
    "outputId": "8f0486e0-e09c-4947-b5ac-f0a556e76860"
   },
   "outputs": [],
   "source": [
    "args.inference = False\n",
    "args"
   ]
  },
  {
   "cell_type": "code",
   "execution_count": null,
   "metadata": {
    "colab": {
     "base_uri": "https://localhost:8080/"
    },
    "id": "ZZxn2DlOyOsr",
    "outputId": "758758e8-ac32-486f-db8d-b267f4ec8bf4"
   },
   "outputs": [],
   "source": [
    "f_name = os.path.join(args.cache_folder, \"clusterer_hdbscan.pkl\")\n",
    "print(f_name, \"\\n\")\n",
    "\n",
    "if not args.inference:\n",
    "    clusterer = hdbscan.HDBSCAN(\n",
    "        min_cluster_size=110, gen_min_span_tree=True, prediction_data=True\n",
    "    )\n",
    "    clusterer.fit(embeddings_umap_dim_15)\n",
    "    pickle.dump(clusterer, open(f_name, \"wb\"))\n",
    "\n",
    "loaded_clusterer = pickle.load((open(f_name, \"rb\")))\n",
    "\n",
    "if not args.inference:\n",
    "    print(\n",
    "        pd.DataFrame.equals(\n",
    "            pd.Series(clusterer.labels_).value_counts(),\n",
    "            pd.Series(loaded_clusterer.labels_).value_counts(),\n",
    "        )\n",
    "    )\n",
    "    print(\n",
    "        pd.DataFrame.equals(\n",
    "            pd.Series(clusterer.probabilities_).value_counts(),\n",
    "            pd.Series(loaded_clusterer.probabilities_).value_counts(),\n",
    "        )\n",
    "    )\n",
    "\n",
    "num_ouliers = pd.Series(loaded_clusterer.labels_).value_counts().loc[-1]\n",
    "\n",
    "print(pd.Series(loaded_clusterer.labels_).value_counts())\n",
    "print(f\"\\nCluster outliers : {num_ouliers}\\n\")"
   ]
  },
  {
   "cell_type": "code",
   "execution_count": null,
   "metadata": {
    "colab": {
     "base_uri": "https://localhost:8080/"
    },
    "id": "eqIqeraG-jTd",
    "outputId": "066f5e27-3bc6-4c4d-d388-2bb67ab9d23e"
   },
   "outputs": [],
   "source": [
    "# sum of top 25 cluster counts\n",
    "\n",
    "pd.Series(loaded_clusterer.labels_).value_counts()[1:26].sum()"
   ]
  },
  {
   "cell_type": "code",
   "execution_count": null,
   "metadata": {
    "colab": {
     "base_uri": "https://localhost:8080/",
     "height": 424
    },
    "id": "zB9nU0ka_JpA",
    "outputId": "fb1f1bf9-581a-4db4-f9b5-fcd9117c2548"
   },
   "outputs": [],
   "source": [
    "ds[\"cluster\"] = loaded_clusterer.labels_\n",
    "ds[\"cluster membership prob\"] = loaded_clusterer.probabilities_\n",
    "ds"
   ]
  },
  {
   "cell_type": "code",
   "execution_count": null,
   "metadata": {
    "colab": {
     "base_uri": "https://localhost:8080/",
     "height": 438
    },
    "id": "pDW5AVDn891V",
    "outputId": "983b99a0-0c2a-4aa2-ea63-53b97e5b5f90"
   },
   "outputs": [],
   "source": [
    "loaded_clusterer.condensed_tree_.plot()"
   ]
  },
  {
   "cell_type": "code",
   "execution_count": null,
   "metadata": {
    "colab": {
     "base_uri": "https://localhost:8080/",
     "height": 438
    },
    "id": "N-aJm6Sz9A2h",
    "outputId": "641b1b8d-e748-44eb-be4c-ae7799b0646a"
   },
   "outputs": [],
   "source": [
    "loaded_clusterer.condensed_tree_.plot(\n",
    "    select_clusters=True, selection_palette=sns.color_palette()\n",
    ")"
   ]
  },
  {
   "cell_type": "code",
   "execution_count": null,
   "metadata": {
    "id": "9wphVnvqytn5"
   },
   "outputs": [],
   "source": [
    "args.inference = True"
   ]
  },
  {
   "cell_type": "code",
   "execution_count": null,
   "metadata": {
    "colab": {
     "base_uri": "https://localhost:8080/"
    },
    "id": "Bug6Ab-n8DqQ",
    "outputId": "18a5ca83-d5cd-43e0-aef2-ed0edabb336b"
   },
   "outputs": [],
   "source": [
    "# third, perform dimensionality reduction from 15 to 2\n",
    "\n",
    "f_name = os.path.join(args.cache_folder, \"reducer_umap_2.pkl\")\n",
    "print(f_name, \"\\n\")\n",
    "\n",
    "if not args.inference:\n",
    "    reducer_2 = umap.UMAP(n_components=2)\n",
    "    reducer_2.fit(embeddings_umap_dim_15)\n",
    "    embeddings_umap_dim_2 = reducer_2.transform(embeddings_umap_dim_15)\n",
    "\n",
    "    # Verify that the result of calling transform is\n",
    "    # idenitical to accessing the embedding_ attribute\n",
    "    assert np.all(embeddings_umap_dim_2 == reducer_2.embedding_)\n",
    "\n",
    "    # cache fitted umap object\n",
    "    pickle.dump(reducer_2, open(f_name, \"wb\"))\n",
    "\n",
    "loaded_reducer_2 = pickle.load((open(f_name, \"rb\")))\n",
    "\n",
    "embeddings_umap_dim_2 = loaded_reducer_2.transform(embeddings_umap_dim_15)\n",
    "# Verify that the result of calling transform is\n",
    "# idenitical to accessing the embedding_ attribute\n",
    "assert np.all(embeddings_umap_dim_2 == loaded_reducer_2.embedding_)\n",
    "embeddings_umap_dim_2.shape"
   ]
  },
  {
   "cell_type": "code",
   "execution_count": null,
   "metadata": {
    "id": "PjOkZzekl1vx"
   },
   "outputs": [],
   "source": [
    "ds[\"x\"] = embeddings_umap_dim_2[:, 0]\n",
    "ds[\"y\"] = embeddings_umap_dim_2[:, 1]"
   ]
  },
  {
   "cell_type": "code",
   "execution_count": null,
   "metadata": {
    "colab": {
     "base_uri": "https://localhost:8080/",
     "height": 450
    },
    "id": "lcOHNlilQAeU",
    "outputId": "8593037f-af04-49dd-815d-7e4b871bc0d2"
   },
   "outputs": [],
   "source": [
    "# Visualize clusters\n",
    "fig, ax = plt.subplots(figsize=(20, 10))\n",
    "outliers = ds[ds[\"cluster\"] == -1]\n",
    "clustered = ds[ds[\"cluster\"] != -1]\n",
    "plt.scatter(outliers.x, outliers.y, color=\"#BDBDBD\", s=10, alpha=0.1)\n",
    "plt.scatter(\n",
    "    clustered.x, clustered.y, c=clustered.cluster, s=10, alpha=0.35, cmap=\"viridis\"\n",
    ")"
   ]
  },
  {
   "cell_type": "code",
   "execution_count": null,
   "metadata": {
    "colab": {
     "base_uri": "https://localhost:8080/",
     "height": 837
    },
    "id": "jdCSkHYZ9VTK",
    "outputId": "2ab60bbd-afb1-47f6-edac-cb077616d153"
   },
   "outputs": [],
   "source": [
    "fig = go.Figure()\n",
    "fig.add_trace(\n",
    "    go.Scatter(\n",
    "        x=ds[\"x\"][ds[\"cluster\"] != -1],\n",
    "        y=ds[\"y\"][ds[\"cluster\"] != -1],\n",
    "        mode=\"markers\",\n",
    "        marker_color=ds[\"cluster\"][ds[\"cluster\"] != -1],\n",
    "        marker_colorscale=\"Viridis\",\n",
    "        text=ds[\"cluster\"][ds[\"cluster\"] != -1],\n",
    "    )\n",
    ")\n",
    "\n",
    "fig.update_traces(marker={\"size\": 5, \"opacity\": 0.45}, showlegend=False)\n",
    "fig.update_coloraxes(showscale=False)\n",
    "fig.update_layout(width=550 * 2, height=400 * 2)\n",
    "fig.show()"
   ]
  },
  {
   "cell_type": "markdown",
   "metadata": {
    "id": "fZl5qjp7r6QJ"
   },
   "source": [
    "## Exemplar Sub-Clustering\n",
    "\n",
    "* See [soft clustering explanation](https://hdbscan.readthedocs.io/en/latest/soft_clustering_explanation.html) for supporting information"
   ]
  },
  {
   "cell_type": "code",
   "execution_count": null,
   "metadata": {
    "id": "87hBN35f-J0-"
   },
   "outputs": [],
   "source": [
    "# function copied from:\n",
    "# https://hdbscan.readthedocs.io/en/latest/soft_clustering_explanation.html#distance-based-membership\n",
    "\n",
    "\n",
    "def exemplars(cluster_id, condensed_tree):\n",
    "    raw_tree = condensed_tree._raw_tree\n",
    "    # Just the cluster elements of the tree, excluding singleton points\n",
    "    cluster_tree = raw_tree[raw_tree[\"child_size\"] > 1]\n",
    "    # Get the leaf cluster nodes under the cluster we are considering\n",
    "    leaves = hdbscan.plots._recurse_leaf_dfs(cluster_tree, cluster_id)\n",
    "    # Now collect up the last remaining points of each leaf cluster (the heart of the leaf)\n",
    "    result = np.array([])\n",
    "    for leaf in leaves:\n",
    "        max_lambda = raw_tree[\"lambda_val\"][raw_tree[\"parent\"] == leaf].max()\n",
    "        points = raw_tree[\"child\"][\n",
    "            (raw_tree[\"parent\"] == leaf) & (raw_tree[\"lambda_val\"] == max_lambda)\n",
    "        ]\n",
    "        result = np.hstack((result, points))\n",
    "    return result.astype(np.int)"
   ]
  },
  {
   "cell_type": "code",
   "execution_count": null,
   "metadata": {
    "colab": {
     "base_uri": "https://localhost:8080/"
    },
    "id": "hu4rVHAHAoms",
    "outputId": "888845e2-4a84-4cb0-d72d-56867bdf01b8"
   },
   "outputs": [],
   "source": [
    "tree = loaded_clusterer.condensed_tree_\n",
    "\n",
    "exemplar_ids = []\n",
    "for i, c in enumerate(tree._select_clusters()):\n",
    "    c_exemplars = exemplars(c, tree)\n",
    "    print(f\"Cluster {i} has {len(c_exemplars)} exemplars\")\n",
    "    exemplar_ids.extend(c_exemplars)"
   ]
  },
  {
   "cell_type": "code",
   "execution_count": null,
   "metadata": {
    "id": "3X3Wc86tnVRY"
   },
   "outputs": [],
   "source": [
    "ds[\"exemplars yes/no\"] = np.zeros(len(ds))\n",
    "ds.loc[exemplar_ids, \"exemplars yes/no\"] = 1\n",
    "\n",
    "assert len(ds[ds[\"exemplars yes/no\"] == 1]) == len(exemplar_ids)"
   ]
  },
  {
   "cell_type": "code",
   "execution_count": null,
   "metadata": {
    "colab": {
     "base_uri": "https://localhost:8080/",
     "height": 873
    },
    "id": "uyJW97LhrRp0",
    "outputId": "5176d228-8539-40f4-d8b5-f0acf58b8ffa"
   },
   "outputs": [],
   "source": [
    "print(\"\\n\")\n",
    "fig = go.Figure()\n",
    "\n",
    "custom_scale = [\n",
    "    \"#949494\",  # Gray\n",
    "    \"#F65314\",  # Google Red\n",
    "    \"#4285F4\",  # Google Blue\n",
    "]\n",
    "\n",
    "fig.add_trace(\n",
    "    go.Scatter(\n",
    "        x=ds[\"x\"][(ds[\"exemplars yes/no\"] == 0) & (ds[\"cluster\"] != -1)],\n",
    "        y=ds[\"y\"][(ds[\"exemplars yes/no\"] == 0) & (ds[\"cluster\"] != -1)],\n",
    "        mode=\"markers\",\n",
    "        marker_color=custom_scale[0],\n",
    "        text=ds[\"cluster\"][(ds[\"exemplars yes/no\"] == 0) & (ds[\"cluster\"] != -1)],\n",
    "    )\n",
    ")\n",
    "\n",
    "fig.add_trace(\n",
    "    go.Scatter(\n",
    "        x=ds[\"x\"][ds[\"exemplars yes/no\"] == 1],\n",
    "        y=ds[\"y\"][ds[\"exemplars yes/no\"] == 1],\n",
    "        mode=\"markers\",\n",
    "        marker_color=ds[\"cluster\"][ds[\"exemplars yes/no\"] == 1],\n",
    "        marker_colorscale=\"Viridis\",\n",
    "        text=ds[\"cluster\"][ds[\"exemplars yes/no\"] == 1],\n",
    "    )\n",
    ")\n",
    "\n",
    "fig.update_traces(marker={\"size\": 5, \"opacity\": 0.45}, showlegend=False)\n",
    "fig.update_coloraxes(showscale=False)\n",
    "fig.update_layout(width=550 * 2, height=400 * 2)\n",
    "fig.show()"
   ]
  },
  {
   "cell_type": "code",
   "execution_count": null,
   "metadata": {
    "colab": {
     "base_uri": "https://localhost:8080/"
    },
    "id": "y5bO5SZ4hjAT",
    "outputId": "82860182-688b-400c-bb60-162964b8bf23"
   },
   "outputs": [],
   "source": [
    "len(ds.loc[exemplar_ids])"
   ]
  },
  {
   "cell_type": "code",
   "execution_count": null,
   "metadata": {
    "colab": {
     "base_uri": "https://localhost:8080/"
    },
    "id": "OW44QJyYhibv",
    "outputId": "e24e08df-3557-406c-a056-4821b5661dd8"
   },
   "outputs": [],
   "source": [
    "embeddings_umap_dim_15[exemplar_ids].shape"
   ]
  },
  {
   "cell_type": "code",
   "execution_count": null,
   "metadata": {
    "colab": {
     "base_uri": "https://localhost:8080/"
    },
    "id": "J17BEw2vgvwA",
    "outputId": "0336d60f-c0d1-49aa-bd53-bc1da49f71f8"
   },
   "outputs": [],
   "source": [
    "# fourth, perform exemplar sub-clustering\n",
    "\n",
    "f_name = os.path.join(args.cache_folder, \"clusterer_subs_hdbscan.pkl\")\n",
    "print(f_name, \"\\n\")\n",
    "\n",
    "if not args.inference:\n",
    "    sub_clusterer = hdbscan.HDBSCAN(\n",
    "        min_cluster_size=4, gen_min_span_tree=True, prediction_data=True\n",
    "    )\n",
    "    sub_clusterer.fit(embeddings_umap_dim_15[exemplar_ids])\n",
    "    pickle.dump(sub_clusterer, open(f_name, \"wb\"))\n",
    "\n",
    "loaded_sub_clusterer = pickle.load((open(f_name, \"rb\")))\n",
    "\n",
    "if not args.inference:\n",
    "    print(\n",
    "        pd.DataFrame.equals(\n",
    "            pd.Series(sub_clusterer.labels_).value_counts(),\n",
    "            pd.Series(loaded_sub_clusterer.labels_).value_counts(),\n",
    "        )\n",
    "    )\n",
    "    print(\n",
    "        pd.DataFrame.equals(\n",
    "            pd.Series(sub_clusterer.probabilities_).value_counts(),\n",
    "            pd.Series(loaded_sub_clusterer.probabilities_).value_counts(),\n",
    "        )\n",
    "    )\n",
    "\n",
    "print(\"\\nCluster value counts:\\n\")\n",
    "pd.Series(loaded_sub_clusterer.labels_).value_counts()"
   ]
  },
  {
   "cell_type": "code",
   "execution_count": null,
   "metadata": {
    "colab": {
     "base_uri": "https://localhost:8080/"
    },
    "id": "O9033VfDirUu",
    "outputId": "97d98be7-f645-4c81-8df4-d20d6a04e1c7"
   },
   "outputs": [],
   "source": [
    "loaded_sub_clusterer.labels_"
   ]
  },
  {
   "cell_type": "code",
   "execution_count": null,
   "metadata": {
    "colab": {
     "base_uri": "https://localhost:8080/"
    },
    "id": "buRR8jvui1ul",
    "outputId": "3b916ffb-a440-4c07-b452-06f993292e6b"
   },
   "outputs": [],
   "source": [
    "ds[\"exemplar sub-cluster\"] = np.repeat(np.nan, len(ds))\n",
    "ds[\"cluster XX.YY\"] = np.repeat(np.nan, len(ds))\n",
    "# ds.loc[exemplar_ids] = loaded_sub_clusterer.labels_\n",
    "ds\n",
    "for i in range(len(ds.loc[exemplar_ids])):\n",
    "    row = ds.loc[exemplar_ids].iloc[i]\n",
    "    ds.loc[row.id, \"exemplar sub-cluster\"] = loaded_sub_clusterer.labels_[i]\n",
    "for i in range(len(ds.loc[exemplar_ids])):\n",
    "    row = ds.loc[exemplar_ids].iloc[i]\n",
    "    ds.loc[row.id, \"cluster XX.YY\"] = (\n",
    "        \"Cluster \"\n",
    "        + str(row.cluster)\n",
    "        + \", Sub-Cluster \"\n",
    "        + str(int(row[\"exemplar sub-cluster\"]))\n",
    "    )\n",
    "\n",
    "# ds.loc[exemplar_ids]\n",
    "# ds"
   ]
  },
  {
   "cell_type": "code",
   "execution_count": null,
   "metadata": {
    "colab": {
     "base_uri": "https://localhost:8080/"
    },
    "id": "lJdOWEjSr0NR",
    "outputId": "baaa50b4-475e-4f50-a406-700b59c1d0f3"
   },
   "outputs": [],
   "source": [
    "ds_inner_exemplars = ds[ds[\"exemplars yes/no\"] == 1]\n",
    "ds_inner_exemplars = ds_inner_exemplars[\n",
    "    ds_inner_exemplars[\"exemplar sub-cluster\"] != -1\n",
    "]\n",
    "len(ds_inner_exemplars)"
   ]
  },
  {
   "cell_type": "code",
   "execution_count": null,
   "metadata": {
    "colab": {
     "base_uri": "https://localhost:8080/",
     "height": 673
    },
    "id": "NiW84puFkJtJ",
    "outputId": "854e83a8-fbea-4eed-bde4-8868d070d77b"
   },
   "outputs": [],
   "source": [
    "print(\"\\n\")\n",
    "\n",
    "fig = go.Figure()\n",
    "\n",
    "fig.add_trace(\n",
    "    go.Scatter(\n",
    "        x=ds[\"x\"][(ds[\"exemplars yes/no\"] == 0) & (ds[\"cluster\"] != -1)],\n",
    "        y=ds[\"y\"][(ds[\"exemplars yes/no\"] == 0) & (ds[\"cluster\"] != -1)],\n",
    "        mode=\"markers\",\n",
    "        marker_color=custom_scale[0],\n",
    "        text=ds[\"cluster XX.YY\"][(ds[\"exemplars yes/no\"] == 0) & (ds[\"cluster\"] != -1)],\n",
    "    )\n",
    ")\n",
    "\n",
    "fig.add_trace(\n",
    "    go.Scatter(\n",
    "        x=ds_inner_exemplars[\"x\"],\n",
    "        y=ds_inner_exemplars[\"y\"],\n",
    "        mode=\"markers\",\n",
    "        marker_color=ds_inner_exemplars[\"exemplar sub-cluster\"],\n",
    "        marker_colorscale=\"Viridis\",\n",
    "        text=ds_inner_exemplars[\"cluster XX.YY\"],\n",
    "    )\n",
    ")\n",
    "\n",
    "fig.update_traces(marker={\"size\": 11, \"opacity\": 0.55}, showlegend=False)\n",
    "fig.update_coloraxes(showscale=False)\n",
    "fig.update_layout(width=550 * 1.5, height=400 * 1.5)\n",
    "fig.show()"
   ]
  },
  {
   "cell_type": "code",
   "execution_count": null,
   "metadata": {
    "colab": {
     "base_uri": "https://localhost:8080/"
    },
    "id": "1JJB33r5qCSq",
    "outputId": "9a7e4eae-7f27-4d36-94c0-37aa8712c3d2"
   },
   "outputs": [],
   "source": [
    "for i in range(len(ds)):\n",
    "    ds.loc[i, \"Prompt head\"] = \" \".join(\n",
    "        cleantext.clean_words(\n",
    "            ds.loc[i, \"Prompt\"],\n",
    "            clean_all=False,  # Execute all cleaning operations\n",
    "            extra_spaces=True,  # Remove extra white spaces\n",
    "            stemming=False,  # Stem the words\n",
    "            stopwords=False,  # Remove stop words\n",
    "            lowercase=False,  # Convert to lowercase\n",
    "            numbers=False,  # Remove all digits\n",
    "            punct=False,  # Remove all punctuations\n",
    "            stp_lang=\"english\",  # Language for stop words\n",
    "        )[0:12]\n",
    "    )"
   ]
  },
  {
   "cell_type": "code",
   "execution_count": null,
   "metadata": {
    "colab": {
     "base_uri": "https://localhost:8080/",
     "height": 1000
    },
    "id": "iEG1AZTurPkN",
    "outputId": "a24923f0-225f-41fd-f9b8-14d09afce366"
   },
   "outputs": [],
   "source": [
    "ds"
   ]
  },
  {
   "cell_type": "code",
   "execution_count": null,
   "metadata": {
    "colab": {
     "base_uri": "https://localhost:8080/",
     "height": 1000
    },
    "id": "UdQ3Rf3YpBSE",
    "outputId": "fa65296d-ac17-466c-8903-4c6cec8a2e7c"
   },
   "outputs": [],
   "source": [
    "ds[\"cluster + Prompt\"] = (\n",
    "    \"Cluster: \"\n",
    "    + ds[\"cluster\"].astype(str)\n",
    "    + \", Prompt id \"\n",
    "    + ds[\"id\"].astype(str)\n",
    "    + \": \"\n",
    "    + '\"'\n",
    "    + ds[\"Prompt head\"]\n",
    "    + '\"'\n",
    ")\n",
    "ds"
   ]
  },
  {
   "cell_type": "code",
   "execution_count": null,
   "metadata": {
    "colab": {
     "base_uri": "https://localhost:8080/",
     "height": 1000
    },
    "id": "w6l_0xa2luhO",
    "outputId": "f24a901f-356c-45eb-ad69-b6b44d2fc6ee"
   },
   "outputs": [],
   "source": [
    "# visualize top 25 clusters by count\n",
    "\n",
    "clust_to_zoom_list = pd.Series(loaded_clusterer.labels_).value_counts().index[1:26]\n",
    "\n",
    "for clust_to_zoom in clust_to_zoom_list:\n",
    "    print(f\"Cluster {clust_to_zoom}:\")\n",
    "    ds_inner_exemplars = ds[\n",
    "        (ds[\"exemplars yes/no\"] == 1) & (ds[\"cluster\"] == clust_to_zoom)\n",
    "    ]\n",
    "    ds_inner_exemplars = ds_inner_exemplars[\n",
    "        ds_inner_exemplars[\"exemplar sub-cluster\"] != -1\n",
    "    ]\n",
    "\n",
    "    fig = go.Figure()\n",
    "\n",
    "    fig.add_trace(\n",
    "        go.Scatter(\n",
    "            x=ds[\"x\"][(ds[\"exemplars yes/no\"] == 0) & (ds[\"cluster\"] == clust_to_zoom)],\n",
    "            y=ds[\"y\"][(ds[\"exemplars yes/no\"] == 0) & (ds[\"cluster\"] == clust_to_zoom)],\n",
    "            mode=\"markers\",\n",
    "            marker_color=custom_scale[0],\n",
    "            text=ds[\"cluster + Prompt\"][\n",
    "                (ds[\"exemplars yes/no\"] == 0) & (ds[\"cluster\"] == clust_to_zoom)\n",
    "            ],\n",
    "        )\n",
    "    )\n",
    "\n",
    "    fig.add_trace(\n",
    "        go.Scatter(\n",
    "            x=ds_inner_exemplars[\"x\"],\n",
    "            y=ds_inner_exemplars[\"y\"],\n",
    "            mode=\"markers\",\n",
    "            marker_color=ds_inner_exemplars[\"exemplar sub-cluster\"],\n",
    "            marker_colorscale=\"Viridis\",\n",
    "            text=ds_inner_exemplars[\"cluster + Prompt\"],\n",
    "        )\n",
    "    )\n",
    "\n",
    "    fig.update_traces(marker={\"size\": 11, \"opacity\": 0.55}, showlegend=False)\n",
    "    fig.update_coloraxes(showscale=False)\n",
    "    fig.update_layout(width=550 * 1.5, height=400 * 1.5)\n",
    "    fig.show()"
   ]
  },
  {
   "cell_type": "code",
   "execution_count": null,
   "metadata": {
    "id": "PuTTU71N5AkX"
   },
   "outputs": [],
   "source": [
    "ds_inner_exemplars = ds[ds[\"exemplars yes/no\"] == 1]\n",
    "ds_inner_exemplars = ds_inner_exemplars[\n",
    "    ds_inner_exemplars[\"exemplar sub-cluster\"] != -1\n",
    "]"
   ]
  },
  {
   "cell_type": "code",
   "execution_count": null,
   "metadata": {
    "colab": {
     "base_uri": "https://localhost:8080/",
     "height": 673
    },
    "id": "rx58ZS3-40gI",
    "outputId": "786c3a8c-b837-4fba-cee8-a42bb05ca84d"
   },
   "outputs": [],
   "source": [
    "print(\"\\n\")\n",
    "\n",
    "fig = go.Figure()\n",
    "\n",
    "fig.add_trace(\n",
    "    go.Scatter(\n",
    "        x=ds[\"x\"][(ds[\"exemplars yes/no\"] == 0) & (ds[\"cluster\"] != -1)],\n",
    "        y=ds[\"y\"][(ds[\"exemplars yes/no\"] == 0) & (ds[\"cluster\"] != -1)],\n",
    "        mode=\"markers\",\n",
    "        marker_color=custom_scale[0],\n",
    "        text=ds[\"cluster + Prompt\"][\n",
    "            (ds[\"exemplars yes/no\"] == 0) & (ds[\"cluster\"] != -1)\n",
    "        ],\n",
    "    )\n",
    ")\n",
    "\n",
    "fig.add_trace(\n",
    "    go.Scatter(\n",
    "        x=ds_inner_exemplars[\"x\"],\n",
    "        y=ds_inner_exemplars[\"y\"],\n",
    "        mode=\"markers\",\n",
    "        marker_color=ds_inner_exemplars[\"exemplar sub-cluster\"],\n",
    "        marker_colorscale=\"Viridis\",\n",
    "        text=ds_inner_exemplars[\"cluster + Prompt\"],\n",
    "    )\n",
    ")\n",
    "\n",
    "fig.update_traces(marker={\"size\": 11, \"opacity\": 0.55}, showlegend=False)\n",
    "fig.update_coloraxes(showscale=False)\n",
    "fig.update_layout(width=550 * 1.5, height=400 * 1.5)\n",
    "fig.show()"
   ]
  },
  {
   "cell_type": "markdown",
   "metadata": {
    "id": "B9fADGA9gvwA"
   },
   "source": [
    "## Create summary themes knowledge graph"
   ]
  },
  {
   "cell_type": "code",
   "execution_count": null,
   "metadata": {
    "id": "kXz16XO5dd6j"
   },
   "outputs": [],
   "source": [
    "claude_prompt = \"Please identify and summarize the core theme for each Sub-Cluster. Respond as succinctly as possible. Each summary cannot be longer than 1 sentence. Do not skip any of the Sub-Clusters. Do not list out the names of individuals in the prompts. Let's think step by step before responding.\"\n",
    "\n",
    "num_subclusts = 0\n",
    "subclusts_in_order = []\n",
    "\n",
    "for clust in np.unique(np.array(ds[(ds[\"exemplars yes/no\"] == 1)][\"cluster\"])):\n",
    "    sub_df = ds[(ds[\"cluster\"] == clust) & (ds[\"exemplars yes/no\"] == 1)]\n",
    "\n",
    "    for clust_to_zoom in clust_to_zoom_list:\n",
    "        if sub_df[\"cluster\"].iloc[0] == clust_to_zoom:\n",
    "            sub_clusts = list(np.unique(np.array(sub_df[\"cluster XX.YY\"])))\n",
    "            sub_clusts.sort()\n",
    "            for sub_clust in sub_clusts:\n",
    "                if int(sub_clust.split(\"Sub-Cluster \")[-1]) != -1:\n",
    "                    # print(sub_clust)\n",
    "                    num_subclusts += 1\n",
    "                    subclusts_in_order.append(sub_clust)\n",
    "                    sub_prompts = sub_df[sub_df[\"cluster XX.YY\"] == sub_clust][\n",
    "                        \"Prompt\"\n",
    "                    ].astype(str)\n",
    "                    claude_prompt += \"\\n\" + str(sub_clust.split(\", \")[1]) + \": \"\n",
    "                    claude_prompt += f\"\\n\" + str(sub_prompts) + '\"\\n'"
   ]
  },
  {
   "cell_type": "code",
   "execution_count": null,
   "metadata": {
    "id": "y49WrTOLq_Dy"
   },
   "outputs": [],
   "source": [
    "# print(claude_prompt)\n",
    "# subclusts_in_order"
   ]
  },
  {
   "cell_type": "code",
   "execution_count": null,
   "metadata": {
    "colab": {
     "base_uri": "https://localhost:8080/"
    },
    "id": "c0zRcjt0rBJd",
    "outputId": "94f1503d-78b9-44e3-cc71-07b18f614e6d"
   },
   "outputs": [],
   "source": [
    "num_subclusts"
   ]
  },
  {
   "cell_type": "code",
   "execution_count": null,
   "metadata": {
    "colab": {
     "base_uri": "https://localhost:8080/"
    },
    "id": "Qt-LdSAFlvxh",
    "outputId": "71994546-fcc8-4484-a8ea-3674b1f5f594"
   },
   "outputs": [],
   "source": [
    "claude_prompt.count(\"Sub-Cluster \")"
   ]
  },
  {
   "cell_type": "code",
   "execution_count": null,
   "metadata": {
    "id": "vqR42TGDnLvh"
   },
   "outputs": [],
   "source": [
    "ds_exemps = ds[(ds[\"exemplars yes/no\"] == 1) & (ds[\"exemplar sub-cluster\"] != -1)]\n",
    "\n",
    "mask = ds_exemps[\"cluster\"].isin(clust_to_zoom_list)\n",
    "ds_exemps_of_interest = ds_exemps[mask]\n",
    "# ds_exemps_of_interest"
   ]
  },
  {
   "cell_type": "code",
   "execution_count": null,
   "metadata": {
    "colab": {
     "base_uri": "https://localhost:8080/"
    },
    "id": "TJkN6z9clcSR",
    "outputId": "106b7414-2281-4612-af62-b1d1c73e7422"
   },
   "outputs": [],
   "source": [
    "len(np.unique(np.array(ds_exemps_of_interest[\"cluster XX.YY\"])))"
   ]
  },
  {
   "cell_type": "code",
   "execution_count": null,
   "metadata": {
    "colab": {
     "base_uri": "https://localhost:8080/"
    },
    "id": "fEqyYu9tn8vD",
    "outputId": "92679d2f-605d-4236-ae12-8226e341f9b4"
   },
   "outputs": [],
   "source": [
    "tokenizer = tiktoken.encoding_for_model(\"gpt-3.5-turbo-16k\")\n",
    "len(tokenizer.encode(claude_prompt))"
   ]
  },
  {
   "cell_type": "code",
   "execution_count": null,
   "metadata": {
    "colab": {
     "base_uri": "https://localhost:8080/",
     "height": 214
    },
    "id": "VTTbFvQds-yc",
    "outputId": "798ae301-742c-488a-bd9b-b4e991256fb0"
   },
   "outputs": [],
   "source": [
    "claude_prompt"
   ]
  },
  {
   "cell_type": "code",
   "execution_count": null,
   "metadata": {
    "colab": {
     "base_uri": "https://localhost:8080/"
    },
    "id": "DfAbeTWZp2M5",
    "outputId": "3f9e0d5d-939d-4d00-d170-4efb4071ac08"
   },
   "outputs": [],
   "source": [
    "# saved response from claude-2 conversation\n",
    "\n",
    "text_generation = \"\"\"Sub-Cluster 19: Portraits of characters in lofi style by various artists.\n",
    "\n",
    "Sub-Cluster 17: Symmetry portraits of various people and characters.\n",
    "\n",
    "Sub-Cluster 18: Symmetry sci-fi portraits of characters and people.\n",
    "\n",
    "Sub-Cluster 128: Highly detailed illustrations of people, often describing hair and age.\n",
    "\n",
    "Sub-Cluster 162: Highly detailed illustrations of sadistic or aggressive looking people.\n",
    "\n",
    "Sub-Cluster 163: Highly detailed illustrations of attractive people, often with white hair.\n",
    "\n",
    "Sub-Cluster 75: Highly detailed illustrations of beautiful, fierce, or smug women.\n",
    "\n",
    "Sub-Cluster 76: Art of the League of Legends champion Vi.\n",
    "\n",
    "Sub-Cluster 66: Greg Manchess portrait paintings of various characters as different roles.\n",
    "\n",
    "Sub-Cluster 78: Art and portraits featuring Star Wars characters, especially Darth Vader.\n",
    "\n",
    "Sub-Cluster 91: Portraits and art of female cyborg characters.\n",
    "\n",
    "Sub-Cluster 93: Art and portraits of robots and humanoid AI characters.\n",
    "\n",
    "Sub-Cluster 107: Art of Vladimir Putin being killed or defeated.\n",
    "\n",
    "Sub-Cluster 168: Portraits of Putin and Biden as magical characters.\n",
    "\n",
    "Sub-Cluster 235: Art depicting Vladimir Putin as various monsters, animals, or in humiliating situations.\n",
    "\n",
    "Sub-Cluster 236: Art of Putin with Kim Jong Un's haircut.\n",
    "\n",
    "Sub-Cluster 164: Art of characters like aliens eating hamburgers.\n",
    "\n",
    "Sub-Cluster 191: Art of Final Fantasy 7 character Sephiroth.\n",
    "\n",
    "Sub-Cluster 192: Beautiful, award winning pencil drawings and illustrations.\n",
    "\n",
    "Sub-Cluster 240: Portraits of celebrities eating hamburgers.\n",
    "\n",
    "Sub-Cluster 241: Portraits of various real people and characters eating hamburgers.\n",
    "\n",
    "Sub-Cluster 85: Art and portraits of dragons in various settings.\n",
    "\n",
    "Sub-Cluster 92: Art depicting Donald Trump in various roles and situations.\n",
    "\n",
    "Sub-Cluster 89: Art and portraits of Batman characters.\n",
    "\n",
    "Sub-Cluster 90: Art of Spider-Man and related Marvel characters.\n",
    "\n",
    "Sub-Cluster 135: Award winning portrait commissions.\n",
    "\n",
    "Sub-Cluster 136: Award winning portrait commissions of furry characters.\n",
    "\n",
    "Sub-Cluster 143: Anthropomorphic furry fox characters.\n",
    "\n",
    "Sub-Cluster 184: Trending furry fox character art.\n",
    "\n",
    "Sub-Cluster 185: Beautiful portrait commissions of furry characters.\n",
    "\n",
    "Sub-Cluster 65: Art and portraits of fox characters in various outfits and settings.\n",
    "\n",
    "Sub-Cluster 121: Portraits and art of cats in various styles.\n",
    "\n",
    "Sub-Cluster 146: Portraits of goddesses and divine figures.\n",
    "\n",
    "Sub-Cluster 178: Portraits of Megan Fox as characters from video games.\n",
    "\n",
    "Sub-Cluster 186: Psychedelic and Lovecraftian portraits of Megan Fox.\n",
    "\n",
    "Sub-Cluster 187: Portraits of Megan Fox in various roles and outfits.\n",
    "\n",
    "Sub-Cluster 54: Portraits of Emma Watson in various roles and settings.\n",
    "\n",
    "Sub-Cluster 74: Alexandra Daddario and Megan Fox as Scarlet Witch.\n",
    "\n",
    "Sub-Cluster 84: Futuristic and fantasy vehicle concept art.\n",
    "\n",
    "Sub-Cluster 94: Highly detailed realistic portraits of men.\n",
    "\n",
    "Sub-Cluster 113: Anime girl character portraits and concept art.\n",
    "\n",
    "Sub-Cluster 117: Portraits of beautiful women in various settings.\n",
    "\n",
    "Sub-Cluster 118: Portraits of young women in various outfits and styles.\n",
    "\n",
    "Sub-Cluster 81: Cinematic concept art portraits by Jama Jurabaev.\n",
    "\n",
    "Sub-Cluster 82: Futuristic sci-fi spaceship concept art.\n",
    "\n",
    "Sub-Cluster 125: Concept art of knights and warriors.\n",
    "\n",
    "Sub-Cluster 132: Surreal, cinematic, and futuristic digital art.\n",
    "\n",
    "Sub-Cluster 167: Beautiful landscape paintings and matte art.\n",
    "\n",
    "Sub-Cluster 151: Futuristic cityscape concept art.\"\"\"\n",
    "\n",
    "text_generation = text_generation.split(\"\\n\\n\")\n",
    "len(text_generation)"
   ]
  },
  {
   "cell_type": "code",
   "execution_count": null,
   "metadata": {
    "colab": {
     "base_uri": "https://localhost:8080/"
    },
    "id": "qHa4rgqcrQM0",
    "outputId": "5d6d6cf1-431f-4c19-a3ee-cbe5e37b9e6d"
   },
   "outputs": [],
   "source": [
    "summaries_dict = {\n",
    "    subclusts_in_order[i]: text_generation[i] for i in range(len(subclusts_in_order))\n",
    "}\n",
    "summaries_dict"
   ]
  },
  {
   "cell_type": "code",
   "execution_count": null,
   "metadata": {
    "id": "kI0Qs_ITvNzG"
   },
   "outputs": [],
   "source": [
    "for i in range(len(list(summaries_dict.keys()))):\n",
    "    pass\n",
    "    key = list(summaries_dict.keys())[i]\n",
    "    summary = summaries_dict[key]\n",
    "    key_subclust = key.split(\", \")[-1]\n",
    "    summary_subclust = summary.split(\": \")[0]\n",
    "    assert key_subclust == summary_subclust"
   ]
  },
  {
   "cell_type": "code",
   "execution_count": null,
   "metadata": {
    "id": "ktj6ipyctjOs"
   },
   "outputs": [],
   "source": [
    "# for i in range(len(text_generation)):\n",
    "# text_generation[i] = text_generation[i].split(\": \")[-1]"
   ]
  },
  {
   "cell_type": "code",
   "execution_count": null,
   "metadata": {
    "colab": {
     "base_uri": "https://localhost:8080/"
    },
    "id": "CmQLnLiXtf7u",
    "outputId": "dce2694a-49b6-4a1a-a956-15176a1d8798"
   },
   "outputs": [],
   "source": [
    "summaries_dict_cleaned = {\n",
    "    subclusts_in_order[i]: text_generation[i] for i in range(len(subclusts_in_order))\n",
    "}\n",
    "summaries_dict_cleaned"
   ]
  },
  {
   "cell_type": "code",
   "execution_count": null,
   "metadata": {
    "colab": {
     "base_uri": "https://localhost:8080/"
    },
    "id": "NQ8XhfRZuo8l",
    "outputId": "365d59d2-f01b-442d-d01e-7cc5baa3e625"
   },
   "outputs": [],
   "source": [
    "for i in range(len(ds)):\n",
    "    try:\n",
    "        ds.loc[i, \"theme\"] = summaries_dict_cleaned[ds.loc[i, \"cluster XX.YY\"]]\n",
    "    except KeyError:\n",
    "        pass"
   ]
  },
  {
   "cell_type": "code",
   "execution_count": null,
   "metadata": {
    "colab": {
     "base_uri": "https://localhost:8080/",
     "height": 35
    },
    "id": "RgKbnRtut3YG",
    "outputId": "125d5a2f-164e-4b9c-c0bd-c0325bfc8199"
   },
   "outputs": [],
   "source": [
    "ds[\"theme\"][ds[\"cluster XX.YY\"] == \"Cluster 77, Sub-Cluster 151\"].iloc[0]"
   ]
  },
  {
   "cell_type": "markdown",
   "metadata": {
    "id": "0CYEH057uyj8"
   },
   "source": [
    "## Write final df results to disk"
   ]
  },
  {
   "cell_type": "code",
   "execution_count": null,
   "metadata": {
    "colab": {
     "base_uri": "https://localhost:8080/",
     "height": 1000
    },
    "id": "Yjqesxe_oitS",
    "outputId": "620d1909-6874-4e4a-a988-3a6f2df64c94"
   },
   "outputs": [],
   "source": [
    "# write final ds to disk\n",
    "f_name = os.path.join(\n",
    "    args.cache_folder, \"stable_diffusion_prompts_dataframe_cached_with_results.xlsx\"\n",
    ")\n",
    "print(f_name, \"\\n\")\n",
    "\n",
    "# re-order cols\n",
    "ds = ds[\n",
    "    [\n",
    "        \"id\",\n",
    "        \"cluster\",\n",
    "        \"x\",\n",
    "        \"y\",\n",
    "        \"cluster membership prob\",\n",
    "        \"exemplars yes/no\",\n",
    "        \"exemplar sub-cluster\",\n",
    "        \"cluster XX.YY\",\n",
    "        \"theme\",\n",
    "        \"Prompt\",\n",
    "    ]\n",
    "]\n",
    "ds"
   ]
  },
  {
   "cell_type": "code",
   "execution_count": null,
   "metadata": {
    "id": "CuoIn4KCvyPR"
   },
   "outputs": [],
   "source": [
    "# write with adjusted col width\n",
    "# if not args.inference:\n",
    "if True:\n",
    "    with pd.ExcelWriter(f_name) as writer:\n",
    "        ds.to_excel(writer, sheet_name=\"All Prompts\")\n",
    "        auto_adjust_xlsx_column_width(ds, writer, sheet_name=\"All Prompts\", margin=1)"
   ]
  },
  {
   "cell_type": "markdown",
   "metadata": {
    "id": "CNrkolSLu1tg"
   },
   "source": [
    "## Format a JSON viz graph"
   ]
  },
  {
   "cell_type": "code",
   "execution_count": null,
   "metadata": {
    "colab": {
     "base_uri": "https://localhost:8080/",
     "height": 35
    },
    "id": "DGsJa7GrN2cf",
    "outputId": "65f53e9b-0a91-47ad-c800-9ff6db6e5e2e"
   },
   "outputs": [],
   "source": [
    "args.cache_folder"
   ]
  },
  {
   "cell_type": "code",
   "execution_count": null,
   "metadata": {
    "colab": {
     "base_uri": "https://localhost:8080/",
     "height": 1000
    },
    "id": "bUhn-leKp0Yv",
    "outputId": "ca475888-d96d-4f5a-d23d-d80c7e693172"
   },
   "outputs": [],
   "source": [
    "# optional ds cached loading\n",
    "ds_loaded = pd.read_excel(\n",
    "    os.path.join(\n",
    "        args.cache_folder, \"stable_diffusion_prompts_dataframe_cached_with_results.xlsx\"\n",
    "    ),\n",
    "    index_col=\"Unnamed: 0\",\n",
    ")\n",
    "ds_loaded"
   ]
  },
  {
   "cell_type": "code",
   "execution_count": null,
   "metadata": {
    "colab": {
     "base_uri": "https://localhost:8080/",
     "height": 1000
    },
    "id": "829s5RJtxJ2j",
    "outputId": "a37154d2-a6db-4ead-e0ba-a7600a18f100"
   },
   "outputs": [],
   "source": [
    "ds_clust = ds_loaded[ds_loaded[\"theme\"].notna()]\n",
    "ds_clust"
   ]
  },
  {
   "cell_type": "code",
   "execution_count": null,
   "metadata": {
    "colab": {
     "base_uri": "https://localhost:8080/"
    },
    "id": "Q_H93u9QuC2u",
    "outputId": "84bc7bd9-3eed-4f6f-cd74-a32291211c67"
   },
   "outputs": [],
   "source": [
    "len(np.unique(np.array(ds_clust[\"cluster XX.YY\"])))"
   ]
  },
  {
   "cell_type": "code",
   "execution_count": null,
   "metadata": {
    "id": "oc1HFPyBxnck"
   },
   "outputs": [],
   "source": [
    "knowledge_graphs = []\n",
    "\n",
    "for sub_clust in np.unique(np.array(ds_clust[\"cluster XX.YY\"])):\n",
    "    clust = sub_clust.split(\"Cluster \")[1].split(\",\")[0]\n",
    "\n",
    "    prompts = []\n",
    "    ds_inner = ds_clust[ds_clust[\"cluster XX.YY\"] == sub_clust]\n",
    "    for i in range(len(ds_inner)):\n",
    "        row = ds_inner.iloc[i]\n",
    "        if row[\"exemplars yes/no\"] == 1:\n",
    "            prompts.append(\n",
    "                {\n",
    "                    \"Prompt\": row.Prompt,\n",
    "                    \"id\": float(row[\"id\"]),\n",
    "                }\n",
    "            )\n",
    "\n",
    "    viz = {\n",
    "        \"core theme\": ds_inner.iloc[0][\"theme\"],\n",
    "        \"cluster id\": ds_inner.iloc[0][\"cluster XX.YY\"],\n",
    "        # \"frequency\": str(np.round(100 * len(ds_inner) / len(ds), 2)) + \"%\",\n",
    "        # \"count\": len(ds_inner),\n",
    "        # \"exemplars\": prompts,\n",
    "    }\n",
    "\n",
    "    knowledge_graphs.append(viz)"
   ]
  },
  {
   "cell_type": "code",
   "execution_count": null,
   "metadata": {
    "colab": {
     "base_uri": "https://localhost:8080/"
    },
    "id": "iwpVNL_vOze_",
    "outputId": "1b9c8202-67a1-4aad-b398-7cea61e36bb0"
   },
   "outputs": [],
   "source": [
    "for i in range(len(np.unique(np.array(ds_clust[\"cluster XX.YY\"])))):\n",
    "    sub_clust = np.unique(np.array(ds_clust[\"cluster XX.YY\"]))[i]\n",
    "\n",
    "    # Serializing json\n",
    "    json_object = json.dumps(knowledge_graphs[i], indent=4)\n",
    "    print(json_object)\n",
    "    print(\"\\n\\n\")"
   ]
  },
  {
   "cell_type": "code",
   "execution_count": null,
   "metadata": {
    "id": "uqu2JMCcw3I4"
   },
   "outputs": [],
   "source": [
    "# summaries_dict_cleaned[\"Cluster 75, Sub-Cluster 167\"]"
   ]
  },
  {
   "cell_type": "code",
   "execution_count": null,
   "metadata": {
    "id": "sr7BqFUM5E96"
   },
   "outputs": [],
   "source": [
    "summaries_dict_cluster_level = {}\n",
    "for clust in np.unique(np.array(ds_clust[\"cluster\"])):\n",
    "    summaries_dict_cluster_level[clust] = list(\n",
    "        np.unique(np.array(ds_clust[ds_clust[\"cluster\"] == clust][\"theme\"]))\n",
    "    )"
   ]
  },
  {
   "cell_type": "code",
   "execution_count": null,
   "metadata": {
    "colab": {
     "base_uri": "https://localhost:8080/"
    },
    "id": "_Oe7fGdKyK7q",
    "outputId": "66f7173a-fc25-42d3-d380-9fc3ba50bfa0"
   },
   "outputs": [],
   "source": [
    "summaries_dict_cluster_level"
   ]
  },
  {
   "cell_type": "code",
   "execution_count": null,
   "metadata": {
    "colab": {
     "base_uri": "https://localhost:8080/"
    },
    "id": "Ju1VNC4w5yQD",
    "outputId": "a5514fc5-dcd2-4c41-ddd5-3ceb8f2d9e0e"
   },
   "outputs": [],
   "source": [
    "summaries_dict_cluster_level[10]"
   ]
  },
  {
   "cell_type": "code",
   "execution_count": null,
   "metadata": {
    "id": "rX2glhje2sYI"
   },
   "outputs": [],
   "source": [
    "knowledge_graphs = []\n",
    "\n",
    "itr = 0\n",
    "for clust in ds_loaded[\"cluster\"].value_counts().index:\n",
    "    if clust in list(np.unique(np.array(ds_clust[\"cluster\"]))):\n",
    "        ds_inner = ds_clust[ds_clust[\"cluster\"] == int(clust)]\n",
    "\n",
    "        viz = {\n",
    "            \"cluster id\": \"Cluster \" + str(ds_inner.iloc[0][\"cluster\"]),\n",
    "            \"count\": float(ds_loaded[\"cluster\"].value_counts().loc[int(clust)]),\n",
    "            \"frequency\": str(\n",
    "                np.round(\n",
    "                    100\n",
    "                    * float(ds_loaded[\"cluster\"].value_counts().loc[int(clust)])\n",
    "                    / len(ds_loaded),\n",
    "                    2,\n",
    "                )\n",
    "            )\n",
    "            + \"%\",\n",
    "            \"core theme\": summaries_dict_cluster_level[clust],\n",
    "        }\n",
    "\n",
    "        knowledge_graphs.append(viz)"
   ]
  },
  {
   "cell_type": "code",
   "execution_count": null,
   "metadata": {
    "colab": {
     "base_uri": "https://localhost:8080/"
    },
    "id": "_lgrhx7H4iC7",
    "outputId": "19b187c7-a1b9-44d6-cee7-d63dce526198"
   },
   "outputs": [],
   "source": [
    "len(knowledge_graphs)"
   ]
  },
  {
   "cell_type": "code",
   "execution_count": null,
   "metadata": {
    "id": "MKfP4tMj8PHL"
   },
   "outputs": [],
   "source": [
    "knowledge_graphs = {\"knowledge graph\": knowledge_graphs}"
   ]
  },
  {
   "cell_type": "code",
   "execution_count": null,
   "metadata": {
    "colab": {
     "base_uri": "https://localhost:8080/"
    },
    "id": "Gi-uJ6Ds2sYJ",
    "outputId": "4c00ec28-6aa5-497e-ccc8-fb823fa947bf"
   },
   "outputs": [],
   "source": [
    "# Serializing json\n",
    "json_object = json.dumps(knowledge_graphs, indent=4)\n",
    "print(json_object)\n",
    "print(\"\\n\\n\")"
   ]
  },
  {
   "cell_type": "markdown",
   "metadata": {
    "id": "p3NXLZVOPpFk"
   },
   "source": [
    "## Drift detection on the top 25 clusters\n"
   ]
  },
  {
   "cell_type": "code",
   "execution_count": null,
   "metadata": {
    "colab": {
     "base_uri": "https://localhost:8080/",
     "height": 424
    },
    "id": "t_zMrCONOhpd",
    "outputId": "bf2461d3-e5c4-477f-8655-053096f19a99"
   },
   "outputs": [],
   "source": [
    "ds_hf = load_dataset(\"Gustavosta/Stable-Diffusion-Prompts\")\n",
    "ds = ds_hf[\"test\"]\n",
    "\n",
    "ds = ds.to_pandas()\n",
    "ds[\"id\"] = ds.index\n",
    "ds = ds[[\"id\", \"Prompt\"]]\n",
    "ds"
   ]
  },
  {
   "cell_type": "code",
   "execution_count": null,
   "metadata": {
    "colab": {
     "base_uri": "https://localhost:8080/"
    },
    "id": "9KgCWCIlvsFn",
    "outputId": "4069f096-8b20-4ba5-9fb9-2a2c064c8208"
   },
   "outputs": [],
   "source": [
    "args.inference = True\n",
    "args"
   ]
  },
  {
   "cell_type": "code",
   "execution_count": null,
   "metadata": {
    "id": "8B2Ay5OfvftL"
   },
   "outputs": [],
   "source": [
    "# Embed Text\n",
    "# * See [pretrained models](https://www.sbert.net/docs/pretrained_models.html) for supporting information\n",
    "\n",
    "model = SentenceTransformer(\"all-mpnet-base-v2\")\n",
    "\n",
    "if not args.inference:\n",
    "    embeddings = torch.zeros([len(ds), 768])\n",
    "    for i in tqdm(range(len(ds))):\n",
    "        emb = model.encode(ds.loc[i, \"Prompt\"], convert_to_tensor=True)\n",
    "        embeddings[i, :] = emb\n",
    "    embeddings"
   ]
  },
  {
   "cell_type": "code",
   "execution_count": null,
   "metadata": {
    "colab": {
     "base_uri": "https://localhost:8080/"
    },
    "id": "PshHjy3NvgBA",
    "outputId": "7805b3cb-7d9b-4ee6-93ae-bf771f755f2a"
   },
   "outputs": [],
   "source": [
    "f_name = os.path.join(\n",
    "    args.cache_folder, \"stable_diffusion_prompts_test_embeddings_all_mpnet_base_v2.pt\"\n",
    ")\n",
    "print(f_name, \"\\n\")\n",
    "\n",
    "if not args.inference:\n",
    "    torch.save(embeddings, f_name)\n",
    "loaded_embeddings = torch.load(f_name)\n",
    "loaded_embeddings"
   ]
  },
  {
   "cell_type": "code",
   "execution_count": null,
   "metadata": {
    "colab": {
     "base_uri": "https://localhost:8080/"
    },
    "id": "HbsirlY0vgBB",
    "outputId": "08e5f4fb-32a9-4e04-ca70-f2e4a407d5d1"
   },
   "outputs": [],
   "source": [
    "loaded_embeddings.shape"
   ]
  },
  {
   "cell_type": "code",
   "execution_count": null,
   "metadata": {
    "id": "hvU350V2vgBB"
   },
   "outputs": [],
   "source": [
    "if not args.inference:\n",
    "    torch.equal(loaded_embeddings.cpu(), embeddings.cpu())"
   ]
  },
  {
   "cell_type": "code",
   "execution_count": null,
   "metadata": {
    "colab": {
     "base_uri": "https://localhost:8080/"
    },
    "id": "leU5pK6mvgBB",
    "outputId": "7546ce0b-3f7e-421f-edcd-b0063b51da79"
   },
   "outputs": [],
   "source": [
    "test_itr = random.randint(low=0, high=len(ds))\n",
    "test_itr"
   ]
  },
  {
   "cell_type": "code",
   "execution_count": null,
   "metadata": {
    "colab": {
     "base_uri": "https://localhost:8080/",
     "height": 71
    },
    "id": "M_M-XVkpvgBB",
    "outputId": "3dc80f2c-06c8-4def-c70e-63720ff52f45"
   },
   "outputs": [],
   "source": [
    "# test embeddings worked\n",
    "ds.loc[test_itr, \"Prompt\"]"
   ]
  },
  {
   "cell_type": "code",
   "execution_count": null,
   "metadata": {
    "colab": {
     "base_uri": "https://localhost:8080/"
    },
    "id": "iBffCA3NvgBB",
    "outputId": "36a9dd66-77d2-44fd-c07b-6b250f955258"
   },
   "outputs": [],
   "source": [
    "test_emb = model.encode(ds.loc[test_itr, \"Prompt\"], convert_to_tensor=True)\n",
    "a = np.array(test_emb.cpu())\n",
    "b = np.array(loaded_embeddings[test_itr, :].cpu())\n",
    "np.allclose(a, b, rtol=1e-02)"
   ]
  },
  {
   "cell_type": "code",
   "execution_count": null,
   "metadata": {
    "colab": {
     "base_uri": "https://localhost:8080/"
    },
    "id": "xgUPGdAfv62x",
    "outputId": "467a7ec8-ce53-4a8f-e3de-ec524a7d9a76"
   },
   "outputs": [],
   "source": [
    "# second, perform clustering\n",
    "\n",
    "# first, perform dimensionality reduction from 768 to 15\n",
    "f_name = os.path.join(args.cache_folder, \"reducer_umap_15.pkl\")\n",
    "print(f_name, \"\\n\")\n",
    "\n",
    "loaded_reducer_15 = pickle.load((open(f_name, \"rb\")))\n",
    "\n",
    "embeddings_umap_dim_15 = loaded_reducer_15.transform(loaded_embeddings)\n",
    "\n",
    "embeddings_umap_dim_15.shape"
   ]
  },
  {
   "cell_type": "code",
   "execution_count": null,
   "metadata": {
    "colab": {
     "base_uri": "https://localhost:8080/",
     "height": 130
    },
    "id": "-PM40fYpxPRA",
    "outputId": "b5058681-c52e-4fdf-c17a-75731ce94fae"
   },
   "outputs": [],
   "source": [
    "f_name = os.path.join(args.cache_folder, \"clusterer_hdbscan.pkl\")\n",
    "print(f_name, \"\\n\")\n",
    "\n",
    "loaded_clusterer = pickle.load((open(f_name, \"rb\")))\n",
    "loaded_clusterer"
   ]
  },
  {
   "cell_type": "code",
   "execution_count": null,
   "metadata": {
    "colab": {
     "base_uri": "https://localhost:8080/"
    },
    "id": "8dPZ614OxJoe",
    "outputId": "242b4da9-bdf5-4109-fb46-0719291bd9b6"
   },
   "outputs": [],
   "source": [
    "test_labels, strengths = hdbscan.approximate_predict(\n",
    "    loaded_clusterer, embeddings_umap_dim_15\n",
    ")\n",
    "test_labels"
   ]
  },
  {
   "cell_type": "code",
   "execution_count": null,
   "metadata": {
    "colab": {
     "base_uri": "https://localhost:8080/",
     "height": 179
    },
    "id": "fffVi_HuweCQ",
    "outputId": "b26cee5f-0fa5-4203-cec9-6945841be352"
   },
   "outputs": [],
   "source": [
    "pd.Series(test_labels).value_counts()[1:26]"
   ]
  },
  {
   "cell_type": "code",
   "execution_count": null,
   "metadata": {
    "id": "SKC6g7yHweG6"
   },
   "outputs": [],
   "source": []
  }
 ],
 "metadata": {
  "accelerator": "GPU",
  "colab": {
   "gpuType": "T4",
   "machine_shape": "hm",
   "provenance": []
  },
  "interpreter": {
   "hash": "bd385fe162c5ca0c84973b7dd5c518456272446b2b64e67c2a69f949ca7a1754"
  },
  "kernelspec": {
   "display_name": "Python 3",
   "name": "python3"
  },
  "language_info": {
   "codemirror_mode": {
    "name": "ipython",
    "version": 3
   },
   "file_extension": ".py",
   "mimetype": "text/x-python",
   "name": "python",
   "nbconvert_exporter": "python",
   "pygments_lexer": "ipython3",
   "version": "3.10.10"
  },
  "orig_nbformat": 4
 },
 "nbformat": 4,
 "nbformat_minor": 0
}
